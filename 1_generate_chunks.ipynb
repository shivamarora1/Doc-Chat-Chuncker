{
 "cells": [
  {
   "cell_type": "markdown",
   "metadata": {},
   "source": [
    "#### Using [MinerU](https://github.com/opendatalab/MinerU) for data extraction"
   ]
  },
  {
   "cell_type": "code",
   "execution_count": null,
   "metadata": {},
   "outputs": [],
   "source": [
    "!pip install einops timm matplotlib pdf2image nltk qdrant_client pymilvus sentence_transformers unstructured"
   ]
  },
  {
   "cell_type": "markdown",
   "metadata": {},
   "source": [
    "#### Command for extractions using MinerU"
   ]
  },
  {
   "cell_type": "code",
   "execution_count": 4,
   "metadata": {},
   "outputs": [
    {
     "name": "stdout",
     "output_type": "stream",
     "text": [
      "\u001b[32m2024-08-20 17:36:38.450\u001b[0m | \u001b[1mINFO    \u001b[0m | \u001b[36mmagic_pdf.libs.pdf_check\u001b[0m:\u001b[36mdetect_invalid_chars\u001b[0m:\u001b[36m57\u001b[0m - \u001b[1mcid_count: 0, text_len: 9594, cid_chars_radio: 0.0\u001b[0m\n",
      "\u001b[32m2024-08-20 17:36:41.889\u001b[0m | \u001b[1mINFO    \u001b[0m | \u001b[36mmagic_pdf.model.pdf_extract_kit\u001b[0m:\u001b[36m__init__\u001b[0m:\u001b[36m111\u001b[0m - \u001b[1mDocAnalysis init, this may take some times. apply_layout: True, apply_formula: True, apply_ocr: False, apply_table: True\u001b[0m\n",
      "\u001b[32m2024-08-20 17:36:41.889\u001b[0m | \u001b[1mINFO    \u001b[0m | \u001b[36mmagic_pdf.model.pdf_extract_kit\u001b[0m:\u001b[36m__init__\u001b[0m:\u001b[36m119\u001b[0m - \u001b[1musing device: cpu\u001b[0m\n",
      "\u001b[32m2024-08-20 17:36:41.889\u001b[0m | \u001b[1mINFO    \u001b[0m | \u001b[36mmagic_pdf.model.pdf_extract_kit\u001b[0m:\u001b[36m__init__\u001b[0m:\u001b[36m121\u001b[0m - \u001b[1musing models_dir: /Users/shivamarora/projects-python/diagram-extract/PDF-Extract-Kit/models\u001b[0m\n",
      "CustomVisionEncoderDecoderModel init\n",
      "CustomMBartForCausalLM init\n",
      "CustomMBartDecoder init\n",
      "\u001b[32m[08/20 17:36:54 detectron2]: \u001b[0mRank of current process: 0. World size: 1\n",
      "\u001b[32m[08/20 17:36:54 detectron2]: \u001b[0mEnvironment info:\n",
      "-------------------------------  --------------------------------------------------------------------------------------------------------------\n",
      "sys.platform                     darwin\n",
      "Python                           3.10.14 (main, May  6 2024, 14:42:37) [Clang 14.0.6 ]\n",
      "numpy                            1.26.4\n",
      "detectron2                       0.6 @/opt/homebrew/Caskroom/miniconda/base/envs/document-extractor/lib/python3.10/site-packages/detectron2\n",
      "Compiler                         clang 15.0.0\n",
      "CUDA compiler                    not available\n",
      "DETECTRON2_ENV_MODULE            <not set>\n",
      "PyTorch                          2.3.1 @/opt/homebrew/Caskroom/miniconda/base/envs/document-extractor/lib/python3.10/site-packages/torch\n",
      "PyTorch debug build              False\n",
      "torch._C._GLIBCXX_USE_CXX11_ABI  False\n",
      "GPU available                    No: torch.cuda.is_available() == False\n",
      "Pillow                           10.4.0\n",
      "torchvision                      0.18.1 @/opt/homebrew/Caskroom/miniconda/base/envs/document-extractor/lib/python3.10/site-packages/torchvision\n",
      "fvcore                           0.1.5.post20221221\n",
      "iopath                           0.1.9\n",
      "cv2                              4.6.0\n",
      "-------------------------------  --------------------------------------------------------------------------------------------------------------\n",
      "PyTorch built with:\n",
      "  - GCC 4.2\n",
      "  - C++ Version: 201703\n",
      "  - clang 14.0.3\n",
      "  - OpenMP 201811\n",
      "  - LAPACK is enabled (usually provided by MKL)\n",
      "  - NNPACK is enabled\n",
      "  - CPU capability usage: NO AVX\n",
      "  - Build settings: BLAS_INFO=accelerate, BUILD_TYPE=Release, CXX_COMPILER=/Applications/Xcode_14.3.1.app/Contents/Developer/Toolchains/XcodeDefault.xctoolchain/usr/bin/c++, CXX_FLAGS= -fvisibility-inlines-hidden -DUSE_PTHREADPOOL -DNDEBUG -DUSE_KINETO -DLIBKINETO_NOCUPTI -DLIBKINETO_NOROCTRACER -DUSE_PYTORCH_QNNPACK -DUSE_XNNPACK -DUSE_PYTORCH_METAL_EXPORT -DSYMBOLICATE_MOBILE_DEBUG_HANDLE -DUSE_COREML_DELEGATE -O2 -fPIC -Wall -Wextra -Werror=return-type -Werror=non-virtual-dtor -Werror=braced-scalar-init -Werror=range-loop-construct -Werror=bool-operation -Wnarrowing -Wno-missing-field-initializers -Wno-type-limits -Wno-array-bounds -Wno-unknown-pragmas -Wno-unused-parameter -Wno-unused-function -Wno-unused-result -Wno-strict-overflow -Wno-strict-aliasing -Wvla-extension -Wsuggest-override -Wnewline-eof -Winconsistent-missing-override -Winconsistent-missing-destructor-override -Wno-pass-failed -Wno-error=pedantic -Wno-error=old-style-cast -Wno-error=inconsistent-missing-override -Wno-error=inconsistent-missing-destructor-override -Wconstant-conversion -Wno-invalid-partial-specialization -Wno-missing-braces -Qunused-arguments -fcolor-diagnostics -faligned-new -Wno-unused-but-set-variable -fno-math-errno -fno-trapping-math -Werror=format -DUSE_MPS -Wno-unused-private-field -Wno-missing-braces, LAPACK_INFO=accelerate, TORCH_VERSION=2.3.1, USE_CUDA=OFF, USE_CUDNN=OFF, USE_CUSPARSELT=OFF, USE_EIGEN_FOR_BLAS=ON, USE_EXCEPTION_PTR=1, USE_GFLAGS=OFF, USE_GLOG=OFF, USE_GLOO=ON, USE_MKL=OFF, USE_MKLDNN=OFF, USE_MPI=OFF, USE_NCCL=OFF, USE_NNPACK=ON, USE_OPENMP=ON, USE_ROCM=OFF, USE_ROCM_KERNEL_ASSERT=OFF, \n",
      "\n",
      "\u001b[32m[08/20 17:36:54 detectron2]: \u001b[0mCommand line arguments: {'config_file': '/opt/homebrew/Caskroom/miniconda/base/envs/document-extractor/lib/python3.10/site-packages/magic_pdf/resources/model_config/layoutlmv3/layoutlmv3_base_inference.yaml', 'resume': False, 'eval_only': False, 'num_gpus': 1, 'num_machines': 1, 'machine_rank': 0, 'dist_url': 'tcp://127.0.0.1:57823', 'opts': ['MODEL.WEIGHTS', '/Users/shivamarora/projects-python/diagram-extract/PDF-Extract-Kit/models/Layout/model_final.pth']}\n",
      "\u001b[32m[08/20 17:36:54 detectron2]: \u001b[0mContents of args.config_file=/opt/homebrew/Caskroom/miniconda/base/envs/document-extractor/lib/python3.10/site-packages/magic_pdf/resources/model_config/layoutlmv3/layoutlmv3_base_inference.yaml:\n",
      "\u001b[38;5;197mAUG\u001b[39m\u001b[38;5;15m:\u001b[39m\n",
      "\u001b[38;5;15m  \u001b[39m\u001b[38;5;197mDETR\u001b[39m\u001b[38;5;15m:\u001b[39m\u001b[38;5;15m \u001b[39m\u001b[38;5;141mtrue\u001b[39m\n",
      "\u001b[38;5;197mCACHE_DIR\u001b[39m\u001b[38;5;15m:\u001b[39m\u001b[38;5;15m \u001b[39m\u001b[38;5;141m~/cache/huggingface\u001b[39m\n",
      "\u001b[38;5;197mCUDNN_BENCHMARK\u001b[39m\u001b[38;5;15m:\u001b[39m\u001b[38;5;15m \u001b[39m\u001b[38;5;141mfalse\u001b[39m\n",
      "\u001b[38;5;197mDATALOADER\u001b[39m\u001b[38;5;15m:\u001b[39m\n",
      "\u001b[38;5;15m  \u001b[39m\u001b[38;5;197mASPECT_RATIO_GROUPING\u001b[39m\u001b[38;5;15m:\u001b[39m\u001b[38;5;15m \u001b[39m\u001b[38;5;141mtrue\u001b[39m\n",
      "\u001b[38;5;15m  \u001b[39m\u001b[38;5;197mFILTER_EMPTY_ANNOTATIONS\u001b[39m\u001b[38;5;15m:\u001b[39m\u001b[38;5;15m \u001b[39m\u001b[38;5;141mfalse\u001b[39m\n",
      "\u001b[38;5;15m  \u001b[39m\u001b[38;5;197mNUM_WORKERS\u001b[39m\u001b[38;5;15m:\u001b[39m\u001b[38;5;15m \u001b[39m\u001b[38;5;141m4\u001b[39m\n",
      "\u001b[38;5;15m  \u001b[39m\u001b[38;5;197mREPEAT_THRESHOLD\u001b[39m\u001b[38;5;15m:\u001b[39m\u001b[38;5;15m \u001b[39m\u001b[38;5;141m0.0\u001b[39m\n",
      "\u001b[38;5;15m  \u001b[39m\u001b[38;5;197mSAMPLER_TRAIN\u001b[39m\u001b[38;5;15m:\u001b[39m\u001b[38;5;15m \u001b[39m\u001b[38;5;141mTrainingSampler\u001b[39m\n",
      "\u001b[38;5;197mDATASETS\u001b[39m\u001b[38;5;15m:\u001b[39m\n",
      "\u001b[38;5;15m  \u001b[39m\u001b[38;5;197mPRECOMPUTED_PROPOSAL_TOPK_TEST\u001b[39m\u001b[38;5;15m:\u001b[39m\u001b[38;5;15m \u001b[39m\u001b[38;5;141m1000\u001b[39m\n",
      "\u001b[38;5;15m  \u001b[39m\u001b[38;5;197mPRECOMPUTED_PROPOSAL_TOPK_TRAIN\u001b[39m\u001b[38;5;15m:\u001b[39m\u001b[38;5;15m \u001b[39m\u001b[38;5;141m2000\u001b[39m\n",
      "\u001b[38;5;15m  \u001b[39m\u001b[38;5;197mPROPOSAL_FILES_TEST\u001b[39m\u001b[38;5;15m:\u001b[39m\u001b[38;5;15m \u001b[39m\u001b[38;5;15m[\u001b[39m\u001b[38;5;15m]\u001b[39m\n",
      "\u001b[38;5;15m  \u001b[39m\u001b[38;5;197mPROPOSAL_FILES_TRAIN\u001b[39m\u001b[38;5;15m:\u001b[39m\u001b[38;5;15m \u001b[39m\u001b[38;5;15m[\u001b[39m\u001b[38;5;15m]\u001b[39m\n",
      "\u001b[38;5;15m  \u001b[39m\u001b[38;5;197mTEST\u001b[39m\u001b[38;5;15m:\u001b[39m\n",
      "\u001b[38;5;15m  \u001b[39m\u001b[38;5;15m-\u001b[39m\u001b[38;5;15m \u001b[39m\u001b[38;5;141mscihub_train\u001b[39m\n",
      "\u001b[38;5;15m  \u001b[39m\u001b[38;5;197mTRAIN\u001b[39m\u001b[38;5;15m:\u001b[39m\n",
      "\u001b[38;5;15m  \u001b[39m\u001b[38;5;15m-\u001b[39m\u001b[38;5;15m \u001b[39m\u001b[38;5;141mscihub_train\u001b[39m\n",
      "\u001b[38;5;197mGLOBAL\u001b[39m\u001b[38;5;15m:\u001b[39m\n",
      "\u001b[38;5;15m  \u001b[39m\u001b[38;5;197mHACK\u001b[39m\u001b[38;5;15m:\u001b[39m\u001b[38;5;15m \u001b[39m\u001b[38;5;141m1.0\u001b[39m\n",
      "\u001b[38;5;197mICDAR_DATA_DIR_TEST\u001b[39m\u001b[38;5;15m:\u001b[39m\u001b[38;5;15m \u001b[39m\u001b[38;5;186m'\u001b[39m\u001b[38;5;186m'\u001b[39m\n",
      "\u001b[38;5;197mICDAR_DATA_DIR_TRAIN\u001b[39m\u001b[38;5;15m:\u001b[39m\u001b[38;5;15m \u001b[39m\u001b[38;5;186m'\u001b[39m\u001b[38;5;186m'\u001b[39m\n",
      "\u001b[38;5;197mINPUT\u001b[39m\u001b[38;5;15m:\u001b[39m\n",
      "\u001b[38;5;15m  \u001b[39m\u001b[38;5;197mCROP\u001b[39m\u001b[38;5;15m:\u001b[39m\n",
      "\u001b[38;5;15m    \u001b[39m\u001b[38;5;197mENABLED\u001b[39m\u001b[38;5;15m:\u001b[39m\u001b[38;5;15m \u001b[39m\u001b[38;5;141mtrue\u001b[39m\n",
      "\u001b[38;5;15m    \u001b[39m\u001b[38;5;197mSIZE\u001b[39m\u001b[38;5;15m:\u001b[39m\n",
      "\u001b[38;5;15m    \u001b[39m\u001b[38;5;15m-\u001b[39m\u001b[38;5;15m \u001b[39m\u001b[38;5;141m384\u001b[39m\n",
      "\u001b[38;5;15m    \u001b[39m\u001b[38;5;15m-\u001b[39m\u001b[38;5;15m \u001b[39m\u001b[38;5;141m600\u001b[39m\n",
      "\u001b[38;5;15m    \u001b[39m\u001b[38;5;197mTYPE\u001b[39m\u001b[38;5;15m:\u001b[39m\u001b[38;5;15m \u001b[39m\u001b[38;5;141mabsolute_range\u001b[39m\n",
      "\u001b[38;5;15m  \u001b[39m\u001b[38;5;197mFORMAT\u001b[39m\u001b[38;5;15m:\u001b[39m\u001b[38;5;15m \u001b[39m\u001b[38;5;141mRGB\u001b[39m\n",
      "\u001b[38;5;15m  \u001b[39m\u001b[38;5;197mMASK_FORMAT\u001b[39m\u001b[38;5;15m:\u001b[39m\u001b[38;5;15m \u001b[39m\u001b[38;5;141mpolygon\u001b[39m\n",
      "\u001b[38;5;15m  \u001b[39m\u001b[38;5;197mMAX_SIZE_TEST\u001b[39m\u001b[38;5;15m:\u001b[39m\u001b[38;5;15m \u001b[39m\u001b[38;5;141m1333\u001b[39m\n",
      "\u001b[38;5;15m  \u001b[39m\u001b[38;5;197mMAX_SIZE_TRAIN\u001b[39m\u001b[38;5;15m:\u001b[39m\u001b[38;5;15m \u001b[39m\u001b[38;5;141m1333\u001b[39m\n",
      "\u001b[38;5;15m  \u001b[39m\u001b[38;5;197mMIN_SIZE_TEST\u001b[39m\u001b[38;5;15m:\u001b[39m\u001b[38;5;15m \u001b[39m\u001b[38;5;141m800\u001b[39m\n",
      "\u001b[38;5;15m  \u001b[39m\u001b[38;5;197mMIN_SIZE_TRAIN\u001b[39m\u001b[38;5;15m:\u001b[39m\n",
      "\u001b[38;5;15m  \u001b[39m\u001b[38;5;15m-\u001b[39m\u001b[38;5;15m \u001b[39m\u001b[38;5;141m480\u001b[39m\n",
      "\u001b[38;5;15m  \u001b[39m\u001b[38;5;15m-\u001b[39m\u001b[38;5;15m \u001b[39m\u001b[38;5;141m512\u001b[39m\n",
      "\u001b[38;5;15m  \u001b[39m\u001b[38;5;15m-\u001b[39m\u001b[38;5;15m \u001b[39m\u001b[38;5;141m544\u001b[39m\n",
      "\u001b[38;5;15m  \u001b[39m\u001b[38;5;15m-\u001b[39m\u001b[38;5;15m \u001b[39m\u001b[38;5;141m576\u001b[39m\n",
      "\u001b[38;5;15m  \u001b[39m\u001b[38;5;15m-\u001b[39m\u001b[38;5;15m \u001b[39m\u001b[38;5;141m608\u001b[39m\n",
      "\u001b[38;5;15m  \u001b[39m\u001b[38;5;15m-\u001b[39m\u001b[38;5;15m \u001b[39m\u001b[38;5;141m640\u001b[39m\n",
      "\u001b[38;5;15m  \u001b[39m\u001b[38;5;15m-\u001b[39m\u001b[38;5;15m \u001b[39m\u001b[38;5;141m672\u001b[39m\n",
      "\u001b[38;5;15m  \u001b[39m\u001b[38;5;15m-\u001b[39m\u001b[38;5;15m \u001b[39m\u001b[38;5;141m704\u001b[39m\n",
      "\u001b[38;5;15m  \u001b[39m\u001b[38;5;15m-\u001b[39m\u001b[38;5;15m \u001b[39m\u001b[38;5;141m736\u001b[39m\n",
      "\u001b[38;5;15m  \u001b[39m\u001b[38;5;15m-\u001b[39m\u001b[38;5;15m \u001b[39m\u001b[38;5;141m768\u001b[39m\n",
      "\u001b[38;5;15m  \u001b[39m\u001b[38;5;15m-\u001b[39m\u001b[38;5;15m \u001b[39m\u001b[38;5;141m800\u001b[39m\n",
      "\u001b[38;5;15m  \u001b[39m\u001b[38;5;197mMIN_SIZE_TRAIN_SAMPLING\u001b[39m\u001b[38;5;15m:\u001b[39m\u001b[38;5;15m \u001b[39m\u001b[38;5;141mchoice\u001b[39m\n",
      "\u001b[38;5;15m  \u001b[39m\u001b[38;5;197mRANDOM_FLIP\u001b[39m\u001b[38;5;15m:\u001b[39m\u001b[38;5;15m \u001b[39m\u001b[38;5;141mhorizontal\u001b[39m\n",
      "\u001b[38;5;197mMODEL\u001b[39m\u001b[38;5;15m:\u001b[39m\n",
      "\u001b[38;5;15m  \u001b[39m\u001b[38;5;197mANCHOR_GENERATOR\u001b[39m\u001b[38;5;15m:\u001b[39m\n",
      "\u001b[38;5;15m    \u001b[39m\u001b[38;5;197mANGLES\u001b[39m\u001b[38;5;15m:\u001b[39m\n",
      "\u001b[38;5;15m    \u001b[39m\u001b[38;5;15m-\u001b[39m\u001b[38;5;15m \u001b[39m\u001b[38;5;15m-\u001b[39m\u001b[38;5;15m \u001b[39m\u001b[38;5;141m-90\u001b[39m\n",
      "\u001b[38;5;15m      \u001b[39m\u001b[38;5;15m-\u001b[39m\u001b[38;5;15m \u001b[39m\u001b[38;5;141m0\u001b[39m\n",
      "\u001b[38;5;15m      \u001b[39m\u001b[38;5;15m-\u001b[39m\u001b[38;5;15m \u001b[39m\u001b[38;5;141m90\u001b[39m\n",
      "\u001b[38;5;15m    \u001b[39m\u001b[38;5;197mASPECT_RATIOS\u001b[39m\u001b[38;5;15m:\u001b[39m\n",
      "\u001b[38;5;15m    \u001b[39m\u001b[38;5;15m-\u001b[39m\u001b[38;5;15m \u001b[39m\u001b[38;5;15m-\u001b[39m\u001b[38;5;15m \u001b[39m\u001b[38;5;141m0.5\u001b[39m\n",
      "\u001b[38;5;15m      \u001b[39m\u001b[38;5;15m-\u001b[39m\u001b[38;5;15m \u001b[39m\u001b[38;5;141m1.0\u001b[39m\n",
      "\u001b[38;5;15m      \u001b[39m\u001b[38;5;15m-\u001b[39m\u001b[38;5;15m \u001b[39m\u001b[38;5;141m2.0\u001b[39m\n",
      "\u001b[38;5;15m    \u001b[39m\u001b[38;5;197mNAME\u001b[39m\u001b[38;5;15m:\u001b[39m\u001b[38;5;15m \u001b[39m\u001b[38;5;141mDefaultAnchorGenerator\u001b[39m\n",
      "\u001b[38;5;15m    \u001b[39m\u001b[38;5;197mOFFSET\u001b[39m\u001b[38;5;15m:\u001b[39m\u001b[38;5;15m \u001b[39m\u001b[38;5;141m0.0\u001b[39m\n",
      "\u001b[38;5;15m    \u001b[39m\u001b[38;5;197mSIZES\u001b[39m\u001b[38;5;15m:\u001b[39m\n",
      "\u001b[38;5;15m    \u001b[39m\u001b[38;5;15m-\u001b[39m\u001b[38;5;15m \u001b[39m\u001b[38;5;15m-\u001b[39m\u001b[38;5;15m \u001b[39m\u001b[38;5;141m32\u001b[39m\n",
      "\u001b[38;5;15m    \u001b[39m\u001b[38;5;15m-\u001b[39m\u001b[38;5;15m \u001b[39m\u001b[38;5;15m-\u001b[39m\u001b[38;5;15m \u001b[39m\u001b[38;5;141m64\u001b[39m\n",
      "\u001b[38;5;15m    \u001b[39m\u001b[38;5;15m-\u001b[39m\u001b[38;5;15m \u001b[39m\u001b[38;5;15m-\u001b[39m\u001b[38;5;15m \u001b[39m\u001b[38;5;141m128\u001b[39m\n",
      "\u001b[38;5;15m    \u001b[39m\u001b[38;5;15m-\u001b[39m\u001b[38;5;15m \u001b[39m\u001b[38;5;15m-\u001b[39m\u001b[38;5;15m \u001b[39m\u001b[38;5;141m256\u001b[39m\n",
      "\u001b[38;5;15m    \u001b[39m\u001b[38;5;15m-\u001b[39m\u001b[38;5;15m \u001b[39m\u001b[38;5;15m-\u001b[39m\u001b[38;5;15m \u001b[39m\u001b[38;5;141m512\u001b[39m\n",
      "\u001b[38;5;15m  \u001b[39m\u001b[38;5;197mBACKBONE\u001b[39m\u001b[38;5;15m:\u001b[39m\n",
      "\u001b[38;5;15m    \u001b[39m\u001b[38;5;197mFREEZE_AT\u001b[39m\u001b[38;5;15m:\u001b[39m\u001b[38;5;15m \u001b[39m\u001b[38;5;141m2\u001b[39m\n",
      "\u001b[38;5;15m    \u001b[39m\u001b[38;5;197mNAME\u001b[39m\u001b[38;5;15m:\u001b[39m\u001b[38;5;15m \u001b[39m\u001b[38;5;141mbuild_vit_fpn_backbone\u001b[39m\n",
      "\u001b[38;5;15m  \u001b[39m\u001b[38;5;197mCONFIG_PATH\u001b[39m\u001b[38;5;15m:\u001b[39m\u001b[38;5;15m \u001b[39m\u001b[38;5;186m'\u001b[39m\u001b[38;5;186m'\u001b[39m\n",
      "\u001b[38;5;15m  \u001b[39m\u001b[38;5;197mDEVICE\u001b[39m\u001b[38;5;15m:\u001b[39m\u001b[38;5;15m \u001b[39m\u001b[38;5;141mcuda\u001b[39m\n",
      "\u001b[38;5;15m  \u001b[39m\u001b[38;5;197mFPN\u001b[39m\u001b[38;5;15m:\u001b[39m\n",
      "\u001b[38;5;15m    \u001b[39m\u001b[38;5;197mFUSE_TYPE\u001b[39m\u001b[38;5;15m:\u001b[39m\u001b[38;5;15m \u001b[39m\u001b[38;5;141msum\u001b[39m\n",
      "\u001b[38;5;15m    \u001b[39m\u001b[38;5;197mIN_FEATURES\u001b[39m\u001b[38;5;15m:\u001b[39m\n",
      "\u001b[38;5;15m    \u001b[39m\u001b[38;5;15m-\u001b[39m\u001b[38;5;15m \u001b[39m\u001b[38;5;141mlayer3\u001b[39m\n",
      "\u001b[38;5;15m    \u001b[39m\u001b[38;5;15m-\u001b[39m\u001b[38;5;15m \u001b[39m\u001b[38;5;141mlayer5\u001b[39m\n",
      "\u001b[38;5;15m    \u001b[39m\u001b[38;5;15m-\u001b[39m\u001b[38;5;15m \u001b[39m\u001b[38;5;141mlayer7\u001b[39m\n",
      "\u001b[38;5;15m    \u001b[39m\u001b[38;5;15m-\u001b[39m\u001b[38;5;15m \u001b[39m\u001b[38;5;141mlayer11\u001b[39m\n",
      "\u001b[38;5;15m    \u001b[39m\u001b[38;5;197mNORM\u001b[39m\u001b[38;5;15m:\u001b[39m\u001b[38;5;15m \u001b[39m\u001b[38;5;186m'\u001b[39m\u001b[38;5;186m'\u001b[39m\n",
      "\u001b[38;5;15m    \u001b[39m\u001b[38;5;197mOUT_CHANNELS\u001b[39m\u001b[38;5;15m:\u001b[39m\u001b[38;5;15m \u001b[39m\u001b[38;5;141m256\u001b[39m\n",
      "\u001b[38;5;15m  \u001b[39m\u001b[38;5;197mIMAGE_ONLY\u001b[39m\u001b[38;5;15m:\u001b[39m\u001b[38;5;15m \u001b[39m\u001b[38;5;141mtrue\u001b[39m\n",
      "\u001b[38;5;15m  \u001b[39m\u001b[38;5;197mKEYPOINT_ON\u001b[39m\u001b[38;5;15m:\u001b[39m\u001b[38;5;15m \u001b[39m\u001b[38;5;141mfalse\u001b[39m\n",
      "\u001b[38;5;15m  \u001b[39m\u001b[38;5;197mLOAD_PROPOSALS\u001b[39m\u001b[38;5;15m:\u001b[39m\u001b[38;5;15m \u001b[39m\u001b[38;5;141mfalse\u001b[39m\n",
      "\u001b[38;5;15m  \u001b[39m\u001b[38;5;197mMASK_ON\u001b[39m\u001b[38;5;15m:\u001b[39m\u001b[38;5;15m \u001b[39m\u001b[38;5;141mtrue\u001b[39m\n",
      "\u001b[38;5;15m  \u001b[39m\u001b[38;5;197mMETA_ARCHITECTURE\u001b[39m\u001b[38;5;15m:\u001b[39m\u001b[38;5;15m \u001b[39m\u001b[38;5;141mVLGeneralizedRCNN\u001b[39m\n",
      "\u001b[38;5;15m  \u001b[39m\u001b[38;5;197mPANOPTIC_FPN\u001b[39m\u001b[38;5;15m:\u001b[39m\n",
      "\u001b[38;5;15m    \u001b[39m\u001b[38;5;197mCOMBINE\u001b[39m\u001b[38;5;15m:\u001b[39m\n",
      "\u001b[38;5;15m      \u001b[39m\u001b[38;5;197mENABLED\u001b[39m\u001b[38;5;15m:\u001b[39m\u001b[38;5;15m \u001b[39m\u001b[38;5;141mtrue\u001b[39m\n",
      "\u001b[38;5;15m      \u001b[39m\u001b[38;5;197mINSTANCES_CONFIDENCE_THRESH\u001b[39m\u001b[38;5;15m:\u001b[39m\u001b[38;5;15m \u001b[39m\u001b[38;5;141m0.5\u001b[39m\n",
      "\u001b[38;5;15m      \u001b[39m\u001b[38;5;197mOVERLAP_THRESH\u001b[39m\u001b[38;5;15m:\u001b[39m\u001b[38;5;15m \u001b[39m\u001b[38;5;141m0.5\u001b[39m\n",
      "\u001b[38;5;15m      \u001b[39m\u001b[38;5;197mSTUFF_AREA_LIMIT\u001b[39m\u001b[38;5;15m:\u001b[39m\u001b[38;5;15m \u001b[39m\u001b[38;5;141m4096\u001b[39m\n",
      "\u001b[38;5;15m    \u001b[39m\u001b[38;5;197mINSTANCE_LOSS_WEIGHT\u001b[39m\u001b[38;5;15m:\u001b[39m\u001b[38;5;15m \u001b[39m\u001b[38;5;141m1.0\u001b[39m\n",
      "\u001b[38;5;15m  \u001b[39m\u001b[38;5;197mPIXEL_MEAN\u001b[39m\u001b[38;5;15m:\u001b[39m\n",
      "\u001b[38;5;15m  \u001b[39m\u001b[38;5;15m-\u001b[39m\u001b[38;5;15m \u001b[39m\u001b[38;5;141m127.5\u001b[39m\n",
      "\u001b[38;5;15m  \u001b[39m\u001b[38;5;15m-\u001b[39m\u001b[38;5;15m \u001b[39m\u001b[38;5;141m127.5\u001b[39m\n",
      "\u001b[38;5;15m  \u001b[39m\u001b[38;5;15m-\u001b[39m\u001b[38;5;15m \u001b[39m\u001b[38;5;141m127.5\u001b[39m\n",
      "\u001b[38;5;15m  \u001b[39m\u001b[38;5;197mPIXEL_STD\u001b[39m\u001b[38;5;15m:\u001b[39m\n",
      "\u001b[38;5;15m  \u001b[39m\u001b[38;5;15m-\u001b[39m\u001b[38;5;15m \u001b[39m\u001b[38;5;141m127.5\u001b[39m\n",
      "\u001b[38;5;15m  \u001b[39m\u001b[38;5;15m-\u001b[39m\u001b[38;5;15m \u001b[39m\u001b[38;5;141m127.5\u001b[39m\n",
      "\u001b[38;5;15m  \u001b[39m\u001b[38;5;15m-\u001b[39m\u001b[38;5;15m \u001b[39m\u001b[38;5;141m127.5\u001b[39m\n",
      "\u001b[38;5;15m  \u001b[39m\u001b[38;5;197mPROPOSAL_GENERATOR\u001b[39m\u001b[38;5;15m:\u001b[39m\n",
      "\u001b[38;5;15m    \u001b[39m\u001b[38;5;197mMIN_SIZE\u001b[39m\u001b[38;5;15m:\u001b[39m\u001b[38;5;15m \u001b[39m\u001b[38;5;141m0\u001b[39m\n",
      "\u001b[38;5;15m    \u001b[39m\u001b[38;5;197mNAME\u001b[39m\u001b[38;5;15m:\u001b[39m\u001b[38;5;15m \u001b[39m\u001b[38;5;141mRPN\u001b[39m\n",
      "\u001b[38;5;15m  \u001b[39m\u001b[38;5;197mRESNETS\u001b[39m\u001b[38;5;15m:\u001b[39m\n",
      "\u001b[38;5;15m    \u001b[39m\u001b[38;5;197mDEFORM_MODULATED\u001b[39m\u001b[38;5;15m:\u001b[39m\u001b[38;5;15m \u001b[39m\u001b[38;5;141mfalse\u001b[39m\n",
      "\u001b[38;5;15m    \u001b[39m\u001b[38;5;197mDEFORM_NUM_GROUPS\u001b[39m\u001b[38;5;15m:\u001b[39m\u001b[38;5;15m \u001b[39m\u001b[38;5;141m1\u001b[39m\n",
      "\u001b[38;5;15m    \u001b[39m\u001b[38;5;197mDEFORM_ON_PER_STAGE\u001b[39m\u001b[38;5;15m:\u001b[39m\n",
      "\u001b[38;5;15m    \u001b[39m\u001b[38;5;15m-\u001b[39m\u001b[38;5;15m \u001b[39m\u001b[38;5;141mfalse\u001b[39m\n",
      "\u001b[38;5;15m    \u001b[39m\u001b[38;5;15m-\u001b[39m\u001b[38;5;15m \u001b[39m\u001b[38;5;141mfalse\u001b[39m\n",
      "\u001b[38;5;15m    \u001b[39m\u001b[38;5;15m-\u001b[39m\u001b[38;5;15m \u001b[39m\u001b[38;5;141mfalse\u001b[39m\n",
      "\u001b[38;5;15m    \u001b[39m\u001b[38;5;15m-\u001b[39m\u001b[38;5;15m \u001b[39m\u001b[38;5;141mfalse\u001b[39m\n",
      "\u001b[38;5;15m    \u001b[39m\u001b[38;5;197mDEPTH\u001b[39m\u001b[38;5;15m:\u001b[39m\u001b[38;5;15m \u001b[39m\u001b[38;5;141m50\u001b[39m\n",
      "\u001b[38;5;15m    \u001b[39m\u001b[38;5;197mNORM\u001b[39m\u001b[38;5;15m:\u001b[39m\u001b[38;5;15m \u001b[39m\u001b[38;5;141mFrozenBN\u001b[39m\n",
      "\u001b[38;5;15m    \u001b[39m\u001b[38;5;197mNUM_GROUPS\u001b[39m\u001b[38;5;15m:\u001b[39m\u001b[38;5;15m \u001b[39m\u001b[38;5;141m1\u001b[39m\n",
      "\u001b[38;5;15m    \u001b[39m\u001b[38;5;197mOUT_FEATURES\u001b[39m\u001b[38;5;15m:\u001b[39m\n",
      "\u001b[38;5;15m    \u001b[39m\u001b[38;5;15m-\u001b[39m\u001b[38;5;15m \u001b[39m\u001b[38;5;141mres4\u001b[39m\n",
      "\u001b[38;5;15m    \u001b[39m\u001b[38;5;197mRES2_OUT_CHANNELS\u001b[39m\u001b[38;5;15m:\u001b[39m\u001b[38;5;15m \u001b[39m\u001b[38;5;141m256\u001b[39m\n",
      "\u001b[38;5;15m    \u001b[39m\u001b[38;5;197mRES5_DILATION\u001b[39m\u001b[38;5;15m:\u001b[39m\u001b[38;5;15m \u001b[39m\u001b[38;5;141m1\u001b[39m\n",
      "\u001b[38;5;15m    \u001b[39m\u001b[38;5;197mSTEM_OUT_CHANNELS\u001b[39m\u001b[38;5;15m:\u001b[39m\u001b[38;5;15m \u001b[39m\u001b[38;5;141m64\u001b[39m\n",
      "\u001b[38;5;15m    \u001b[39m\u001b[38;5;197mSTRIDE_IN_1X1\u001b[39m\u001b[38;5;15m:\u001b[39m\u001b[38;5;15m \u001b[39m\u001b[38;5;141mtrue\u001b[39m\n",
      "\u001b[38;5;15m    \u001b[39m\u001b[38;5;197mWIDTH_PER_GROUP\u001b[39m\u001b[38;5;15m:\u001b[39m\u001b[38;5;15m \u001b[39m\u001b[38;5;141m64\u001b[39m\n",
      "\u001b[38;5;15m  \u001b[39m\u001b[38;5;197mRETINANET\u001b[39m\u001b[38;5;15m:\u001b[39m\n",
      "\u001b[38;5;15m    \u001b[39m\u001b[38;5;197mBBOX_REG_LOSS_TYPE\u001b[39m\u001b[38;5;15m:\u001b[39m\u001b[38;5;15m \u001b[39m\u001b[38;5;141msmooth_l1\u001b[39m\n",
      "\u001b[38;5;15m    \u001b[39m\u001b[38;5;197mBBOX_REG_WEIGHTS\u001b[39m\u001b[38;5;15m:\u001b[39m\n",
      "\u001b[38;5;15m    \u001b[39m\u001b[38;5;15m-\u001b[39m\u001b[38;5;15m \u001b[39m\u001b[38;5;141m1.0\u001b[39m\n",
      "\u001b[38;5;15m    \u001b[39m\u001b[38;5;15m-\u001b[39m\u001b[38;5;15m \u001b[39m\u001b[38;5;141m1.0\u001b[39m\n",
      "\u001b[38;5;15m    \u001b[39m\u001b[38;5;15m-\u001b[39m\u001b[38;5;15m \u001b[39m\u001b[38;5;141m1.0\u001b[39m\n",
      "\u001b[38;5;15m    \u001b[39m\u001b[38;5;15m-\u001b[39m\u001b[38;5;15m \u001b[39m\u001b[38;5;141m1.0\u001b[39m\n",
      "\u001b[38;5;15m    \u001b[39m\u001b[38;5;197mFOCAL_LOSS_ALPHA\u001b[39m\u001b[38;5;15m:\u001b[39m\u001b[38;5;15m \u001b[39m\u001b[38;5;141m0.25\u001b[39m\n",
      "\u001b[38;5;15m    \u001b[39m\u001b[38;5;197mFOCAL_LOSS_GAMMA\u001b[39m\u001b[38;5;15m:\u001b[39m\u001b[38;5;15m \u001b[39m\u001b[38;5;141m2.0\u001b[39m\n",
      "\u001b[38;5;15m    \u001b[39m\u001b[38;5;197mIN_FEATURES\u001b[39m\u001b[38;5;15m:\u001b[39m\n",
      "\u001b[38;5;15m    \u001b[39m\u001b[38;5;15m-\u001b[39m\u001b[38;5;15m \u001b[39m\u001b[38;5;141mp3\u001b[39m\n",
      "\u001b[38;5;15m    \u001b[39m\u001b[38;5;15m-\u001b[39m\u001b[38;5;15m \u001b[39m\u001b[38;5;141mp4\u001b[39m\n",
      "\u001b[38;5;15m    \u001b[39m\u001b[38;5;15m-\u001b[39m\u001b[38;5;15m \u001b[39m\u001b[38;5;141mp5\u001b[39m\n",
      "\u001b[38;5;15m    \u001b[39m\u001b[38;5;15m-\u001b[39m\u001b[38;5;15m \u001b[39m\u001b[38;5;141mp6\u001b[39m\n",
      "\u001b[38;5;15m    \u001b[39m\u001b[38;5;15m-\u001b[39m\u001b[38;5;15m \u001b[39m\u001b[38;5;141mp7\u001b[39m\n",
      "\u001b[38;5;15m    \u001b[39m\u001b[38;5;197mIOU_LABELS\u001b[39m\u001b[38;5;15m:\u001b[39m\n",
      "\u001b[38;5;15m    \u001b[39m\u001b[38;5;15m-\u001b[39m\u001b[38;5;15m \u001b[39m\u001b[38;5;141m0\u001b[39m\n",
      "\u001b[38;5;15m    \u001b[39m\u001b[38;5;15m-\u001b[39m\u001b[38;5;15m \u001b[39m\u001b[38;5;141m-1\u001b[39m\n",
      "\u001b[38;5;15m    \u001b[39m\u001b[38;5;15m-\u001b[39m\u001b[38;5;15m \u001b[39m\u001b[38;5;141m1\u001b[39m\n",
      "\u001b[38;5;15m    \u001b[39m\u001b[38;5;197mIOU_THRESHOLDS\u001b[39m\u001b[38;5;15m:\u001b[39m\n",
      "\u001b[38;5;15m    \u001b[39m\u001b[38;5;15m-\u001b[39m\u001b[38;5;15m \u001b[39m\u001b[38;5;141m0.4\u001b[39m\n",
      "\u001b[38;5;15m    \u001b[39m\u001b[38;5;15m-\u001b[39m\u001b[38;5;15m \u001b[39m\u001b[38;5;141m0.5\u001b[39m\n",
      "\u001b[38;5;15m    \u001b[39m\u001b[38;5;197mNMS_THRESH_TEST\u001b[39m\u001b[38;5;15m:\u001b[39m\u001b[38;5;15m \u001b[39m\u001b[38;5;141m0.5\u001b[39m\n",
      "\u001b[38;5;15m    \u001b[39m\u001b[38;5;197mNORM\u001b[39m\u001b[38;5;15m:\u001b[39m\u001b[38;5;15m \u001b[39m\u001b[38;5;186m'\u001b[39m\u001b[38;5;186m'\u001b[39m\n",
      "\u001b[38;5;15m    \u001b[39m\u001b[38;5;197mNUM_CLASSES\u001b[39m\u001b[38;5;15m:\u001b[39m\u001b[38;5;15m \u001b[39m\u001b[38;5;141m10\u001b[39m\n",
      "\u001b[38;5;15m    \u001b[39m\u001b[38;5;197mNUM_CONVS\u001b[39m\u001b[38;5;15m:\u001b[39m\u001b[38;5;15m \u001b[39m\u001b[38;5;141m4\u001b[39m\n",
      "\u001b[38;5;15m    \u001b[39m\u001b[38;5;197mPRIOR_PROB\u001b[39m\u001b[38;5;15m:\u001b[39m\u001b[38;5;15m \u001b[39m\u001b[38;5;141m0.01\u001b[39m\n",
      "\u001b[38;5;15m    \u001b[39m\u001b[38;5;197mSCORE_THRESH_TEST\u001b[39m\u001b[38;5;15m:\u001b[39m\u001b[38;5;15m \u001b[39m\u001b[38;5;141m0.05\u001b[39m\n",
      "\u001b[38;5;15m    \u001b[39m\u001b[38;5;197mSMOOTH_L1_LOSS_BETA\u001b[39m\u001b[38;5;15m:\u001b[39m\u001b[38;5;15m \u001b[39m\u001b[38;5;141m0.1\u001b[39m\n",
      "\u001b[38;5;15m    \u001b[39m\u001b[38;5;197mTOPK_CANDIDATES_TEST\u001b[39m\u001b[38;5;15m:\u001b[39m\u001b[38;5;15m \u001b[39m\u001b[38;5;141m1000\u001b[39m\n",
      "\u001b[38;5;15m  \u001b[39m\u001b[38;5;197mROI_BOX_CASCADE_HEAD\u001b[39m\u001b[38;5;15m:\u001b[39m\n",
      "\u001b[38;5;15m    \u001b[39m\u001b[38;5;197mBBOX_REG_WEIGHTS\u001b[39m\u001b[38;5;15m:\u001b[39m\n",
      "\u001b[38;5;15m    \u001b[39m\u001b[38;5;15m-\u001b[39m\u001b[38;5;15m \u001b[39m\u001b[38;5;15m-\u001b[39m\u001b[38;5;15m \u001b[39m\u001b[38;5;141m10.0\u001b[39m\n",
      "\u001b[38;5;15m      \u001b[39m\u001b[38;5;15m-\u001b[39m\u001b[38;5;15m \u001b[39m\u001b[38;5;141m10.0\u001b[39m\n",
      "\u001b[38;5;15m      \u001b[39m\u001b[38;5;15m-\u001b[39m\u001b[38;5;15m \u001b[39m\u001b[38;5;141m5.0\u001b[39m\n",
      "\u001b[38;5;15m      \u001b[39m\u001b[38;5;15m-\u001b[39m\u001b[38;5;15m \u001b[39m\u001b[38;5;141m5.0\u001b[39m\n",
      "\u001b[38;5;15m    \u001b[39m\u001b[38;5;15m-\u001b[39m\u001b[38;5;15m \u001b[39m\u001b[38;5;15m-\u001b[39m\u001b[38;5;15m \u001b[39m\u001b[38;5;141m20.0\u001b[39m\n",
      "\u001b[38;5;15m      \u001b[39m\u001b[38;5;15m-\u001b[39m\u001b[38;5;15m \u001b[39m\u001b[38;5;141m20.0\u001b[39m\n",
      "\u001b[38;5;15m      \u001b[39m\u001b[38;5;15m-\u001b[39m\u001b[38;5;15m \u001b[39m\u001b[38;5;141m10.0\u001b[39m\n",
      "\u001b[38;5;15m      \u001b[39m\u001b[38;5;15m-\u001b[39m\u001b[38;5;15m \u001b[39m\u001b[38;5;141m10.0\u001b[39m\n",
      "\u001b[38;5;15m    \u001b[39m\u001b[38;5;15m-\u001b[39m\u001b[38;5;15m \u001b[39m\u001b[38;5;15m-\u001b[39m\u001b[38;5;15m \u001b[39m\u001b[38;5;141m30.0\u001b[39m\n",
      "\u001b[38;5;15m      \u001b[39m\u001b[38;5;15m-\u001b[39m\u001b[38;5;15m \u001b[39m\u001b[38;5;141m30.0\u001b[39m\n",
      "\u001b[38;5;15m      \u001b[39m\u001b[38;5;15m-\u001b[39m\u001b[38;5;15m \u001b[39m\u001b[38;5;141m15.0\u001b[39m\n",
      "\u001b[38;5;15m      \u001b[39m\u001b[38;5;15m-\u001b[39m\u001b[38;5;15m \u001b[39m\u001b[38;5;141m15.0\u001b[39m\n",
      "\u001b[38;5;15m    \u001b[39m\u001b[38;5;197mIOUS\u001b[39m\u001b[38;5;15m:\u001b[39m\n",
      "\u001b[38;5;15m    \u001b[39m\u001b[38;5;15m-\u001b[39m\u001b[38;5;15m \u001b[39m\u001b[38;5;141m0.5\u001b[39m\n",
      "\u001b[38;5;15m    \u001b[39m\u001b[38;5;15m-\u001b[39m\u001b[38;5;15m \u001b[39m\u001b[38;5;141m0.6\u001b[39m\n",
      "\u001b[38;5;15m    \u001b[39m\u001b[38;5;15m-\u001b[39m\u001b[38;5;15m \u001b[39m\u001b[38;5;141m0.7\u001b[39m\n",
      "\u001b[38;5;15m  \u001b[39m\u001b[38;5;197mROI_BOX_HEAD\u001b[39m\u001b[38;5;15m:\u001b[39m\n",
      "\u001b[38;5;15m    \u001b[39m\u001b[38;5;197mBBOX_REG_LOSS_TYPE\u001b[39m\u001b[38;5;15m:\u001b[39m\u001b[38;5;15m \u001b[39m\u001b[38;5;141msmooth_l1\u001b[39m\n",
      "\u001b[38;5;15m    \u001b[39m\u001b[38;5;197mBBOX_REG_LOSS_WEIGHT\u001b[39m\u001b[38;5;15m:\u001b[39m\u001b[38;5;15m \u001b[39m\u001b[38;5;141m1.0\u001b[39m\n",
      "\u001b[38;5;15m    \u001b[39m\u001b[38;5;197mBBOX_REG_WEIGHTS\u001b[39m\u001b[38;5;15m:\u001b[39m\n",
      "\u001b[38;5;15m    \u001b[39m\u001b[38;5;15m-\u001b[39m\u001b[38;5;15m \u001b[39m\u001b[38;5;141m10.0\u001b[39m\n",
      "\u001b[38;5;15m    \u001b[39m\u001b[38;5;15m-\u001b[39m\u001b[38;5;15m \u001b[39m\u001b[38;5;141m10.0\u001b[39m\n",
      "\u001b[38;5;15m    \u001b[39m\u001b[38;5;15m-\u001b[39m\u001b[38;5;15m \u001b[39m\u001b[38;5;141m5.0\u001b[39m\n",
      "\u001b[38;5;15m    \u001b[39m\u001b[38;5;15m-\u001b[39m\u001b[38;5;15m \u001b[39m\u001b[38;5;141m5.0\u001b[39m\n",
      "\u001b[38;5;15m    \u001b[39m\u001b[38;5;197mCLS_AGNOSTIC_BBOX_REG\u001b[39m\u001b[38;5;15m:\u001b[39m\u001b[38;5;15m \u001b[39m\u001b[38;5;141mtrue\u001b[39m\n",
      "\u001b[38;5;15m    \u001b[39m\u001b[38;5;197mCONV_DIM\u001b[39m\u001b[38;5;15m:\u001b[39m\u001b[38;5;15m \u001b[39m\u001b[38;5;141m256\u001b[39m\n",
      "\u001b[38;5;15m    \u001b[39m\u001b[38;5;197mFC_DIM\u001b[39m\u001b[38;5;15m:\u001b[39m\u001b[38;5;15m \u001b[39m\u001b[38;5;141m1024\u001b[39m\n",
      "\u001b[38;5;15m    \u001b[39m\u001b[38;5;197mNAME\u001b[39m\u001b[38;5;15m:\u001b[39m\u001b[38;5;15m \u001b[39m\u001b[38;5;141mFastRCNNConvFCHead\u001b[39m\n",
      "\u001b[38;5;15m    \u001b[39m\u001b[38;5;197mNORM\u001b[39m\u001b[38;5;15m:\u001b[39m\u001b[38;5;15m \u001b[39m\u001b[38;5;186m'\u001b[39m\u001b[38;5;186m'\u001b[39m\n",
      "\u001b[38;5;15m    \u001b[39m\u001b[38;5;197mNUM_CONV\u001b[39m\u001b[38;5;15m:\u001b[39m\u001b[38;5;15m \u001b[39m\u001b[38;5;141m0\u001b[39m\n",
      "\u001b[38;5;15m    \u001b[39m\u001b[38;5;197mNUM_FC\u001b[39m\u001b[38;5;15m:\u001b[39m\u001b[38;5;15m \u001b[39m\u001b[38;5;141m2\u001b[39m\n",
      "\u001b[38;5;15m    \u001b[39m\u001b[38;5;197mPOOLER_RESOLUTION\u001b[39m\u001b[38;5;15m:\u001b[39m\u001b[38;5;15m \u001b[39m\u001b[38;5;141m7\u001b[39m\n",
      "\u001b[38;5;15m    \u001b[39m\u001b[38;5;197mPOOLER_SAMPLING_RATIO\u001b[39m\u001b[38;5;15m:\u001b[39m\u001b[38;5;15m \u001b[39m\u001b[38;5;141m0\u001b[39m\n",
      "\u001b[38;5;15m    \u001b[39m\u001b[38;5;197mPOOLER_TYPE\u001b[39m\u001b[38;5;15m:\u001b[39m\u001b[38;5;15m \u001b[39m\u001b[38;5;141mROIAlignV2\u001b[39m\n",
      "\u001b[38;5;15m    \u001b[39m\u001b[38;5;197mSMOOTH_L1_BETA\u001b[39m\u001b[38;5;15m:\u001b[39m\u001b[38;5;15m \u001b[39m\u001b[38;5;141m0.0\u001b[39m\n",
      "\u001b[38;5;15m    \u001b[39m\u001b[38;5;197mTRAIN_ON_PRED_BOXES\u001b[39m\u001b[38;5;15m:\u001b[39m\u001b[38;5;15m \u001b[39m\u001b[38;5;141mfalse\u001b[39m\n",
      "\u001b[38;5;15m  \u001b[39m\u001b[38;5;197mROI_HEADS\u001b[39m\u001b[38;5;15m:\u001b[39m\n",
      "\u001b[38;5;15m    \u001b[39m\u001b[38;5;197mBATCH_SIZE_PER_IMAGE\u001b[39m\u001b[38;5;15m:\u001b[39m\u001b[38;5;15m \u001b[39m\u001b[38;5;141m512\u001b[39m\n",
      "\u001b[38;5;15m    \u001b[39m\u001b[38;5;197mIN_FEATURES\u001b[39m\u001b[38;5;15m:\u001b[39m\n",
      "\u001b[38;5;15m    \u001b[39m\u001b[38;5;15m-\u001b[39m\u001b[38;5;15m \u001b[39m\u001b[38;5;141mp2\u001b[39m\n",
      "\u001b[38;5;15m    \u001b[39m\u001b[38;5;15m-\u001b[39m\u001b[38;5;15m \u001b[39m\u001b[38;5;141mp3\u001b[39m\n",
      "\u001b[38;5;15m    \u001b[39m\u001b[38;5;15m-\u001b[39m\u001b[38;5;15m \u001b[39m\u001b[38;5;141mp4\u001b[39m\n",
      "\u001b[38;5;15m    \u001b[39m\u001b[38;5;15m-\u001b[39m\u001b[38;5;15m \u001b[39m\u001b[38;5;141mp5\u001b[39m\n",
      "\u001b[38;5;15m    \u001b[39m\u001b[38;5;197mIOU_LABELS\u001b[39m\u001b[38;5;15m:\u001b[39m\n",
      "\u001b[38;5;15m    \u001b[39m\u001b[38;5;15m-\u001b[39m\u001b[38;5;15m \u001b[39m\u001b[38;5;141m0\u001b[39m\n",
      "\u001b[38;5;15m    \u001b[39m\u001b[38;5;15m-\u001b[39m\u001b[38;5;15m \u001b[39m\u001b[38;5;141m1\u001b[39m\n",
      "\u001b[38;5;15m    \u001b[39m\u001b[38;5;197mIOU_THRESHOLDS\u001b[39m\u001b[38;5;15m:\u001b[39m\n",
      "\u001b[38;5;15m    \u001b[39m\u001b[38;5;15m-\u001b[39m\u001b[38;5;15m \u001b[39m\u001b[38;5;141m0.5\u001b[39m\n",
      "\u001b[38;5;15m    \u001b[39m\u001b[38;5;197mNAME\u001b[39m\u001b[38;5;15m:\u001b[39m\u001b[38;5;15m \u001b[39m\u001b[38;5;141mCascadeROIHeads\u001b[39m\n",
      "\u001b[38;5;15m    \u001b[39m\u001b[38;5;197mNMS_THRESH_TEST\u001b[39m\u001b[38;5;15m:\u001b[39m\u001b[38;5;15m \u001b[39m\u001b[38;5;141m0.5\u001b[39m\n",
      "\u001b[38;5;15m    \u001b[39m\u001b[38;5;197mNUM_CLASSES\u001b[39m\u001b[38;5;15m:\u001b[39m\u001b[38;5;15m \u001b[39m\u001b[38;5;141m10\u001b[39m\n",
      "\u001b[38;5;15m    \u001b[39m\u001b[38;5;197mPOSITIVE_FRACTION\u001b[39m\u001b[38;5;15m:\u001b[39m\u001b[38;5;15m \u001b[39m\u001b[38;5;141m0.25\u001b[39m\n",
      "\u001b[38;5;15m    \u001b[39m\u001b[38;5;197mPROPOSAL_APPEND_GT\u001b[39m\u001b[38;5;15m:\u001b[39m\u001b[38;5;15m \u001b[39m\u001b[38;5;141mtrue\u001b[39m\n",
      "\u001b[38;5;15m    \u001b[39m\u001b[38;5;197mSCORE_THRESH_TEST\u001b[39m\u001b[38;5;15m:\u001b[39m\u001b[38;5;15m \u001b[39m\u001b[38;5;141m0.05\u001b[39m\n",
      "\u001b[38;5;15m  \u001b[39m\u001b[38;5;197mROI_KEYPOINT_HEAD\u001b[39m\u001b[38;5;15m:\u001b[39m\n",
      "\u001b[38;5;15m    \u001b[39m\u001b[38;5;197mCONV_DIMS\u001b[39m\u001b[38;5;15m:\u001b[39m\n",
      "\u001b[38;5;15m    \u001b[39m\u001b[38;5;15m-\u001b[39m\u001b[38;5;15m \u001b[39m\u001b[38;5;141m512\u001b[39m\n",
      "\u001b[38;5;15m    \u001b[39m\u001b[38;5;15m-\u001b[39m\u001b[38;5;15m \u001b[39m\u001b[38;5;141m512\u001b[39m\n",
      "\u001b[38;5;15m    \u001b[39m\u001b[38;5;15m-\u001b[39m\u001b[38;5;15m \u001b[39m\u001b[38;5;141m512\u001b[39m\n",
      "\u001b[38;5;15m    \u001b[39m\u001b[38;5;15m-\u001b[39m\u001b[38;5;15m \u001b[39m\u001b[38;5;141m512\u001b[39m\n",
      "\u001b[38;5;15m    \u001b[39m\u001b[38;5;15m-\u001b[39m\u001b[38;5;15m \u001b[39m\u001b[38;5;141m512\u001b[39m\n",
      "\u001b[38;5;15m    \u001b[39m\u001b[38;5;15m-\u001b[39m\u001b[38;5;15m \u001b[39m\u001b[38;5;141m512\u001b[39m\n",
      "\u001b[38;5;15m    \u001b[39m\u001b[38;5;15m-\u001b[39m\u001b[38;5;15m \u001b[39m\u001b[38;5;141m512\u001b[39m\n",
      "\u001b[38;5;15m    \u001b[39m\u001b[38;5;15m-\u001b[39m\u001b[38;5;15m \u001b[39m\u001b[38;5;141m512\u001b[39m\n",
      "\u001b[38;5;15m    \u001b[39m\u001b[38;5;197mLOSS_WEIGHT\u001b[39m\u001b[38;5;15m:\u001b[39m\u001b[38;5;15m \u001b[39m\u001b[38;5;141m1.0\u001b[39m\n",
      "\u001b[38;5;15m    \u001b[39m\u001b[38;5;197mMIN_KEYPOINTS_PER_IMAGE\u001b[39m\u001b[38;5;15m:\u001b[39m\u001b[38;5;15m \u001b[39m\u001b[38;5;141m1\u001b[39m\n",
      "\u001b[38;5;15m    \u001b[39m\u001b[38;5;197mNAME\u001b[39m\u001b[38;5;15m:\u001b[39m\u001b[38;5;15m \u001b[39m\u001b[38;5;141mKRCNNConvDeconvUpsampleHead\u001b[39m\n",
      "\u001b[38;5;15m    \u001b[39m\u001b[38;5;197mNORMALIZE_LOSS_BY_VISIBLE_KEYPOINTS\u001b[39m\u001b[38;5;15m:\u001b[39m\u001b[38;5;15m \u001b[39m\u001b[38;5;141mtrue\u001b[39m\n",
      "\u001b[38;5;15m    \u001b[39m\u001b[38;5;197mNUM_KEYPOINTS\u001b[39m\u001b[38;5;15m:\u001b[39m\u001b[38;5;15m \u001b[39m\u001b[38;5;141m17\u001b[39m\n",
      "\u001b[38;5;15m    \u001b[39m\u001b[38;5;197mPOOLER_RESOLUTION\u001b[39m\u001b[38;5;15m:\u001b[39m\u001b[38;5;15m \u001b[39m\u001b[38;5;141m14\u001b[39m\n",
      "\u001b[38;5;15m    \u001b[39m\u001b[38;5;197mPOOLER_SAMPLING_RATIO\u001b[39m\u001b[38;5;15m:\u001b[39m\u001b[38;5;15m \u001b[39m\u001b[38;5;141m0\u001b[39m\n",
      "\u001b[38;5;15m    \u001b[39m\u001b[38;5;197mPOOLER_TYPE\u001b[39m\u001b[38;5;15m:\u001b[39m\u001b[38;5;15m \u001b[39m\u001b[38;5;141mROIAlignV2\u001b[39m\n",
      "\u001b[38;5;15m  \u001b[39m\u001b[38;5;197mROI_MASK_HEAD\u001b[39m\u001b[38;5;15m:\u001b[39m\n",
      "\u001b[38;5;15m    \u001b[39m\u001b[38;5;197mCLS_AGNOSTIC_MASK\u001b[39m\u001b[38;5;15m:\u001b[39m\u001b[38;5;15m \u001b[39m\u001b[38;5;141mfalse\u001b[39m\n",
      "\u001b[38;5;15m    \u001b[39m\u001b[38;5;197mCONV_DIM\u001b[39m\u001b[38;5;15m:\u001b[39m\u001b[38;5;15m \u001b[39m\u001b[38;5;141m256\u001b[39m\n",
      "\u001b[38;5;15m    \u001b[39m\u001b[38;5;197mNAME\u001b[39m\u001b[38;5;15m:\u001b[39m\u001b[38;5;15m \u001b[39m\u001b[38;5;141mMaskRCNNConvUpsampleHead\u001b[39m\n",
      "\u001b[38;5;15m    \u001b[39m\u001b[38;5;197mNORM\u001b[39m\u001b[38;5;15m:\u001b[39m\u001b[38;5;15m \u001b[39m\u001b[38;5;186m'\u001b[39m\u001b[38;5;186m'\u001b[39m\n",
      "\u001b[38;5;15m    \u001b[39m\u001b[38;5;197mNUM_CONV\u001b[39m\u001b[38;5;15m:\u001b[39m\u001b[38;5;15m \u001b[39m\u001b[38;5;141m4\u001b[39m\n",
      "\u001b[38;5;15m    \u001b[39m\u001b[38;5;197mPOOLER_RESOLUTION\u001b[39m\u001b[38;5;15m:\u001b[39m\u001b[38;5;15m \u001b[39m\u001b[38;5;141m14\u001b[39m\n",
      "\u001b[38;5;15m    \u001b[39m\u001b[38;5;197mPOOLER_SAMPLING_RATIO\u001b[39m\u001b[38;5;15m:\u001b[39m\u001b[38;5;15m \u001b[39m\u001b[38;5;141m0\u001b[39m\n",
      "\u001b[38;5;15m    \u001b[39m\u001b[38;5;197mPOOLER_TYPE\u001b[39m\u001b[38;5;15m:\u001b[39m\u001b[38;5;15m \u001b[39m\u001b[38;5;141mROIAlignV2\u001b[39m\n",
      "\u001b[38;5;15m  \u001b[39m\u001b[38;5;197mRPN\u001b[39m\u001b[38;5;15m:\u001b[39m\n",
      "\u001b[38;5;15m    \u001b[39m\u001b[38;5;197mBATCH_SIZE_PER_IMAGE\u001b[39m\u001b[38;5;15m:\u001b[39m\u001b[38;5;15m \u001b[39m\u001b[38;5;141m256\u001b[39m\n",
      "\u001b[38;5;15m    \u001b[39m\u001b[38;5;197mBBOX_REG_LOSS_TYPE\u001b[39m\u001b[38;5;15m:\u001b[39m\u001b[38;5;15m \u001b[39m\u001b[38;5;141msmooth_l1\u001b[39m\n",
      "\u001b[38;5;15m    \u001b[39m\u001b[38;5;197mBBOX_REG_LOSS_WEIGHT\u001b[39m\u001b[38;5;15m:\u001b[39m\u001b[38;5;15m \u001b[39m\u001b[38;5;141m1.0\u001b[39m\n",
      "\u001b[38;5;15m    \u001b[39m\u001b[38;5;197mBBOX_REG_WEIGHTS\u001b[39m\u001b[38;5;15m:\u001b[39m\n",
      "\u001b[38;5;15m    \u001b[39m\u001b[38;5;15m-\u001b[39m\u001b[38;5;15m \u001b[39m\u001b[38;5;141m1.0\u001b[39m\n",
      "\u001b[38;5;15m    \u001b[39m\u001b[38;5;15m-\u001b[39m\u001b[38;5;15m \u001b[39m\u001b[38;5;141m1.0\u001b[39m\n",
      "\u001b[38;5;15m    \u001b[39m\u001b[38;5;15m-\u001b[39m\u001b[38;5;15m \u001b[39m\u001b[38;5;141m1.0\u001b[39m\n",
      "\u001b[38;5;15m    \u001b[39m\u001b[38;5;15m-\u001b[39m\u001b[38;5;15m \u001b[39m\u001b[38;5;141m1.0\u001b[39m\n",
      "\u001b[38;5;15m    \u001b[39m\u001b[38;5;197mBOUNDARY_THRESH\u001b[39m\u001b[38;5;15m:\u001b[39m\u001b[38;5;15m \u001b[39m\u001b[38;5;141m-1\u001b[39m\n",
      "\u001b[38;5;15m    \u001b[39m\u001b[38;5;197mCONV_DIMS\u001b[39m\u001b[38;5;15m:\u001b[39m\n",
      "\u001b[38;5;15m    \u001b[39m\u001b[38;5;15m-\u001b[39m\u001b[38;5;15m \u001b[39m\u001b[38;5;141m-1\u001b[39m\n",
      "\u001b[38;5;15m    \u001b[39m\u001b[38;5;197mHEAD_NAME\u001b[39m\u001b[38;5;15m:\u001b[39m\u001b[38;5;15m \u001b[39m\u001b[38;5;141mStandardRPNHead\u001b[39m\n",
      "\u001b[38;5;15m    \u001b[39m\u001b[38;5;197mIN_FEATURES\u001b[39m\u001b[38;5;15m:\u001b[39m\n",
      "\u001b[38;5;15m    \u001b[39m\u001b[38;5;15m-\u001b[39m\u001b[38;5;15m \u001b[39m\u001b[38;5;141mp2\u001b[39m\n",
      "\u001b[38;5;15m    \u001b[39m\u001b[38;5;15m-\u001b[39m\u001b[38;5;15m \u001b[39m\u001b[38;5;141mp3\u001b[39m\n",
      "\u001b[38;5;15m    \u001b[39m\u001b[38;5;15m-\u001b[39m\u001b[38;5;15m \u001b[39m\u001b[38;5;141mp4\u001b[39m\n",
      "\u001b[38;5;15m    \u001b[39m\u001b[38;5;15m-\u001b[39m\u001b[38;5;15m \u001b[39m\u001b[38;5;141mp5\u001b[39m\n",
      "\u001b[38;5;15m    \u001b[39m\u001b[38;5;15m-\u001b[39m\u001b[38;5;15m \u001b[39m\u001b[38;5;141mp6\u001b[39m\n",
      "\u001b[38;5;15m    \u001b[39m\u001b[38;5;197mIOU_LABELS\u001b[39m\u001b[38;5;15m:\u001b[39m\n",
      "\u001b[38;5;15m    \u001b[39m\u001b[38;5;15m-\u001b[39m\u001b[38;5;15m \u001b[39m\u001b[38;5;141m0\u001b[39m\n",
      "\u001b[38;5;15m    \u001b[39m\u001b[38;5;15m-\u001b[39m\u001b[38;5;15m \u001b[39m\u001b[38;5;141m-1\u001b[39m\n",
      "\u001b[38;5;15m    \u001b[39m\u001b[38;5;15m-\u001b[39m\u001b[38;5;15m \u001b[39m\u001b[38;5;141m1\u001b[39m\n",
      "\u001b[38;5;15m    \u001b[39m\u001b[38;5;197mIOU_THRESHOLDS\u001b[39m\u001b[38;5;15m:\u001b[39m\n",
      "\u001b[38;5;15m    \u001b[39m\u001b[38;5;15m-\u001b[39m\u001b[38;5;15m \u001b[39m\u001b[38;5;141m0.3\u001b[39m\n",
      "\u001b[38;5;15m    \u001b[39m\u001b[38;5;15m-\u001b[39m\u001b[38;5;15m \u001b[39m\u001b[38;5;141m0.7\u001b[39m\n",
      "\u001b[38;5;15m    \u001b[39m\u001b[38;5;197mLOSS_WEIGHT\u001b[39m\u001b[38;5;15m:\u001b[39m\u001b[38;5;15m \u001b[39m\u001b[38;5;141m1.0\u001b[39m\n",
      "\u001b[38;5;15m    \u001b[39m\u001b[38;5;197mNMS_THRESH\u001b[39m\u001b[38;5;15m:\u001b[39m\u001b[38;5;15m \u001b[39m\u001b[38;5;141m0.7\u001b[39m\n",
      "\u001b[38;5;15m    \u001b[39m\u001b[38;5;197mPOSITIVE_FRACTION\u001b[39m\u001b[38;5;15m:\u001b[39m\u001b[38;5;15m \u001b[39m\u001b[38;5;141m0.5\u001b[39m\n",
      "\u001b[38;5;15m    \u001b[39m\u001b[38;5;197mPOST_NMS_TOPK_TEST\u001b[39m\u001b[38;5;15m:\u001b[39m\u001b[38;5;15m \u001b[39m\u001b[38;5;141m1000\u001b[39m\n",
      "\u001b[38;5;15m    \u001b[39m\u001b[38;5;197mPOST_NMS_TOPK_TRAIN\u001b[39m\u001b[38;5;15m:\u001b[39m\u001b[38;5;15m \u001b[39m\u001b[38;5;141m2000\u001b[39m\n",
      "\u001b[38;5;15m    \u001b[39m\u001b[38;5;197mPRE_NMS_TOPK_TEST\u001b[39m\u001b[38;5;15m:\u001b[39m\u001b[38;5;15m \u001b[39m\u001b[38;5;141m1000\u001b[39m\n",
      "\u001b[38;5;15m    \u001b[39m\u001b[38;5;197mPRE_NMS_TOPK_TRAIN\u001b[39m\u001b[38;5;15m:\u001b[39m\u001b[38;5;15m \u001b[39m\u001b[38;5;141m2000\u001b[39m\n",
      "\u001b[38;5;15m    \u001b[39m\u001b[38;5;197mSMOOTH_L1_BETA\u001b[39m\u001b[38;5;15m:\u001b[39m\u001b[38;5;15m \u001b[39m\u001b[38;5;141m0.0\u001b[39m\n",
      "\u001b[38;5;15m  \u001b[39m\u001b[38;5;197mSEM_SEG_HEAD\u001b[39m\u001b[38;5;15m:\u001b[39m\n",
      "\u001b[38;5;15m    \u001b[39m\u001b[38;5;197mCOMMON_STRIDE\u001b[39m\u001b[38;5;15m:\u001b[39m\u001b[38;5;15m \u001b[39m\u001b[38;5;141m4\u001b[39m\n",
      "\u001b[38;5;15m    \u001b[39m\u001b[38;5;197mCONVS_DIM\u001b[39m\u001b[38;5;15m:\u001b[39m\u001b[38;5;15m \u001b[39m\u001b[38;5;141m128\u001b[39m\n",
      "\u001b[38;5;15m    \u001b[39m\u001b[38;5;197mIGNORE_VALUE\u001b[39m\u001b[38;5;15m:\u001b[39m\u001b[38;5;15m \u001b[39m\u001b[38;5;141m255\u001b[39m\n",
      "\u001b[38;5;15m    \u001b[39m\u001b[38;5;197mIN_FEATURES\u001b[39m\u001b[38;5;15m:\u001b[39m\n",
      "\u001b[38;5;15m    \u001b[39m\u001b[38;5;15m-\u001b[39m\u001b[38;5;15m \u001b[39m\u001b[38;5;141mp2\u001b[39m\n",
      "\u001b[38;5;15m    \u001b[39m\u001b[38;5;15m-\u001b[39m\u001b[38;5;15m \u001b[39m\u001b[38;5;141mp3\u001b[39m\n",
      "\u001b[38;5;15m    \u001b[39m\u001b[38;5;15m-\u001b[39m\u001b[38;5;15m \u001b[39m\u001b[38;5;141mp4\u001b[39m\n",
      "\u001b[38;5;15m    \u001b[39m\u001b[38;5;15m-\u001b[39m\u001b[38;5;15m \u001b[39m\u001b[38;5;141mp5\u001b[39m\n",
      "\u001b[38;5;15m    \u001b[39m\u001b[38;5;197mLOSS_WEIGHT\u001b[39m\u001b[38;5;15m:\u001b[39m\u001b[38;5;15m \u001b[39m\u001b[38;5;141m1.0\u001b[39m\n",
      "\u001b[38;5;15m    \u001b[39m\u001b[38;5;197mNAME\u001b[39m\u001b[38;5;15m:\u001b[39m\u001b[38;5;15m \u001b[39m\u001b[38;5;141mSemSegFPNHead\u001b[39m\n",
      "\u001b[38;5;15m    \u001b[39m\u001b[38;5;197mNORM\u001b[39m\u001b[38;5;15m:\u001b[39m\u001b[38;5;15m \u001b[39m\u001b[38;5;141mGN\u001b[39m\n",
      "\u001b[38;5;15m    \u001b[39m\u001b[38;5;197mNUM_CLASSES\u001b[39m\u001b[38;5;15m:\u001b[39m\u001b[38;5;15m \u001b[39m\u001b[38;5;141m10\u001b[39m\n",
      "\u001b[38;5;15m  \u001b[39m\u001b[38;5;197mVIT\u001b[39m\u001b[38;5;15m:\u001b[39m\n",
      "\u001b[38;5;15m    \u001b[39m\u001b[38;5;197mDROP_PATH\u001b[39m\u001b[38;5;15m:\u001b[39m\u001b[38;5;15m \u001b[39m\u001b[38;5;141m0.1\u001b[39m\n",
      "\u001b[38;5;15m    \u001b[39m\u001b[38;5;197mIMG_SIZE\u001b[39m\u001b[38;5;15m:\u001b[39m\n",
      "\u001b[38;5;15m    \u001b[39m\u001b[38;5;15m-\u001b[39m\u001b[38;5;15m \u001b[39m\u001b[38;5;141m224\u001b[39m\n",
      "\u001b[38;5;15m    \u001b[39m\u001b[38;5;15m-\u001b[39m\u001b[38;5;15m \u001b[39m\u001b[38;5;141m224\u001b[39m\n",
      "\u001b[38;5;15m    \u001b[39m\u001b[38;5;197mNAME\u001b[39m\u001b[38;5;15m:\u001b[39m\u001b[38;5;15m \u001b[39m\u001b[38;5;141mlayoutlmv3_base\u001b[39m\n",
      "\u001b[38;5;15m    \u001b[39m\u001b[38;5;197mOUT_FEATURES\u001b[39m\u001b[38;5;15m:\u001b[39m\n",
      "\u001b[38;5;15m    \u001b[39m\u001b[38;5;15m-\u001b[39m\u001b[38;5;15m \u001b[39m\u001b[38;5;141mlayer3\u001b[39m\n",
      "\u001b[38;5;15m    \u001b[39m\u001b[38;5;15m-\u001b[39m\u001b[38;5;15m \u001b[39m\u001b[38;5;141mlayer5\u001b[39m\n",
      "\u001b[38;5;15m    \u001b[39m\u001b[38;5;15m-\u001b[39m\u001b[38;5;15m \u001b[39m\u001b[38;5;141mlayer7\u001b[39m\n",
      "\u001b[38;5;15m    \u001b[39m\u001b[38;5;15m-\u001b[39m\u001b[38;5;15m \u001b[39m\u001b[38;5;141mlayer11\u001b[39m\n",
      "\u001b[38;5;15m    \u001b[39m\u001b[38;5;197mPOS_TYPE\u001b[39m\u001b[38;5;15m:\u001b[39m\u001b[38;5;15m \u001b[39m\u001b[38;5;141mabs\u001b[39m\n",
      "\u001b[38;5;15m  \u001b[39m\u001b[38;5;197mWEIGHTS\u001b[39m\u001b[38;5;15m:\u001b[39m\u001b[38;5;15m \u001b[39m\n",
      "\u001b[38;5;197mOUTPUT_DIR\u001b[39m\u001b[38;5;15m:\u001b[39m\u001b[38;5;15m \u001b[39m\n",
      "\u001b[38;5;197mSCIHUB_DATA_DIR_TRAIN\u001b[39m\u001b[38;5;15m:\u001b[39m\u001b[38;5;15m \u001b[39m\u001b[38;5;141m~/publaynet/layout_scihub/train\u001b[39m\n",
      "\u001b[38;5;197mSEED\u001b[39m\u001b[38;5;15m:\u001b[39m\u001b[38;5;15m \u001b[39m\u001b[38;5;141m42\u001b[39m\n",
      "\u001b[38;5;197mSOLVER\u001b[39m\u001b[38;5;15m:\u001b[39m\n",
      "\u001b[38;5;15m  \u001b[39m\u001b[38;5;197mAMP\u001b[39m\u001b[38;5;15m:\u001b[39m\n",
      "\u001b[38;5;15m    \u001b[39m\u001b[38;5;197mENABLED\u001b[39m\u001b[38;5;15m:\u001b[39m\u001b[38;5;15m \u001b[39m\u001b[38;5;141mtrue\u001b[39m\n",
      "\u001b[38;5;15m  \u001b[39m\u001b[38;5;197mBACKBONE_MULTIPLIER\u001b[39m\u001b[38;5;15m:\u001b[39m\u001b[38;5;15m \u001b[39m\u001b[38;5;141m1.0\u001b[39m\n",
      "\u001b[38;5;15m  \u001b[39m\u001b[38;5;197mBASE_LR\u001b[39m\u001b[38;5;15m:\u001b[39m\u001b[38;5;15m \u001b[39m\u001b[38;5;141m0.0002\u001b[39m\n",
      "\u001b[38;5;15m  \u001b[39m\u001b[38;5;197mBIAS_LR_FACTOR\u001b[39m\u001b[38;5;15m:\u001b[39m\u001b[38;5;15m \u001b[39m\u001b[38;5;141m1.0\u001b[39m\n",
      "\u001b[38;5;15m  \u001b[39m\u001b[38;5;197mCHECKPOINT_PERIOD\u001b[39m\u001b[38;5;15m:\u001b[39m\u001b[38;5;15m \u001b[39m\u001b[38;5;141m2000\u001b[39m\n",
      "\u001b[38;5;15m  \u001b[39m\u001b[38;5;197mCLIP_GRADIENTS\u001b[39m\u001b[38;5;15m:\u001b[39m\n",
      "\u001b[38;5;15m    \u001b[39m\u001b[38;5;197mCLIP_TYPE\u001b[39m\u001b[38;5;15m:\u001b[39m\u001b[38;5;15m \u001b[39m\u001b[38;5;141mfull_model\u001b[39m\n",
      "\u001b[38;5;15m    \u001b[39m\u001b[38;5;197mCLIP_VALUE\u001b[39m\u001b[38;5;15m:\u001b[39m\u001b[38;5;15m \u001b[39m\u001b[38;5;141m1.0\u001b[39m\n",
      "\u001b[38;5;15m    \u001b[39m\u001b[38;5;197mENABLED\u001b[39m\u001b[38;5;15m:\u001b[39m\u001b[38;5;15m \u001b[39m\u001b[38;5;141mtrue\u001b[39m\n",
      "\u001b[38;5;15m    \u001b[39m\u001b[38;5;197mNORM_TYPE\u001b[39m\u001b[38;5;15m:\u001b[39m\u001b[38;5;15m \u001b[39m\u001b[38;5;141m2.0\u001b[39m\n",
      "\u001b[38;5;15m  \u001b[39m\u001b[38;5;197mGAMMA\u001b[39m\u001b[38;5;15m:\u001b[39m\u001b[38;5;15m \u001b[39m\u001b[38;5;141m0.1\u001b[39m\n",
      "\u001b[38;5;15m  \u001b[39m\u001b[38;5;197mGRADIENT_ACCUMULATION_STEPS\u001b[39m\u001b[38;5;15m:\u001b[39m\u001b[38;5;15m \u001b[39m\u001b[38;5;141m1\u001b[39m\n",
      "\u001b[38;5;15m  \u001b[39m\u001b[38;5;197mIMS_PER_BATCH\u001b[39m\u001b[38;5;15m:\u001b[39m\u001b[38;5;15m \u001b[39m\u001b[38;5;141m32\u001b[39m\n",
      "\u001b[38;5;15m  \u001b[39m\u001b[38;5;197mLR_SCHEDULER_NAME\u001b[39m\u001b[38;5;15m:\u001b[39m\u001b[38;5;15m \u001b[39m\u001b[38;5;141mWarmupCosineLR\u001b[39m\n",
      "\u001b[38;5;15m  \u001b[39m\u001b[38;5;197mMAX_ITER\u001b[39m\u001b[38;5;15m:\u001b[39m\u001b[38;5;15m \u001b[39m\u001b[38;5;141m20000\u001b[39m\n",
      "\u001b[38;5;15m  \u001b[39m\u001b[38;5;197mMOMENTUM\u001b[39m\u001b[38;5;15m:\u001b[39m\u001b[38;5;15m \u001b[39m\u001b[38;5;141m0.9\u001b[39m\n",
      "\u001b[38;5;15m  \u001b[39m\u001b[38;5;197mNESTEROV\u001b[39m\u001b[38;5;15m:\u001b[39m\u001b[38;5;15m \u001b[39m\u001b[38;5;141mfalse\u001b[39m\n",
      "\u001b[38;5;15m  \u001b[39m\u001b[38;5;197mOPTIMIZER\u001b[39m\u001b[38;5;15m:\u001b[39m\u001b[38;5;15m \u001b[39m\u001b[38;5;141mADAMW\u001b[39m\n",
      "\u001b[38;5;15m  \u001b[39m\u001b[38;5;197mREFERENCE_WORLD_SIZE\u001b[39m\u001b[38;5;15m:\u001b[39m\u001b[38;5;15m \u001b[39m\u001b[38;5;141m0\u001b[39m\n",
      "\u001b[38;5;15m  \u001b[39m\u001b[38;5;197mSTEPS\u001b[39m\u001b[38;5;15m:\u001b[39m\n",
      "\u001b[38;5;15m  \u001b[39m\u001b[38;5;15m-\u001b[39m\u001b[38;5;15m \u001b[39m\u001b[38;5;141m10000\u001b[39m\n",
      "\u001b[38;5;15m  \u001b[39m\u001b[38;5;197mWARMUP_FACTOR\u001b[39m\u001b[38;5;15m:\u001b[39m\u001b[38;5;15m \u001b[39m\u001b[38;5;141m0.01\u001b[39m\n",
      "\u001b[38;5;15m  \u001b[39m\u001b[38;5;197mWARMUP_ITERS\u001b[39m\u001b[38;5;15m:\u001b[39m\u001b[38;5;15m \u001b[39m\u001b[38;5;141m333\u001b[39m\n",
      "\u001b[38;5;15m  \u001b[39m\u001b[38;5;197mWARMUP_METHOD\u001b[39m\u001b[38;5;15m:\u001b[39m\u001b[38;5;15m \u001b[39m\u001b[38;5;141mlinear\u001b[39m\n",
      "\u001b[38;5;15m  \u001b[39m\u001b[38;5;197mWEIGHT_DECAY\u001b[39m\u001b[38;5;15m:\u001b[39m\u001b[38;5;15m \u001b[39m\u001b[38;5;141m0.05\u001b[39m\n",
      "\u001b[38;5;15m  \u001b[39m\u001b[38;5;197mWEIGHT_DECAY_BIAS\u001b[39m\u001b[38;5;15m:\u001b[39m\u001b[38;5;15m \u001b[39m\u001b[38;5;141mnull\u001b[39m\n",
      "\u001b[38;5;15m  \u001b[39m\u001b[38;5;197mWEIGHT_DECAY_NORM\u001b[39m\u001b[38;5;15m:\u001b[39m\u001b[38;5;15m \u001b[39m\u001b[38;5;141m0.0\u001b[39m\n",
      "\u001b[38;5;197mTEST\u001b[39m\u001b[38;5;15m:\u001b[39m\n",
      "\u001b[38;5;15m  \u001b[39m\u001b[38;5;197mAUG\u001b[39m\u001b[38;5;15m:\u001b[39m\n",
      "\u001b[38;5;15m    \u001b[39m\u001b[38;5;197mENABLED\u001b[39m\u001b[38;5;15m:\u001b[39m\u001b[38;5;15m \u001b[39m\u001b[38;5;141mfalse\u001b[39m\n",
      "\u001b[38;5;15m    \u001b[39m\u001b[38;5;197mFLIP\u001b[39m\u001b[38;5;15m:\u001b[39m\u001b[38;5;15m \u001b[39m\u001b[38;5;141mtrue\u001b[39m\n",
      "\u001b[38;5;15m    \u001b[39m\u001b[38;5;197mMAX_SIZE\u001b[39m\u001b[38;5;15m:\u001b[39m\u001b[38;5;15m \u001b[39m\u001b[38;5;141m4000\u001b[39m\n",
      "\u001b[38;5;15m    \u001b[39m\u001b[38;5;197mMIN_SIZES\u001b[39m\u001b[38;5;15m:\u001b[39m\n",
      "\u001b[38;5;15m    \u001b[39m\u001b[38;5;15m-\u001b[39m\u001b[38;5;15m \u001b[39m\u001b[38;5;141m400\u001b[39m\n",
      "\u001b[38;5;15m    \u001b[39m\u001b[38;5;15m-\u001b[39m\u001b[38;5;15m \u001b[39m\u001b[38;5;141m500\u001b[39m\n",
      "\u001b[38;5;15m    \u001b[39m\u001b[38;5;15m-\u001b[39m\u001b[38;5;15m \u001b[39m\u001b[38;5;141m600\u001b[39m\n",
      "\u001b[38;5;15m    \u001b[39m\u001b[38;5;15m-\u001b[39m\u001b[38;5;15m \u001b[39m\u001b[38;5;141m700\u001b[39m\n",
      "\u001b[38;5;15m    \u001b[39m\u001b[38;5;15m-\u001b[39m\u001b[38;5;15m \u001b[39m\u001b[38;5;141m800\u001b[39m\n",
      "\u001b[38;5;15m    \u001b[39m\u001b[38;5;15m-\u001b[39m\u001b[38;5;15m \u001b[39m\u001b[38;5;141m900\u001b[39m\n",
      "\u001b[38;5;15m    \u001b[39m\u001b[38;5;15m-\u001b[39m\u001b[38;5;15m \u001b[39m\u001b[38;5;141m1000\u001b[39m\n",
      "\u001b[38;5;15m    \u001b[39m\u001b[38;5;15m-\u001b[39m\u001b[38;5;15m \u001b[39m\u001b[38;5;141m1100\u001b[39m\n",
      "\u001b[38;5;15m    \u001b[39m\u001b[38;5;15m-\u001b[39m\u001b[38;5;15m \u001b[39m\u001b[38;5;141m1200\u001b[39m\n",
      "\u001b[38;5;15m  \u001b[39m\u001b[38;5;197mDETECTIONS_PER_IMAGE\u001b[39m\u001b[38;5;15m:\u001b[39m\u001b[38;5;15m \u001b[39m\u001b[38;5;141m100\u001b[39m\n",
      "\u001b[38;5;15m  \u001b[39m\u001b[38;5;197mEVAL_PERIOD\u001b[39m\u001b[38;5;15m:\u001b[39m\u001b[38;5;15m \u001b[39m\u001b[38;5;141m1000\u001b[39m\n",
      "\u001b[38;5;15m  \u001b[39m\u001b[38;5;197mEXPECTED_RESULTS\u001b[39m\u001b[38;5;15m:\u001b[39m\u001b[38;5;15m \u001b[39m\u001b[38;5;15m[\u001b[39m\u001b[38;5;15m]\u001b[39m\n",
      "\u001b[38;5;15m  \u001b[39m\u001b[38;5;197mKEYPOINT_OKS_SIGMAS\u001b[39m\u001b[38;5;15m:\u001b[39m\u001b[38;5;15m \u001b[39m\u001b[38;5;15m[\u001b[39m\u001b[38;5;15m]\u001b[39m\n",
      "\u001b[38;5;15m  \u001b[39m\u001b[38;5;197mPRECISE_BN\u001b[39m\u001b[38;5;15m:\u001b[39m\n",
      "\u001b[38;5;15m    \u001b[39m\u001b[38;5;197mENABLED\u001b[39m\u001b[38;5;15m:\u001b[39m\u001b[38;5;15m \u001b[39m\u001b[38;5;141mfalse\u001b[39m\n",
      "\u001b[38;5;15m    \u001b[39m\u001b[38;5;197mNUM_ITER\u001b[39m\u001b[38;5;15m:\u001b[39m\u001b[38;5;15m \u001b[39m\u001b[38;5;141m200\u001b[39m\n",
      "\u001b[38;5;197mVERSION\u001b[39m\u001b[38;5;15m:\u001b[39m\u001b[38;5;15m \u001b[39m\u001b[38;5;141m2\u001b[39m\n",
      "\u001b[38;5;197mVIS_PERIOD\u001b[39m\u001b[38;5;15m:\u001b[39m\u001b[38;5;15m \u001b[39m\u001b[38;5;141m0\u001b[39m\n",
      "\n",
      "\u001b[32m[08/20 17:36:56 d2.checkpoint.detection_checkpoint]: \u001b[0m[DetectionCheckpointer] Loading from /Users/shivamarora/projects-python/diagram-extract/PDF-Extract-Kit/models/Layout/model_final.pth ...\n",
      "\u001b[32m[08/20 17:36:56 fvcore.common.checkpoint]: \u001b[0m[Checkpointer] Loading from /Users/shivamarora/projects-python/diagram-extract/PDF-Extract-Kit/models/Layout/model_final.pth ...\n",
      "\u001b[32m2024-08-20 17:36:58.863\u001b[0m | \u001b[1mINFO    \u001b[0m | \u001b[36mmagic_pdf.model.pdf_extract_kit\u001b[0m:\u001b[36m__init__\u001b[0m:\u001b[36m148\u001b[0m - \u001b[1mDocAnalysis init done!\u001b[0m\n",
      "\u001b[32m2024-08-20 17:36:58.863\u001b[0m | \u001b[1mINFO    \u001b[0m | \u001b[36mmagic_pdf.model.doc_analyze_by_custom_model\u001b[0m:\u001b[36mcustom_model_init\u001b[0m:\u001b[36m98\u001b[0m - \u001b[1mmodel init cost: 20.411741018295288\u001b[0m\n",
      "\u001b[32m2024-08-20 17:37:14.847\u001b[0m | \u001b[1mINFO    \u001b[0m | \u001b[36mmagic_pdf.model.pdf_extract_kit\u001b[0m:\u001b[36m__call__\u001b[0m:\u001b[36m159\u001b[0m - \u001b[1mlayout detection cost: 15.79\u001b[0m\n",
      "\n",
      "0: 1216x1888 (no detections), 1529.4ms\n",
      "Speed: 11.2ms preprocess, 1529.4ms inference, 0.3ms postprocess per image at shape (1, 3, 1216, 1888)\n",
      "\u001b[32m2024-08-20 17:37:16.691\u001b[0m | \u001b[1mINFO    \u001b[0m | \u001b[36mmagic_pdf.model.pdf_extract_kit\u001b[0m:\u001b[36m__call__\u001b[0m:\u001b[36m189\u001b[0m - \u001b[1mformula nums: 0, mfr time: 0.0\u001b[0m\n",
      "\u001b[32m2024-08-20 17:37:16.693\u001b[0m | \u001b[1mINFO    \u001b[0m | \u001b[36mmagic_pdf.model.pdf_extract_kit\u001b[0m:\u001b[36m__call__\u001b[0m:\u001b[36m294\u001b[0m - \u001b[1mtable cost: 0.0\u001b[0m\n",
      "\u001b[32m2024-08-20 17:37:22.620\u001b[0m | \u001b[1mINFO    \u001b[0m | \u001b[36mmagic_pdf.model.pdf_extract_kit\u001b[0m:\u001b[36m__call__\u001b[0m:\u001b[36m159\u001b[0m - \u001b[1mlayout detection cost: 5.93\u001b[0m\n",
      "\n",
      "0: 1216x1888 (no detections), 1400.0ms\n",
      "Speed: 7.8ms preprocess, 1400.0ms inference, 0.5ms postprocess per image at shape (1, 3, 1216, 1888)\n",
      "\u001b[32m2024-08-20 17:37:24.032\u001b[0m | \u001b[1mINFO    \u001b[0m | \u001b[36mmagic_pdf.model.pdf_extract_kit\u001b[0m:\u001b[36m__call__\u001b[0m:\u001b[36m189\u001b[0m - \u001b[1mformula nums: 0, mfr time: 0.0\u001b[0m\n",
      "\u001b[32m2024-08-20 17:37:24.038\u001b[0m | \u001b[1mINFO    \u001b[0m | \u001b[36mmagic_pdf.model.pdf_extract_kit\u001b[0m:\u001b[36m__call__\u001b[0m:\u001b[36m294\u001b[0m - \u001b[1mtable cost: 0.0\u001b[0m\n",
      "\u001b[32m2024-08-20 17:37:29.690\u001b[0m | \u001b[1mINFO    \u001b[0m | \u001b[36mmagic_pdf.model.pdf_extract_kit\u001b[0m:\u001b[36m__call__\u001b[0m:\u001b[36m159\u001b[0m - \u001b[1mlayout detection cost: 5.65\u001b[0m\n",
      "\n",
      "0: 1216x1888 (no detections), 1385.1ms\n",
      "Speed: 7.5ms preprocess, 1385.1ms inference, 0.3ms postprocess per image at shape (1, 3, 1216, 1888)\n",
      "\u001b[32m2024-08-20 17:37:31.084\u001b[0m | \u001b[1mINFO    \u001b[0m | \u001b[36mmagic_pdf.model.pdf_extract_kit\u001b[0m:\u001b[36m__call__\u001b[0m:\u001b[36m189\u001b[0m - \u001b[1mformula nums: 0, mfr time: 0.0\u001b[0m\n",
      "\u001b[32m2024-08-20 17:37:31.086\u001b[0m | \u001b[1mINFO    \u001b[0m | \u001b[36mmagic_pdf.model.pdf_extract_kit\u001b[0m:\u001b[36m__call__\u001b[0m:\u001b[36m294\u001b[0m - \u001b[1mtable cost: 0.0\u001b[0m\n",
      "\u001b[32m2024-08-20 17:37:36.922\u001b[0m | \u001b[1mINFO    \u001b[0m | \u001b[36mmagic_pdf.model.pdf_extract_kit\u001b[0m:\u001b[36m__call__\u001b[0m:\u001b[36m159\u001b[0m - \u001b[1mlayout detection cost: 5.84\u001b[0m\n",
      "\n",
      "0: 1216x1888 (no detections), 1431.2ms\n",
      "Speed: 7.9ms preprocess, 1431.2ms inference, 0.2ms postprocess per image at shape (1, 3, 1216, 1888)\n",
      "\u001b[32m2024-08-20 17:37:38.363\u001b[0m | \u001b[1mINFO    \u001b[0m | \u001b[36mmagic_pdf.model.pdf_extract_kit\u001b[0m:\u001b[36m__call__\u001b[0m:\u001b[36m189\u001b[0m - \u001b[1mformula nums: 0, mfr time: 0.0\u001b[0m\n",
      "\u001b[32m2024-08-20 17:37:38.364\u001b[0m | \u001b[1mINFO    \u001b[0m | \u001b[36mmagic_pdf.model.pdf_extract_kit\u001b[0m:\u001b[36m__call__\u001b[0m:\u001b[36m294\u001b[0m - \u001b[1mtable cost: 0.0\u001b[0m\n",
      "\u001b[32m2024-08-20 17:37:44.221\u001b[0m | \u001b[1mINFO    \u001b[0m | \u001b[36mmagic_pdf.model.pdf_extract_kit\u001b[0m:\u001b[36m__call__\u001b[0m:\u001b[36m159\u001b[0m - \u001b[1mlayout detection cost: 5.86\u001b[0m\n",
      "\n",
      "0: 1216x1888 (no detections), 1363.7ms\n",
      "Speed: 7.0ms preprocess, 1363.7ms inference, 0.4ms postprocess per image at shape (1, 3, 1216, 1888)\n",
      "\u001b[32m2024-08-20 17:37:45.594\u001b[0m | \u001b[1mINFO    \u001b[0m | \u001b[36mmagic_pdf.model.pdf_extract_kit\u001b[0m:\u001b[36m__call__\u001b[0m:\u001b[36m189\u001b[0m - \u001b[1mformula nums: 0, mfr time: 0.0\u001b[0m\n",
      "\u001b[32m2024-08-20 17:37:45.596\u001b[0m | \u001b[1mINFO    \u001b[0m | \u001b[36mmagic_pdf.model.pdf_extract_kit\u001b[0m:\u001b[36m__call__\u001b[0m:\u001b[36m280\u001b[0m - \u001b[1m------------------table recognition processing begins-----------------\u001b[0m\n",
      "\u001b[32m2024-08-20 17:44:32.856\u001b[0m | \u001b[1mINFO    \u001b[0m | \u001b[36mmagic_pdf.model.pdf_extract_kit\u001b[0m:\u001b[36m__call__\u001b[0m:\u001b[36m284\u001b[0m - \u001b[1m------------table recognition processing ends within 407.2601261138916s-----\u001b[0m\n",
      "\u001b[32m2024-08-20 17:44:32.857\u001b[0m | \u001b[33m\u001b[1mWARNING \u001b[0m | \u001b[36mmagic_pdf.model.pdf_extract_kit\u001b[0m:\u001b[36m__call__\u001b[0m:\u001b[36m286\u001b[0m - \u001b[33m\u001b[1m------------table recognition processing exceeds max time 400s----------\u001b[0m\n",
      "\u001b[32m2024-08-20 17:44:32.857\u001b[0m | \u001b[33m\u001b[1mWARNING \u001b[0m | \u001b[36mmagic_pdf.model.pdf_extract_kit\u001b[0m:\u001b[36m__call__\u001b[0m:\u001b[36m292\u001b[0m - \u001b[33m\u001b[1m------------table recognition processing fails----------\u001b[0m\n",
      "\u001b[32m2024-08-20 17:44:32.857\u001b[0m | \u001b[1mINFO    \u001b[0m | \u001b[36mmagic_pdf.model.pdf_extract_kit\u001b[0m:\u001b[36m__call__\u001b[0m:\u001b[36m294\u001b[0m - \u001b[1mtable cost: 407.26\u001b[0m\n",
      "\u001b[32m2024-08-20 17:44:39.160\u001b[0m | \u001b[1mINFO    \u001b[0m | \u001b[36mmagic_pdf.model.pdf_extract_kit\u001b[0m:\u001b[36m__call__\u001b[0m:\u001b[36m159\u001b[0m - \u001b[1mlayout detection cost: 6.3\u001b[0m\n",
      "\n",
      "0: 1216x1888 (no detections), 1463.6ms\n",
      "Speed: 8.8ms preprocess, 1463.6ms inference, 0.6ms postprocess per image at shape (1, 3, 1216, 1888)\n",
      "\u001b[32m2024-08-20 17:44:40.636\u001b[0m | \u001b[1mINFO    \u001b[0m | \u001b[36mmagic_pdf.model.pdf_extract_kit\u001b[0m:\u001b[36m__call__\u001b[0m:\u001b[36m189\u001b[0m - \u001b[1mformula nums: 0, mfr time: 0.0\u001b[0m\n",
      "\u001b[32m2024-08-20 17:44:40.638\u001b[0m | \u001b[1mINFO    \u001b[0m | \u001b[36mmagic_pdf.model.pdf_extract_kit\u001b[0m:\u001b[36m__call__\u001b[0m:\u001b[36m294\u001b[0m - \u001b[1mtable cost: 0.0\u001b[0m\n",
      "\u001b[32m2024-08-20 17:44:46.709\u001b[0m | \u001b[1mINFO    \u001b[0m | \u001b[36mmagic_pdf.model.pdf_extract_kit\u001b[0m:\u001b[36m__call__\u001b[0m:\u001b[36m159\u001b[0m - \u001b[1mlayout detection cost: 6.07\u001b[0m\n",
      "\n",
      "0: 1216x1888 (no detections), 1486.2ms\n",
      "Speed: 8.7ms preprocess, 1486.2ms inference, 0.2ms postprocess per image at shape (1, 3, 1216, 1888)\n",
      "\u001b[32m2024-08-20 17:44:48.206\u001b[0m | \u001b[1mINFO    \u001b[0m | \u001b[36mmagic_pdf.model.pdf_extract_kit\u001b[0m:\u001b[36m__call__\u001b[0m:\u001b[36m189\u001b[0m - \u001b[1mformula nums: 0, mfr time: 0.0\u001b[0m\n",
      "\u001b[32m2024-08-20 17:44:48.207\u001b[0m | \u001b[1mINFO    \u001b[0m | \u001b[36mmagic_pdf.model.pdf_extract_kit\u001b[0m:\u001b[36m__call__\u001b[0m:\u001b[36m294\u001b[0m - \u001b[1mtable cost: 0.0\u001b[0m\n",
      "\u001b[32m2024-08-20 17:44:54.087\u001b[0m | \u001b[1mINFO    \u001b[0m | \u001b[36mmagic_pdf.model.pdf_extract_kit\u001b[0m:\u001b[36m__call__\u001b[0m:\u001b[36m159\u001b[0m - \u001b[1mlayout detection cost: 5.88\u001b[0m\n",
      "\n",
      "0: 1216x1888 (no detections), 1412.5ms\n",
      "Speed: 8.6ms preprocess, 1412.5ms inference, 0.2ms postprocess per image at shape (1, 3, 1216, 1888)\n",
      "\u001b[32m2024-08-20 17:44:55.509\u001b[0m | \u001b[1mINFO    \u001b[0m | \u001b[36mmagic_pdf.model.pdf_extract_kit\u001b[0m:\u001b[36m__call__\u001b[0m:\u001b[36m189\u001b[0m - \u001b[1mformula nums: 0, mfr time: 0.0\u001b[0m\n",
      "\u001b[32m2024-08-20 17:44:55.510\u001b[0m | \u001b[1mINFO    \u001b[0m | \u001b[36mmagic_pdf.model.pdf_extract_kit\u001b[0m:\u001b[36m__call__\u001b[0m:\u001b[36m294\u001b[0m - \u001b[1mtable cost: 0.0\u001b[0m\n",
      "\u001b[32m2024-08-20 17:45:01.382\u001b[0m | \u001b[1mINFO    \u001b[0m | \u001b[36mmagic_pdf.model.pdf_extract_kit\u001b[0m:\u001b[36m__call__\u001b[0m:\u001b[36m159\u001b[0m - \u001b[1mlayout detection cost: 5.87\u001b[0m\n",
      "\n",
      "0: 1216x1888 (no detections), 1440.6ms\n",
      "Speed: 7.4ms preprocess, 1440.6ms inference, 0.3ms postprocess per image at shape (1, 3, 1216, 1888)\n",
      "\u001b[32m2024-08-20 17:45:02.831\u001b[0m | \u001b[1mINFO    \u001b[0m | \u001b[36mmagic_pdf.model.pdf_extract_kit\u001b[0m:\u001b[36m__call__\u001b[0m:\u001b[36m189\u001b[0m - \u001b[1mformula nums: 0, mfr time: 0.0\u001b[0m\n",
      "\u001b[32m2024-08-20 17:45:02.833\u001b[0m | \u001b[1mINFO    \u001b[0m | \u001b[36mmagic_pdf.model.pdf_extract_kit\u001b[0m:\u001b[36m__call__\u001b[0m:\u001b[36m294\u001b[0m - \u001b[1mtable cost: 0.0\u001b[0m\n",
      "\u001b[32m2024-08-20 17:45:08.756\u001b[0m | \u001b[1mINFO    \u001b[0m | \u001b[36mmagic_pdf.model.pdf_extract_kit\u001b[0m:\u001b[36m__call__\u001b[0m:\u001b[36m159\u001b[0m - \u001b[1mlayout detection cost: 5.92\u001b[0m\n",
      "\n",
      "0: 1216x1888 (no detections), 1358.6ms\n",
      "Speed: 7.0ms preprocess, 1358.6ms inference, 0.2ms postprocess per image at shape (1, 3, 1216, 1888)\n",
      "\u001b[32m2024-08-20 17:45:10.122\u001b[0m | \u001b[1mINFO    \u001b[0m | \u001b[36mmagic_pdf.model.pdf_extract_kit\u001b[0m:\u001b[36m__call__\u001b[0m:\u001b[36m189\u001b[0m - \u001b[1mformula nums: 0, mfr time: 0.0\u001b[0m\n",
      "\u001b[32m2024-08-20 17:45:10.123\u001b[0m | \u001b[1mINFO    \u001b[0m | \u001b[36mmagic_pdf.model.pdf_extract_kit\u001b[0m:\u001b[36m__call__\u001b[0m:\u001b[36m294\u001b[0m - \u001b[1mtable cost: 0.0\u001b[0m\n",
      "\u001b[32m2024-08-20 17:45:15.999\u001b[0m | \u001b[1mINFO    \u001b[0m | \u001b[36mmagic_pdf.model.pdf_extract_kit\u001b[0m:\u001b[36m__call__\u001b[0m:\u001b[36m159\u001b[0m - \u001b[1mlayout detection cost: 5.88\u001b[0m\n",
      "\n",
      "0: 1216x1888 (no detections), 1418.8ms\n",
      "Speed: 8.2ms preprocess, 1418.8ms inference, 0.3ms postprocess per image at shape (1, 3, 1216, 1888)\n",
      "\u001b[32m2024-08-20 17:45:17.427\u001b[0m | \u001b[1mINFO    \u001b[0m | \u001b[36mmagic_pdf.model.pdf_extract_kit\u001b[0m:\u001b[36m__call__\u001b[0m:\u001b[36m189\u001b[0m - \u001b[1mformula nums: 0, mfr time: 0.0\u001b[0m\n",
      "\u001b[32m2024-08-20 17:45:17.429\u001b[0m | \u001b[1mINFO    \u001b[0m | \u001b[36mmagic_pdf.model.pdf_extract_kit\u001b[0m:\u001b[36m__call__\u001b[0m:\u001b[36m294\u001b[0m - \u001b[1mtable cost: 0.0\u001b[0m\n",
      "\u001b[32m2024-08-20 17:45:17.429\u001b[0m | \u001b[1mINFO    \u001b[0m | \u001b[36mmagic_pdf.model.doc_analyze_by_custom_model\u001b[0m:\u001b[36mdoc_analyze\u001b[0m:\u001b[36m124\u001b[0m - \u001b[1mdoc analyze cost: 498.36722779273987\u001b[0m\n",
      "\u001b[32m2024-08-20 17:45:17.534\u001b[0m | \u001b[1mINFO    \u001b[0m | \u001b[36mmagic_pdf.pdf_parse_union_core\u001b[0m:\u001b[36mpdf_parse_union\u001b[0m:\u001b[36m221\u001b[0m - \u001b[1mpage_id: 0, last_page_cost_time: 0.0\u001b[0m\n",
      "\u001b[32m2024-08-20 17:45:17.579\u001b[0m | \u001b[33m\u001b[1mWARNING \u001b[0m | \u001b[36mmagic_pdf.pdf_parse_union_core\u001b[0m:\u001b[36mparse_page_core\u001b[0m:\u001b[36m169\u001b[0m - \u001b[33m\u001b[1mskip this page, page_id: 0, reason: too_many_layout_columns\u001b[0m\n",
      "\u001b[32m2024-08-20 17:45:17.580\u001b[0m | \u001b[1mINFO    \u001b[0m | \u001b[36mmagic_pdf.pdf_parse_union_core\u001b[0m:\u001b[36mpdf_parse_union\u001b[0m:\u001b[36m221\u001b[0m - \u001b[1mpage_id: 1, last_page_cost_time: 0.05\u001b[0m\n",
      "\u001b[32m2024-08-20 17:45:17.599\u001b[0m | \u001b[1mINFO    \u001b[0m | \u001b[36mmagic_pdf.pdf_parse_union_core\u001b[0m:\u001b[36mpdf_parse_union\u001b[0m:\u001b[36m221\u001b[0m - \u001b[1mpage_id: 2, last_page_cost_time: 0.02\u001b[0m\n",
      "\u001b[32m2024-08-20 17:45:17.600\u001b[0m | \u001b[33m\u001b[1mWARNING \u001b[0m | \u001b[36mmagic_pdf.pdf_parse_union_core\u001b[0m:\u001b[36mparse_page_core\u001b[0m:\u001b[36m135\u001b[0m - \u001b[33m\u001b[1mskip this page, not found useful bbox, page_id: 2\u001b[0m\n",
      "\u001b[32m2024-08-20 17:45:17.600\u001b[0m | \u001b[1mINFO    \u001b[0m | \u001b[36mmagic_pdf.pdf_parse_union_core\u001b[0m:\u001b[36mpdf_parse_union\u001b[0m:\u001b[36m221\u001b[0m - \u001b[1mpage_id: 3, last_page_cost_time: 0.0\u001b[0m\n",
      "\u001b[32m2024-08-20 17:45:17.608\u001b[0m | \u001b[1mINFO    \u001b[0m | \u001b[36mmagic_pdf.pdf_parse_union_core\u001b[0m:\u001b[36mpdf_parse_union\u001b[0m:\u001b[36m221\u001b[0m - \u001b[1mpage_id: 4, last_page_cost_time: 0.01\u001b[0m\n",
      "\u001b[32m2024-08-20 17:45:17.645\u001b[0m | \u001b[1mINFO    \u001b[0m | \u001b[36mmagic_pdf.pdf_parse_union_core\u001b[0m:\u001b[36mpdf_parse_union\u001b[0m:\u001b[36m221\u001b[0m - \u001b[1mpage_id: 5, last_page_cost_time: 0.04\u001b[0m\n",
      "\u001b[32m2024-08-20 17:45:17.662\u001b[0m | \u001b[33m\u001b[1mWARNING \u001b[0m | \u001b[36mmagic_pdf.pdf_parse_union_core\u001b[0m:\u001b[36mparse_page_core\u001b[0m:\u001b[36m169\u001b[0m - \u001b[33m\u001b[1mskip this page, page_id: 5, reason: too_many_layout_columns\u001b[0m\n",
      "\u001b[32m2024-08-20 17:45:17.663\u001b[0m | \u001b[1mINFO    \u001b[0m | \u001b[36mmagic_pdf.pdf_parse_union_core\u001b[0m:\u001b[36mpdf_parse_union\u001b[0m:\u001b[36m221\u001b[0m - \u001b[1mpage_id: 6, last_page_cost_time: 0.02\u001b[0m\n",
      "\u001b[32m2024-08-20 17:45:17.684\u001b[0m | \u001b[33m\u001b[1mWARNING \u001b[0m | \u001b[36mmagic_pdf.pdf_parse_union_core\u001b[0m:\u001b[36mparse_page_core\u001b[0m:\u001b[36m169\u001b[0m - \u001b[33m\u001b[1mskip this page, page_id: 6, reason: too_many_layout_columns\u001b[0m\n",
      "\u001b[32m2024-08-20 17:45:17.684\u001b[0m | \u001b[1mINFO    \u001b[0m | \u001b[36mmagic_pdf.pdf_parse_union_core\u001b[0m:\u001b[36mpdf_parse_union\u001b[0m:\u001b[36m221\u001b[0m - \u001b[1mpage_id: 7, last_page_cost_time: 0.02\u001b[0m\n",
      "\u001b[32m2024-08-20 17:45:17.702\u001b[0m | \u001b[33m\u001b[1mWARNING \u001b[0m | \u001b[36mmagic_pdf.pdf_parse_union_core\u001b[0m:\u001b[36mparse_page_core\u001b[0m:\u001b[36m162\u001b[0m - \u001b[33m\u001b[1mskip this page, page_id: 7, reason: complicated_layout\u001b[0m\n",
      "\u001b[32m2024-08-20 17:45:17.703\u001b[0m | \u001b[1mINFO    \u001b[0m | \u001b[36mmagic_pdf.pdf_parse_union_core\u001b[0m:\u001b[36mpdf_parse_union\u001b[0m:\u001b[36m221\u001b[0m - \u001b[1mpage_id: 8, last_page_cost_time: 0.02\u001b[0m\n",
      "\u001b[32m2024-08-20 17:45:17.727\u001b[0m | \u001b[33m\u001b[1mWARNING \u001b[0m | \u001b[36mmagic_pdf.pdf_parse_union_core\u001b[0m:\u001b[36mparse_page_core\u001b[0m:\u001b[36m169\u001b[0m - \u001b[33m\u001b[1mskip this page, page_id: 8, reason: too_many_layout_columns\u001b[0m\n",
      "\u001b[32m2024-08-20 17:45:17.727\u001b[0m | \u001b[1mINFO    \u001b[0m | \u001b[36mmagic_pdf.pdf_parse_union_core\u001b[0m:\u001b[36mpdf_parse_union\u001b[0m:\u001b[36m221\u001b[0m - \u001b[1mpage_id: 9, last_page_cost_time: 0.02\u001b[0m\n",
      "\u001b[32m2024-08-20 17:45:17.766\u001b[0m | \u001b[33m\u001b[1mWARNING \u001b[0m | \u001b[36mmagic_pdf.pdf_parse_union_core\u001b[0m:\u001b[36mparse_page_core\u001b[0m:\u001b[36m169\u001b[0m - \u001b[33m\u001b[1mskip this page, page_id: 9, reason: too_many_layout_columns\u001b[0m\n",
      "\u001b[32m2024-08-20 17:45:17.766\u001b[0m | \u001b[1mINFO    \u001b[0m | \u001b[36mmagic_pdf.pdf_parse_union_core\u001b[0m:\u001b[36mpdf_parse_union\u001b[0m:\u001b[36m221\u001b[0m - \u001b[1mpage_id: 10, last_page_cost_time: 0.04\u001b[0m\n",
      "\u001b[32m2024-08-20 17:45:17.805\u001b[0m | \u001b[33m\u001b[1mWARNING \u001b[0m | \u001b[36mmagic_pdf.pdf_parse_union_core\u001b[0m:\u001b[36mparse_page_core\u001b[0m:\u001b[36m169\u001b[0m - \u001b[33m\u001b[1mskip this page, page_id: 10, reason: too_many_layout_columns\u001b[0m\n",
      "\u001b[32m2024-08-20 17:45:17.842\u001b[0m | \u001b[1mINFO    \u001b[0m | \u001b[36mmagic_pdf.para.para_split_v2\u001b[0m:\u001b[36m__detect_list_lines\u001b[0m:\u001b[36m140\u001b[0m - \u001b[1m发现了列表，列表行数：[(2, 10)]， [[2, 8]]\u001b[0m\n",
      "\u001b[32m2024-08-20 17:45:17.842\u001b[0m | \u001b[1mINFO    \u001b[0m | \u001b[36mmagic_pdf.para.para_split_v2\u001b[0m:\u001b[36m__detect_list_lines\u001b[0m:\u001b[36m153\u001b[0m - \u001b[1m列表行的第2到第10行是列表\u001b[0m\n",
      "\u001b[32m2024-08-20 17:45:17.846\u001b[0m | \u001b[1mINFO    \u001b[0m | \u001b[36mmagic_pdf.para.para_split_v2\u001b[0m:\u001b[36m__detect_list_lines\u001b[0m:\u001b[36m140\u001b[0m - \u001b[1m发现了列表，列表行数：[(0, 16)]， [[0, 6, 10]]\u001b[0m\n",
      "\u001b[32m2024-08-20 17:45:17.846\u001b[0m | \u001b[1mINFO    \u001b[0m | \u001b[36mmagic_pdf.para.para_split_v2\u001b[0m:\u001b[36m__detect_list_lines\u001b[0m:\u001b[36m153\u001b[0m - \u001b[1m列表行的第0到第16行是列表\u001b[0m\n",
      "\u001b[32m2024-08-20 17:45:17.849\u001b[0m | \u001b[1mINFO    \u001b[0m | \u001b[36mmagic_pdf.para.para_split_v2\u001b[0m:\u001b[36m__detect_list_lines\u001b[0m:\u001b[36m140\u001b[0m - \u001b[1m发现了列表，列表行数：[(3, 6)]， [[3, 4, 5, 6]]\u001b[0m\n",
      "\u001b[32m2024-08-20 17:45:17.849\u001b[0m | \u001b[1mINFO    \u001b[0m | \u001b[36mmagic_pdf.para.para_split_v2\u001b[0m:\u001b[36m__detect_list_lines\u001b[0m:\u001b[36m153\u001b[0m - \u001b[1m列表行的第3到第6行是列表\u001b[0m\n",
      "\u001b[32m2024-08-20 17:45:17.852\u001b[0m | \u001b[1mINFO    \u001b[0m | \u001b[36mmagic_pdf.para.para_split_v2\u001b[0m:\u001b[36m__detect_list_lines\u001b[0m:\u001b[36m140\u001b[0m - \u001b[1m发现了列表，列表行数：[(14, 21)]， [[14, 18, 21]]\u001b[0m\n",
      "\u001b[32m2024-08-20 17:45:17.853\u001b[0m | \u001b[1mINFO    \u001b[0m | \u001b[36mmagic_pdf.para.para_split_v2\u001b[0m:\u001b[36m__detect_list_lines\u001b[0m:\u001b[36m153\u001b[0m - \u001b[1m列表行的第14到第21行是列表\u001b[0m\n",
      "\u001b[32m2024-08-20 17:45:17.860\u001b[0m | \u001b[1mINFO    \u001b[0m | \u001b[36mmagic_pdf.para.para_split_v2\u001b[0m:\u001b[36m__detect_list_lines\u001b[0m:\u001b[36m140\u001b[0m - \u001b[1m发现了列表，列表行数：[(0, 3)]， [[0]]\u001b[0m\n",
      "\u001b[32m2024-08-20 17:45:17.860\u001b[0m | \u001b[1mINFO    \u001b[0m | \u001b[36mmagic_pdf.para.para_split_v2\u001b[0m:\u001b[36m__detect_list_lines\u001b[0m:\u001b[36m153\u001b[0m - \u001b[1m列表行的第0到第3行是列表\u001b[0m\n",
      "\u001b[32m2024-08-20 17:45:17.862\u001b[0m | \u001b[1mINFO    \u001b[0m | \u001b[36mmagic_pdf.para.para_split_v2\u001b[0m:\u001b[36m__detect_list_lines\u001b[0m:\u001b[36m140\u001b[0m - \u001b[1m发现了列表，列表行数：[(2, 6)]， [[2, 3, 4, 5, 6]]\u001b[0m\n",
      "\u001b[32m2024-08-20 17:45:17.862\u001b[0m | \u001b[1mINFO    \u001b[0m | \u001b[36mmagic_pdf.para.para_split_v2\u001b[0m:\u001b[36m__detect_list_lines\u001b[0m:\u001b[36m153\u001b[0m - \u001b[1m列表行的第2到第6行是列表\u001b[0m\n",
      "\u001b[32m2024-08-20 17:45:17.862\u001b[0m | \u001b[1mINFO    \u001b[0m | \u001b[36mmagic_pdf.para.para_split_v2\u001b[0m:\u001b[36m__connect_list_inter_layout\u001b[0m:\u001b[36m432\u001b[0m - \u001b[1m连接page page_10 内的list\u001b[0m\n",
      "\u001b[32m2024-08-20 17:45:18.036\u001b[0m | \u001b[1mINFO    \u001b[0m | \u001b[36mmagic_pdf.pipe.UNIPipe\u001b[0m:\u001b[36mpipe_mk_markdown\u001b[0m:\u001b[36m48\u001b[0m - \u001b[1muni_pipe mk mm_markdown finished\u001b[0m\n",
      "\u001b[32m2024-08-20 17:45:18.061\u001b[0m | \u001b[1mINFO    \u001b[0m | \u001b[36mmagic_pdf.pipe.UNIPipe\u001b[0m:\u001b[36mpipe_mk_uni_format\u001b[0m:\u001b[36m43\u001b[0m - \u001b[1muni_pipe mk content list finished\u001b[0m\n",
      "\u001b[32m2024-08-20 17:45:18.061\u001b[0m | \u001b[1mINFO    \u001b[0m | \u001b[36mmagic_pdf.tools.common\u001b[0m:\u001b[36mdo_parse\u001b[0m:\u001b[36m119\u001b[0m - \u001b[1mlocal output dir is output/trimmed_punch_manual/auto\u001b[0m\n"
     ]
    }
   ],
   "source": [
    "!magic-pdf -p docs/trimmed_punch_manual.pdf -o output/ -m auto"
   ]
  },
  {
   "cell_type": "code",
   "execution_count": 1,
   "metadata": {},
   "outputs": [],
   "source": [
    "pdf_path = r\"docs/tata_punch_owner_manual.pdf\""
   ]
  },
  {
   "cell_type": "markdown",
   "metadata": {},
   "source": [
    "#### Helper functions for extractions using MinerU"
   ]
  },
  {
   "cell_type": "code",
   "execution_count": 2,
   "metadata": {},
   "outputs": [
    {
     "name": "stderr",
     "output_type": "stream",
     "text": [
      "/opt/homebrew/Caskroom/miniconda/base/envs/document-extractor/lib/python3.10/site-packages/tqdm/auto.py:21: TqdmWarning: IProgress not found. Please update jupyter and ipywidgets. See https://ipywidgets.readthedocs.io/en/stable/user_install.html\n",
      "  from .autonotebook import tqdm as notebook_tqdm\n"
     ]
    }
   ],
   "source": [
    "import os\n",
    "import json\n",
    "import copy\n",
    "from loguru import logger\n",
    "\n",
    "from magic_pdf.pipe.UNIPipe import UNIPipe\n",
    "from magic_pdf.pipe.OCRPipe import OCRPipe\n",
    "from magic_pdf.pipe.TXTPipe import TXTPipe\n",
    "from magic_pdf.rw.DiskReaderWriter import DiskReaderWriter\n",
    "import magic_pdf.model as model_config\n",
    "\n",
    "model_config.__use_inside_model__ = True\n",
    "\n",
    "def json_md_dump(\n",
    "        pipe,\n",
    "        md_writer,\n",
    "        pdf_name,\n",
    "        content_list,\n",
    "        md_content,\n",
    "):\n",
    "    orig_model_list = copy.deepcopy(pipe.model_list)\n",
    "    md_writer.write(\n",
    "        content=json.dumps(orig_model_list, ensure_ascii=False, indent=4),\n",
    "        path=f\"{pdf_name}_model.json\"\n",
    "    )\n",
    "\n",
    "    md_writer.write(\n",
    "        content=json.dumps(pipe.pdf_mid_data, ensure_ascii=False, indent=4),\n",
    "        path=f\"{pdf_name}_middle.json\"\n",
    "    )\n",
    "\n",
    "    md_writer.write(\n",
    "        content=json.dumps(content_list, ensure_ascii=False, indent=4),\n",
    "        path=f\"{pdf_name}_content_list.json\"\n",
    "    )\n",
    "\n",
    "    md_writer.write(\n",
    "        content=md_content,\n",
    "        path=f\"{pdf_name}.md\"\n",
    "    )\n",
    "\n",
    "def pdf_parse_main(\n",
    "        pdf_path: str,\n",
    "        parse_method: str = 'auto',\n",
    "        model_json_path: str = None,\n",
    "        is_json_md_dump: bool = True,\n",
    "        output_dir: str = None\n",
    "):\n",
    "    \"\"\"\n",
    "    :param pdf_path: .pdf file path\n",
    "    :param parse_method: accepted methods auto、ocr、txt\n",
    "    :param model_json_path: existing model data file. If empty then built-in model will be used\n",
    "    :param is_json_md_dump: whether to write json and md file, default is True\n",
    "    :param output_dir:\n",
    "    \"\"\"\n",
    "    try:\n",
    "        pdf_name = os.path.basename(pdf_path).split(\".\")[0]\n",
    "        pdf_path_parent = os.path.dirname(pdf_path)\n",
    "\n",
    "        if output_dir:\n",
    "            output_path = os.path.join(output_dir, pdf_name)\n",
    "        else:\n",
    "            output_path = os.path.join(pdf_path_parent, pdf_name)\n",
    "\n",
    "        output_image_path = os.path.join(output_path, 'images')\n",
    "\n",
    "        image_path_parent = os.path.basename(output_image_path)\n",
    "\n",
    "        pdf_bytes = open(pdf_path, \"rb\").read()\n",
    "\n",
    "        if model_json_path:\n",
    "            model_json = json.loads(open(model_json_path, \"r\", encoding=\"utf-8\").read())\n",
    "        else:\n",
    "            model_json = []\n",
    "\n",
    "        image_writer, md_writer = DiskReaderWriter(output_image_path), DiskReaderWriter(output_path)\n",
    "\n",
    "        # jso_useful_key = {\"_pdf_type\": \"\", \"model_list\": model_json}\n",
    "        # pipe = UNIPipe(pdf_bytes, jso_useful_key, image_writer)\n",
    "        if parse_method == \"auto\":\n",
    "            jso_useful_key = {\"_pdf_type\": \"\", \"model_list\": model_json}\n",
    "            pipe = UNIPipe(pdf_bytes, jso_useful_key, image_writer)\n",
    "        elif parse_method == \"txt\":\n",
    "            pipe = TXTPipe(pdf_bytes, model_json, image_writer)\n",
    "        elif parse_method == \"ocr\":\n",
    "            pipe = OCRPipe(pdf_bytes, model_json, image_writer)\n",
    "        else:\n",
    "            logger.error(\"unknown parse method, only auto, ocr, txt allowed\")\n",
    "            exit(1)\n",
    "\n",
    "        pipe.pipe_classify()\n",
    "\n",
    "        if not model_json:\n",
    "            if model_config.__use_inside_model__:\n",
    "                pipe.pipe_analyze()\n",
    "            else:\n",
    "                logger.error(\"need model list input\")\n",
    "                exit(1)\n",
    "\n",
    "        pipe.pipe_parse()\n",
    "\n",
    "        content_list = pipe.pipe_mk_uni_format(image_path_parent, drop_mode=\"none\")\n",
    "        md_content = pipe.pipe_mk_markdown(image_path_parent, drop_mode=\"none\")\n",
    "\n",
    "        if is_json_md_dump:\n",
    "            json_md_dump(pipe, md_writer, pdf_name, content_list, md_content)\n",
    "\n",
    "\n",
    "    except Exception as e:\n",
    "        logger.exception(e)"
   ]
  },
  {
   "cell_type": "code",
   "execution_count": 3,
   "metadata": {},
   "outputs": [
    {
     "name": "stderr",
     "output_type": "stream",
     "text": [
      "\u001b[32m2024-08-23 13:40:13.737\u001b[0m | \u001b[1mINFO    \u001b[0m | \u001b[36mmagic_pdf.libs.pdf_check\u001b[0m:\u001b[36mdetect_invalid_chars\u001b[0m:\u001b[36m57\u001b[0m - \u001b[1mcid_count: 0, text_len: 11449, cid_chars_radio: 0.0\u001b[0m\n",
      "\u001b[32m2024-08-23 13:40:19.404\u001b[0m | \u001b[1mINFO    \u001b[0m | \u001b[36mmagic_pdf.model.pdf_extract_kit\u001b[0m:\u001b[36m__init__\u001b[0m:\u001b[36m111\u001b[0m - \u001b[1mDocAnalysis init, this may take some times. apply_layout: True, apply_formula: True, apply_ocr: False, apply_table: True\u001b[0m\n",
      "\u001b[32m2024-08-23 13:40:19.404\u001b[0m | \u001b[1mINFO    \u001b[0m | \u001b[36mmagic_pdf.model.pdf_extract_kit\u001b[0m:\u001b[36m__init__\u001b[0m:\u001b[36m119\u001b[0m - \u001b[1musing device: cpu\u001b[0m\n",
      "\u001b[32m2024-08-23 13:40:19.405\u001b[0m | \u001b[1mINFO    \u001b[0m | \u001b[36mmagic_pdf.model.pdf_extract_kit\u001b[0m:\u001b[36m__init__\u001b[0m:\u001b[36m121\u001b[0m - \u001b[1musing models_dir: /Users/shivamarora/projects-python/diagram-extract/PDF-Extract-Kit/models\u001b[0m\n"
     ]
    },
    {
     "name": "stdout",
     "output_type": "stream",
     "text": [
      "CustomVisionEncoderDecoderModel init\n",
      "CustomMBartForCausalLM init\n",
      "CustomMBartDecoder init\n",
      "\u001b[32m[08/23 13:40:31 detectron2]: \u001b[0mRank of current process: 0. World size: 1\n",
      "\u001b[32m[08/23 13:40:31 detectron2]: \u001b[0mEnvironment info:\n",
      "-------------------------------  --------------------------------------------------------------------------------------------------------------\n",
      "sys.platform                     darwin\n",
      "Python                           3.10.14 (main, May  6 2024, 14:42:37) [Clang 14.0.6 ]\n",
      "numpy                            1.26.4\n",
      "detectron2                       0.6 @/opt/homebrew/Caskroom/miniconda/base/envs/document-extractor/lib/python3.10/site-packages/detectron2\n",
      "Compiler                         clang 15.0.0\n",
      "CUDA compiler                    not available\n",
      "DETECTRON2_ENV_MODULE            <not set>\n",
      "PyTorch                          2.3.1 @/opt/homebrew/Caskroom/miniconda/base/envs/document-extractor/lib/python3.10/site-packages/torch\n",
      "PyTorch debug build              False\n",
      "torch._C._GLIBCXX_USE_CXX11_ABI  False\n",
      "GPU available                    No: torch.cuda.is_available() == False\n",
      "Pillow                           10.4.0\n",
      "torchvision                      0.18.1 @/opt/homebrew/Caskroom/miniconda/base/envs/document-extractor/lib/python3.10/site-packages/torchvision\n",
      "fvcore                           0.1.5.post20221221\n",
      "iopath                           0.1.9\n",
      "cv2                              4.6.0\n",
      "-------------------------------  --------------------------------------------------------------------------------------------------------------\n",
      "PyTorch built with:\n",
      "  - GCC 4.2\n",
      "  - C++ Version: 201703\n",
      "  - clang 14.0.3\n",
      "  - OpenMP 201811\n",
      "  - LAPACK is enabled (usually provided by MKL)\n",
      "  - NNPACK is enabled\n",
      "  - CPU capability usage: NO AVX\n",
      "  - Build settings: BLAS_INFO=accelerate, BUILD_TYPE=Release, CXX_COMPILER=/Applications/Xcode_14.3.1.app/Contents/Developer/Toolchains/XcodeDefault.xctoolchain/usr/bin/c++, CXX_FLAGS= -fvisibility-inlines-hidden -DUSE_PTHREADPOOL -DNDEBUG -DUSE_KINETO -DLIBKINETO_NOCUPTI -DLIBKINETO_NOROCTRACER -DUSE_PYTORCH_QNNPACK -DUSE_XNNPACK -DUSE_PYTORCH_METAL_EXPORT -DSYMBOLICATE_MOBILE_DEBUG_HANDLE -DUSE_COREML_DELEGATE -O2 -fPIC -Wall -Wextra -Werror=return-type -Werror=non-virtual-dtor -Werror=braced-scalar-init -Werror=range-loop-construct -Werror=bool-operation -Wnarrowing -Wno-missing-field-initializers -Wno-type-limits -Wno-array-bounds -Wno-unknown-pragmas -Wno-unused-parameter -Wno-unused-function -Wno-unused-result -Wno-strict-overflow -Wno-strict-aliasing -Wvla-extension -Wsuggest-override -Wnewline-eof -Winconsistent-missing-override -Winconsistent-missing-destructor-override -Wno-pass-failed -Wno-error=pedantic -Wno-error=old-style-cast -Wno-error=inconsistent-missing-override -Wno-error=inconsistent-missing-destructor-override -Wconstant-conversion -Wno-invalid-partial-specialization -Wno-missing-braces -Qunused-arguments -fcolor-diagnostics -faligned-new -Wno-unused-but-set-variable -fno-math-errno -fno-trapping-math -Werror=format -DUSE_MPS -Wno-unused-private-field -Wno-missing-braces, LAPACK_INFO=accelerate, TORCH_VERSION=2.3.1, USE_CUDA=OFF, USE_CUDNN=OFF, USE_CUSPARSELT=OFF, USE_EIGEN_FOR_BLAS=ON, USE_EXCEPTION_PTR=1, USE_GFLAGS=OFF, USE_GLOG=OFF, USE_GLOO=ON, USE_MKL=OFF, USE_MKLDNN=OFF, USE_MPI=OFF, USE_NCCL=OFF, USE_NNPACK=ON, USE_OPENMP=ON, USE_ROCM=OFF, USE_ROCM_KERNEL_ASSERT=OFF, \n",
      "\n",
      "\u001b[32m[08/23 13:40:31 detectron2]: \u001b[0mCommand line arguments: {'config_file': '/opt/homebrew/Caskroom/miniconda/base/envs/document-extractor/lib/python3.10/site-packages/magic_pdf/resources/model_config/layoutlmv3/layoutlmv3_base_inference.yaml', 'resume': False, 'eval_only': False, 'num_gpus': 1, 'num_machines': 1, 'machine_rank': 0, 'dist_url': 'tcp://127.0.0.1:57823', 'opts': ['MODEL.WEIGHTS', '/Users/shivamarora/projects-python/diagram-extract/PDF-Extract-Kit/models/Layout/model_final.pth']}\n",
      "\u001b[32m[08/23 13:40:31 detectron2]: \u001b[0mContents of args.config_file=/opt/homebrew/Caskroom/miniconda/base/envs/document-extractor/lib/python3.10/site-packages/magic_pdf/resources/model_config/layoutlmv3/layoutlmv3_base_inference.yaml:\n",
      "\u001b[38;5;197mAUG\u001b[39m\u001b[38;5;15m:\u001b[39m\n",
      "\u001b[38;5;15m  \u001b[39m\u001b[38;5;197mDETR\u001b[39m\u001b[38;5;15m:\u001b[39m\u001b[38;5;15m \u001b[39m\u001b[38;5;141mtrue\u001b[39m\n",
      "\u001b[38;5;197mCACHE_DIR\u001b[39m\u001b[38;5;15m:\u001b[39m\u001b[38;5;15m \u001b[39m\u001b[38;5;141m~/cache/huggingface\u001b[39m\n",
      "\u001b[38;5;197mCUDNN_BENCHMARK\u001b[39m\u001b[38;5;15m:\u001b[39m\u001b[38;5;15m \u001b[39m\u001b[38;5;141mfalse\u001b[39m\n",
      "\u001b[38;5;197mDATALOADER\u001b[39m\u001b[38;5;15m:\u001b[39m\n",
      "\u001b[38;5;15m  \u001b[39m\u001b[38;5;197mASPECT_RATIO_GROUPING\u001b[39m\u001b[38;5;15m:\u001b[39m\u001b[38;5;15m \u001b[39m\u001b[38;5;141mtrue\u001b[39m\n",
      "\u001b[38;5;15m  \u001b[39m\u001b[38;5;197mFILTER_EMPTY_ANNOTATIONS\u001b[39m\u001b[38;5;15m:\u001b[39m\u001b[38;5;15m \u001b[39m\u001b[38;5;141mfalse\u001b[39m\n",
      "\u001b[38;5;15m  \u001b[39m\u001b[38;5;197mNUM_WORKERS\u001b[39m\u001b[38;5;15m:\u001b[39m\u001b[38;5;15m \u001b[39m\u001b[38;5;141m4\u001b[39m\n",
      "\u001b[38;5;15m  \u001b[39m\u001b[38;5;197mREPEAT_THRESHOLD\u001b[39m\u001b[38;5;15m:\u001b[39m\u001b[38;5;15m \u001b[39m\u001b[38;5;141m0.0\u001b[39m\n",
      "\u001b[38;5;15m  \u001b[39m\u001b[38;5;197mSAMPLER_TRAIN\u001b[39m\u001b[38;5;15m:\u001b[39m\u001b[38;5;15m \u001b[39m\u001b[38;5;141mTrainingSampler\u001b[39m\n",
      "\u001b[38;5;197mDATASETS\u001b[39m\u001b[38;5;15m:\u001b[39m\n",
      "\u001b[38;5;15m  \u001b[39m\u001b[38;5;197mPRECOMPUTED_PROPOSAL_TOPK_TEST\u001b[39m\u001b[38;5;15m:\u001b[39m\u001b[38;5;15m \u001b[39m\u001b[38;5;141m1000\u001b[39m\n",
      "\u001b[38;5;15m  \u001b[39m\u001b[38;5;197mPRECOMPUTED_PROPOSAL_TOPK_TRAIN\u001b[39m\u001b[38;5;15m:\u001b[39m\u001b[38;5;15m \u001b[39m\u001b[38;5;141m2000\u001b[39m\n",
      "\u001b[38;5;15m  \u001b[39m\u001b[38;5;197mPROPOSAL_FILES_TEST\u001b[39m\u001b[38;5;15m:\u001b[39m\u001b[38;5;15m \u001b[39m\u001b[38;5;15m[\u001b[39m\u001b[38;5;15m]\u001b[39m\n",
      "\u001b[38;5;15m  \u001b[39m\u001b[38;5;197mPROPOSAL_FILES_TRAIN\u001b[39m\u001b[38;5;15m:\u001b[39m\u001b[38;5;15m \u001b[39m\u001b[38;5;15m[\u001b[39m\u001b[38;5;15m]\u001b[39m\n",
      "\u001b[38;5;15m  \u001b[39m\u001b[38;5;197mTEST\u001b[39m\u001b[38;5;15m:\u001b[39m\n",
      "\u001b[38;5;15m  \u001b[39m\u001b[38;5;15m-\u001b[39m\u001b[38;5;15m \u001b[39m\u001b[38;5;141mscihub_train\u001b[39m\n",
      "\u001b[38;5;15m  \u001b[39m\u001b[38;5;197mTRAIN\u001b[39m\u001b[38;5;15m:\u001b[39m\n",
      "\u001b[38;5;15m  \u001b[39m\u001b[38;5;15m-\u001b[39m\u001b[38;5;15m \u001b[39m\u001b[38;5;141mscihub_train\u001b[39m\n",
      "\u001b[38;5;197mGLOBAL\u001b[39m\u001b[38;5;15m:\u001b[39m\n",
      "\u001b[38;5;15m  \u001b[39m\u001b[38;5;197mHACK\u001b[39m\u001b[38;5;15m:\u001b[39m\u001b[38;5;15m \u001b[39m\u001b[38;5;141m1.0\u001b[39m\n",
      "\u001b[38;5;197mICDAR_DATA_DIR_TEST\u001b[39m\u001b[38;5;15m:\u001b[39m\u001b[38;5;15m \u001b[39m\u001b[38;5;186m'\u001b[39m\u001b[38;5;186m'\u001b[39m\n",
      "\u001b[38;5;197mICDAR_DATA_DIR_TRAIN\u001b[39m\u001b[38;5;15m:\u001b[39m\u001b[38;5;15m \u001b[39m\u001b[38;5;186m'\u001b[39m\u001b[38;5;186m'\u001b[39m\n",
      "\u001b[38;5;197mINPUT\u001b[39m\u001b[38;5;15m:\u001b[39m\n",
      "\u001b[38;5;15m  \u001b[39m\u001b[38;5;197mCROP\u001b[39m\u001b[38;5;15m:\u001b[39m\n",
      "\u001b[38;5;15m    \u001b[39m\u001b[38;5;197mENABLED\u001b[39m\u001b[38;5;15m:\u001b[39m\u001b[38;5;15m \u001b[39m\u001b[38;5;141mtrue\u001b[39m\n",
      "\u001b[38;5;15m    \u001b[39m\u001b[38;5;197mSIZE\u001b[39m\u001b[38;5;15m:\u001b[39m\n",
      "\u001b[38;5;15m    \u001b[39m\u001b[38;5;15m-\u001b[39m\u001b[38;5;15m \u001b[39m\u001b[38;5;141m384\u001b[39m\n",
      "\u001b[38;5;15m    \u001b[39m\u001b[38;5;15m-\u001b[39m\u001b[38;5;15m \u001b[39m\u001b[38;5;141m600\u001b[39m\n",
      "\u001b[38;5;15m    \u001b[39m\u001b[38;5;197mTYPE\u001b[39m\u001b[38;5;15m:\u001b[39m\u001b[38;5;15m \u001b[39m\u001b[38;5;141mabsolute_range\u001b[39m\n",
      "\u001b[38;5;15m  \u001b[39m\u001b[38;5;197mFORMAT\u001b[39m\u001b[38;5;15m:\u001b[39m\u001b[38;5;15m \u001b[39m\u001b[38;5;141mRGB\u001b[39m\n",
      "\u001b[38;5;15m  \u001b[39m\u001b[38;5;197mMASK_FORMAT\u001b[39m\u001b[38;5;15m:\u001b[39m\u001b[38;5;15m \u001b[39m\u001b[38;5;141mpolygon\u001b[39m\n",
      "\u001b[38;5;15m  \u001b[39m\u001b[38;5;197mMAX_SIZE_TEST\u001b[39m\u001b[38;5;15m:\u001b[39m\u001b[38;5;15m \u001b[39m\u001b[38;5;141m1333\u001b[39m\n",
      "\u001b[38;5;15m  \u001b[39m\u001b[38;5;197mMAX_SIZE_TRAIN\u001b[39m\u001b[38;5;15m:\u001b[39m\u001b[38;5;15m \u001b[39m\u001b[38;5;141m1333\u001b[39m\n",
      "\u001b[38;5;15m  \u001b[39m\u001b[38;5;197mMIN_SIZE_TEST\u001b[39m\u001b[38;5;15m:\u001b[39m\u001b[38;5;15m \u001b[39m\u001b[38;5;141m800\u001b[39m\n",
      "\u001b[38;5;15m  \u001b[39m\u001b[38;5;197mMIN_SIZE_TRAIN\u001b[39m\u001b[38;5;15m:\u001b[39m\n",
      "\u001b[38;5;15m  \u001b[39m\u001b[38;5;15m-\u001b[39m\u001b[38;5;15m \u001b[39m\u001b[38;5;141m480\u001b[39m\n",
      "\u001b[38;5;15m  \u001b[39m\u001b[38;5;15m-\u001b[39m\u001b[38;5;15m \u001b[39m\u001b[38;5;141m512\u001b[39m\n",
      "\u001b[38;5;15m  \u001b[39m\u001b[38;5;15m-\u001b[39m\u001b[38;5;15m \u001b[39m\u001b[38;5;141m544\u001b[39m\n",
      "\u001b[38;5;15m  \u001b[39m\u001b[38;5;15m-\u001b[39m\u001b[38;5;15m \u001b[39m\u001b[38;5;141m576\u001b[39m\n",
      "\u001b[38;5;15m  \u001b[39m\u001b[38;5;15m-\u001b[39m\u001b[38;5;15m \u001b[39m\u001b[38;5;141m608\u001b[39m\n",
      "\u001b[38;5;15m  \u001b[39m\u001b[38;5;15m-\u001b[39m\u001b[38;5;15m \u001b[39m\u001b[38;5;141m640\u001b[39m\n",
      "\u001b[38;5;15m  \u001b[39m\u001b[38;5;15m-\u001b[39m\u001b[38;5;15m \u001b[39m\u001b[38;5;141m672\u001b[39m\n",
      "\u001b[38;5;15m  \u001b[39m\u001b[38;5;15m-\u001b[39m\u001b[38;5;15m \u001b[39m\u001b[38;5;141m704\u001b[39m\n",
      "\u001b[38;5;15m  \u001b[39m\u001b[38;5;15m-\u001b[39m\u001b[38;5;15m \u001b[39m\u001b[38;5;141m736\u001b[39m\n",
      "\u001b[38;5;15m  \u001b[39m\u001b[38;5;15m-\u001b[39m\u001b[38;5;15m \u001b[39m\u001b[38;5;141m768\u001b[39m\n",
      "\u001b[38;5;15m  \u001b[39m\u001b[38;5;15m-\u001b[39m\u001b[38;5;15m \u001b[39m\u001b[38;5;141m800\u001b[39m\n",
      "\u001b[38;5;15m  \u001b[39m\u001b[38;5;197mMIN_SIZE_TRAIN_SAMPLING\u001b[39m\u001b[38;5;15m:\u001b[39m\u001b[38;5;15m \u001b[39m\u001b[38;5;141mchoice\u001b[39m\n",
      "\u001b[38;5;15m  \u001b[39m\u001b[38;5;197mRANDOM_FLIP\u001b[39m\u001b[38;5;15m:\u001b[39m\u001b[38;5;15m \u001b[39m\u001b[38;5;141mhorizontal\u001b[39m\n",
      "\u001b[38;5;197mMODEL\u001b[39m\u001b[38;5;15m:\u001b[39m\n",
      "\u001b[38;5;15m  \u001b[39m\u001b[38;5;197mANCHOR_GENERATOR\u001b[39m\u001b[38;5;15m:\u001b[39m\n",
      "\u001b[38;5;15m    \u001b[39m\u001b[38;5;197mANGLES\u001b[39m\u001b[38;5;15m:\u001b[39m\n",
      "\u001b[38;5;15m    \u001b[39m\u001b[38;5;15m-\u001b[39m\u001b[38;5;15m \u001b[39m\u001b[38;5;15m-\u001b[39m\u001b[38;5;15m \u001b[39m\u001b[38;5;141m-90\u001b[39m\n",
      "\u001b[38;5;15m      \u001b[39m\u001b[38;5;15m-\u001b[39m\u001b[38;5;15m \u001b[39m\u001b[38;5;141m0\u001b[39m\n",
      "\u001b[38;5;15m      \u001b[39m\u001b[38;5;15m-\u001b[39m\u001b[38;5;15m \u001b[39m\u001b[38;5;141m90\u001b[39m\n",
      "\u001b[38;5;15m    \u001b[39m\u001b[38;5;197mASPECT_RATIOS\u001b[39m\u001b[38;5;15m:\u001b[39m\n",
      "\u001b[38;5;15m    \u001b[39m\u001b[38;5;15m-\u001b[39m\u001b[38;5;15m \u001b[39m\u001b[38;5;15m-\u001b[39m\u001b[38;5;15m \u001b[39m\u001b[38;5;141m0.5\u001b[39m\n",
      "\u001b[38;5;15m      \u001b[39m\u001b[38;5;15m-\u001b[39m\u001b[38;5;15m \u001b[39m\u001b[38;5;141m1.0\u001b[39m\n",
      "\u001b[38;5;15m      \u001b[39m\u001b[38;5;15m-\u001b[39m\u001b[38;5;15m \u001b[39m\u001b[38;5;141m2.0\u001b[39m\n",
      "\u001b[38;5;15m    \u001b[39m\u001b[38;5;197mNAME\u001b[39m\u001b[38;5;15m:\u001b[39m\u001b[38;5;15m \u001b[39m\u001b[38;5;141mDefaultAnchorGenerator\u001b[39m\n",
      "\u001b[38;5;15m    \u001b[39m\u001b[38;5;197mOFFSET\u001b[39m\u001b[38;5;15m:\u001b[39m\u001b[38;5;15m \u001b[39m\u001b[38;5;141m0.0\u001b[39m\n",
      "\u001b[38;5;15m    \u001b[39m\u001b[38;5;197mSIZES\u001b[39m\u001b[38;5;15m:\u001b[39m\n",
      "\u001b[38;5;15m    \u001b[39m\u001b[38;5;15m-\u001b[39m\u001b[38;5;15m \u001b[39m\u001b[38;5;15m-\u001b[39m\u001b[38;5;15m \u001b[39m\u001b[38;5;141m32\u001b[39m\n",
      "\u001b[38;5;15m    \u001b[39m\u001b[38;5;15m-\u001b[39m\u001b[38;5;15m \u001b[39m\u001b[38;5;15m-\u001b[39m\u001b[38;5;15m \u001b[39m\u001b[38;5;141m64\u001b[39m\n",
      "\u001b[38;5;15m    \u001b[39m\u001b[38;5;15m-\u001b[39m\u001b[38;5;15m \u001b[39m\u001b[38;5;15m-\u001b[39m\u001b[38;5;15m \u001b[39m\u001b[38;5;141m128\u001b[39m\n",
      "\u001b[38;5;15m    \u001b[39m\u001b[38;5;15m-\u001b[39m\u001b[38;5;15m \u001b[39m\u001b[38;5;15m-\u001b[39m\u001b[38;5;15m \u001b[39m\u001b[38;5;141m256\u001b[39m\n",
      "\u001b[38;5;15m    \u001b[39m\u001b[38;5;15m-\u001b[39m\u001b[38;5;15m \u001b[39m\u001b[38;5;15m-\u001b[39m\u001b[38;5;15m \u001b[39m\u001b[38;5;141m512\u001b[39m\n",
      "\u001b[38;5;15m  \u001b[39m\u001b[38;5;197mBACKBONE\u001b[39m\u001b[38;5;15m:\u001b[39m\n",
      "\u001b[38;5;15m    \u001b[39m\u001b[38;5;197mFREEZE_AT\u001b[39m\u001b[38;5;15m:\u001b[39m\u001b[38;5;15m \u001b[39m\u001b[38;5;141m2\u001b[39m\n",
      "\u001b[38;5;15m    \u001b[39m\u001b[38;5;197mNAME\u001b[39m\u001b[38;5;15m:\u001b[39m\u001b[38;5;15m \u001b[39m\u001b[38;5;141mbuild_vit_fpn_backbone\u001b[39m\n",
      "\u001b[38;5;15m  \u001b[39m\u001b[38;5;197mCONFIG_PATH\u001b[39m\u001b[38;5;15m:\u001b[39m\u001b[38;5;15m \u001b[39m\u001b[38;5;186m'\u001b[39m\u001b[38;5;186m'\u001b[39m\n",
      "\u001b[38;5;15m  \u001b[39m\u001b[38;5;197mDEVICE\u001b[39m\u001b[38;5;15m:\u001b[39m\u001b[38;5;15m \u001b[39m\u001b[38;5;141mcuda\u001b[39m\n",
      "\u001b[38;5;15m  \u001b[39m\u001b[38;5;197mFPN\u001b[39m\u001b[38;5;15m:\u001b[39m\n",
      "\u001b[38;5;15m    \u001b[39m\u001b[38;5;197mFUSE_TYPE\u001b[39m\u001b[38;5;15m:\u001b[39m\u001b[38;5;15m \u001b[39m\u001b[38;5;141msum\u001b[39m\n",
      "\u001b[38;5;15m    \u001b[39m\u001b[38;5;197mIN_FEATURES\u001b[39m\u001b[38;5;15m:\u001b[39m\n",
      "\u001b[38;5;15m    \u001b[39m\u001b[38;5;15m-\u001b[39m\u001b[38;5;15m \u001b[39m\u001b[38;5;141mlayer3\u001b[39m\n",
      "\u001b[38;5;15m    \u001b[39m\u001b[38;5;15m-\u001b[39m\u001b[38;5;15m \u001b[39m\u001b[38;5;141mlayer5\u001b[39m\n",
      "\u001b[38;5;15m    \u001b[39m\u001b[38;5;15m-\u001b[39m\u001b[38;5;15m \u001b[39m\u001b[38;5;141mlayer7\u001b[39m\n",
      "\u001b[38;5;15m    \u001b[39m\u001b[38;5;15m-\u001b[39m\u001b[38;5;15m \u001b[39m\u001b[38;5;141mlayer11\u001b[39m\n",
      "\u001b[38;5;15m    \u001b[39m\u001b[38;5;197mNORM\u001b[39m\u001b[38;5;15m:\u001b[39m\u001b[38;5;15m \u001b[39m\u001b[38;5;186m'\u001b[39m\u001b[38;5;186m'\u001b[39m\n",
      "\u001b[38;5;15m    \u001b[39m\u001b[38;5;197mOUT_CHANNELS\u001b[39m\u001b[38;5;15m:\u001b[39m\u001b[38;5;15m \u001b[39m\u001b[38;5;141m256\u001b[39m\n",
      "\u001b[38;5;15m  \u001b[39m\u001b[38;5;197mIMAGE_ONLY\u001b[39m\u001b[38;5;15m:\u001b[39m\u001b[38;5;15m \u001b[39m\u001b[38;5;141mtrue\u001b[39m\n",
      "\u001b[38;5;15m  \u001b[39m\u001b[38;5;197mKEYPOINT_ON\u001b[39m\u001b[38;5;15m:\u001b[39m\u001b[38;5;15m \u001b[39m\u001b[38;5;141mfalse\u001b[39m\n",
      "\u001b[38;5;15m  \u001b[39m\u001b[38;5;197mLOAD_PROPOSALS\u001b[39m\u001b[38;5;15m:\u001b[39m\u001b[38;5;15m \u001b[39m\u001b[38;5;141mfalse\u001b[39m\n",
      "\u001b[38;5;15m  \u001b[39m\u001b[38;5;197mMASK_ON\u001b[39m\u001b[38;5;15m:\u001b[39m\u001b[38;5;15m \u001b[39m\u001b[38;5;141mtrue\u001b[39m\n",
      "\u001b[38;5;15m  \u001b[39m\u001b[38;5;197mMETA_ARCHITECTURE\u001b[39m\u001b[38;5;15m:\u001b[39m\u001b[38;5;15m \u001b[39m\u001b[38;5;141mVLGeneralizedRCNN\u001b[39m\n",
      "\u001b[38;5;15m  \u001b[39m\u001b[38;5;197mPANOPTIC_FPN\u001b[39m\u001b[38;5;15m:\u001b[39m\n",
      "\u001b[38;5;15m    \u001b[39m\u001b[38;5;197mCOMBINE\u001b[39m\u001b[38;5;15m:\u001b[39m\n",
      "\u001b[38;5;15m      \u001b[39m\u001b[38;5;197mENABLED\u001b[39m\u001b[38;5;15m:\u001b[39m\u001b[38;5;15m \u001b[39m\u001b[38;5;141mtrue\u001b[39m\n",
      "\u001b[38;5;15m      \u001b[39m\u001b[38;5;197mINSTANCES_CONFIDENCE_THRESH\u001b[39m\u001b[38;5;15m:\u001b[39m\u001b[38;5;15m \u001b[39m\u001b[38;5;141m0.5\u001b[39m\n",
      "\u001b[38;5;15m      \u001b[39m\u001b[38;5;197mOVERLAP_THRESH\u001b[39m\u001b[38;5;15m:\u001b[39m\u001b[38;5;15m \u001b[39m\u001b[38;5;141m0.5\u001b[39m\n",
      "\u001b[38;5;15m      \u001b[39m\u001b[38;5;197mSTUFF_AREA_LIMIT\u001b[39m\u001b[38;5;15m:\u001b[39m\u001b[38;5;15m \u001b[39m\u001b[38;5;141m4096\u001b[39m\n",
      "\u001b[38;5;15m    \u001b[39m\u001b[38;5;197mINSTANCE_LOSS_WEIGHT\u001b[39m\u001b[38;5;15m:\u001b[39m\u001b[38;5;15m \u001b[39m\u001b[38;5;141m1.0\u001b[39m\n",
      "\u001b[38;5;15m  \u001b[39m\u001b[38;5;197mPIXEL_MEAN\u001b[39m\u001b[38;5;15m:\u001b[39m\n",
      "\u001b[38;5;15m  \u001b[39m\u001b[38;5;15m-\u001b[39m\u001b[38;5;15m \u001b[39m\u001b[38;5;141m127.5\u001b[39m\n",
      "\u001b[38;5;15m  \u001b[39m\u001b[38;5;15m-\u001b[39m\u001b[38;5;15m \u001b[39m\u001b[38;5;141m127.5\u001b[39m\n",
      "\u001b[38;5;15m  \u001b[39m\u001b[38;5;15m-\u001b[39m\u001b[38;5;15m \u001b[39m\u001b[38;5;141m127.5\u001b[39m\n",
      "\u001b[38;5;15m  \u001b[39m\u001b[38;5;197mPIXEL_STD\u001b[39m\u001b[38;5;15m:\u001b[39m\n",
      "\u001b[38;5;15m  \u001b[39m\u001b[38;5;15m-\u001b[39m\u001b[38;5;15m \u001b[39m\u001b[38;5;141m127.5\u001b[39m\n",
      "\u001b[38;5;15m  \u001b[39m\u001b[38;5;15m-\u001b[39m\u001b[38;5;15m \u001b[39m\u001b[38;5;141m127.5\u001b[39m\n",
      "\u001b[38;5;15m  \u001b[39m\u001b[38;5;15m-\u001b[39m\u001b[38;5;15m \u001b[39m\u001b[38;5;141m127.5\u001b[39m\n",
      "\u001b[38;5;15m  \u001b[39m\u001b[38;5;197mPROPOSAL_GENERATOR\u001b[39m\u001b[38;5;15m:\u001b[39m\n",
      "\u001b[38;5;15m    \u001b[39m\u001b[38;5;197mMIN_SIZE\u001b[39m\u001b[38;5;15m:\u001b[39m\u001b[38;5;15m \u001b[39m\u001b[38;5;141m0\u001b[39m\n",
      "\u001b[38;5;15m    \u001b[39m\u001b[38;5;197mNAME\u001b[39m\u001b[38;5;15m:\u001b[39m\u001b[38;5;15m \u001b[39m\u001b[38;5;141mRPN\u001b[39m\n",
      "\u001b[38;5;15m  \u001b[39m\u001b[38;5;197mRESNETS\u001b[39m\u001b[38;5;15m:\u001b[39m\n",
      "\u001b[38;5;15m    \u001b[39m\u001b[38;5;197mDEFORM_MODULATED\u001b[39m\u001b[38;5;15m:\u001b[39m\u001b[38;5;15m \u001b[39m\u001b[38;5;141mfalse\u001b[39m\n",
      "\u001b[38;5;15m    \u001b[39m\u001b[38;5;197mDEFORM_NUM_GROUPS\u001b[39m\u001b[38;5;15m:\u001b[39m\u001b[38;5;15m \u001b[39m\u001b[38;5;141m1\u001b[39m\n",
      "\u001b[38;5;15m    \u001b[39m\u001b[38;5;197mDEFORM_ON_PER_STAGE\u001b[39m\u001b[38;5;15m:\u001b[39m\n",
      "\u001b[38;5;15m    \u001b[39m\u001b[38;5;15m-\u001b[39m\u001b[38;5;15m \u001b[39m\u001b[38;5;141mfalse\u001b[39m\n",
      "\u001b[38;5;15m    \u001b[39m\u001b[38;5;15m-\u001b[39m\u001b[38;5;15m \u001b[39m\u001b[38;5;141mfalse\u001b[39m\n",
      "\u001b[38;5;15m    \u001b[39m\u001b[38;5;15m-\u001b[39m\u001b[38;5;15m \u001b[39m\u001b[38;5;141mfalse\u001b[39m\n",
      "\u001b[38;5;15m    \u001b[39m\u001b[38;5;15m-\u001b[39m\u001b[38;5;15m \u001b[39m\u001b[38;5;141mfalse\u001b[39m\n",
      "\u001b[38;5;15m    \u001b[39m\u001b[38;5;197mDEPTH\u001b[39m\u001b[38;5;15m:\u001b[39m\u001b[38;5;15m \u001b[39m\u001b[38;5;141m50\u001b[39m\n",
      "\u001b[38;5;15m    \u001b[39m\u001b[38;5;197mNORM\u001b[39m\u001b[38;5;15m:\u001b[39m\u001b[38;5;15m \u001b[39m\u001b[38;5;141mFrozenBN\u001b[39m\n",
      "\u001b[38;5;15m    \u001b[39m\u001b[38;5;197mNUM_GROUPS\u001b[39m\u001b[38;5;15m:\u001b[39m\u001b[38;5;15m \u001b[39m\u001b[38;5;141m1\u001b[39m\n",
      "\u001b[38;5;15m    \u001b[39m\u001b[38;5;197mOUT_FEATURES\u001b[39m\u001b[38;5;15m:\u001b[39m\n",
      "\u001b[38;5;15m    \u001b[39m\u001b[38;5;15m-\u001b[39m\u001b[38;5;15m \u001b[39m\u001b[38;5;141mres4\u001b[39m\n",
      "\u001b[38;5;15m    \u001b[39m\u001b[38;5;197mRES2_OUT_CHANNELS\u001b[39m\u001b[38;5;15m:\u001b[39m\u001b[38;5;15m \u001b[39m\u001b[38;5;141m256\u001b[39m\n",
      "\u001b[38;5;15m    \u001b[39m\u001b[38;5;197mRES5_DILATION\u001b[39m\u001b[38;5;15m:\u001b[39m\u001b[38;5;15m \u001b[39m\u001b[38;5;141m1\u001b[39m\n",
      "\u001b[38;5;15m    \u001b[39m\u001b[38;5;197mSTEM_OUT_CHANNELS\u001b[39m\u001b[38;5;15m:\u001b[39m\u001b[38;5;15m \u001b[39m\u001b[38;5;141m64\u001b[39m\n",
      "\u001b[38;5;15m    \u001b[39m\u001b[38;5;197mSTRIDE_IN_1X1\u001b[39m\u001b[38;5;15m:\u001b[39m\u001b[38;5;15m \u001b[39m\u001b[38;5;141mtrue\u001b[39m\n",
      "\u001b[38;5;15m    \u001b[39m\u001b[38;5;197mWIDTH_PER_GROUP\u001b[39m\u001b[38;5;15m:\u001b[39m\u001b[38;5;15m \u001b[39m\u001b[38;5;141m64\u001b[39m\n",
      "\u001b[38;5;15m  \u001b[39m\u001b[38;5;197mRETINANET\u001b[39m\u001b[38;5;15m:\u001b[39m\n",
      "\u001b[38;5;15m    \u001b[39m\u001b[38;5;197mBBOX_REG_LOSS_TYPE\u001b[39m\u001b[38;5;15m:\u001b[39m\u001b[38;5;15m \u001b[39m\u001b[38;5;141msmooth_l1\u001b[39m\n",
      "\u001b[38;5;15m    \u001b[39m\u001b[38;5;197mBBOX_REG_WEIGHTS\u001b[39m\u001b[38;5;15m:\u001b[39m\n",
      "\u001b[38;5;15m    \u001b[39m\u001b[38;5;15m-\u001b[39m\u001b[38;5;15m \u001b[39m\u001b[38;5;141m1.0\u001b[39m\n",
      "\u001b[38;5;15m    \u001b[39m\u001b[38;5;15m-\u001b[39m\u001b[38;5;15m \u001b[39m\u001b[38;5;141m1.0\u001b[39m\n",
      "\u001b[38;5;15m    \u001b[39m\u001b[38;5;15m-\u001b[39m\u001b[38;5;15m \u001b[39m\u001b[38;5;141m1.0\u001b[39m\n",
      "\u001b[38;5;15m    \u001b[39m\u001b[38;5;15m-\u001b[39m\u001b[38;5;15m \u001b[39m\u001b[38;5;141m1.0\u001b[39m\n",
      "\u001b[38;5;15m    \u001b[39m\u001b[38;5;197mFOCAL_LOSS_ALPHA\u001b[39m\u001b[38;5;15m:\u001b[39m\u001b[38;5;15m \u001b[39m\u001b[38;5;141m0.25\u001b[39m\n",
      "\u001b[38;5;15m    \u001b[39m\u001b[38;5;197mFOCAL_LOSS_GAMMA\u001b[39m\u001b[38;5;15m:\u001b[39m\u001b[38;5;15m \u001b[39m\u001b[38;5;141m2.0\u001b[39m\n",
      "\u001b[38;5;15m    \u001b[39m\u001b[38;5;197mIN_FEATURES\u001b[39m\u001b[38;5;15m:\u001b[39m\n",
      "\u001b[38;5;15m    \u001b[39m\u001b[38;5;15m-\u001b[39m\u001b[38;5;15m \u001b[39m\u001b[38;5;141mp3\u001b[39m\n",
      "\u001b[38;5;15m    \u001b[39m\u001b[38;5;15m-\u001b[39m\u001b[38;5;15m \u001b[39m\u001b[38;5;141mp4\u001b[39m\n",
      "\u001b[38;5;15m    \u001b[39m\u001b[38;5;15m-\u001b[39m\u001b[38;5;15m \u001b[39m\u001b[38;5;141mp5\u001b[39m\n",
      "\u001b[38;5;15m    \u001b[39m\u001b[38;5;15m-\u001b[39m\u001b[38;5;15m \u001b[39m\u001b[38;5;141mp6\u001b[39m\n",
      "\u001b[38;5;15m    \u001b[39m\u001b[38;5;15m-\u001b[39m\u001b[38;5;15m \u001b[39m\u001b[38;5;141mp7\u001b[39m\n",
      "\u001b[38;5;15m    \u001b[39m\u001b[38;5;197mIOU_LABELS\u001b[39m\u001b[38;5;15m:\u001b[39m\n",
      "\u001b[38;5;15m    \u001b[39m\u001b[38;5;15m-\u001b[39m\u001b[38;5;15m \u001b[39m\u001b[38;5;141m0\u001b[39m\n",
      "\u001b[38;5;15m    \u001b[39m\u001b[38;5;15m-\u001b[39m\u001b[38;5;15m \u001b[39m\u001b[38;5;141m-1\u001b[39m\n",
      "\u001b[38;5;15m    \u001b[39m\u001b[38;5;15m-\u001b[39m\u001b[38;5;15m \u001b[39m\u001b[38;5;141m1\u001b[39m\n",
      "\u001b[38;5;15m    \u001b[39m\u001b[38;5;197mIOU_THRESHOLDS\u001b[39m\u001b[38;5;15m:\u001b[39m\n",
      "\u001b[38;5;15m    \u001b[39m\u001b[38;5;15m-\u001b[39m\u001b[38;5;15m \u001b[39m\u001b[38;5;141m0.4\u001b[39m\n",
      "\u001b[38;5;15m    \u001b[39m\u001b[38;5;15m-\u001b[39m\u001b[38;5;15m \u001b[39m\u001b[38;5;141m0.5\u001b[39m\n",
      "\u001b[38;5;15m    \u001b[39m\u001b[38;5;197mNMS_THRESH_TEST\u001b[39m\u001b[38;5;15m:\u001b[39m\u001b[38;5;15m \u001b[39m\u001b[38;5;141m0.5\u001b[39m\n",
      "\u001b[38;5;15m    \u001b[39m\u001b[38;5;197mNORM\u001b[39m\u001b[38;5;15m:\u001b[39m\u001b[38;5;15m \u001b[39m\u001b[38;5;186m'\u001b[39m\u001b[38;5;186m'\u001b[39m\n",
      "\u001b[38;5;15m    \u001b[39m\u001b[38;5;197mNUM_CLASSES\u001b[39m\u001b[38;5;15m:\u001b[39m\u001b[38;5;15m \u001b[39m\u001b[38;5;141m10\u001b[39m\n",
      "\u001b[38;5;15m    \u001b[39m\u001b[38;5;197mNUM_CONVS\u001b[39m\u001b[38;5;15m:\u001b[39m\u001b[38;5;15m \u001b[39m\u001b[38;5;141m4\u001b[39m\n",
      "\u001b[38;5;15m    \u001b[39m\u001b[38;5;197mPRIOR_PROB\u001b[39m\u001b[38;5;15m:\u001b[39m\u001b[38;5;15m \u001b[39m\u001b[38;5;141m0.01\u001b[39m\n",
      "\u001b[38;5;15m    \u001b[39m\u001b[38;5;197mSCORE_THRESH_TEST\u001b[39m\u001b[38;5;15m:\u001b[39m\u001b[38;5;15m \u001b[39m\u001b[38;5;141m0.05\u001b[39m\n",
      "\u001b[38;5;15m    \u001b[39m\u001b[38;5;197mSMOOTH_L1_LOSS_BETA\u001b[39m\u001b[38;5;15m:\u001b[39m\u001b[38;5;15m \u001b[39m\u001b[38;5;141m0.1\u001b[39m\n",
      "\u001b[38;5;15m    \u001b[39m\u001b[38;5;197mTOPK_CANDIDATES_TEST\u001b[39m\u001b[38;5;15m:\u001b[39m\u001b[38;5;15m \u001b[39m\u001b[38;5;141m1000\u001b[39m\n",
      "\u001b[38;5;15m  \u001b[39m\u001b[38;5;197mROI_BOX_CASCADE_HEAD\u001b[39m\u001b[38;5;15m:\u001b[39m\n",
      "\u001b[38;5;15m    \u001b[39m\u001b[38;5;197mBBOX_REG_WEIGHTS\u001b[39m\u001b[38;5;15m:\u001b[39m\n",
      "\u001b[38;5;15m    \u001b[39m\u001b[38;5;15m-\u001b[39m\u001b[38;5;15m \u001b[39m\u001b[38;5;15m-\u001b[39m\u001b[38;5;15m \u001b[39m\u001b[38;5;141m10.0\u001b[39m\n",
      "\u001b[38;5;15m      \u001b[39m\u001b[38;5;15m-\u001b[39m\u001b[38;5;15m \u001b[39m\u001b[38;5;141m10.0\u001b[39m\n",
      "\u001b[38;5;15m      \u001b[39m\u001b[38;5;15m-\u001b[39m\u001b[38;5;15m \u001b[39m\u001b[38;5;141m5.0\u001b[39m\n",
      "\u001b[38;5;15m      \u001b[39m\u001b[38;5;15m-\u001b[39m\u001b[38;5;15m \u001b[39m\u001b[38;5;141m5.0\u001b[39m\n",
      "\u001b[38;5;15m    \u001b[39m\u001b[38;5;15m-\u001b[39m\u001b[38;5;15m \u001b[39m\u001b[38;5;15m-\u001b[39m\u001b[38;5;15m \u001b[39m\u001b[38;5;141m20.0\u001b[39m\n",
      "\u001b[38;5;15m      \u001b[39m\u001b[38;5;15m-\u001b[39m\u001b[38;5;15m \u001b[39m\u001b[38;5;141m20.0\u001b[39m\n",
      "\u001b[38;5;15m      \u001b[39m\u001b[38;5;15m-\u001b[39m\u001b[38;5;15m \u001b[39m\u001b[38;5;141m10.0\u001b[39m\n",
      "\u001b[38;5;15m      \u001b[39m\u001b[38;5;15m-\u001b[39m\u001b[38;5;15m \u001b[39m\u001b[38;5;141m10.0\u001b[39m\n",
      "\u001b[38;5;15m    \u001b[39m\u001b[38;5;15m-\u001b[39m\u001b[38;5;15m \u001b[39m\u001b[38;5;15m-\u001b[39m\u001b[38;5;15m \u001b[39m\u001b[38;5;141m30.0\u001b[39m\n",
      "\u001b[38;5;15m      \u001b[39m\u001b[38;5;15m-\u001b[39m\u001b[38;5;15m \u001b[39m\u001b[38;5;141m30.0\u001b[39m\n",
      "\u001b[38;5;15m      \u001b[39m\u001b[38;5;15m-\u001b[39m\u001b[38;5;15m \u001b[39m\u001b[38;5;141m15.0\u001b[39m\n",
      "\u001b[38;5;15m      \u001b[39m\u001b[38;5;15m-\u001b[39m\u001b[38;5;15m \u001b[39m\u001b[38;5;141m15.0\u001b[39m\n",
      "\u001b[38;5;15m    \u001b[39m\u001b[38;5;197mIOUS\u001b[39m\u001b[38;5;15m:\u001b[39m\n",
      "\u001b[38;5;15m    \u001b[39m\u001b[38;5;15m-\u001b[39m\u001b[38;5;15m \u001b[39m\u001b[38;5;141m0.5\u001b[39m\n",
      "\u001b[38;5;15m    \u001b[39m\u001b[38;5;15m-\u001b[39m\u001b[38;5;15m \u001b[39m\u001b[38;5;141m0.6\u001b[39m\n",
      "\u001b[38;5;15m    \u001b[39m\u001b[38;5;15m-\u001b[39m\u001b[38;5;15m \u001b[39m\u001b[38;5;141m0.7\u001b[39m\n",
      "\u001b[38;5;15m  \u001b[39m\u001b[38;5;197mROI_BOX_HEAD\u001b[39m\u001b[38;5;15m:\u001b[39m\n",
      "\u001b[38;5;15m    \u001b[39m\u001b[38;5;197mBBOX_REG_LOSS_TYPE\u001b[39m\u001b[38;5;15m:\u001b[39m\u001b[38;5;15m \u001b[39m\u001b[38;5;141msmooth_l1\u001b[39m\n",
      "\u001b[38;5;15m    \u001b[39m\u001b[38;5;197mBBOX_REG_LOSS_WEIGHT\u001b[39m\u001b[38;5;15m:\u001b[39m\u001b[38;5;15m \u001b[39m\u001b[38;5;141m1.0\u001b[39m\n",
      "\u001b[38;5;15m    \u001b[39m\u001b[38;5;197mBBOX_REG_WEIGHTS\u001b[39m\u001b[38;5;15m:\u001b[39m\n",
      "\u001b[38;5;15m    \u001b[39m\u001b[38;5;15m-\u001b[39m\u001b[38;5;15m \u001b[39m\u001b[38;5;141m10.0\u001b[39m\n",
      "\u001b[38;5;15m    \u001b[39m\u001b[38;5;15m-\u001b[39m\u001b[38;5;15m \u001b[39m\u001b[38;5;141m10.0\u001b[39m\n",
      "\u001b[38;5;15m    \u001b[39m\u001b[38;5;15m-\u001b[39m\u001b[38;5;15m \u001b[39m\u001b[38;5;141m5.0\u001b[39m\n",
      "\u001b[38;5;15m    \u001b[39m\u001b[38;5;15m-\u001b[39m\u001b[38;5;15m \u001b[39m\u001b[38;5;141m5.0\u001b[39m\n",
      "\u001b[38;5;15m    \u001b[39m\u001b[38;5;197mCLS_AGNOSTIC_BBOX_REG\u001b[39m\u001b[38;5;15m:\u001b[39m\u001b[38;5;15m \u001b[39m\u001b[38;5;141mtrue\u001b[39m\n",
      "\u001b[38;5;15m    \u001b[39m\u001b[38;5;197mCONV_DIM\u001b[39m\u001b[38;5;15m:\u001b[39m\u001b[38;5;15m \u001b[39m\u001b[38;5;141m256\u001b[39m\n",
      "\u001b[38;5;15m    \u001b[39m\u001b[38;5;197mFC_DIM\u001b[39m\u001b[38;5;15m:\u001b[39m\u001b[38;5;15m \u001b[39m\u001b[38;5;141m1024\u001b[39m\n",
      "\u001b[38;5;15m    \u001b[39m\u001b[38;5;197mNAME\u001b[39m\u001b[38;5;15m:\u001b[39m\u001b[38;5;15m \u001b[39m\u001b[38;5;141mFastRCNNConvFCHead\u001b[39m\n",
      "\u001b[38;5;15m    \u001b[39m\u001b[38;5;197mNORM\u001b[39m\u001b[38;5;15m:\u001b[39m\u001b[38;5;15m \u001b[39m\u001b[38;5;186m'\u001b[39m\u001b[38;5;186m'\u001b[39m\n",
      "\u001b[38;5;15m    \u001b[39m\u001b[38;5;197mNUM_CONV\u001b[39m\u001b[38;5;15m:\u001b[39m\u001b[38;5;15m \u001b[39m\u001b[38;5;141m0\u001b[39m\n",
      "\u001b[38;5;15m    \u001b[39m\u001b[38;5;197mNUM_FC\u001b[39m\u001b[38;5;15m:\u001b[39m\u001b[38;5;15m \u001b[39m\u001b[38;5;141m2\u001b[39m\n",
      "\u001b[38;5;15m    \u001b[39m\u001b[38;5;197mPOOLER_RESOLUTION\u001b[39m\u001b[38;5;15m:\u001b[39m\u001b[38;5;15m \u001b[39m\u001b[38;5;141m7\u001b[39m\n",
      "\u001b[38;5;15m    \u001b[39m\u001b[38;5;197mPOOLER_SAMPLING_RATIO\u001b[39m\u001b[38;5;15m:\u001b[39m\u001b[38;5;15m \u001b[39m\u001b[38;5;141m0\u001b[39m\n",
      "\u001b[38;5;15m    \u001b[39m\u001b[38;5;197mPOOLER_TYPE\u001b[39m\u001b[38;5;15m:\u001b[39m\u001b[38;5;15m \u001b[39m\u001b[38;5;141mROIAlignV2\u001b[39m\n",
      "\u001b[38;5;15m    \u001b[39m\u001b[38;5;197mSMOOTH_L1_BETA\u001b[39m\u001b[38;5;15m:\u001b[39m\u001b[38;5;15m \u001b[39m\u001b[38;5;141m0.0\u001b[39m\n",
      "\u001b[38;5;15m    \u001b[39m\u001b[38;5;197mTRAIN_ON_PRED_BOXES\u001b[39m\u001b[38;5;15m:\u001b[39m\u001b[38;5;15m \u001b[39m\u001b[38;5;141mfalse\u001b[39m\n",
      "\u001b[38;5;15m  \u001b[39m\u001b[38;5;197mROI_HEADS\u001b[39m\u001b[38;5;15m:\u001b[39m\n",
      "\u001b[38;5;15m    \u001b[39m\u001b[38;5;197mBATCH_SIZE_PER_IMAGE\u001b[39m\u001b[38;5;15m:\u001b[39m\u001b[38;5;15m \u001b[39m\u001b[38;5;141m512\u001b[39m\n",
      "\u001b[38;5;15m    \u001b[39m\u001b[38;5;197mIN_FEATURES\u001b[39m\u001b[38;5;15m:\u001b[39m\n",
      "\u001b[38;5;15m    \u001b[39m\u001b[38;5;15m-\u001b[39m\u001b[38;5;15m \u001b[39m\u001b[38;5;141mp2\u001b[39m\n",
      "\u001b[38;5;15m    \u001b[39m\u001b[38;5;15m-\u001b[39m\u001b[38;5;15m \u001b[39m\u001b[38;5;141mp3\u001b[39m\n",
      "\u001b[38;5;15m    \u001b[39m\u001b[38;5;15m-\u001b[39m\u001b[38;5;15m \u001b[39m\u001b[38;5;141mp4\u001b[39m\n",
      "\u001b[38;5;15m    \u001b[39m\u001b[38;5;15m-\u001b[39m\u001b[38;5;15m \u001b[39m\u001b[38;5;141mp5\u001b[39m\n",
      "\u001b[38;5;15m    \u001b[39m\u001b[38;5;197mIOU_LABELS\u001b[39m\u001b[38;5;15m:\u001b[39m\n",
      "\u001b[38;5;15m    \u001b[39m\u001b[38;5;15m-\u001b[39m\u001b[38;5;15m \u001b[39m\u001b[38;5;141m0\u001b[39m\n",
      "\u001b[38;5;15m    \u001b[39m\u001b[38;5;15m-\u001b[39m\u001b[38;5;15m \u001b[39m\u001b[38;5;141m1\u001b[39m\n",
      "\u001b[38;5;15m    \u001b[39m\u001b[38;5;197mIOU_THRESHOLDS\u001b[39m\u001b[38;5;15m:\u001b[39m\n",
      "\u001b[38;5;15m    \u001b[39m\u001b[38;5;15m-\u001b[39m\u001b[38;5;15m \u001b[39m\u001b[38;5;141m0.5\u001b[39m\n",
      "\u001b[38;5;15m    \u001b[39m\u001b[38;5;197mNAME\u001b[39m\u001b[38;5;15m:\u001b[39m\u001b[38;5;15m \u001b[39m\u001b[38;5;141mCascadeROIHeads\u001b[39m\n",
      "\u001b[38;5;15m    \u001b[39m\u001b[38;5;197mNMS_THRESH_TEST\u001b[39m\u001b[38;5;15m:\u001b[39m\u001b[38;5;15m \u001b[39m\u001b[38;5;141m0.5\u001b[39m\n",
      "\u001b[38;5;15m    \u001b[39m\u001b[38;5;197mNUM_CLASSES\u001b[39m\u001b[38;5;15m:\u001b[39m\u001b[38;5;15m \u001b[39m\u001b[38;5;141m10\u001b[39m\n",
      "\u001b[38;5;15m    \u001b[39m\u001b[38;5;197mPOSITIVE_FRACTION\u001b[39m\u001b[38;5;15m:\u001b[39m\u001b[38;5;15m \u001b[39m\u001b[38;5;141m0.25\u001b[39m\n",
      "\u001b[38;5;15m    \u001b[39m\u001b[38;5;197mPROPOSAL_APPEND_GT\u001b[39m\u001b[38;5;15m:\u001b[39m\u001b[38;5;15m \u001b[39m\u001b[38;5;141mtrue\u001b[39m\n",
      "\u001b[38;5;15m    \u001b[39m\u001b[38;5;197mSCORE_THRESH_TEST\u001b[39m\u001b[38;5;15m:\u001b[39m\u001b[38;5;15m \u001b[39m\u001b[38;5;141m0.05\u001b[39m\n",
      "\u001b[38;5;15m  \u001b[39m\u001b[38;5;197mROI_KEYPOINT_HEAD\u001b[39m\u001b[38;5;15m:\u001b[39m\n",
      "\u001b[38;5;15m    \u001b[39m\u001b[38;5;197mCONV_DIMS\u001b[39m\u001b[38;5;15m:\u001b[39m\n",
      "\u001b[38;5;15m    \u001b[39m\u001b[38;5;15m-\u001b[39m\u001b[38;5;15m \u001b[39m\u001b[38;5;141m512\u001b[39m\n",
      "\u001b[38;5;15m    \u001b[39m\u001b[38;5;15m-\u001b[39m\u001b[38;5;15m \u001b[39m\u001b[38;5;141m512\u001b[39m\n",
      "\u001b[38;5;15m    \u001b[39m\u001b[38;5;15m-\u001b[39m\u001b[38;5;15m \u001b[39m\u001b[38;5;141m512\u001b[39m\n",
      "\u001b[38;5;15m    \u001b[39m\u001b[38;5;15m-\u001b[39m\u001b[38;5;15m \u001b[39m\u001b[38;5;141m512\u001b[39m\n",
      "\u001b[38;5;15m    \u001b[39m\u001b[38;5;15m-\u001b[39m\u001b[38;5;15m \u001b[39m\u001b[38;5;141m512\u001b[39m\n",
      "\u001b[38;5;15m    \u001b[39m\u001b[38;5;15m-\u001b[39m\u001b[38;5;15m \u001b[39m\u001b[38;5;141m512\u001b[39m\n",
      "\u001b[38;5;15m    \u001b[39m\u001b[38;5;15m-\u001b[39m\u001b[38;5;15m \u001b[39m\u001b[38;5;141m512\u001b[39m\n",
      "\u001b[38;5;15m    \u001b[39m\u001b[38;5;15m-\u001b[39m\u001b[38;5;15m \u001b[39m\u001b[38;5;141m512\u001b[39m\n",
      "\u001b[38;5;15m    \u001b[39m\u001b[38;5;197mLOSS_WEIGHT\u001b[39m\u001b[38;5;15m:\u001b[39m\u001b[38;5;15m \u001b[39m\u001b[38;5;141m1.0\u001b[39m\n",
      "\u001b[38;5;15m    \u001b[39m\u001b[38;5;197mMIN_KEYPOINTS_PER_IMAGE\u001b[39m\u001b[38;5;15m:\u001b[39m\u001b[38;5;15m \u001b[39m\u001b[38;5;141m1\u001b[39m\n",
      "\u001b[38;5;15m    \u001b[39m\u001b[38;5;197mNAME\u001b[39m\u001b[38;5;15m:\u001b[39m\u001b[38;5;15m \u001b[39m\u001b[38;5;141mKRCNNConvDeconvUpsampleHead\u001b[39m\n",
      "\u001b[38;5;15m    \u001b[39m\u001b[38;5;197mNORMALIZE_LOSS_BY_VISIBLE_KEYPOINTS\u001b[39m\u001b[38;5;15m:\u001b[39m\u001b[38;5;15m \u001b[39m\u001b[38;5;141mtrue\u001b[39m\n",
      "\u001b[38;5;15m    \u001b[39m\u001b[38;5;197mNUM_KEYPOINTS\u001b[39m\u001b[38;5;15m:\u001b[39m\u001b[38;5;15m \u001b[39m\u001b[38;5;141m17\u001b[39m\n",
      "\u001b[38;5;15m    \u001b[39m\u001b[38;5;197mPOOLER_RESOLUTION\u001b[39m\u001b[38;5;15m:\u001b[39m\u001b[38;5;15m \u001b[39m\u001b[38;5;141m14\u001b[39m\n",
      "\u001b[38;5;15m    \u001b[39m\u001b[38;5;197mPOOLER_SAMPLING_RATIO\u001b[39m\u001b[38;5;15m:\u001b[39m\u001b[38;5;15m \u001b[39m\u001b[38;5;141m0\u001b[39m\n",
      "\u001b[38;5;15m    \u001b[39m\u001b[38;5;197mPOOLER_TYPE\u001b[39m\u001b[38;5;15m:\u001b[39m\u001b[38;5;15m \u001b[39m\u001b[38;5;141mROIAlignV2\u001b[39m\n",
      "\u001b[38;5;15m  \u001b[39m\u001b[38;5;197mROI_MASK_HEAD\u001b[39m\u001b[38;5;15m:\u001b[39m\n",
      "\u001b[38;5;15m    \u001b[39m\u001b[38;5;197mCLS_AGNOSTIC_MASK\u001b[39m\u001b[38;5;15m:\u001b[39m\u001b[38;5;15m \u001b[39m\u001b[38;5;141mfalse\u001b[39m\n",
      "\u001b[38;5;15m    \u001b[39m\u001b[38;5;197mCONV_DIM\u001b[39m\u001b[38;5;15m:\u001b[39m\u001b[38;5;15m \u001b[39m\u001b[38;5;141m256\u001b[39m\n",
      "\u001b[38;5;15m    \u001b[39m\u001b[38;5;197mNAME\u001b[39m\u001b[38;5;15m:\u001b[39m\u001b[38;5;15m \u001b[39m\u001b[38;5;141mMaskRCNNConvUpsampleHead\u001b[39m\n",
      "\u001b[38;5;15m    \u001b[39m\u001b[38;5;197mNORM\u001b[39m\u001b[38;5;15m:\u001b[39m\u001b[38;5;15m \u001b[39m\u001b[38;5;186m'\u001b[39m\u001b[38;5;186m'\u001b[39m\n",
      "\u001b[38;5;15m    \u001b[39m\u001b[38;5;197mNUM_CONV\u001b[39m\u001b[38;5;15m:\u001b[39m\u001b[38;5;15m \u001b[39m\u001b[38;5;141m4\u001b[39m\n",
      "\u001b[38;5;15m    \u001b[39m\u001b[38;5;197mPOOLER_RESOLUTION\u001b[39m\u001b[38;5;15m:\u001b[39m\u001b[38;5;15m \u001b[39m\u001b[38;5;141m14\u001b[39m\n",
      "\u001b[38;5;15m    \u001b[39m\u001b[38;5;197mPOOLER_SAMPLING_RATIO\u001b[39m\u001b[38;5;15m:\u001b[39m\u001b[38;5;15m \u001b[39m\u001b[38;5;141m0\u001b[39m\n",
      "\u001b[38;5;15m    \u001b[39m\u001b[38;5;197mPOOLER_TYPE\u001b[39m\u001b[38;5;15m:\u001b[39m\u001b[38;5;15m \u001b[39m\u001b[38;5;141mROIAlignV2\u001b[39m\n",
      "\u001b[38;5;15m  \u001b[39m\u001b[38;5;197mRPN\u001b[39m\u001b[38;5;15m:\u001b[39m\n",
      "\u001b[38;5;15m    \u001b[39m\u001b[38;5;197mBATCH_SIZE_PER_IMAGE\u001b[39m\u001b[38;5;15m:\u001b[39m\u001b[38;5;15m \u001b[39m\u001b[38;5;141m256\u001b[39m\n",
      "\u001b[38;5;15m    \u001b[39m\u001b[38;5;197mBBOX_REG_LOSS_TYPE\u001b[39m\u001b[38;5;15m:\u001b[39m\u001b[38;5;15m \u001b[39m\u001b[38;5;141msmooth_l1\u001b[39m\n",
      "\u001b[38;5;15m    \u001b[39m\u001b[38;5;197mBBOX_REG_LOSS_WEIGHT\u001b[39m\u001b[38;5;15m:\u001b[39m\u001b[38;5;15m \u001b[39m\u001b[38;5;141m1.0\u001b[39m\n",
      "\u001b[38;5;15m    \u001b[39m\u001b[38;5;197mBBOX_REG_WEIGHTS\u001b[39m\u001b[38;5;15m:\u001b[39m\n",
      "\u001b[38;5;15m    \u001b[39m\u001b[38;5;15m-\u001b[39m\u001b[38;5;15m \u001b[39m\u001b[38;5;141m1.0\u001b[39m\n",
      "\u001b[38;5;15m    \u001b[39m\u001b[38;5;15m-\u001b[39m\u001b[38;5;15m \u001b[39m\u001b[38;5;141m1.0\u001b[39m\n",
      "\u001b[38;5;15m    \u001b[39m\u001b[38;5;15m-\u001b[39m\u001b[38;5;15m \u001b[39m\u001b[38;5;141m1.0\u001b[39m\n",
      "\u001b[38;5;15m    \u001b[39m\u001b[38;5;15m-\u001b[39m\u001b[38;5;15m \u001b[39m\u001b[38;5;141m1.0\u001b[39m\n",
      "\u001b[38;5;15m    \u001b[39m\u001b[38;5;197mBOUNDARY_THRESH\u001b[39m\u001b[38;5;15m:\u001b[39m\u001b[38;5;15m \u001b[39m\u001b[38;5;141m-1\u001b[39m\n",
      "\u001b[38;5;15m    \u001b[39m\u001b[38;5;197mCONV_DIMS\u001b[39m\u001b[38;5;15m:\u001b[39m\n",
      "\u001b[38;5;15m    \u001b[39m\u001b[38;5;15m-\u001b[39m\u001b[38;5;15m \u001b[39m\u001b[38;5;141m-1\u001b[39m\n",
      "\u001b[38;5;15m    \u001b[39m\u001b[38;5;197mHEAD_NAME\u001b[39m\u001b[38;5;15m:\u001b[39m\u001b[38;5;15m \u001b[39m\u001b[38;5;141mStandardRPNHead\u001b[39m\n",
      "\u001b[38;5;15m    \u001b[39m\u001b[38;5;197mIN_FEATURES\u001b[39m\u001b[38;5;15m:\u001b[39m\n",
      "\u001b[38;5;15m    \u001b[39m\u001b[38;5;15m-\u001b[39m\u001b[38;5;15m \u001b[39m\u001b[38;5;141mp2\u001b[39m\n",
      "\u001b[38;5;15m    \u001b[39m\u001b[38;5;15m-\u001b[39m\u001b[38;5;15m \u001b[39m\u001b[38;5;141mp3\u001b[39m\n",
      "\u001b[38;5;15m    \u001b[39m\u001b[38;5;15m-\u001b[39m\u001b[38;5;15m \u001b[39m\u001b[38;5;141mp4\u001b[39m\n",
      "\u001b[38;5;15m    \u001b[39m\u001b[38;5;15m-\u001b[39m\u001b[38;5;15m \u001b[39m\u001b[38;5;141mp5\u001b[39m\n",
      "\u001b[38;5;15m    \u001b[39m\u001b[38;5;15m-\u001b[39m\u001b[38;5;15m \u001b[39m\u001b[38;5;141mp6\u001b[39m\n",
      "\u001b[38;5;15m    \u001b[39m\u001b[38;5;197mIOU_LABELS\u001b[39m\u001b[38;5;15m:\u001b[39m\n",
      "\u001b[38;5;15m    \u001b[39m\u001b[38;5;15m-\u001b[39m\u001b[38;5;15m \u001b[39m\u001b[38;5;141m0\u001b[39m\n",
      "\u001b[38;5;15m    \u001b[39m\u001b[38;5;15m-\u001b[39m\u001b[38;5;15m \u001b[39m\u001b[38;5;141m-1\u001b[39m\n",
      "\u001b[38;5;15m    \u001b[39m\u001b[38;5;15m-\u001b[39m\u001b[38;5;15m \u001b[39m\u001b[38;5;141m1\u001b[39m\n",
      "\u001b[38;5;15m    \u001b[39m\u001b[38;5;197mIOU_THRESHOLDS\u001b[39m\u001b[38;5;15m:\u001b[39m\n",
      "\u001b[38;5;15m    \u001b[39m\u001b[38;5;15m-\u001b[39m\u001b[38;5;15m \u001b[39m\u001b[38;5;141m0.3\u001b[39m\n",
      "\u001b[38;5;15m    \u001b[39m\u001b[38;5;15m-\u001b[39m\u001b[38;5;15m \u001b[39m\u001b[38;5;141m0.7\u001b[39m\n",
      "\u001b[38;5;15m    \u001b[39m\u001b[38;5;197mLOSS_WEIGHT\u001b[39m\u001b[38;5;15m:\u001b[39m\u001b[38;5;15m \u001b[39m\u001b[38;5;141m1.0\u001b[39m\n",
      "\u001b[38;5;15m    \u001b[39m\u001b[38;5;197mNMS_THRESH\u001b[39m\u001b[38;5;15m:\u001b[39m\u001b[38;5;15m \u001b[39m\u001b[38;5;141m0.7\u001b[39m\n",
      "\u001b[38;5;15m    \u001b[39m\u001b[38;5;197mPOSITIVE_FRACTION\u001b[39m\u001b[38;5;15m:\u001b[39m\u001b[38;5;15m \u001b[39m\u001b[38;5;141m0.5\u001b[39m\n",
      "\u001b[38;5;15m    \u001b[39m\u001b[38;5;197mPOST_NMS_TOPK_TEST\u001b[39m\u001b[38;5;15m:\u001b[39m\u001b[38;5;15m \u001b[39m\u001b[38;5;141m1000\u001b[39m\n",
      "\u001b[38;5;15m    \u001b[39m\u001b[38;5;197mPOST_NMS_TOPK_TRAIN\u001b[39m\u001b[38;5;15m:\u001b[39m\u001b[38;5;15m \u001b[39m\u001b[38;5;141m2000\u001b[39m\n",
      "\u001b[38;5;15m    \u001b[39m\u001b[38;5;197mPRE_NMS_TOPK_TEST\u001b[39m\u001b[38;5;15m:\u001b[39m\u001b[38;5;15m \u001b[39m\u001b[38;5;141m1000\u001b[39m\n",
      "\u001b[38;5;15m    \u001b[39m\u001b[38;5;197mPRE_NMS_TOPK_TRAIN\u001b[39m\u001b[38;5;15m:\u001b[39m\u001b[38;5;15m \u001b[39m\u001b[38;5;141m2000\u001b[39m\n",
      "\u001b[38;5;15m    \u001b[39m\u001b[38;5;197mSMOOTH_L1_BETA\u001b[39m\u001b[38;5;15m:\u001b[39m\u001b[38;5;15m \u001b[39m\u001b[38;5;141m0.0\u001b[39m\n",
      "\u001b[38;5;15m  \u001b[39m\u001b[38;5;197mSEM_SEG_HEAD\u001b[39m\u001b[38;5;15m:\u001b[39m\n",
      "\u001b[38;5;15m    \u001b[39m\u001b[38;5;197mCOMMON_STRIDE\u001b[39m\u001b[38;5;15m:\u001b[39m\u001b[38;5;15m \u001b[39m\u001b[38;5;141m4\u001b[39m\n",
      "\u001b[38;5;15m    \u001b[39m\u001b[38;5;197mCONVS_DIM\u001b[39m\u001b[38;5;15m:\u001b[39m\u001b[38;5;15m \u001b[39m\u001b[38;5;141m128\u001b[39m\n",
      "\u001b[38;5;15m    \u001b[39m\u001b[38;5;197mIGNORE_VALUE\u001b[39m\u001b[38;5;15m:\u001b[39m\u001b[38;5;15m \u001b[39m\u001b[38;5;141m255\u001b[39m\n",
      "\u001b[38;5;15m    \u001b[39m\u001b[38;5;197mIN_FEATURES\u001b[39m\u001b[38;5;15m:\u001b[39m\n",
      "\u001b[38;5;15m    \u001b[39m\u001b[38;5;15m-\u001b[39m\u001b[38;5;15m \u001b[39m\u001b[38;5;141mp2\u001b[39m\n",
      "\u001b[38;5;15m    \u001b[39m\u001b[38;5;15m-\u001b[39m\u001b[38;5;15m \u001b[39m\u001b[38;5;141mp3\u001b[39m\n",
      "\u001b[38;5;15m    \u001b[39m\u001b[38;5;15m-\u001b[39m\u001b[38;5;15m \u001b[39m\u001b[38;5;141mp4\u001b[39m\n",
      "\u001b[38;5;15m    \u001b[39m\u001b[38;5;15m-\u001b[39m\u001b[38;5;15m \u001b[39m\u001b[38;5;141mp5\u001b[39m\n",
      "\u001b[38;5;15m    \u001b[39m\u001b[38;5;197mLOSS_WEIGHT\u001b[39m\u001b[38;5;15m:\u001b[39m\u001b[38;5;15m \u001b[39m\u001b[38;5;141m1.0\u001b[39m\n",
      "\u001b[38;5;15m    \u001b[39m\u001b[38;5;197mNAME\u001b[39m\u001b[38;5;15m:\u001b[39m\u001b[38;5;15m \u001b[39m\u001b[38;5;141mSemSegFPNHead\u001b[39m\n",
      "\u001b[38;5;15m    \u001b[39m\u001b[38;5;197mNORM\u001b[39m\u001b[38;5;15m:\u001b[39m\u001b[38;5;15m \u001b[39m\u001b[38;5;141mGN\u001b[39m\n",
      "\u001b[38;5;15m    \u001b[39m\u001b[38;5;197mNUM_CLASSES\u001b[39m\u001b[38;5;15m:\u001b[39m\u001b[38;5;15m \u001b[39m\u001b[38;5;141m10\u001b[39m\n",
      "\u001b[38;5;15m  \u001b[39m\u001b[38;5;197mVIT\u001b[39m\u001b[38;5;15m:\u001b[39m\n",
      "\u001b[38;5;15m    \u001b[39m\u001b[38;5;197mDROP_PATH\u001b[39m\u001b[38;5;15m:\u001b[39m\u001b[38;5;15m \u001b[39m\u001b[38;5;141m0.1\u001b[39m\n",
      "\u001b[38;5;15m    \u001b[39m\u001b[38;5;197mIMG_SIZE\u001b[39m\u001b[38;5;15m:\u001b[39m\n",
      "\u001b[38;5;15m    \u001b[39m\u001b[38;5;15m-\u001b[39m\u001b[38;5;15m \u001b[39m\u001b[38;5;141m224\u001b[39m\n",
      "\u001b[38;5;15m    \u001b[39m\u001b[38;5;15m-\u001b[39m\u001b[38;5;15m \u001b[39m\u001b[38;5;141m224\u001b[39m\n",
      "\u001b[38;5;15m    \u001b[39m\u001b[38;5;197mNAME\u001b[39m\u001b[38;5;15m:\u001b[39m\u001b[38;5;15m \u001b[39m\u001b[38;5;141mlayoutlmv3_base\u001b[39m\n",
      "\u001b[38;5;15m    \u001b[39m\u001b[38;5;197mOUT_FEATURES\u001b[39m\u001b[38;5;15m:\u001b[39m\n",
      "\u001b[38;5;15m    \u001b[39m\u001b[38;5;15m-\u001b[39m\u001b[38;5;15m \u001b[39m\u001b[38;5;141mlayer3\u001b[39m\n",
      "\u001b[38;5;15m    \u001b[39m\u001b[38;5;15m-\u001b[39m\u001b[38;5;15m \u001b[39m\u001b[38;5;141mlayer5\u001b[39m\n",
      "\u001b[38;5;15m    \u001b[39m\u001b[38;5;15m-\u001b[39m\u001b[38;5;15m \u001b[39m\u001b[38;5;141mlayer7\u001b[39m\n",
      "\u001b[38;5;15m    \u001b[39m\u001b[38;5;15m-\u001b[39m\u001b[38;5;15m \u001b[39m\u001b[38;5;141mlayer11\u001b[39m\n",
      "\u001b[38;5;15m    \u001b[39m\u001b[38;5;197mPOS_TYPE\u001b[39m\u001b[38;5;15m:\u001b[39m\u001b[38;5;15m \u001b[39m\u001b[38;5;141mabs\u001b[39m\n",
      "\u001b[38;5;15m  \u001b[39m\u001b[38;5;197mWEIGHTS\u001b[39m\u001b[38;5;15m:\u001b[39m\u001b[38;5;15m \u001b[39m\n",
      "\u001b[38;5;197mOUTPUT_DIR\u001b[39m\u001b[38;5;15m:\u001b[39m\u001b[38;5;15m \u001b[39m\n",
      "\u001b[38;5;197mSCIHUB_DATA_DIR_TRAIN\u001b[39m\u001b[38;5;15m:\u001b[39m\u001b[38;5;15m \u001b[39m\u001b[38;5;141m~/publaynet/layout_scihub/train\u001b[39m\n",
      "\u001b[38;5;197mSEED\u001b[39m\u001b[38;5;15m:\u001b[39m\u001b[38;5;15m \u001b[39m\u001b[38;5;141m42\u001b[39m\n",
      "\u001b[38;5;197mSOLVER\u001b[39m\u001b[38;5;15m:\u001b[39m\n",
      "\u001b[38;5;15m  \u001b[39m\u001b[38;5;197mAMP\u001b[39m\u001b[38;5;15m:\u001b[39m\n",
      "\u001b[38;5;15m    \u001b[39m\u001b[38;5;197mENABLED\u001b[39m\u001b[38;5;15m:\u001b[39m\u001b[38;5;15m \u001b[39m\u001b[38;5;141mtrue\u001b[39m\n",
      "\u001b[38;5;15m  \u001b[39m\u001b[38;5;197mBACKBONE_MULTIPLIER\u001b[39m\u001b[38;5;15m:\u001b[39m\u001b[38;5;15m \u001b[39m\u001b[38;5;141m1.0\u001b[39m\n",
      "\u001b[38;5;15m  \u001b[39m\u001b[38;5;197mBASE_LR\u001b[39m\u001b[38;5;15m:\u001b[39m\u001b[38;5;15m \u001b[39m\u001b[38;5;141m0.0002\u001b[39m\n",
      "\u001b[38;5;15m  \u001b[39m\u001b[38;5;197mBIAS_LR_FACTOR\u001b[39m\u001b[38;5;15m:\u001b[39m\u001b[38;5;15m \u001b[39m\u001b[38;5;141m1.0\u001b[39m\n",
      "\u001b[38;5;15m  \u001b[39m\u001b[38;5;197mCHECKPOINT_PERIOD\u001b[39m\u001b[38;5;15m:\u001b[39m\u001b[38;5;15m \u001b[39m\u001b[38;5;141m2000\u001b[39m\n",
      "\u001b[38;5;15m  \u001b[39m\u001b[38;5;197mCLIP_GRADIENTS\u001b[39m\u001b[38;5;15m:\u001b[39m\n",
      "\u001b[38;5;15m    \u001b[39m\u001b[38;5;197mCLIP_TYPE\u001b[39m\u001b[38;5;15m:\u001b[39m\u001b[38;5;15m \u001b[39m\u001b[38;5;141mfull_model\u001b[39m\n",
      "\u001b[38;5;15m    \u001b[39m\u001b[38;5;197mCLIP_VALUE\u001b[39m\u001b[38;5;15m:\u001b[39m\u001b[38;5;15m \u001b[39m\u001b[38;5;141m1.0\u001b[39m\n",
      "\u001b[38;5;15m    \u001b[39m\u001b[38;5;197mENABLED\u001b[39m\u001b[38;5;15m:\u001b[39m\u001b[38;5;15m \u001b[39m\u001b[38;5;141mtrue\u001b[39m\n",
      "\u001b[38;5;15m    \u001b[39m\u001b[38;5;197mNORM_TYPE\u001b[39m\u001b[38;5;15m:\u001b[39m\u001b[38;5;15m \u001b[39m\u001b[38;5;141m2.0\u001b[39m\n",
      "\u001b[38;5;15m  \u001b[39m\u001b[38;5;197mGAMMA\u001b[39m\u001b[38;5;15m:\u001b[39m\u001b[38;5;15m \u001b[39m\u001b[38;5;141m0.1\u001b[39m\n",
      "\u001b[38;5;15m  \u001b[39m\u001b[38;5;197mGRADIENT_ACCUMULATION_STEPS\u001b[39m\u001b[38;5;15m:\u001b[39m\u001b[38;5;15m \u001b[39m\u001b[38;5;141m1\u001b[39m\n",
      "\u001b[38;5;15m  \u001b[39m\u001b[38;5;197mIMS_PER_BATCH\u001b[39m\u001b[38;5;15m:\u001b[39m\u001b[38;5;15m \u001b[39m\u001b[38;5;141m32\u001b[39m\n",
      "\u001b[38;5;15m  \u001b[39m\u001b[38;5;197mLR_SCHEDULER_NAME\u001b[39m\u001b[38;5;15m:\u001b[39m\u001b[38;5;15m \u001b[39m\u001b[38;5;141mWarmupCosineLR\u001b[39m\n",
      "\u001b[38;5;15m  \u001b[39m\u001b[38;5;197mMAX_ITER\u001b[39m\u001b[38;5;15m:\u001b[39m\u001b[38;5;15m \u001b[39m\u001b[38;5;141m20000\u001b[39m\n",
      "\u001b[38;5;15m  \u001b[39m\u001b[38;5;197mMOMENTUM\u001b[39m\u001b[38;5;15m:\u001b[39m\u001b[38;5;15m \u001b[39m\u001b[38;5;141m0.9\u001b[39m\n",
      "\u001b[38;5;15m  \u001b[39m\u001b[38;5;197mNESTEROV\u001b[39m\u001b[38;5;15m:\u001b[39m\u001b[38;5;15m \u001b[39m\u001b[38;5;141mfalse\u001b[39m\n",
      "\u001b[38;5;15m  \u001b[39m\u001b[38;5;197mOPTIMIZER\u001b[39m\u001b[38;5;15m:\u001b[39m\u001b[38;5;15m \u001b[39m\u001b[38;5;141mADAMW\u001b[39m\n",
      "\u001b[38;5;15m  \u001b[39m\u001b[38;5;197mREFERENCE_WORLD_SIZE\u001b[39m\u001b[38;5;15m:\u001b[39m\u001b[38;5;15m \u001b[39m\u001b[38;5;141m0\u001b[39m\n",
      "\u001b[38;5;15m  \u001b[39m\u001b[38;5;197mSTEPS\u001b[39m\u001b[38;5;15m:\u001b[39m\n",
      "\u001b[38;5;15m  \u001b[39m\u001b[38;5;15m-\u001b[39m\u001b[38;5;15m \u001b[39m\u001b[38;5;141m10000\u001b[39m\n",
      "\u001b[38;5;15m  \u001b[39m\u001b[38;5;197mWARMUP_FACTOR\u001b[39m\u001b[38;5;15m:\u001b[39m\u001b[38;5;15m \u001b[39m\u001b[38;5;141m0.01\u001b[39m\n",
      "\u001b[38;5;15m  \u001b[39m\u001b[38;5;197mWARMUP_ITERS\u001b[39m\u001b[38;5;15m:\u001b[39m\u001b[38;5;15m \u001b[39m\u001b[38;5;141m333\u001b[39m\n",
      "\u001b[38;5;15m  \u001b[39m\u001b[38;5;197mWARMUP_METHOD\u001b[39m\u001b[38;5;15m:\u001b[39m\u001b[38;5;15m \u001b[39m\u001b[38;5;141mlinear\u001b[39m\n",
      "\u001b[38;5;15m  \u001b[39m\u001b[38;5;197mWEIGHT_DECAY\u001b[39m\u001b[38;5;15m:\u001b[39m\u001b[38;5;15m \u001b[39m\u001b[38;5;141m0.05\u001b[39m\n",
      "\u001b[38;5;15m  \u001b[39m\u001b[38;5;197mWEIGHT_DECAY_BIAS\u001b[39m\u001b[38;5;15m:\u001b[39m\u001b[38;5;15m \u001b[39m\u001b[38;5;141mnull\u001b[39m\n",
      "\u001b[38;5;15m  \u001b[39m\u001b[38;5;197mWEIGHT_DECAY_NORM\u001b[39m\u001b[38;5;15m:\u001b[39m\u001b[38;5;15m \u001b[39m\u001b[38;5;141m0.0\u001b[39m\n",
      "\u001b[38;5;197mTEST\u001b[39m\u001b[38;5;15m:\u001b[39m\n",
      "\u001b[38;5;15m  \u001b[39m\u001b[38;5;197mAUG\u001b[39m\u001b[38;5;15m:\u001b[39m\n",
      "\u001b[38;5;15m    \u001b[39m\u001b[38;5;197mENABLED\u001b[39m\u001b[38;5;15m:\u001b[39m\u001b[38;5;15m \u001b[39m\u001b[38;5;141mfalse\u001b[39m\n",
      "\u001b[38;5;15m    \u001b[39m\u001b[38;5;197mFLIP\u001b[39m\u001b[38;5;15m:\u001b[39m\u001b[38;5;15m \u001b[39m\u001b[38;5;141mtrue\u001b[39m\n",
      "\u001b[38;5;15m    \u001b[39m\u001b[38;5;197mMAX_SIZE\u001b[39m\u001b[38;5;15m:\u001b[39m\u001b[38;5;15m \u001b[39m\u001b[38;5;141m4000\u001b[39m\n",
      "\u001b[38;5;15m    \u001b[39m\u001b[38;5;197mMIN_SIZES\u001b[39m\u001b[38;5;15m:\u001b[39m\n",
      "\u001b[38;5;15m    \u001b[39m\u001b[38;5;15m-\u001b[39m\u001b[38;5;15m \u001b[39m\u001b[38;5;141m400\u001b[39m\n",
      "\u001b[38;5;15m    \u001b[39m\u001b[38;5;15m-\u001b[39m\u001b[38;5;15m \u001b[39m\u001b[38;5;141m500\u001b[39m\n",
      "\u001b[38;5;15m    \u001b[39m\u001b[38;5;15m-\u001b[39m\u001b[38;5;15m \u001b[39m\u001b[38;5;141m600\u001b[39m\n",
      "\u001b[38;5;15m    \u001b[39m\u001b[38;5;15m-\u001b[39m\u001b[38;5;15m \u001b[39m\u001b[38;5;141m700\u001b[39m\n",
      "\u001b[38;5;15m    \u001b[39m\u001b[38;5;15m-\u001b[39m\u001b[38;5;15m \u001b[39m\u001b[38;5;141m800\u001b[39m\n",
      "\u001b[38;5;15m    \u001b[39m\u001b[38;5;15m-\u001b[39m\u001b[38;5;15m \u001b[39m\u001b[38;5;141m900\u001b[39m\n",
      "\u001b[38;5;15m    \u001b[39m\u001b[38;5;15m-\u001b[39m\u001b[38;5;15m \u001b[39m\u001b[38;5;141m1000\u001b[39m\n",
      "\u001b[38;5;15m    \u001b[39m\u001b[38;5;15m-\u001b[39m\u001b[38;5;15m \u001b[39m\u001b[38;5;141m1100\u001b[39m\n",
      "\u001b[38;5;15m    \u001b[39m\u001b[38;5;15m-\u001b[39m\u001b[38;5;15m \u001b[39m\u001b[38;5;141m1200\u001b[39m\n",
      "\u001b[38;5;15m  \u001b[39m\u001b[38;5;197mDETECTIONS_PER_IMAGE\u001b[39m\u001b[38;5;15m:\u001b[39m\u001b[38;5;15m \u001b[39m\u001b[38;5;141m100\u001b[39m\n",
      "\u001b[38;5;15m  \u001b[39m\u001b[38;5;197mEVAL_PERIOD\u001b[39m\u001b[38;5;15m:\u001b[39m\u001b[38;5;15m \u001b[39m\u001b[38;5;141m1000\u001b[39m\n",
      "\u001b[38;5;15m  \u001b[39m\u001b[38;5;197mEXPECTED_RESULTS\u001b[39m\u001b[38;5;15m:\u001b[39m\u001b[38;5;15m \u001b[39m\u001b[38;5;15m[\u001b[39m\u001b[38;5;15m]\u001b[39m\n",
      "\u001b[38;5;15m  \u001b[39m\u001b[38;5;197mKEYPOINT_OKS_SIGMAS\u001b[39m\u001b[38;5;15m:\u001b[39m\u001b[38;5;15m \u001b[39m\u001b[38;5;15m[\u001b[39m\u001b[38;5;15m]\u001b[39m\n",
      "\u001b[38;5;15m  \u001b[39m\u001b[38;5;197mPRECISE_BN\u001b[39m\u001b[38;5;15m:\u001b[39m\n",
      "\u001b[38;5;15m    \u001b[39m\u001b[38;5;197mENABLED\u001b[39m\u001b[38;5;15m:\u001b[39m\u001b[38;5;15m \u001b[39m\u001b[38;5;141mfalse\u001b[39m\n",
      "\u001b[38;5;15m    \u001b[39m\u001b[38;5;197mNUM_ITER\u001b[39m\u001b[38;5;15m:\u001b[39m\u001b[38;5;15m \u001b[39m\u001b[38;5;141m200\u001b[39m\n",
      "\u001b[38;5;197mVERSION\u001b[39m\u001b[38;5;15m:\u001b[39m\u001b[38;5;15m \u001b[39m\u001b[38;5;141m2\u001b[39m\n",
      "\u001b[38;5;197mVIS_PERIOD\u001b[39m\u001b[38;5;15m:\u001b[39m\u001b[38;5;15m \u001b[39m\u001b[38;5;141m0\u001b[39m\n",
      "\n",
      "\u001b[32m[08/23 13:40:33 d2.checkpoint.detection_checkpoint]: \u001b[0m[DetectionCheckpointer] Loading from /Users/shivamarora/projects-python/diagram-extract/PDF-Extract-Kit/models/Layout/model_final.pth ...\n",
      "\u001b[32m[08/23 13:40:33 fvcore.common.checkpoint]: \u001b[0m[Checkpointer] Loading from /Users/shivamarora/projects-python/diagram-extract/PDF-Extract-Kit/models/Layout/model_final.pth ...\n"
     ]
    },
    {
     "name": "stderr",
     "output_type": "stream",
     "text": [
      "\u001b[32m2024-08-23 13:40:35.701\u001b[0m | \u001b[1mINFO    \u001b[0m | \u001b[36mmagic_pdf.model.pdf_extract_kit\u001b[0m:\u001b[36m__init__\u001b[0m:\u001b[36m148\u001b[0m - \u001b[1mDocAnalysis init done!\u001b[0m\n",
      "\u001b[32m2024-08-23 13:40:35.701\u001b[0m | \u001b[1mINFO    \u001b[0m | \u001b[36mmagic_pdf.model.doc_analyze_by_custom_model\u001b[0m:\u001b[36mcustom_model_init\u001b[0m:\u001b[36m98\u001b[0m - \u001b[1mmodel init cost: 21.95566487312317\u001b[0m\n",
      "\u001b[32m2024-08-23 13:40:54.301\u001b[0m | \u001b[1mINFO    \u001b[0m | \u001b[36mmagic_pdf.model.pdf_extract_kit\u001b[0m:\u001b[36m__call__\u001b[0m:\u001b[36m159\u001b[0m - \u001b[1mlayout detection cost: 15.24\u001b[0m\n"
     ]
    },
    {
     "name": "stdout",
     "output_type": "stream",
     "text": [
      "\n",
      "0: 1216x1888 (no detections), 1455.1ms\n",
      "Speed: 14.1ms preprocess, 1455.1ms inference, 0.7ms postprocess per image at shape (1, 3, 1216, 1888)\n"
     ]
    },
    {
     "name": "stderr",
     "output_type": "stream",
     "text": [
      "\u001b[32m2024-08-23 13:40:56.078\u001b[0m | \u001b[1mINFO    \u001b[0m | \u001b[36mmagic_pdf.model.pdf_extract_kit\u001b[0m:\u001b[36m__call__\u001b[0m:\u001b[36m189\u001b[0m - \u001b[1mformula nums: 0, mfr time: 0.0\u001b[0m\n",
      "\u001b[32m2024-08-23 13:40:56.079\u001b[0m | \u001b[1mINFO    \u001b[0m | \u001b[36mmagic_pdf.model.pdf_extract_kit\u001b[0m:\u001b[36m__call__\u001b[0m:\u001b[36m294\u001b[0m - \u001b[1mtable cost: 0.0\u001b[0m\n",
      "\u001b[32m2024-08-23 13:41:01.940\u001b[0m | \u001b[1mINFO    \u001b[0m | \u001b[36mmagic_pdf.model.pdf_extract_kit\u001b[0m:\u001b[36m__call__\u001b[0m:\u001b[36m159\u001b[0m - \u001b[1mlayout detection cost: 5.86\u001b[0m\n"
     ]
    },
    {
     "name": "stdout",
     "output_type": "stream",
     "text": [
      "\n",
      "0: 1216x1888 (no detections), 1437.2ms\n",
      "Speed: 7.6ms preprocess, 1437.2ms inference, 0.3ms postprocess per image at shape (1, 3, 1216, 1888)\n"
     ]
    },
    {
     "name": "stderr",
     "output_type": "stream",
     "text": [
      "\u001b[32m2024-08-23 13:41:03.388\u001b[0m | \u001b[1mINFO    \u001b[0m | \u001b[36mmagic_pdf.model.pdf_extract_kit\u001b[0m:\u001b[36m__call__\u001b[0m:\u001b[36m189\u001b[0m - \u001b[1mformula nums: 0, mfr time: 0.0\u001b[0m\n",
      "\u001b[32m2024-08-23 13:41:03.390\u001b[0m | \u001b[1mINFO    \u001b[0m | \u001b[36mmagic_pdf.model.pdf_extract_kit\u001b[0m:\u001b[36m__call__\u001b[0m:\u001b[36m294\u001b[0m - \u001b[1mtable cost: 0.0\u001b[0m\n",
      "\u001b[32m2024-08-23 13:41:09.320\u001b[0m | \u001b[1mINFO    \u001b[0m | \u001b[36mmagic_pdf.model.pdf_extract_kit\u001b[0m:\u001b[36m__call__\u001b[0m:\u001b[36m159\u001b[0m - \u001b[1mlayout detection cost: 5.93\u001b[0m\n"
     ]
    },
    {
     "name": "stdout",
     "output_type": "stream",
     "text": [
      "\n",
      "0: 1216x1888 (no detections), 1877.1ms\n",
      "Speed: 11.5ms preprocess, 1877.1ms inference, 0.3ms postprocess per image at shape (1, 3, 1216, 1888)\n"
     ]
    },
    {
     "name": "stderr",
     "output_type": "stream",
     "text": [
      "\u001b[32m2024-08-23 13:41:11.213\u001b[0m | \u001b[1mINFO    \u001b[0m | \u001b[36mmagic_pdf.model.pdf_extract_kit\u001b[0m:\u001b[36m__call__\u001b[0m:\u001b[36m189\u001b[0m - \u001b[1mformula nums: 0, mfr time: 0.0\u001b[0m\n",
      "\u001b[32m2024-08-23 13:41:11.215\u001b[0m | \u001b[1mINFO    \u001b[0m | \u001b[36mmagic_pdf.model.pdf_extract_kit\u001b[0m:\u001b[36m__call__\u001b[0m:\u001b[36m294\u001b[0m - \u001b[1mtable cost: 0.0\u001b[0m\n",
      "\u001b[32m2024-08-23 13:41:17.328\u001b[0m | \u001b[1mINFO    \u001b[0m | \u001b[36mmagic_pdf.model.pdf_extract_kit\u001b[0m:\u001b[36m__call__\u001b[0m:\u001b[36m159\u001b[0m - \u001b[1mlayout detection cost: 6.11\u001b[0m\n"
     ]
    },
    {
     "name": "stdout",
     "output_type": "stream",
     "text": [
      "\n",
      "0: 1216x1888 1 embedding, 1555.7ms\n",
      "Speed: 7.4ms preprocess, 1555.7ms inference, 0.4ms postprocess per image at shape (1, 3, 1216, 1888)\n"
     ]
    },
    {
     "name": "stderr",
     "output_type": "stream",
     "text": [
      "\u001b[32m2024-08-23 13:41:19.163\u001b[0m | \u001b[1mINFO    \u001b[0m | \u001b[36mmagic_pdf.model.pdf_extract_kit\u001b[0m:\u001b[36m__call__\u001b[0m:\u001b[36m189\u001b[0m - \u001b[1mformula nums: 1, mfr time: 0.26\u001b[0m\n",
      "\u001b[32m2024-08-23 13:41:19.164\u001b[0m | \u001b[1mINFO    \u001b[0m | \u001b[36mmagic_pdf.model.pdf_extract_kit\u001b[0m:\u001b[36m__call__\u001b[0m:\u001b[36m294\u001b[0m - \u001b[1mtable cost: 0.0\u001b[0m\n",
      "\u001b[32m2024-08-23 13:41:25.102\u001b[0m | \u001b[1mINFO    \u001b[0m | \u001b[36mmagic_pdf.model.pdf_extract_kit\u001b[0m:\u001b[36m__call__\u001b[0m:\u001b[36m159\u001b[0m - \u001b[1mlayout detection cost: 5.94\u001b[0m\n"
     ]
    },
    {
     "name": "stdout",
     "output_type": "stream",
     "text": [
      "\n",
      "0: 1216x1888 (no detections), 1593.9ms\n",
      "Speed: 8.8ms preprocess, 1593.9ms inference, 0.6ms postprocess per image at shape (1, 3, 1216, 1888)\n"
     ]
    },
    {
     "name": "stderr",
     "output_type": "stream",
     "text": [
      "\u001b[32m2024-08-23 13:41:26.709\u001b[0m | \u001b[1mINFO    \u001b[0m | \u001b[36mmagic_pdf.model.pdf_extract_kit\u001b[0m:\u001b[36m__call__\u001b[0m:\u001b[36m189\u001b[0m - \u001b[1mformula nums: 0, mfr time: 0.0\u001b[0m\n",
      "\u001b[32m2024-08-23 13:41:26.711\u001b[0m | \u001b[1mINFO    \u001b[0m | \u001b[36mmagic_pdf.model.pdf_extract_kit\u001b[0m:\u001b[36m__call__\u001b[0m:\u001b[36m280\u001b[0m - \u001b[1m------------------table recognition processing begins-----------------\u001b[0m\n",
      "\u001b[32m2024-08-23 13:44:35.082\u001b[0m | \u001b[1mINFO    \u001b[0m | \u001b[36mmagic_pdf.model.pdf_extract_kit\u001b[0m:\u001b[36m__call__\u001b[0m:\u001b[36m284\u001b[0m - \u001b[1m------------table recognition processing ends within 188.37173700332642s-----\u001b[0m\n",
      "\u001b[32m2024-08-23 13:44:35.084\u001b[0m | \u001b[1mINFO    \u001b[0m | \u001b[36mmagic_pdf.model.pdf_extract_kit\u001b[0m:\u001b[36m__call__\u001b[0m:\u001b[36m280\u001b[0m - \u001b[1m------------------table recognition processing begins-----------------\u001b[0m\n",
      "\u001b[32m2024-08-23 13:45:02.010\u001b[0m | \u001b[1mINFO    \u001b[0m | \u001b[36mmagic_pdf.model.pdf_extract_kit\u001b[0m:\u001b[36m__call__\u001b[0m:\u001b[36m284\u001b[0m - \u001b[1m------------table recognition processing ends within 26.926581859588623s-----\u001b[0m\n",
      "\u001b[32m2024-08-23 13:45:02.011\u001b[0m | \u001b[1mINFO    \u001b[0m | \u001b[36mmagic_pdf.model.pdf_extract_kit\u001b[0m:\u001b[36m__call__\u001b[0m:\u001b[36m280\u001b[0m - \u001b[1m------------------table recognition processing begins-----------------\u001b[0m\n",
      "\u001b[32m2024-08-23 13:47:20.751\u001b[0m | \u001b[1mINFO    \u001b[0m | \u001b[36mmagic_pdf.model.pdf_extract_kit\u001b[0m:\u001b[36m__call__\u001b[0m:\u001b[36m284\u001b[0m - \u001b[1m------------table recognition processing ends within 138.7394380569458s-----\u001b[0m\n",
      "\u001b[32m2024-08-23 13:47:20.752\u001b[0m | \u001b[1mINFO    \u001b[0m | \u001b[36mmagic_pdf.model.pdf_extract_kit\u001b[0m:\u001b[36m__call__\u001b[0m:\u001b[36m280\u001b[0m - \u001b[1m------------------table recognition processing begins-----------------\u001b[0m\n",
      "\u001b[32m2024-08-23 13:56:10.832\u001b[0m | \u001b[1mINFO    \u001b[0m | \u001b[36mmagic_pdf.model.pdf_extract_kit\u001b[0m:\u001b[36m__call__\u001b[0m:\u001b[36m284\u001b[0m - \u001b[1m------------table recognition processing ends within 530.0800759792328s-----\u001b[0m\n",
      "\u001b[32m2024-08-23 13:56:10.833\u001b[0m | \u001b[33m\u001b[1mWARNING \u001b[0m | \u001b[36mmagic_pdf.model.pdf_extract_kit\u001b[0m:\u001b[36m__call__\u001b[0m:\u001b[36m286\u001b[0m - \u001b[33m\u001b[1m------------table recognition processing exceeds max time 400s----------\u001b[0m\n",
      "\u001b[32m2024-08-23 13:56:10.833\u001b[0m | \u001b[33m\u001b[1mWARNING \u001b[0m | \u001b[36mmagic_pdf.model.pdf_extract_kit\u001b[0m:\u001b[36m__call__\u001b[0m:\u001b[36m292\u001b[0m - \u001b[33m\u001b[1m------------table recognition processing fails----------\u001b[0m\n",
      "\u001b[32m2024-08-23 13:56:10.834\u001b[0m | \u001b[1mINFO    \u001b[0m | \u001b[36mmagic_pdf.model.pdf_extract_kit\u001b[0m:\u001b[36m__call__\u001b[0m:\u001b[36m294\u001b[0m - \u001b[1mtable cost: 884.12\u001b[0m\n",
      "\u001b[32m2024-08-23 13:56:17.002\u001b[0m | \u001b[1mINFO    \u001b[0m | \u001b[36mmagic_pdf.model.pdf_extract_kit\u001b[0m:\u001b[36m__call__\u001b[0m:\u001b[36m159\u001b[0m - \u001b[1mlayout detection cost: 6.17\u001b[0m\n"
     ]
    },
    {
     "name": "stdout",
     "output_type": "stream",
     "text": [
      "\n",
      "0: 1216x1888 (no detections), 1560.6ms\n",
      "Speed: 7.5ms preprocess, 1560.6ms inference, 0.3ms postprocess per image at shape (1, 3, 1216, 1888)\n"
     ]
    },
    {
     "name": "stderr",
     "output_type": "stream",
     "text": [
      "\u001b[32m2024-08-23 13:56:18.575\u001b[0m | \u001b[1mINFO    \u001b[0m | \u001b[36mmagic_pdf.model.pdf_extract_kit\u001b[0m:\u001b[36m__call__\u001b[0m:\u001b[36m189\u001b[0m - \u001b[1mformula nums: 0, mfr time: 0.0\u001b[0m\n",
      "\u001b[32m2024-08-23 13:56:18.577\u001b[0m | \u001b[1mINFO    \u001b[0m | \u001b[36mmagic_pdf.model.pdf_extract_kit\u001b[0m:\u001b[36m__call__\u001b[0m:\u001b[36m280\u001b[0m - \u001b[1m------------------table recognition processing begins-----------------\u001b[0m\n",
      "\u001b[32m2024-08-23 13:56:49.962\u001b[0m | \u001b[1mINFO    \u001b[0m | \u001b[36mmagic_pdf.model.pdf_extract_kit\u001b[0m:\u001b[36m__call__\u001b[0m:\u001b[36m284\u001b[0m - \u001b[1m------------table recognition processing ends within 31.385841846466064s-----\u001b[0m\n",
      "\u001b[32m2024-08-23 13:56:49.963\u001b[0m | \u001b[1mINFO    \u001b[0m | \u001b[36mmagic_pdf.model.pdf_extract_kit\u001b[0m:\u001b[36m__call__\u001b[0m:\u001b[36m280\u001b[0m - \u001b[1m------------------table recognition processing begins-----------------\u001b[0m\n",
      "\u001b[32m2024-08-23 13:57:46.552\u001b[0m | \u001b[1mINFO    \u001b[0m | \u001b[36mmagic_pdf.model.pdf_extract_kit\u001b[0m:\u001b[36m__call__\u001b[0m:\u001b[36m284\u001b[0m - \u001b[1m------------table recognition processing ends within 56.588778257369995s-----\u001b[0m\n",
      "\u001b[32m2024-08-23 13:57:46.553\u001b[0m | \u001b[1mINFO    \u001b[0m | \u001b[36mmagic_pdf.model.pdf_extract_kit\u001b[0m:\u001b[36m__call__\u001b[0m:\u001b[36m280\u001b[0m - \u001b[1m------------------table recognition processing begins-----------------\u001b[0m\n",
      "\u001b[32m2024-08-23 14:14:19.506\u001b[0m | \u001b[1mINFO    \u001b[0m | \u001b[36mmagic_pdf.model.pdf_extract_kit\u001b[0m:\u001b[36m__call__\u001b[0m:\u001b[36m284\u001b[0m - \u001b[1m------------table recognition processing ends within 992.9525949954987s-----\u001b[0m\n",
      "\u001b[32m2024-08-23 14:14:19.506\u001b[0m | \u001b[33m\u001b[1mWARNING \u001b[0m | \u001b[36mmagic_pdf.model.pdf_extract_kit\u001b[0m:\u001b[36m__call__\u001b[0m:\u001b[36m286\u001b[0m - \u001b[33m\u001b[1m------------table recognition processing exceeds max time 400s----------\u001b[0m\n",
      "\u001b[32m2024-08-23 14:14:19.506\u001b[0m | \u001b[33m\u001b[1mWARNING \u001b[0m | \u001b[36mmagic_pdf.model.pdf_extract_kit\u001b[0m:\u001b[36m__call__\u001b[0m:\u001b[36m292\u001b[0m - \u001b[33m\u001b[1m------------table recognition processing fails----------\u001b[0m\n",
      "\u001b[32m2024-08-23 14:14:19.508\u001b[0m | \u001b[1mINFO    \u001b[0m | \u001b[36mmagic_pdf.model.pdf_extract_kit\u001b[0m:\u001b[36m__call__\u001b[0m:\u001b[36m280\u001b[0m - \u001b[1m------------------table recognition processing begins-----------------\u001b[0m\n",
      "\u001b[32m2024-08-23 14:47:46.439\u001b[0m | \u001b[1mINFO    \u001b[0m | \u001b[36mmagic_pdf.model.pdf_extract_kit\u001b[0m:\u001b[36m__call__\u001b[0m:\u001b[36m284\u001b[0m - \u001b[1m------------table recognition processing ends within 2006.9314301013947s-----\u001b[0m\n",
      "\u001b[32m2024-08-23 14:47:46.440\u001b[0m | \u001b[33m\u001b[1mWARNING \u001b[0m | \u001b[36mmagic_pdf.model.pdf_extract_kit\u001b[0m:\u001b[36m__call__\u001b[0m:\u001b[36m286\u001b[0m - \u001b[33m\u001b[1m------------table recognition processing exceeds max time 400s----------\u001b[0m\n",
      "\u001b[32m2024-08-23 14:47:46.440\u001b[0m | \u001b[33m\u001b[1mWARNING \u001b[0m | \u001b[36mmagic_pdf.model.pdf_extract_kit\u001b[0m:\u001b[36m__call__\u001b[0m:\u001b[36m292\u001b[0m - \u001b[33m\u001b[1m------------table recognition processing fails----------\u001b[0m\n",
      "\u001b[32m2024-08-23 14:47:46.441\u001b[0m | \u001b[1mINFO    \u001b[0m | \u001b[36mmagic_pdf.model.pdf_extract_kit\u001b[0m:\u001b[36m__call__\u001b[0m:\u001b[36m280\u001b[0m - \u001b[1m------------------table recognition processing begins-----------------\u001b[0m\n",
      "\u001b[32m2024-08-23 15:06:45.902\u001b[0m | \u001b[1mINFO    \u001b[0m | \u001b[36mmagic_pdf.model.pdf_extract_kit\u001b[0m:\u001b[36m__call__\u001b[0m:\u001b[36m284\u001b[0m - \u001b[1m------------table recognition processing ends within 1139.4611239433289s-----\u001b[0m\n",
      "\u001b[32m2024-08-23 15:06:45.902\u001b[0m | \u001b[33m\u001b[1mWARNING \u001b[0m | \u001b[36mmagic_pdf.model.pdf_extract_kit\u001b[0m:\u001b[36m__call__\u001b[0m:\u001b[36m286\u001b[0m - \u001b[33m\u001b[1m------------table recognition processing exceeds max time 400s----------\u001b[0m\n",
      "\u001b[32m2024-08-23 15:06:45.903\u001b[0m | \u001b[1mINFO    \u001b[0m | \u001b[36mmagic_pdf.model.pdf_extract_kit\u001b[0m:\u001b[36m__call__\u001b[0m:\u001b[36m294\u001b[0m - \u001b[1mtable cost: 4227.33\u001b[0m\n",
      "\u001b[32m2024-08-23 15:06:51.799\u001b[0m | \u001b[1mINFO    \u001b[0m | \u001b[36mmagic_pdf.model.pdf_extract_kit\u001b[0m:\u001b[36m__call__\u001b[0m:\u001b[36m159\u001b[0m - \u001b[1mlayout detection cost: 5.9\u001b[0m\n"
     ]
    },
    {
     "name": "stdout",
     "output_type": "stream",
     "text": [
      "\n",
      "0: 1216x1888 (no detections), 1627.2ms\n",
      "Speed: 7.7ms preprocess, 1627.2ms inference, 0.3ms postprocess per image at shape (1, 3, 1216, 1888)\n"
     ]
    },
    {
     "name": "stderr",
     "output_type": "stream",
     "text": [
      "\u001b[32m2024-08-23 15:06:53.438\u001b[0m | \u001b[1mINFO    \u001b[0m | \u001b[36mmagic_pdf.model.pdf_extract_kit\u001b[0m:\u001b[36m__call__\u001b[0m:\u001b[36m189\u001b[0m - \u001b[1mformula nums: 0, mfr time: 0.0\u001b[0m\n",
      "\u001b[32m2024-08-23 15:06:53.440\u001b[0m | \u001b[1mINFO    \u001b[0m | \u001b[36mmagic_pdf.model.pdf_extract_kit\u001b[0m:\u001b[36m__call__\u001b[0m:\u001b[36m280\u001b[0m - \u001b[1m------------------table recognition processing begins-----------------\u001b[0m\n",
      "\u001b[32m2024-08-23 15:08:58.004\u001b[0m | \u001b[1mINFO    \u001b[0m | \u001b[36mmagic_pdf.model.pdf_extract_kit\u001b[0m:\u001b[36m__call__\u001b[0m:\u001b[36m284\u001b[0m - \u001b[1m------------table recognition processing ends within 124.56427693367004s-----\u001b[0m\n",
      "\u001b[32m2024-08-23 15:08:58.005\u001b[0m | \u001b[1mINFO    \u001b[0m | \u001b[36mmagic_pdf.model.pdf_extract_kit\u001b[0m:\u001b[36m__call__\u001b[0m:\u001b[36m280\u001b[0m - \u001b[1m------------------table recognition processing begins-----------------\u001b[0m\n",
      "\u001b[32m2024-08-23 15:09:26.909\u001b[0m | \u001b[1mINFO    \u001b[0m | \u001b[36mmagic_pdf.model.pdf_extract_kit\u001b[0m:\u001b[36m__call__\u001b[0m:\u001b[36m284\u001b[0m - \u001b[1m------------table recognition processing ends within 28.904178857803345s-----\u001b[0m\n",
      "\u001b[32m2024-08-23 15:09:26.910\u001b[0m | \u001b[1mINFO    \u001b[0m | \u001b[36mmagic_pdf.model.pdf_extract_kit\u001b[0m:\u001b[36m__call__\u001b[0m:\u001b[36m280\u001b[0m - \u001b[1m------------------table recognition processing begins-----------------\u001b[0m\n",
      "\u001b[32m2024-08-23 15:10:53.902\u001b[0m | \u001b[1mINFO    \u001b[0m | \u001b[36mmagic_pdf.model.pdf_extract_kit\u001b[0m:\u001b[36m__call__\u001b[0m:\u001b[36m284\u001b[0m - \u001b[1m------------table recognition processing ends within 86.99194312095642s-----\u001b[0m\n",
      "\u001b[32m2024-08-23 15:10:53.903\u001b[0m | \u001b[1mINFO    \u001b[0m | \u001b[36mmagic_pdf.model.pdf_extract_kit\u001b[0m:\u001b[36m__call__\u001b[0m:\u001b[36m280\u001b[0m - \u001b[1m------------------table recognition processing begins-----------------\u001b[0m\n",
      "\u001b[32m2024-08-23 15:17:41.205\u001b[0m | \u001b[1mINFO    \u001b[0m | \u001b[36mmagic_pdf.model.pdf_extract_kit\u001b[0m:\u001b[36m__call__\u001b[0m:\u001b[36m284\u001b[0m - \u001b[1m------------table recognition processing ends within 407.3015477657318s-----\u001b[0m\n",
      "\u001b[32m2024-08-23 15:17:41.205\u001b[0m | \u001b[33m\u001b[1mWARNING \u001b[0m | \u001b[36mmagic_pdf.model.pdf_extract_kit\u001b[0m:\u001b[36m__call__\u001b[0m:\u001b[36m286\u001b[0m - \u001b[33m\u001b[1m------------table recognition processing exceeds max time 400s----------\u001b[0m\n",
      "\u001b[32m2024-08-23 15:17:41.206\u001b[0m | \u001b[33m\u001b[1mWARNING \u001b[0m | \u001b[36mmagic_pdf.model.pdf_extract_kit\u001b[0m:\u001b[36m__call__\u001b[0m:\u001b[36m292\u001b[0m - \u001b[33m\u001b[1m------------table recognition processing fails----------\u001b[0m\n",
      "\u001b[32m2024-08-23 15:17:41.206\u001b[0m | \u001b[1mINFO    \u001b[0m | \u001b[36mmagic_pdf.model.pdf_extract_kit\u001b[0m:\u001b[36m__call__\u001b[0m:\u001b[36m294\u001b[0m - \u001b[1mtable cost: 647.77\u001b[0m\n",
      "\u001b[32m2024-08-23 15:17:47.268\u001b[0m | \u001b[1mINFO    \u001b[0m | \u001b[36mmagic_pdf.model.pdf_extract_kit\u001b[0m:\u001b[36m__call__\u001b[0m:\u001b[36m159\u001b[0m - \u001b[1mlayout detection cost: 6.06\u001b[0m\n"
     ]
    },
    {
     "name": "stdout",
     "output_type": "stream",
     "text": [
      "\n",
      "0: 1216x1888 (no detections), 1420.7ms\n",
      "Speed: 8.0ms preprocess, 1420.7ms inference, 0.3ms postprocess per image at shape (1, 3, 1216, 1888)\n"
     ]
    },
    {
     "name": "stderr",
     "output_type": "stream",
     "text": [
      "\u001b[32m2024-08-23 15:17:48.708\u001b[0m | \u001b[1mINFO    \u001b[0m | \u001b[36mmagic_pdf.model.pdf_extract_kit\u001b[0m:\u001b[36m__call__\u001b[0m:\u001b[36m189\u001b[0m - \u001b[1mformula nums: 0, mfr time: 0.0\u001b[0m\n",
      "\u001b[32m2024-08-23 15:17:48.709\u001b[0m | \u001b[1mINFO    \u001b[0m | \u001b[36mmagic_pdf.model.pdf_extract_kit\u001b[0m:\u001b[36m__call__\u001b[0m:\u001b[36m280\u001b[0m - \u001b[1m------------------table recognition processing begins-----------------\u001b[0m\n",
      "\u001b[32m2024-08-23 15:18:34.479\u001b[0m | \u001b[1mINFO    \u001b[0m | \u001b[36mmagic_pdf.model.pdf_extract_kit\u001b[0m:\u001b[36m__call__\u001b[0m:\u001b[36m284\u001b[0m - \u001b[1m------------table recognition processing ends within 45.76995515823364s-----\u001b[0m\n",
      "\u001b[32m2024-08-23 15:18:34.480\u001b[0m | \u001b[1mINFO    \u001b[0m | \u001b[36mmagic_pdf.model.pdf_extract_kit\u001b[0m:\u001b[36m__call__\u001b[0m:\u001b[36m280\u001b[0m - \u001b[1m------------------table recognition processing begins-----------------\u001b[0m\n",
      "\u001b[32m2024-08-23 15:19:50.657\u001b[0m | \u001b[1mINFO    \u001b[0m | \u001b[36mmagic_pdf.model.pdf_extract_kit\u001b[0m:\u001b[36m__call__\u001b[0m:\u001b[36m284\u001b[0m - \u001b[1m------------table recognition processing ends within 76.17676639556885s-----\u001b[0m\n",
      "\u001b[32m2024-08-23 15:19:50.658\u001b[0m | \u001b[1mINFO    \u001b[0m | \u001b[36mmagic_pdf.model.pdf_extract_kit\u001b[0m:\u001b[36m__call__\u001b[0m:\u001b[36m280\u001b[0m - \u001b[1m------------------table recognition processing begins-----------------\u001b[0m\n",
      "\u001b[32m2024-08-23 15:20:17.220\u001b[0m | \u001b[1mINFO    \u001b[0m | \u001b[36mmagic_pdf.model.pdf_extract_kit\u001b[0m:\u001b[36m__call__\u001b[0m:\u001b[36m284\u001b[0m - \u001b[1m------------table recognition processing ends within 26.562062978744507s-----\u001b[0m\n",
      "\u001b[32m2024-08-23 15:20:17.221\u001b[0m | \u001b[1mINFO    \u001b[0m | \u001b[36mmagic_pdf.model.pdf_extract_kit\u001b[0m:\u001b[36m__call__\u001b[0m:\u001b[36m280\u001b[0m - \u001b[1m------------------table recognition processing begins-----------------\u001b[0m\n",
      "\u001b[32m2024-08-23 15:20:38.916\u001b[0m | \u001b[1mINFO    \u001b[0m | \u001b[36mmagic_pdf.model.pdf_extract_kit\u001b[0m:\u001b[36m__call__\u001b[0m:\u001b[36m284\u001b[0m - \u001b[1m------------table recognition processing ends within 21.69524312019348s-----\u001b[0m\n",
      "\u001b[32m2024-08-23 15:20:38.917\u001b[0m | \u001b[1mINFO    \u001b[0m | \u001b[36mmagic_pdf.model.pdf_extract_kit\u001b[0m:\u001b[36m__call__\u001b[0m:\u001b[36m280\u001b[0m - \u001b[1m------------------table recognition processing begins-----------------\u001b[0m\n",
      "\u001b[32m2024-08-23 15:23:17.902\u001b[0m | \u001b[1mINFO    \u001b[0m | \u001b[36mmagic_pdf.model.pdf_extract_kit\u001b[0m:\u001b[36m__call__\u001b[0m:\u001b[36m284\u001b[0m - \u001b[1m------------table recognition processing ends within 158.98580193519592s-----\u001b[0m\n",
      "\u001b[32m2024-08-23 15:23:17.903\u001b[0m | \u001b[1mINFO    \u001b[0m | \u001b[36mmagic_pdf.model.pdf_extract_kit\u001b[0m:\u001b[36m__call__\u001b[0m:\u001b[36m294\u001b[0m - \u001b[1mtable cost: 329.19\u001b[0m\n",
      "\u001b[32m2024-08-23 15:23:23.829\u001b[0m | \u001b[1mINFO    \u001b[0m | \u001b[36mmagic_pdf.model.pdf_extract_kit\u001b[0m:\u001b[36m__call__\u001b[0m:\u001b[36m159\u001b[0m - \u001b[1mlayout detection cost: 5.93\u001b[0m\n"
     ]
    },
    {
     "name": "stdout",
     "output_type": "stream",
     "text": [
      "\n",
      "0: 1216x1888 (no detections), 1483.6ms\n",
      "Speed: 7.2ms preprocess, 1483.6ms inference, 0.3ms postprocess per image at shape (1, 3, 1216, 1888)\n"
     ]
    },
    {
     "name": "stderr",
     "output_type": "stream",
     "text": [
      "\u001b[32m2024-08-23 15:23:25.324\u001b[0m | \u001b[1mINFO    \u001b[0m | \u001b[36mmagic_pdf.model.pdf_extract_kit\u001b[0m:\u001b[36m__call__\u001b[0m:\u001b[36m189\u001b[0m - \u001b[1mformula nums: 0, mfr time: 0.0\u001b[0m\n",
      "\u001b[32m2024-08-23 15:23:25.326\u001b[0m | \u001b[1mINFO    \u001b[0m | \u001b[36mmagic_pdf.model.pdf_extract_kit\u001b[0m:\u001b[36m__call__\u001b[0m:\u001b[36m294\u001b[0m - \u001b[1mtable cost: 0.0\u001b[0m\n",
      "\u001b[32m2024-08-23 15:23:31.225\u001b[0m | \u001b[1mINFO    \u001b[0m | \u001b[36mmagic_pdf.model.pdf_extract_kit\u001b[0m:\u001b[36m__call__\u001b[0m:\u001b[36m159\u001b[0m - \u001b[1mlayout detection cost: 5.9\u001b[0m\n"
     ]
    },
    {
     "name": "stdout",
     "output_type": "stream",
     "text": [
      "\n",
      "0: 1216x1888 (no detections), 1428.3ms\n",
      "Speed: 7.6ms preprocess, 1428.3ms inference, 0.4ms postprocess per image at shape (1, 3, 1216, 1888)\n"
     ]
    },
    {
     "name": "stderr",
     "output_type": "stream",
     "text": [
      "\u001b[32m2024-08-23 15:23:32.664\u001b[0m | \u001b[1mINFO    \u001b[0m | \u001b[36mmagic_pdf.model.pdf_extract_kit\u001b[0m:\u001b[36m__call__\u001b[0m:\u001b[36m189\u001b[0m - \u001b[1mformula nums: 0, mfr time: 0.0\u001b[0m\n",
      "\u001b[32m2024-08-23 15:23:32.665\u001b[0m | \u001b[1mINFO    \u001b[0m | \u001b[36mmagic_pdf.model.pdf_extract_kit\u001b[0m:\u001b[36m__call__\u001b[0m:\u001b[36m294\u001b[0m - \u001b[1mtable cost: 0.0\u001b[0m\n",
      "\u001b[32m2024-08-23 15:23:38.542\u001b[0m | \u001b[1mINFO    \u001b[0m | \u001b[36mmagic_pdf.model.pdf_extract_kit\u001b[0m:\u001b[36m__call__\u001b[0m:\u001b[36m159\u001b[0m - \u001b[1mlayout detection cost: 5.88\u001b[0m\n"
     ]
    },
    {
     "name": "stdout",
     "output_type": "stream",
     "text": [
      "\n",
      "0: 1216x1888 (no detections), 1433.6ms\n",
      "Speed: 8.2ms preprocess, 1433.6ms inference, 0.4ms postprocess per image at shape (1, 3, 1216, 1888)\n"
     ]
    },
    {
     "name": "stderr",
     "output_type": "stream",
     "text": [
      "\u001b[32m2024-08-23 15:23:39.987\u001b[0m | \u001b[1mINFO    \u001b[0m | \u001b[36mmagic_pdf.model.pdf_extract_kit\u001b[0m:\u001b[36m__call__\u001b[0m:\u001b[36m189\u001b[0m - \u001b[1mformula nums: 0, mfr time: 0.0\u001b[0m\n",
      "\u001b[32m2024-08-23 15:23:39.988\u001b[0m | \u001b[1mINFO    \u001b[0m | \u001b[36mmagic_pdf.model.pdf_extract_kit\u001b[0m:\u001b[36m__call__\u001b[0m:\u001b[36m294\u001b[0m - \u001b[1mtable cost: 0.0\u001b[0m\n",
      "\u001b[32m2024-08-23 15:23:45.897\u001b[0m | \u001b[1mINFO    \u001b[0m | \u001b[36mmagic_pdf.model.pdf_extract_kit\u001b[0m:\u001b[36m__call__\u001b[0m:\u001b[36m159\u001b[0m - \u001b[1mlayout detection cost: 5.91\u001b[0m\n"
     ]
    },
    {
     "name": "stdout",
     "output_type": "stream",
     "text": [
      "\n",
      "0: 1216x1888 (no detections), 1463.5ms\n",
      "Speed: 8.3ms preprocess, 1463.5ms inference, 0.2ms postprocess per image at shape (1, 3, 1216, 1888)\n"
     ]
    },
    {
     "name": "stderr",
     "output_type": "stream",
     "text": [
      "\u001b[32m2024-08-23 15:23:47.372\u001b[0m | \u001b[1mINFO    \u001b[0m | \u001b[36mmagic_pdf.model.pdf_extract_kit\u001b[0m:\u001b[36m__call__\u001b[0m:\u001b[36m189\u001b[0m - \u001b[1mformula nums: 0, mfr time: 0.0\u001b[0m\n",
      "\u001b[32m2024-08-23 15:23:47.373\u001b[0m | \u001b[1mINFO    \u001b[0m | \u001b[36mmagic_pdf.model.pdf_extract_kit\u001b[0m:\u001b[36m__call__\u001b[0m:\u001b[36m294\u001b[0m - \u001b[1mtable cost: 0.0\u001b[0m\n",
      "\u001b[32m2024-08-23 15:23:53.497\u001b[0m | \u001b[1mINFO    \u001b[0m | \u001b[36mmagic_pdf.model.pdf_extract_kit\u001b[0m:\u001b[36m__call__\u001b[0m:\u001b[36m159\u001b[0m - \u001b[1mlayout detection cost: 6.12\u001b[0m\n"
     ]
    },
    {
     "name": "stdout",
     "output_type": "stream",
     "text": [
      "\n",
      "0: 1216x1888 (no detections), 1493.9ms\n",
      "Speed: 7.2ms preprocess, 1493.9ms inference, 0.6ms postprocess per image at shape (1, 3, 1216, 1888)\n"
     ]
    },
    {
     "name": "stderr",
     "output_type": "stream",
     "text": [
      "\u001b[32m2024-08-23 15:23:55.002\u001b[0m | \u001b[1mINFO    \u001b[0m | \u001b[36mmagic_pdf.model.pdf_extract_kit\u001b[0m:\u001b[36m__call__\u001b[0m:\u001b[36m189\u001b[0m - \u001b[1mformula nums: 0, mfr time: 0.0\u001b[0m\n",
      "\u001b[32m2024-08-23 15:23:55.003\u001b[0m | \u001b[1mINFO    \u001b[0m | \u001b[36mmagic_pdf.model.pdf_extract_kit\u001b[0m:\u001b[36m__call__\u001b[0m:\u001b[36m294\u001b[0m - \u001b[1mtable cost: 0.0\u001b[0m\n",
      "\u001b[32m2024-08-23 15:24:01.025\u001b[0m | \u001b[1mINFO    \u001b[0m | \u001b[36mmagic_pdf.model.pdf_extract_kit\u001b[0m:\u001b[36m__call__\u001b[0m:\u001b[36m159\u001b[0m - \u001b[1mlayout detection cost: 6.02\u001b[0m\n"
     ]
    },
    {
     "name": "stdout",
     "output_type": "stream",
     "text": [
      "\n",
      "0: 1216x1888 (no detections), 1438.0ms\n",
      "Speed: 7.1ms preprocess, 1438.0ms inference, 0.3ms postprocess per image at shape (1, 3, 1216, 1888)\n"
     ]
    },
    {
     "name": "stderr",
     "output_type": "stream",
     "text": [
      "\u001b[32m2024-08-23 15:24:02.473\u001b[0m | \u001b[1mINFO    \u001b[0m | \u001b[36mmagic_pdf.model.pdf_extract_kit\u001b[0m:\u001b[36m__call__\u001b[0m:\u001b[36m189\u001b[0m - \u001b[1mformula nums: 0, mfr time: 0.0\u001b[0m\n",
      "\u001b[32m2024-08-23 15:24:02.474\u001b[0m | \u001b[1mINFO    \u001b[0m | \u001b[36mmagic_pdf.model.pdf_extract_kit\u001b[0m:\u001b[36m__call__\u001b[0m:\u001b[36m294\u001b[0m - \u001b[1mtable cost: 0.0\u001b[0m\n",
      "\u001b[32m2024-08-23 15:24:08.345\u001b[0m | \u001b[1mINFO    \u001b[0m | \u001b[36mmagic_pdf.model.pdf_extract_kit\u001b[0m:\u001b[36m__call__\u001b[0m:\u001b[36m159\u001b[0m - \u001b[1mlayout detection cost: 5.87\u001b[0m\n"
     ]
    },
    {
     "name": "stdout",
     "output_type": "stream",
     "text": [
      "\n",
      "0: 1216x1888 (no detections), 1503.3ms\n",
      "Speed: 7.9ms preprocess, 1503.3ms inference, 0.4ms postprocess per image at shape (1, 3, 1216, 1888)\n"
     ]
    },
    {
     "name": "stderr",
     "output_type": "stream",
     "text": [
      "\u001b[32m2024-08-23 15:24:09.859\u001b[0m | \u001b[1mINFO    \u001b[0m | \u001b[36mmagic_pdf.model.pdf_extract_kit\u001b[0m:\u001b[36m__call__\u001b[0m:\u001b[36m189\u001b[0m - \u001b[1mformula nums: 0, mfr time: 0.0\u001b[0m\n",
      "\u001b[32m2024-08-23 15:24:09.860\u001b[0m | \u001b[1mINFO    \u001b[0m | \u001b[36mmagic_pdf.model.pdf_extract_kit\u001b[0m:\u001b[36m__call__\u001b[0m:\u001b[36m294\u001b[0m - \u001b[1mtable cost: 0.0\u001b[0m\n",
      "\u001b[32m2024-08-23 15:24:15.744\u001b[0m | \u001b[1mINFO    \u001b[0m | \u001b[36mmagic_pdf.model.pdf_extract_kit\u001b[0m:\u001b[36m__call__\u001b[0m:\u001b[36m159\u001b[0m - \u001b[1mlayout detection cost: 5.88\u001b[0m\n"
     ]
    },
    {
     "name": "stdout",
     "output_type": "stream",
     "text": [
      "\n",
      "0: 1216x1888 (no detections), 1388.9ms\n",
      "Speed: 7.3ms preprocess, 1388.9ms inference, 0.4ms postprocess per image at shape (1, 3, 1216, 1888)\n"
     ]
    },
    {
     "name": "stderr",
     "output_type": "stream",
     "text": [
      "\u001b[32m2024-08-23 15:24:17.143\u001b[0m | \u001b[1mINFO    \u001b[0m | \u001b[36mmagic_pdf.model.pdf_extract_kit\u001b[0m:\u001b[36m__call__\u001b[0m:\u001b[36m189\u001b[0m - \u001b[1mformula nums: 0, mfr time: 0.0\u001b[0m\n",
      "\u001b[32m2024-08-23 15:24:17.145\u001b[0m | \u001b[1mINFO    \u001b[0m | \u001b[36mmagic_pdf.model.pdf_extract_kit\u001b[0m:\u001b[36m__call__\u001b[0m:\u001b[36m294\u001b[0m - \u001b[1mtable cost: 0.0\u001b[0m\n",
      "\u001b[32m2024-08-23 15:24:23.059\u001b[0m | \u001b[1mINFO    \u001b[0m | \u001b[36mmagic_pdf.model.pdf_extract_kit\u001b[0m:\u001b[36m__call__\u001b[0m:\u001b[36m159\u001b[0m - \u001b[1mlayout detection cost: 5.91\u001b[0m\n"
     ]
    },
    {
     "name": "stdout",
     "output_type": "stream",
     "text": [
      "\n",
      "0: 1216x1888 1 embedding, 1419.2ms\n",
      "Speed: 8.8ms preprocess, 1419.2ms inference, 0.4ms postprocess per image at shape (1, 3, 1216, 1888)\n"
     ]
    },
    {
     "name": "stderr",
     "output_type": "stream",
     "text": [
      "\u001b[32m2024-08-23 15:24:24.974\u001b[0m | \u001b[1mINFO    \u001b[0m | \u001b[36mmagic_pdf.model.pdf_extract_kit\u001b[0m:\u001b[36m__call__\u001b[0m:\u001b[36m189\u001b[0m - \u001b[1mformula nums: 1, mfr time: 0.48\u001b[0m\n",
      "\u001b[32m2024-08-23 15:24:24.977\u001b[0m | \u001b[1mINFO    \u001b[0m | \u001b[36mmagic_pdf.model.pdf_extract_kit\u001b[0m:\u001b[36m__call__\u001b[0m:\u001b[36m280\u001b[0m - \u001b[1m------------------table recognition processing begins-----------------\u001b[0m\n",
      "\u001b[32m2024-08-23 15:28:18.024\u001b[0m | \u001b[1mINFO    \u001b[0m | \u001b[36mmagic_pdf.model.pdf_extract_kit\u001b[0m:\u001b[36m__call__\u001b[0m:\u001b[36m284\u001b[0m - \u001b[1m------------table recognition processing ends within 233.0467870235443s-----\u001b[0m\n",
      "\u001b[32m2024-08-23 15:28:18.024\u001b[0m | \u001b[1mINFO    \u001b[0m | \u001b[36mmagic_pdf.model.pdf_extract_kit\u001b[0m:\u001b[36m__call__\u001b[0m:\u001b[36m294\u001b[0m - \u001b[1mtable cost: 233.05\u001b[0m\n",
      "\u001b[32m2024-08-23 15:28:23.929\u001b[0m | \u001b[1mINFO    \u001b[0m | \u001b[36mmagic_pdf.model.pdf_extract_kit\u001b[0m:\u001b[36m__call__\u001b[0m:\u001b[36m159\u001b[0m - \u001b[1mlayout detection cost: 5.9\u001b[0m\n"
     ]
    },
    {
     "name": "stdout",
     "output_type": "stream",
     "text": [
      "\n",
      "0: 1216x1888 (no detections), 1445.3ms\n",
      "Speed: 7.1ms preprocess, 1445.3ms inference, 0.3ms postprocess per image at shape (1, 3, 1216, 1888)\n"
     ]
    },
    {
     "name": "stderr",
     "output_type": "stream",
     "text": [
      "\u001b[32m2024-08-23 15:28:25.385\u001b[0m | \u001b[1mINFO    \u001b[0m | \u001b[36mmagic_pdf.model.pdf_extract_kit\u001b[0m:\u001b[36m__call__\u001b[0m:\u001b[36m189\u001b[0m - \u001b[1mformula nums: 0, mfr time: 0.0\u001b[0m\n",
      "\u001b[32m2024-08-23 15:28:25.387\u001b[0m | \u001b[1mINFO    \u001b[0m | \u001b[36mmagic_pdf.model.pdf_extract_kit\u001b[0m:\u001b[36m__call__\u001b[0m:\u001b[36m294\u001b[0m - \u001b[1mtable cost: 0.0\u001b[0m\n",
      "\u001b[32m2024-08-23 15:28:31.225\u001b[0m | \u001b[1mINFO    \u001b[0m | \u001b[36mmagic_pdf.model.pdf_extract_kit\u001b[0m:\u001b[36m__call__\u001b[0m:\u001b[36m159\u001b[0m - \u001b[1mlayout detection cost: 5.84\u001b[0m\n"
     ]
    },
    {
     "name": "stdout",
     "output_type": "stream",
     "text": [
      "\n",
      "0: 1216x1888 (no detections), 1471.8ms\n",
      "Speed: 7.1ms preprocess, 1471.8ms inference, 0.3ms postprocess per image at shape (1, 3, 1216, 1888)\n"
     ]
    },
    {
     "name": "stderr",
     "output_type": "stream",
     "text": [
      "\u001b[32m2024-08-23 15:28:32.707\u001b[0m | \u001b[1mINFO    \u001b[0m | \u001b[36mmagic_pdf.model.pdf_extract_kit\u001b[0m:\u001b[36m__call__\u001b[0m:\u001b[36m189\u001b[0m - \u001b[1mformula nums: 0, mfr time: 0.0\u001b[0m\n",
      "\u001b[32m2024-08-23 15:28:32.709\u001b[0m | \u001b[1mINFO    \u001b[0m | \u001b[36mmagic_pdf.model.pdf_extract_kit\u001b[0m:\u001b[36m__call__\u001b[0m:\u001b[36m294\u001b[0m - \u001b[1mtable cost: 0.0\u001b[0m\n",
      "\u001b[32m2024-08-23 15:28:38.564\u001b[0m | \u001b[1mINFO    \u001b[0m | \u001b[36mmagic_pdf.model.pdf_extract_kit\u001b[0m:\u001b[36m__call__\u001b[0m:\u001b[36m159\u001b[0m - \u001b[1mlayout detection cost: 5.86\u001b[0m\n"
     ]
    },
    {
     "name": "stdout",
     "output_type": "stream",
     "text": [
      "\n",
      "0: 1216x1888 (no detections), 1438.7ms\n",
      "Speed: 8.2ms preprocess, 1438.7ms inference, 0.5ms postprocess per image at shape (1, 3, 1216, 1888)\n"
     ]
    },
    {
     "name": "stderr",
     "output_type": "stream",
     "text": [
      "\u001b[32m2024-08-23 15:28:40.014\u001b[0m | \u001b[1mINFO    \u001b[0m | \u001b[36mmagic_pdf.model.pdf_extract_kit\u001b[0m:\u001b[36m__call__\u001b[0m:\u001b[36m189\u001b[0m - \u001b[1mformula nums: 0, mfr time: 0.0\u001b[0m\n",
      "\u001b[32m2024-08-23 15:28:40.015\u001b[0m | \u001b[1mINFO    \u001b[0m | \u001b[36mmagic_pdf.model.pdf_extract_kit\u001b[0m:\u001b[36m__call__\u001b[0m:\u001b[36m294\u001b[0m - \u001b[1mtable cost: 0.0\u001b[0m\n",
      "\u001b[32m2024-08-23 15:28:45.883\u001b[0m | \u001b[1mINFO    \u001b[0m | \u001b[36mmagic_pdf.model.pdf_extract_kit\u001b[0m:\u001b[36m__call__\u001b[0m:\u001b[36m159\u001b[0m - \u001b[1mlayout detection cost: 5.87\u001b[0m\n"
     ]
    },
    {
     "name": "stdout",
     "output_type": "stream",
     "text": [
      "\n",
      "0: 1216x1888 (no detections), 1502.8ms\n",
      "Speed: 7.9ms preprocess, 1502.8ms inference, 0.5ms postprocess per image at shape (1, 3, 1216, 1888)\n"
     ]
    },
    {
     "name": "stderr",
     "output_type": "stream",
     "text": [
      "\u001b[32m2024-08-23 15:28:47.397\u001b[0m | \u001b[1mINFO    \u001b[0m | \u001b[36mmagic_pdf.model.pdf_extract_kit\u001b[0m:\u001b[36m__call__\u001b[0m:\u001b[36m189\u001b[0m - \u001b[1mformula nums: 0, mfr time: 0.0\u001b[0m\n",
      "\u001b[32m2024-08-23 15:28:47.398\u001b[0m | \u001b[1mINFO    \u001b[0m | \u001b[36mmagic_pdf.model.pdf_extract_kit\u001b[0m:\u001b[36m__call__\u001b[0m:\u001b[36m294\u001b[0m - \u001b[1mtable cost: 0.0\u001b[0m\n",
      "\u001b[32m2024-08-23 15:28:53.192\u001b[0m | \u001b[1mINFO    \u001b[0m | \u001b[36mmagic_pdf.model.pdf_extract_kit\u001b[0m:\u001b[36m__call__\u001b[0m:\u001b[36m159\u001b[0m - \u001b[1mlayout detection cost: 5.79\u001b[0m\n"
     ]
    },
    {
     "name": "stdout",
     "output_type": "stream",
     "text": [
      "\n",
      "0: 1216x1888 (no detections), 1476.1ms\n",
      "Speed: 8.4ms preprocess, 1476.1ms inference, 0.3ms postprocess per image at shape (1, 3, 1216, 1888)\n"
     ]
    },
    {
     "name": "stderr",
     "output_type": "stream",
     "text": [
      "\u001b[32m2024-08-23 15:28:54.679\u001b[0m | \u001b[1mINFO    \u001b[0m | \u001b[36mmagic_pdf.model.pdf_extract_kit\u001b[0m:\u001b[36m__call__\u001b[0m:\u001b[36m189\u001b[0m - \u001b[1mformula nums: 0, mfr time: 0.0\u001b[0m\n",
      "\u001b[32m2024-08-23 15:28:54.680\u001b[0m | \u001b[1mINFO    \u001b[0m | \u001b[36mmagic_pdf.model.pdf_extract_kit\u001b[0m:\u001b[36m__call__\u001b[0m:\u001b[36m294\u001b[0m - \u001b[1mtable cost: 0.0\u001b[0m\n",
      "\u001b[32m2024-08-23 15:29:00.581\u001b[0m | \u001b[1mINFO    \u001b[0m | \u001b[36mmagic_pdf.model.pdf_extract_kit\u001b[0m:\u001b[36m__call__\u001b[0m:\u001b[36m159\u001b[0m - \u001b[1mlayout detection cost: 5.9\u001b[0m\n"
     ]
    },
    {
     "name": "stdout",
     "output_type": "stream",
     "text": [
      "\n",
      "0: 1216x1888 (no detections), 1614.2ms\n",
      "Speed: 7.4ms preprocess, 1614.2ms inference, 0.3ms postprocess per image at shape (1, 3, 1216, 1888)\n"
     ]
    },
    {
     "name": "stderr",
     "output_type": "stream",
     "text": [
      "\u001b[32m2024-08-23 15:29:02.205\u001b[0m | \u001b[1mINFO    \u001b[0m | \u001b[36mmagic_pdf.model.pdf_extract_kit\u001b[0m:\u001b[36m__call__\u001b[0m:\u001b[36m189\u001b[0m - \u001b[1mformula nums: 0, mfr time: 0.0\u001b[0m\n",
      "\u001b[32m2024-08-23 15:29:02.207\u001b[0m | \u001b[1mINFO    \u001b[0m | \u001b[36mmagic_pdf.model.pdf_extract_kit\u001b[0m:\u001b[36m__call__\u001b[0m:\u001b[36m294\u001b[0m - \u001b[1mtable cost: 0.0\u001b[0m\n",
      "\u001b[32m2024-08-23 15:29:08.294\u001b[0m | \u001b[1mINFO    \u001b[0m | \u001b[36mmagic_pdf.model.pdf_extract_kit\u001b[0m:\u001b[36m__call__\u001b[0m:\u001b[36m159\u001b[0m - \u001b[1mlayout detection cost: 6.09\u001b[0m\n"
     ]
    },
    {
     "name": "stdout",
     "output_type": "stream",
     "text": [
      "\n",
      "0: 1216x1888 (no detections), 1451.2ms\n",
      "Speed: 7.1ms preprocess, 1451.2ms inference, 0.3ms postprocess per image at shape (1, 3, 1216, 1888)\n"
     ]
    },
    {
     "name": "stderr",
     "output_type": "stream",
     "text": [
      "\u001b[32m2024-08-23 15:29:09.755\u001b[0m | \u001b[1mINFO    \u001b[0m | \u001b[36mmagic_pdf.model.pdf_extract_kit\u001b[0m:\u001b[36m__call__\u001b[0m:\u001b[36m189\u001b[0m - \u001b[1mformula nums: 0, mfr time: 0.0\u001b[0m\n",
      "\u001b[32m2024-08-23 15:29:09.756\u001b[0m | \u001b[1mINFO    \u001b[0m | \u001b[36mmagic_pdf.model.pdf_extract_kit\u001b[0m:\u001b[36m__call__\u001b[0m:\u001b[36m294\u001b[0m - \u001b[1mtable cost: 0.0\u001b[0m\n",
      "\u001b[32m2024-08-23 15:29:15.644\u001b[0m | \u001b[1mINFO    \u001b[0m | \u001b[36mmagic_pdf.model.pdf_extract_kit\u001b[0m:\u001b[36m__call__\u001b[0m:\u001b[36m159\u001b[0m - \u001b[1mlayout detection cost: 5.89\u001b[0m\n"
     ]
    },
    {
     "name": "stdout",
     "output_type": "stream",
     "text": [
      "\n",
      "0: 1216x1888 (no detections), 1490.7ms\n",
      "Speed: 7.8ms preprocess, 1490.7ms inference, 0.4ms postprocess per image at shape (1, 3, 1216, 1888)\n"
     ]
    },
    {
     "name": "stderr",
     "output_type": "stream",
     "text": [
      "\u001b[32m2024-08-23 15:29:17.145\u001b[0m | \u001b[1mINFO    \u001b[0m | \u001b[36mmagic_pdf.model.pdf_extract_kit\u001b[0m:\u001b[36m__call__\u001b[0m:\u001b[36m189\u001b[0m - \u001b[1mformula nums: 0, mfr time: 0.0\u001b[0m\n",
      "\u001b[32m2024-08-23 15:29:17.146\u001b[0m | \u001b[1mINFO    \u001b[0m | \u001b[36mmagic_pdf.model.pdf_extract_kit\u001b[0m:\u001b[36m__call__\u001b[0m:\u001b[36m294\u001b[0m - \u001b[1mtable cost: 0.0\u001b[0m\n",
      "\u001b[32m2024-08-23 15:29:22.992\u001b[0m | \u001b[1mINFO    \u001b[0m | \u001b[36mmagic_pdf.model.pdf_extract_kit\u001b[0m:\u001b[36m__call__\u001b[0m:\u001b[36m159\u001b[0m - \u001b[1mlayout detection cost: 5.85\u001b[0m\n"
     ]
    },
    {
     "name": "stdout",
     "output_type": "stream",
     "text": [
      "\n",
      "0: 1216x1888 (no detections), 1420.8ms\n",
      "Speed: 7.9ms preprocess, 1420.8ms inference, 0.3ms postprocess per image at shape (1, 3, 1216, 1888)\n"
     ]
    },
    {
     "name": "stderr",
     "output_type": "stream",
     "text": [
      "\u001b[32m2024-08-23 15:29:24.423\u001b[0m | \u001b[1mINFO    \u001b[0m | \u001b[36mmagic_pdf.model.pdf_extract_kit\u001b[0m:\u001b[36m__call__\u001b[0m:\u001b[36m189\u001b[0m - \u001b[1mformula nums: 0, mfr time: 0.0\u001b[0m\n",
      "\u001b[32m2024-08-23 15:29:24.425\u001b[0m | \u001b[1mINFO    \u001b[0m | \u001b[36mmagic_pdf.model.pdf_extract_kit\u001b[0m:\u001b[36m__call__\u001b[0m:\u001b[36m294\u001b[0m - \u001b[1mtable cost: 0.0\u001b[0m\n",
      "\u001b[32m2024-08-23 15:29:30.237\u001b[0m | \u001b[1mINFO    \u001b[0m | \u001b[36mmagic_pdf.model.pdf_extract_kit\u001b[0m:\u001b[36m__call__\u001b[0m:\u001b[36m159\u001b[0m - \u001b[1mlayout detection cost: 5.81\u001b[0m\n"
     ]
    },
    {
     "name": "stdout",
     "output_type": "stream",
     "text": [
      "\n",
      "0: 1216x1888 (no detections), 1447.9ms\n",
      "Speed: 7.9ms preprocess, 1447.9ms inference, 0.3ms postprocess per image at shape (1, 3, 1216, 1888)\n"
     ]
    },
    {
     "name": "stderr",
     "output_type": "stream",
     "text": [
      "\u001b[32m2024-08-23 15:29:31.696\u001b[0m | \u001b[1mINFO    \u001b[0m | \u001b[36mmagic_pdf.model.pdf_extract_kit\u001b[0m:\u001b[36m__call__\u001b[0m:\u001b[36m189\u001b[0m - \u001b[1mformula nums: 0, mfr time: 0.0\u001b[0m\n",
      "\u001b[32m2024-08-23 15:29:31.698\u001b[0m | \u001b[1mINFO    \u001b[0m | \u001b[36mmagic_pdf.model.pdf_extract_kit\u001b[0m:\u001b[36m__call__\u001b[0m:\u001b[36m280\u001b[0m - \u001b[1m------------------table recognition processing begins-----------------\u001b[0m\n",
      "\u001b[32m2024-08-23 15:31:50.608\u001b[0m | \u001b[1mINFO    \u001b[0m | \u001b[36mmagic_pdf.model.pdf_extract_kit\u001b[0m:\u001b[36m__call__\u001b[0m:\u001b[36m284\u001b[0m - \u001b[1m------------table recognition processing ends within 138.90998792648315s-----\u001b[0m\n",
      "\u001b[32m2024-08-23 15:31:50.608\u001b[0m | \u001b[1mINFO    \u001b[0m | \u001b[36mmagic_pdf.model.pdf_extract_kit\u001b[0m:\u001b[36m__call__\u001b[0m:\u001b[36m294\u001b[0m - \u001b[1mtable cost: 138.91\u001b[0m\n",
      "\u001b[32m2024-08-23 15:31:56.983\u001b[0m | \u001b[1mINFO    \u001b[0m | \u001b[36mmagic_pdf.model.pdf_extract_kit\u001b[0m:\u001b[36m__call__\u001b[0m:\u001b[36m159\u001b[0m - \u001b[1mlayout detection cost: 6.37\u001b[0m\n"
     ]
    },
    {
     "name": "stdout",
     "output_type": "stream",
     "text": [
      "\n",
      "0: 1216x1888 (no detections), 1509.2ms\n",
      "Speed: 8.2ms preprocess, 1509.2ms inference, 0.6ms postprocess per image at shape (1, 3, 1216, 1888)\n"
     ]
    },
    {
     "name": "stderr",
     "output_type": "stream",
     "text": [
      "\u001b[32m2024-08-23 15:31:58.508\u001b[0m | \u001b[1mINFO    \u001b[0m | \u001b[36mmagic_pdf.model.pdf_extract_kit\u001b[0m:\u001b[36m__call__\u001b[0m:\u001b[36m189\u001b[0m - \u001b[1mformula nums: 0, mfr time: 0.0\u001b[0m\n",
      "\u001b[32m2024-08-23 15:31:58.509\u001b[0m | \u001b[1mINFO    \u001b[0m | \u001b[36mmagic_pdf.model.pdf_extract_kit\u001b[0m:\u001b[36m__call__\u001b[0m:\u001b[36m294\u001b[0m - \u001b[1mtable cost: 0.0\u001b[0m\n",
      "\u001b[32m2024-08-23 15:32:04.433\u001b[0m | \u001b[1mINFO    \u001b[0m | \u001b[36mmagic_pdf.model.pdf_extract_kit\u001b[0m:\u001b[36m__call__\u001b[0m:\u001b[36m159\u001b[0m - \u001b[1mlayout detection cost: 5.92\u001b[0m\n"
     ]
    },
    {
     "name": "stdout",
     "output_type": "stream",
     "text": [
      "\n",
      "0: 1216x1888 (no detections), 1679.0ms\n",
      "Speed: 7.2ms preprocess, 1679.0ms inference, 0.3ms postprocess per image at shape (1, 3, 1216, 1888)\n"
     ]
    },
    {
     "name": "stderr",
     "output_type": "stream",
     "text": [
      "\u001b[32m2024-08-23 15:32:06.122\u001b[0m | \u001b[1mINFO    \u001b[0m | \u001b[36mmagic_pdf.model.pdf_extract_kit\u001b[0m:\u001b[36m__call__\u001b[0m:\u001b[36m189\u001b[0m - \u001b[1mformula nums: 0, mfr time: 0.0\u001b[0m\n",
      "\u001b[32m2024-08-23 15:32:06.123\u001b[0m | \u001b[1mINFO    \u001b[0m | \u001b[36mmagic_pdf.model.pdf_extract_kit\u001b[0m:\u001b[36m__call__\u001b[0m:\u001b[36m294\u001b[0m - \u001b[1mtable cost: 0.0\u001b[0m\n",
      "\u001b[32m2024-08-23 15:32:12.142\u001b[0m | \u001b[1mINFO    \u001b[0m | \u001b[36mmagic_pdf.model.pdf_extract_kit\u001b[0m:\u001b[36m__call__\u001b[0m:\u001b[36m159\u001b[0m - \u001b[1mlayout detection cost: 6.02\u001b[0m\n"
     ]
    },
    {
     "name": "stdout",
     "output_type": "stream",
     "text": [
      "\n",
      "0: 1216x1888 (no detections), 1514.4ms\n",
      "Speed: 7.2ms preprocess, 1514.4ms inference, 0.3ms postprocess per image at shape (1, 3, 1216, 1888)\n"
     ]
    },
    {
     "name": "stderr",
     "output_type": "stream",
     "text": [
      "\u001b[32m2024-08-23 15:32:13.666\u001b[0m | \u001b[1mINFO    \u001b[0m | \u001b[36mmagic_pdf.model.pdf_extract_kit\u001b[0m:\u001b[36m__call__\u001b[0m:\u001b[36m189\u001b[0m - \u001b[1mformula nums: 0, mfr time: 0.0\u001b[0m\n",
      "\u001b[32m2024-08-23 15:32:13.667\u001b[0m | \u001b[1mINFO    \u001b[0m | \u001b[36mmagic_pdf.model.pdf_extract_kit\u001b[0m:\u001b[36m__call__\u001b[0m:\u001b[36m294\u001b[0m - \u001b[1mtable cost: 0.0\u001b[0m\n",
      "\u001b[32m2024-08-23 15:32:19.504\u001b[0m | \u001b[1mINFO    \u001b[0m | \u001b[36mmagic_pdf.model.pdf_extract_kit\u001b[0m:\u001b[36m__call__\u001b[0m:\u001b[36m159\u001b[0m - \u001b[1mlayout detection cost: 5.84\u001b[0m\n"
     ]
    },
    {
     "name": "stdout",
     "output_type": "stream",
     "text": [
      "\n",
      "0: 1216x1888 (no detections), 1417.9ms\n",
      "Speed: 7.1ms preprocess, 1417.9ms inference, 0.3ms postprocess per image at shape (1, 3, 1216, 1888)\n"
     ]
    },
    {
     "name": "stderr",
     "output_type": "stream",
     "text": [
      "\u001b[32m2024-08-23 15:32:20.931\u001b[0m | \u001b[1mINFO    \u001b[0m | \u001b[36mmagic_pdf.model.pdf_extract_kit\u001b[0m:\u001b[36m__call__\u001b[0m:\u001b[36m189\u001b[0m - \u001b[1mformula nums: 0, mfr time: 0.0\u001b[0m\n",
      "\u001b[32m2024-08-23 15:32:20.933\u001b[0m | \u001b[1mINFO    \u001b[0m | \u001b[36mmagic_pdf.model.pdf_extract_kit\u001b[0m:\u001b[36m__call__\u001b[0m:\u001b[36m294\u001b[0m - \u001b[1mtable cost: 0.0\u001b[0m\n",
      "\u001b[32m2024-08-23 15:32:26.554\u001b[0m | \u001b[1mINFO    \u001b[0m | \u001b[36mmagic_pdf.model.pdf_extract_kit\u001b[0m:\u001b[36m__call__\u001b[0m:\u001b[36m159\u001b[0m - \u001b[1mlayout detection cost: 5.62\u001b[0m\n"
     ]
    },
    {
     "name": "stdout",
     "output_type": "stream",
     "text": [
      "\n",
      "0: 1216x1888 (no detections), 1403.7ms\n",
      "Speed: 7.5ms preprocess, 1403.7ms inference, 0.3ms postprocess per image at shape (1, 3, 1216, 1888)\n"
     ]
    },
    {
     "name": "stderr",
     "output_type": "stream",
     "text": [
      "\u001b[32m2024-08-23 15:32:27.968\u001b[0m | \u001b[1mINFO    \u001b[0m | \u001b[36mmagic_pdf.model.pdf_extract_kit\u001b[0m:\u001b[36m__call__\u001b[0m:\u001b[36m189\u001b[0m - \u001b[1mformula nums: 0, mfr time: 0.0\u001b[0m\n",
      "\u001b[32m2024-08-23 15:32:27.969\u001b[0m | \u001b[1mINFO    \u001b[0m | \u001b[36mmagic_pdf.model.pdf_extract_kit\u001b[0m:\u001b[36m__call__\u001b[0m:\u001b[36m294\u001b[0m - \u001b[1mtable cost: 0.0\u001b[0m\n",
      "\u001b[32m2024-08-23 15:32:33.748\u001b[0m | \u001b[1mINFO    \u001b[0m | \u001b[36mmagic_pdf.model.pdf_extract_kit\u001b[0m:\u001b[36m__call__\u001b[0m:\u001b[36m159\u001b[0m - \u001b[1mlayout detection cost: 5.78\u001b[0m\n"
     ]
    },
    {
     "name": "stdout",
     "output_type": "stream",
     "text": [
      "\n",
      "0: 1216x1888 (no detections), 1473.0ms\n",
      "Speed: 7.8ms preprocess, 1473.0ms inference, 0.3ms postprocess per image at shape (1, 3, 1216, 1888)\n"
     ]
    },
    {
     "name": "stderr",
     "output_type": "stream",
     "text": [
      "\u001b[32m2024-08-23 15:32:35.232\u001b[0m | \u001b[1mINFO    \u001b[0m | \u001b[36mmagic_pdf.model.pdf_extract_kit\u001b[0m:\u001b[36m__call__\u001b[0m:\u001b[36m189\u001b[0m - \u001b[1mformula nums: 0, mfr time: 0.0\u001b[0m\n",
      "\u001b[32m2024-08-23 15:32:35.233\u001b[0m | \u001b[1mINFO    \u001b[0m | \u001b[36mmagic_pdf.model.pdf_extract_kit\u001b[0m:\u001b[36m__call__\u001b[0m:\u001b[36m294\u001b[0m - \u001b[1mtable cost: 0.0\u001b[0m\n",
      "\u001b[32m2024-08-23 15:32:41.069\u001b[0m | \u001b[1mINFO    \u001b[0m | \u001b[36mmagic_pdf.model.pdf_extract_kit\u001b[0m:\u001b[36m__call__\u001b[0m:\u001b[36m159\u001b[0m - \u001b[1mlayout detection cost: 5.84\u001b[0m\n"
     ]
    },
    {
     "name": "stdout",
     "output_type": "stream",
     "text": [
      "\n",
      "0: 1216x1888 (no detections), 1464.9ms\n",
      "Speed: 7.1ms preprocess, 1464.9ms inference, 0.3ms postprocess per image at shape (1, 3, 1216, 1888)\n"
     ]
    },
    {
     "name": "stderr",
     "output_type": "stream",
     "text": [
      "\u001b[32m2024-08-23 15:32:42.544\u001b[0m | \u001b[1mINFO    \u001b[0m | \u001b[36mmagic_pdf.model.pdf_extract_kit\u001b[0m:\u001b[36m__call__\u001b[0m:\u001b[36m189\u001b[0m - \u001b[1mformula nums: 0, mfr time: 0.0\u001b[0m\n",
      "\u001b[32m2024-08-23 15:32:42.546\u001b[0m | \u001b[1mINFO    \u001b[0m | \u001b[36mmagic_pdf.model.pdf_extract_kit\u001b[0m:\u001b[36m__call__\u001b[0m:\u001b[36m280\u001b[0m - \u001b[1m------------------table recognition processing begins-----------------\u001b[0m\n",
      "\u001b[32m2024-08-23 15:39:29.536\u001b[0m | \u001b[1mINFO    \u001b[0m | \u001b[36mmagic_pdf.model.pdf_extract_kit\u001b[0m:\u001b[36m__call__\u001b[0m:\u001b[36m284\u001b[0m - \u001b[1m------------table recognition processing ends within 406.98983502388s-----\u001b[0m\n",
      "\u001b[32m2024-08-23 15:39:29.537\u001b[0m | \u001b[33m\u001b[1mWARNING \u001b[0m | \u001b[36mmagic_pdf.model.pdf_extract_kit\u001b[0m:\u001b[36m__call__\u001b[0m:\u001b[36m286\u001b[0m - \u001b[33m\u001b[1m------------table recognition processing exceeds max time 400s----------\u001b[0m\n",
      "\u001b[32m2024-08-23 15:39:29.537\u001b[0m | \u001b[33m\u001b[1mWARNING \u001b[0m | \u001b[36mmagic_pdf.model.pdf_extract_kit\u001b[0m:\u001b[36m__call__\u001b[0m:\u001b[36m292\u001b[0m - \u001b[33m\u001b[1m------------table recognition processing fails----------\u001b[0m\n",
      "\u001b[32m2024-08-23 15:39:29.537\u001b[0m | \u001b[1mINFO    \u001b[0m | \u001b[36mmagic_pdf.model.pdf_extract_kit\u001b[0m:\u001b[36m__call__\u001b[0m:\u001b[36m294\u001b[0m - \u001b[1mtable cost: 406.99\u001b[0m\n",
      "\u001b[32m2024-08-23 15:39:35.757\u001b[0m | \u001b[1mINFO    \u001b[0m | \u001b[36mmagic_pdf.model.pdf_extract_kit\u001b[0m:\u001b[36m__call__\u001b[0m:\u001b[36m159\u001b[0m - \u001b[1mlayout detection cost: 6.22\u001b[0m\n"
     ]
    },
    {
     "name": "stdout",
     "output_type": "stream",
     "text": [
      "\n",
      "0: 1216x1888 (no detections), 1557.7ms\n",
      "Speed: 8.2ms preprocess, 1557.7ms inference, 0.3ms postprocess per image at shape (1, 3, 1216, 1888)\n"
     ]
    },
    {
     "name": "stderr",
     "output_type": "stream",
     "text": [
      "\u001b[32m2024-08-23 15:39:37.331\u001b[0m | \u001b[1mINFO    \u001b[0m | \u001b[36mmagic_pdf.model.pdf_extract_kit\u001b[0m:\u001b[36m__call__\u001b[0m:\u001b[36m189\u001b[0m - \u001b[1mformula nums: 0, mfr time: 0.0\u001b[0m\n",
      "\u001b[32m2024-08-23 15:39:37.333\u001b[0m | \u001b[1mINFO    \u001b[0m | \u001b[36mmagic_pdf.model.pdf_extract_kit\u001b[0m:\u001b[36m__call__\u001b[0m:\u001b[36m294\u001b[0m - \u001b[1mtable cost: 0.0\u001b[0m\n",
      "\u001b[32m2024-08-23 15:39:43.407\u001b[0m | \u001b[1mINFO    \u001b[0m | \u001b[36mmagic_pdf.model.pdf_extract_kit\u001b[0m:\u001b[36m__call__\u001b[0m:\u001b[36m159\u001b[0m - \u001b[1mlayout detection cost: 6.07\u001b[0m\n"
     ]
    },
    {
     "name": "stdout",
     "output_type": "stream",
     "text": [
      "\n",
      "0: 1216x1888 (no detections), 1514.2ms\n",
      "Speed: 7.8ms preprocess, 1514.2ms inference, 0.3ms postprocess per image at shape (1, 3, 1216, 1888)\n"
     ]
    },
    {
     "name": "stderr",
     "output_type": "stream",
     "text": [
      "\u001b[32m2024-08-23 15:39:44.931\u001b[0m | \u001b[1mINFO    \u001b[0m | \u001b[36mmagic_pdf.model.pdf_extract_kit\u001b[0m:\u001b[36m__call__\u001b[0m:\u001b[36m189\u001b[0m - \u001b[1mformula nums: 0, mfr time: 0.0\u001b[0m\n",
      "\u001b[32m2024-08-23 15:39:44.933\u001b[0m | \u001b[1mINFO    \u001b[0m | \u001b[36mmagic_pdf.model.pdf_extract_kit\u001b[0m:\u001b[36m__call__\u001b[0m:\u001b[36m294\u001b[0m - \u001b[1mtable cost: 0.0\u001b[0m\n",
      "\u001b[32m2024-08-23 15:39:51.055\u001b[0m | \u001b[1mINFO    \u001b[0m | \u001b[36mmagic_pdf.model.pdf_extract_kit\u001b[0m:\u001b[36m__call__\u001b[0m:\u001b[36m159\u001b[0m - \u001b[1mlayout detection cost: 6.12\u001b[0m\n"
     ]
    },
    {
     "name": "stdout",
     "output_type": "stream",
     "text": [
      "\n",
      "0: 1216x1888 (no detections), 1525.8ms\n",
      "Speed: 9.3ms preprocess, 1525.8ms inference, 0.3ms postprocess per image at shape (1, 3, 1216, 1888)\n"
     ]
    },
    {
     "name": "stderr",
     "output_type": "stream",
     "text": [
      "\u001b[32m2024-08-23 15:39:52.593\u001b[0m | \u001b[1mINFO    \u001b[0m | \u001b[36mmagic_pdf.model.pdf_extract_kit\u001b[0m:\u001b[36m__call__\u001b[0m:\u001b[36m189\u001b[0m - \u001b[1mformula nums: 0, mfr time: 0.0\u001b[0m\n",
      "\u001b[32m2024-08-23 15:39:52.595\u001b[0m | \u001b[1mINFO    \u001b[0m | \u001b[36mmagic_pdf.model.pdf_extract_kit\u001b[0m:\u001b[36m__call__\u001b[0m:\u001b[36m294\u001b[0m - \u001b[1mtable cost: 0.0\u001b[0m\n",
      "\u001b[32m2024-08-23 15:39:58.685\u001b[0m | \u001b[1mINFO    \u001b[0m | \u001b[36mmagic_pdf.model.pdf_extract_kit\u001b[0m:\u001b[36m__call__\u001b[0m:\u001b[36m159\u001b[0m - \u001b[1mlayout detection cost: 6.09\u001b[0m\n"
     ]
    },
    {
     "name": "stdout",
     "output_type": "stream",
     "text": [
      "\n",
      "0: 1216x1888 (no detections), 1512.4ms\n",
      "Speed: 8.4ms preprocess, 1512.4ms inference, 0.3ms postprocess per image at shape (1, 3, 1216, 1888)\n"
     ]
    },
    {
     "name": "stderr",
     "output_type": "stream",
     "text": [
      "\u001b[32m2024-08-23 15:40:00.208\u001b[0m | \u001b[1mINFO    \u001b[0m | \u001b[36mmagic_pdf.model.pdf_extract_kit\u001b[0m:\u001b[36m__call__\u001b[0m:\u001b[36m189\u001b[0m - \u001b[1mformula nums: 0, mfr time: 0.0\u001b[0m\n",
      "\u001b[32m2024-08-23 15:40:00.210\u001b[0m | \u001b[1mINFO    \u001b[0m | \u001b[36mmagic_pdf.model.pdf_extract_kit\u001b[0m:\u001b[36m__call__\u001b[0m:\u001b[36m294\u001b[0m - \u001b[1mtable cost: 0.0\u001b[0m\n",
      "\u001b[32m2024-08-23 15:40:06.369\u001b[0m | \u001b[1mINFO    \u001b[0m | \u001b[36mmagic_pdf.model.pdf_extract_kit\u001b[0m:\u001b[36m__call__\u001b[0m:\u001b[36m159\u001b[0m - \u001b[1mlayout detection cost: 6.16\u001b[0m\n"
     ]
    },
    {
     "name": "stdout",
     "output_type": "stream",
     "text": [
      "\n",
      "0: 1216x1888 (no detections), 1552.6ms\n",
      "Speed: 7.9ms preprocess, 1552.6ms inference, 0.3ms postprocess per image at shape (1, 3, 1216, 1888)\n"
     ]
    },
    {
     "name": "stderr",
     "output_type": "stream",
     "text": [
      "\u001b[32m2024-08-23 15:40:07.933\u001b[0m | \u001b[1mINFO    \u001b[0m | \u001b[36mmagic_pdf.model.pdf_extract_kit\u001b[0m:\u001b[36m__call__\u001b[0m:\u001b[36m189\u001b[0m - \u001b[1mformula nums: 0, mfr time: 0.0\u001b[0m\n",
      "\u001b[32m2024-08-23 15:40:07.934\u001b[0m | \u001b[1mINFO    \u001b[0m | \u001b[36mmagic_pdf.model.pdf_extract_kit\u001b[0m:\u001b[36m__call__\u001b[0m:\u001b[36m294\u001b[0m - \u001b[1mtable cost: 0.0\u001b[0m\n",
      "\u001b[32m2024-08-23 15:40:14.069\u001b[0m | \u001b[1mINFO    \u001b[0m | \u001b[36mmagic_pdf.model.pdf_extract_kit\u001b[0m:\u001b[36m__call__\u001b[0m:\u001b[36m159\u001b[0m - \u001b[1mlayout detection cost: 6.13\u001b[0m\n"
     ]
    },
    {
     "name": "stdout",
     "output_type": "stream",
     "text": [
      "\n",
      "0: 1216x1888 (no detections), 1566.1ms\n",
      "Speed: 8.6ms preprocess, 1566.1ms inference, 0.3ms postprocess per image at shape (1, 3, 1216, 1888)\n"
     ]
    },
    {
     "name": "stderr",
     "output_type": "stream",
     "text": [
      "\u001b[32m2024-08-23 15:40:15.647\u001b[0m | \u001b[1mINFO    \u001b[0m | \u001b[36mmagic_pdf.model.pdf_extract_kit\u001b[0m:\u001b[36m__call__\u001b[0m:\u001b[36m189\u001b[0m - \u001b[1mformula nums: 0, mfr time: 0.0\u001b[0m\n",
      "\u001b[32m2024-08-23 15:40:15.648\u001b[0m | \u001b[1mINFO    \u001b[0m | \u001b[36mmagic_pdf.model.pdf_extract_kit\u001b[0m:\u001b[36m__call__\u001b[0m:\u001b[36m294\u001b[0m - \u001b[1mtable cost: 0.0\u001b[0m\n",
      "\u001b[32m2024-08-23 15:40:21.824\u001b[0m | \u001b[1mINFO    \u001b[0m | \u001b[36mmagic_pdf.model.pdf_extract_kit\u001b[0m:\u001b[36m__call__\u001b[0m:\u001b[36m159\u001b[0m - \u001b[1mlayout detection cost: 6.18\u001b[0m\n"
     ]
    },
    {
     "name": "stdout",
     "output_type": "stream",
     "text": [
      "\n",
      "0: 1216x1888 (no detections), 1549.9ms\n",
      "Speed: 8.4ms preprocess, 1549.9ms inference, 0.3ms postprocess per image at shape (1, 3, 1216, 1888)\n"
     ]
    },
    {
     "name": "stderr",
     "output_type": "stream",
     "text": [
      "\u001b[32m2024-08-23 15:40:23.385\u001b[0m | \u001b[1mINFO    \u001b[0m | \u001b[36mmagic_pdf.model.pdf_extract_kit\u001b[0m:\u001b[36m__call__\u001b[0m:\u001b[36m189\u001b[0m - \u001b[1mformula nums: 0, mfr time: 0.0\u001b[0m\n",
      "\u001b[32m2024-08-23 15:40:23.387\u001b[0m | \u001b[1mINFO    \u001b[0m | \u001b[36mmagic_pdf.model.pdf_extract_kit\u001b[0m:\u001b[36m__call__\u001b[0m:\u001b[36m294\u001b[0m - \u001b[1mtable cost: 0.0\u001b[0m\n",
      "\u001b[32m2024-08-23 15:40:29.577\u001b[0m | \u001b[1mINFO    \u001b[0m | \u001b[36mmagic_pdf.model.pdf_extract_kit\u001b[0m:\u001b[36m__call__\u001b[0m:\u001b[36m159\u001b[0m - \u001b[1mlayout detection cost: 6.19\u001b[0m\n"
     ]
    },
    {
     "name": "stdout",
     "output_type": "stream",
     "text": [
      "\n",
      "0: 1216x1888 (no detections), 1548.4ms\n",
      "Speed: 7.8ms preprocess, 1548.4ms inference, 0.3ms postprocess per image at shape (1, 3, 1216, 1888)\n"
     ]
    },
    {
     "name": "stderr",
     "output_type": "stream",
     "text": [
      "\u001b[32m2024-08-23 15:40:31.136\u001b[0m | \u001b[1mINFO    \u001b[0m | \u001b[36mmagic_pdf.model.pdf_extract_kit\u001b[0m:\u001b[36m__call__\u001b[0m:\u001b[36m189\u001b[0m - \u001b[1mformula nums: 0, mfr time: 0.0\u001b[0m\n",
      "\u001b[32m2024-08-23 15:40:31.138\u001b[0m | \u001b[1mINFO    \u001b[0m | \u001b[36mmagic_pdf.model.pdf_extract_kit\u001b[0m:\u001b[36m__call__\u001b[0m:\u001b[36m294\u001b[0m - \u001b[1mtable cost: 0.0\u001b[0m\n",
      "\u001b[32m2024-08-23 15:40:37.326\u001b[0m | \u001b[1mINFO    \u001b[0m | \u001b[36mmagic_pdf.model.pdf_extract_kit\u001b[0m:\u001b[36m__call__\u001b[0m:\u001b[36m159\u001b[0m - \u001b[1mlayout detection cost: 6.19\u001b[0m\n"
     ]
    },
    {
     "name": "stdout",
     "output_type": "stream",
     "text": [
      "\n",
      "0: 1216x1888 (no detections), 1565.3ms\n",
      "Speed: 9.0ms preprocess, 1565.3ms inference, 0.3ms postprocess per image at shape (1, 3, 1216, 1888)\n"
     ]
    },
    {
     "name": "stderr",
     "output_type": "stream",
     "text": [
      "\u001b[32m2024-08-23 15:40:38.904\u001b[0m | \u001b[1mINFO    \u001b[0m | \u001b[36mmagic_pdf.model.pdf_extract_kit\u001b[0m:\u001b[36m__call__\u001b[0m:\u001b[36m189\u001b[0m - \u001b[1mformula nums: 0, mfr time: 0.0\u001b[0m\n",
      "\u001b[32m2024-08-23 15:40:38.906\u001b[0m | \u001b[1mINFO    \u001b[0m | \u001b[36mmagic_pdf.model.pdf_extract_kit\u001b[0m:\u001b[36m__call__\u001b[0m:\u001b[36m294\u001b[0m - \u001b[1mtable cost: 0.0\u001b[0m\n",
      "\u001b[32m2024-08-23 15:40:45.152\u001b[0m | \u001b[1mINFO    \u001b[0m | \u001b[36mmagic_pdf.model.pdf_extract_kit\u001b[0m:\u001b[36m__call__\u001b[0m:\u001b[36m159\u001b[0m - \u001b[1mlayout detection cost: 6.25\u001b[0m\n"
     ]
    },
    {
     "name": "stdout",
     "output_type": "stream",
     "text": [
      "\n",
      "0: 1216x1888 (no detections), 1538.4ms\n",
      "Speed: 23.2ms preprocess, 1538.4ms inference, 0.3ms postprocess per image at shape (1, 3, 1216, 1888)\n"
     ]
    },
    {
     "name": "stderr",
     "output_type": "stream",
     "text": [
      "\u001b[32m2024-08-23 15:40:46.717\u001b[0m | \u001b[1mINFO    \u001b[0m | \u001b[36mmagic_pdf.model.pdf_extract_kit\u001b[0m:\u001b[36m__call__\u001b[0m:\u001b[36m189\u001b[0m - \u001b[1mformula nums: 0, mfr time: 0.0\u001b[0m\n",
      "\u001b[32m2024-08-23 15:40:46.718\u001b[0m | \u001b[1mINFO    \u001b[0m | \u001b[36mmagic_pdf.model.pdf_extract_kit\u001b[0m:\u001b[36m__call__\u001b[0m:\u001b[36m294\u001b[0m - \u001b[1mtable cost: 0.0\u001b[0m\n",
      "\u001b[32m2024-08-23 15:40:52.905\u001b[0m | \u001b[1mINFO    \u001b[0m | \u001b[36mmagic_pdf.model.pdf_extract_kit\u001b[0m:\u001b[36m__call__\u001b[0m:\u001b[36m159\u001b[0m - \u001b[1mlayout detection cost: 6.19\u001b[0m\n"
     ]
    },
    {
     "name": "stdout",
     "output_type": "stream",
     "text": [
      "\n",
      "0: 1216x1888 (no detections), 1603.4ms\n",
      "Speed: 10.0ms preprocess, 1603.4ms inference, 0.3ms postprocess per image at shape (1, 3, 1216, 1888)\n"
     ]
    },
    {
     "name": "stderr",
     "output_type": "stream",
     "text": [
      "\u001b[32m2024-08-23 15:40:54.522\u001b[0m | \u001b[1mINFO    \u001b[0m | \u001b[36mmagic_pdf.model.pdf_extract_kit\u001b[0m:\u001b[36m__call__\u001b[0m:\u001b[36m189\u001b[0m - \u001b[1mformula nums: 0, mfr time: 0.0\u001b[0m\n",
      "\u001b[32m2024-08-23 15:40:54.523\u001b[0m | \u001b[1mINFO    \u001b[0m | \u001b[36mmagic_pdf.model.pdf_extract_kit\u001b[0m:\u001b[36m__call__\u001b[0m:\u001b[36m294\u001b[0m - \u001b[1mtable cost: 0.0\u001b[0m\n",
      "\u001b[32m2024-08-23 15:41:00.628\u001b[0m | \u001b[1mINFO    \u001b[0m | \u001b[36mmagic_pdf.model.pdf_extract_kit\u001b[0m:\u001b[36m__call__\u001b[0m:\u001b[36m159\u001b[0m - \u001b[1mlayout detection cost: 6.1\u001b[0m\n"
     ]
    },
    {
     "name": "stdout",
     "output_type": "stream",
     "text": [
      "\n",
      "0: 1216x1888 (no detections), 1641.2ms\n",
      "Speed: 9.8ms preprocess, 1641.2ms inference, 0.3ms postprocess per image at shape (1, 3, 1216, 1888)\n"
     ]
    },
    {
     "name": "stderr",
     "output_type": "stream",
     "text": [
      "\u001b[32m2024-08-23 15:41:02.282\u001b[0m | \u001b[1mINFO    \u001b[0m | \u001b[36mmagic_pdf.model.pdf_extract_kit\u001b[0m:\u001b[36m__call__\u001b[0m:\u001b[36m189\u001b[0m - \u001b[1mformula nums: 0, mfr time: 0.0\u001b[0m\n",
      "\u001b[32m2024-08-23 15:41:02.284\u001b[0m | \u001b[1mINFO    \u001b[0m | \u001b[36mmagic_pdf.model.pdf_extract_kit\u001b[0m:\u001b[36m__call__\u001b[0m:\u001b[36m294\u001b[0m - \u001b[1mtable cost: 0.0\u001b[0m\n",
      "\u001b[32m2024-08-23 15:41:08.481\u001b[0m | \u001b[1mINFO    \u001b[0m | \u001b[36mmagic_pdf.model.pdf_extract_kit\u001b[0m:\u001b[36m__call__\u001b[0m:\u001b[36m159\u001b[0m - \u001b[1mlayout detection cost: 6.2\u001b[0m\n"
     ]
    },
    {
     "name": "stdout",
     "output_type": "stream",
     "text": [
      "\n",
      "0: 1216x1888 (no detections), 1611.6ms\n",
      "Speed: 9.3ms preprocess, 1611.6ms inference, 0.3ms postprocess per image at shape (1, 3, 1216, 1888)\n"
     ]
    },
    {
     "name": "stderr",
     "output_type": "stream",
     "text": [
      "\u001b[32m2024-08-23 15:41:10.106\u001b[0m | \u001b[1mINFO    \u001b[0m | \u001b[36mmagic_pdf.model.pdf_extract_kit\u001b[0m:\u001b[36m__call__\u001b[0m:\u001b[36m189\u001b[0m - \u001b[1mformula nums: 0, mfr time: 0.0\u001b[0m\n",
      "\u001b[32m2024-08-23 15:41:10.108\u001b[0m | \u001b[1mINFO    \u001b[0m | \u001b[36mmagic_pdf.model.pdf_extract_kit\u001b[0m:\u001b[36m__call__\u001b[0m:\u001b[36m280\u001b[0m - \u001b[1m------------------table recognition processing begins-----------------\u001b[0m\n",
      "\u001b[32m2024-08-23 15:44:12.504\u001b[0m | \u001b[1mINFO    \u001b[0m | \u001b[36mmagic_pdf.model.pdf_extract_kit\u001b[0m:\u001b[36m__call__\u001b[0m:\u001b[36m284\u001b[0m - \u001b[1m------------table recognition processing ends within 182.3965060710907s-----\u001b[0m\n",
      "\u001b[32m2024-08-23 15:44:12.505\u001b[0m | \u001b[1mINFO    \u001b[0m | \u001b[36mmagic_pdf.model.pdf_extract_kit\u001b[0m:\u001b[36m__call__\u001b[0m:\u001b[36m294\u001b[0m - \u001b[1mtable cost: 182.4\u001b[0m\n",
      "\u001b[32m2024-08-23 15:44:18.847\u001b[0m | \u001b[1mINFO    \u001b[0m | \u001b[36mmagic_pdf.model.pdf_extract_kit\u001b[0m:\u001b[36m__call__\u001b[0m:\u001b[36m159\u001b[0m - \u001b[1mlayout detection cost: 6.34\u001b[0m\n"
     ]
    },
    {
     "name": "stdout",
     "output_type": "stream",
     "text": [
      "\n",
      "0: 1216x1888 (no detections), 1589.4ms\n",
      "Speed: 8.3ms preprocess, 1589.4ms inference, 0.3ms postprocess per image at shape (1, 3, 1216, 1888)\n"
     ]
    },
    {
     "name": "stderr",
     "output_type": "stream",
     "text": [
      "\u001b[32m2024-08-23 15:44:20.451\u001b[0m | \u001b[1mINFO    \u001b[0m | \u001b[36mmagic_pdf.model.pdf_extract_kit\u001b[0m:\u001b[36m__call__\u001b[0m:\u001b[36m189\u001b[0m - \u001b[1mformula nums: 0, mfr time: 0.0\u001b[0m\n",
      "\u001b[32m2024-08-23 15:44:20.453\u001b[0m | \u001b[1mINFO    \u001b[0m | \u001b[36mmagic_pdf.model.pdf_extract_kit\u001b[0m:\u001b[36m__call__\u001b[0m:\u001b[36m294\u001b[0m - \u001b[1mtable cost: 0.0\u001b[0m\n",
      "\u001b[32m2024-08-23 15:44:26.737\u001b[0m | \u001b[1mINFO    \u001b[0m | \u001b[36mmagic_pdf.model.pdf_extract_kit\u001b[0m:\u001b[36m__call__\u001b[0m:\u001b[36m159\u001b[0m - \u001b[1mlayout detection cost: 6.28\u001b[0m\n"
     ]
    },
    {
     "name": "stdout",
     "output_type": "stream",
     "text": [
      "\n",
      "0: 1216x1888 (no detections), 1623.8ms\n",
      "Speed: 8.5ms preprocess, 1623.8ms inference, 0.3ms postprocess per image at shape (1, 3, 1216, 1888)\n"
     ]
    },
    {
     "name": "stderr",
     "output_type": "stream",
     "text": [
      "\u001b[32m2024-08-23 15:44:28.374\u001b[0m | \u001b[1mINFO    \u001b[0m | \u001b[36mmagic_pdf.model.pdf_extract_kit\u001b[0m:\u001b[36m__call__\u001b[0m:\u001b[36m189\u001b[0m - \u001b[1mformula nums: 0, mfr time: 0.0\u001b[0m\n",
      "\u001b[32m2024-08-23 15:44:28.376\u001b[0m | \u001b[1mINFO    \u001b[0m | \u001b[36mmagic_pdf.model.pdf_extract_kit\u001b[0m:\u001b[36m__call__\u001b[0m:\u001b[36m294\u001b[0m - \u001b[1mtable cost: 0.0\u001b[0m\n",
      "\u001b[32m2024-08-23 15:44:34.632\u001b[0m | \u001b[1mINFO    \u001b[0m | \u001b[36mmagic_pdf.model.pdf_extract_kit\u001b[0m:\u001b[36m__call__\u001b[0m:\u001b[36m159\u001b[0m - \u001b[1mlayout detection cost: 6.26\u001b[0m\n"
     ]
    },
    {
     "name": "stdout",
     "output_type": "stream",
     "text": [
      "\n",
      "0: 1216x1888 2 embeddings, 1623.5ms\n",
      "Speed: 10.0ms preprocess, 1623.5ms inference, 1.2ms postprocess per image at shape (1, 3, 1216, 1888)\n"
     ]
    },
    {
     "name": "stderr",
     "output_type": "stream",
     "text": [
      "\u001b[32m2024-08-23 15:44:36.935\u001b[0m | \u001b[1mINFO    \u001b[0m | \u001b[36mmagic_pdf.model.pdf_extract_kit\u001b[0m:\u001b[36m__call__\u001b[0m:\u001b[36m189\u001b[0m - \u001b[1mformula nums: 2, mfr time: 0.66\u001b[0m\n",
      "\u001b[32m2024-08-23 15:44:36.937\u001b[0m | \u001b[1mINFO    \u001b[0m | \u001b[36mmagic_pdf.model.pdf_extract_kit\u001b[0m:\u001b[36m__call__\u001b[0m:\u001b[36m294\u001b[0m - \u001b[1mtable cost: 0.0\u001b[0m\n",
      "\u001b[32m2024-08-23 15:44:43.173\u001b[0m | \u001b[1mINFO    \u001b[0m | \u001b[36mmagic_pdf.model.pdf_extract_kit\u001b[0m:\u001b[36m__call__\u001b[0m:\u001b[36m159\u001b[0m - \u001b[1mlayout detection cost: 6.24\u001b[0m\n"
     ]
    },
    {
     "name": "stdout",
     "output_type": "stream",
     "text": [
      "\n",
      "0: 1216x1888 5 embeddings, 1580.7ms\n",
      "Speed: 8.4ms preprocess, 1580.7ms inference, 0.5ms postprocess per image at shape (1, 3, 1216, 1888)\n"
     ]
    },
    {
     "name": "stderr",
     "output_type": "stream",
     "text": [
      "\u001b[32m2024-08-23 15:44:46.218\u001b[0m | \u001b[1mINFO    \u001b[0m | \u001b[36mmagic_pdf.model.pdf_extract_kit\u001b[0m:\u001b[36m__call__\u001b[0m:\u001b[36m189\u001b[0m - \u001b[1mformula nums: 5, mfr time: 1.45\u001b[0m\n",
      "\u001b[32m2024-08-23 15:44:46.221\u001b[0m | \u001b[1mINFO    \u001b[0m | \u001b[36mmagic_pdf.model.pdf_extract_kit\u001b[0m:\u001b[36m__call__\u001b[0m:\u001b[36m280\u001b[0m - \u001b[1m------------------table recognition processing begins-----------------\u001b[0m\n",
      "\u001b[32m2024-08-23 15:47:37.795\u001b[0m | \u001b[1mINFO    \u001b[0m | \u001b[36mmagic_pdf.model.pdf_extract_kit\u001b[0m:\u001b[36m__call__\u001b[0m:\u001b[36m284\u001b[0m - \u001b[1m------------table recognition processing ends within 171.57408928871155s-----\u001b[0m\n",
      "\u001b[32m2024-08-23 15:47:37.796\u001b[0m | \u001b[1mINFO    \u001b[0m | \u001b[36mmagic_pdf.model.pdf_extract_kit\u001b[0m:\u001b[36m__call__\u001b[0m:\u001b[36m294\u001b[0m - \u001b[1mtable cost: 171.58\u001b[0m\n",
      "\u001b[32m2024-08-23 15:47:44.058\u001b[0m | \u001b[1mINFO    \u001b[0m | \u001b[36mmagic_pdf.model.pdf_extract_kit\u001b[0m:\u001b[36m__call__\u001b[0m:\u001b[36m159\u001b[0m - \u001b[1mlayout detection cost: 6.26\u001b[0m\n"
     ]
    },
    {
     "name": "stdout",
     "output_type": "stream",
     "text": [
      "\n",
      "0: 1216x1888 (no detections), 1612.5ms\n",
      "Speed: 8.7ms preprocess, 1612.5ms inference, 0.5ms postprocess per image at shape (1, 3, 1216, 1888)\n"
     ]
    },
    {
     "name": "stderr",
     "output_type": "stream",
     "text": [
      "\u001b[32m2024-08-23 15:47:45.687\u001b[0m | \u001b[1mINFO    \u001b[0m | \u001b[36mmagic_pdf.model.pdf_extract_kit\u001b[0m:\u001b[36m__call__\u001b[0m:\u001b[36m189\u001b[0m - \u001b[1mformula nums: 0, mfr time: 0.0\u001b[0m\n",
      "\u001b[32m2024-08-23 15:47:45.690\u001b[0m | \u001b[1mINFO    \u001b[0m | \u001b[36mmagic_pdf.model.pdf_extract_kit\u001b[0m:\u001b[36m__call__\u001b[0m:\u001b[36m280\u001b[0m - \u001b[1m------------------table recognition processing begins-----------------\u001b[0m\n",
      "\u001b[32m2024-08-23 15:53:37.648\u001b[0m | \u001b[1mINFO    \u001b[0m | \u001b[36mmagic_pdf.model.pdf_extract_kit\u001b[0m:\u001b[36m__call__\u001b[0m:\u001b[36m284\u001b[0m - \u001b[1m------------table recognition processing ends within 351.9578311443329s-----\u001b[0m\n",
      "\u001b[32m2024-08-23 15:53:37.648\u001b[0m | \u001b[1mINFO    \u001b[0m | \u001b[36mmagic_pdf.model.pdf_extract_kit\u001b[0m:\u001b[36m__call__\u001b[0m:\u001b[36m294\u001b[0m - \u001b[1mtable cost: 351.96\u001b[0m\n",
      "\u001b[32m2024-08-23 15:53:44.337\u001b[0m | \u001b[1mINFO    \u001b[0m | \u001b[36mmagic_pdf.model.pdf_extract_kit\u001b[0m:\u001b[36m__call__\u001b[0m:\u001b[36m159\u001b[0m - \u001b[1mlayout detection cost: 6.69\u001b[0m\n"
     ]
    },
    {
     "name": "stdout",
     "output_type": "stream",
     "text": [
      "\n",
      "0: 1216x1888 (no detections), 1604.4ms\n",
      "Speed: 9.9ms preprocess, 1604.4ms inference, 0.3ms postprocess per image at shape (1, 3, 1216, 1888)\n"
     ]
    },
    {
     "name": "stderr",
     "output_type": "stream",
     "text": [
      "\u001b[32m2024-08-23 15:53:45.958\u001b[0m | \u001b[1mINFO    \u001b[0m | \u001b[36mmagic_pdf.model.pdf_extract_kit\u001b[0m:\u001b[36m__call__\u001b[0m:\u001b[36m189\u001b[0m - \u001b[1mformula nums: 0, mfr time: 0.0\u001b[0m\n",
      "\u001b[32m2024-08-23 15:53:45.960\u001b[0m | \u001b[1mINFO    \u001b[0m | \u001b[36mmagic_pdf.model.pdf_extract_kit\u001b[0m:\u001b[36m__call__\u001b[0m:\u001b[36m280\u001b[0m - \u001b[1m------------------table recognition processing begins-----------------\u001b[0m\n",
      "\u001b[32m2024-08-23 15:55:46.700\u001b[0m | \u001b[1mINFO    \u001b[0m | \u001b[36mmagic_pdf.model.pdf_extract_kit\u001b[0m:\u001b[36m__call__\u001b[0m:\u001b[36m284\u001b[0m - \u001b[1m------------table recognition processing ends within 120.74016785621643s-----\u001b[0m\n",
      "\u001b[32m2024-08-23 15:55:46.701\u001b[0m | \u001b[1mINFO    \u001b[0m | \u001b[36mmagic_pdf.model.pdf_extract_kit\u001b[0m:\u001b[36m__call__\u001b[0m:\u001b[36m294\u001b[0m - \u001b[1mtable cost: 120.74\u001b[0m\n",
      "\u001b[32m2024-08-23 15:55:53.657\u001b[0m | \u001b[1mINFO    \u001b[0m | \u001b[36mmagic_pdf.model.pdf_extract_kit\u001b[0m:\u001b[36m__call__\u001b[0m:\u001b[36m159\u001b[0m - \u001b[1mlayout detection cost: 6.96\u001b[0m\n"
     ]
    },
    {
     "name": "stdout",
     "output_type": "stream",
     "text": [
      "\n",
      "0: 1216x1888 1 embedding, 1654.5ms\n",
      "Speed: 9.8ms preprocess, 1654.5ms inference, 0.5ms postprocess per image at shape (1, 3, 1216, 1888)\n"
     ]
    },
    {
     "name": "stderr",
     "output_type": "stream",
     "text": [
      "\u001b[32m2024-08-23 15:55:55.873\u001b[0m | \u001b[1mINFO    \u001b[0m | \u001b[36mmagic_pdf.model.pdf_extract_kit\u001b[0m:\u001b[36m__call__\u001b[0m:\u001b[36m189\u001b[0m - \u001b[1mformula nums: 1, mfr time: 0.54\u001b[0m\n",
      "\u001b[32m2024-08-23 15:55:55.875\u001b[0m | \u001b[1mINFO    \u001b[0m | \u001b[36mmagic_pdf.model.pdf_extract_kit\u001b[0m:\u001b[36m__call__\u001b[0m:\u001b[36m294\u001b[0m - \u001b[1mtable cost: 0.0\u001b[0m\n",
      "\u001b[32m2024-08-23 15:56:02.450\u001b[0m | \u001b[1mINFO    \u001b[0m | \u001b[36mmagic_pdf.model.pdf_extract_kit\u001b[0m:\u001b[36m__call__\u001b[0m:\u001b[36m159\u001b[0m - \u001b[1mlayout detection cost: 6.57\u001b[0m\n"
     ]
    },
    {
     "name": "stdout",
     "output_type": "stream",
     "text": [
      "\n",
      "0: 1216x1888 (no detections), 1701.2ms\n",
      "Speed: 9.5ms preprocess, 1701.2ms inference, 0.3ms postprocess per image at shape (1, 3, 1216, 1888)\n"
     ]
    },
    {
     "name": "stderr",
     "output_type": "stream",
     "text": [
      "\u001b[32m2024-08-23 15:56:04.164\u001b[0m | \u001b[1mINFO    \u001b[0m | \u001b[36mmagic_pdf.model.pdf_extract_kit\u001b[0m:\u001b[36m__call__\u001b[0m:\u001b[36m189\u001b[0m - \u001b[1mformula nums: 0, mfr time: 0.0\u001b[0m\n",
      "\u001b[32m2024-08-23 15:56:04.166\u001b[0m | \u001b[1mINFO    \u001b[0m | \u001b[36mmagic_pdf.model.pdf_extract_kit\u001b[0m:\u001b[36m__call__\u001b[0m:\u001b[36m294\u001b[0m - \u001b[1mtable cost: 0.0\u001b[0m\n",
      "\u001b[32m2024-08-23 15:56:10.727\u001b[0m | \u001b[1mINFO    \u001b[0m | \u001b[36mmagic_pdf.model.pdf_extract_kit\u001b[0m:\u001b[36m__call__\u001b[0m:\u001b[36m159\u001b[0m - \u001b[1mlayout detection cost: 6.56\u001b[0m\n"
     ]
    },
    {
     "name": "stdout",
     "output_type": "stream",
     "text": [
      "\n",
      "0: 1216x1888 7 embeddings, 1675.9ms\n",
      "Speed: 9.5ms preprocess, 1675.9ms inference, 0.6ms postprocess per image at shape (1, 3, 1216, 1888)\n"
     ]
    },
    {
     "name": "stderr",
     "output_type": "stream",
     "text": [
      "\u001b[32m2024-08-23 15:56:14.504\u001b[0m | \u001b[1mINFO    \u001b[0m | \u001b[36mmagic_pdf.model.pdf_extract_kit\u001b[0m:\u001b[36m__call__\u001b[0m:\u001b[36m189\u001b[0m - \u001b[1mformula nums: 7, mfr time: 2.08\u001b[0m\n",
      "\u001b[32m2024-08-23 15:56:14.506\u001b[0m | \u001b[1mINFO    \u001b[0m | \u001b[36mmagic_pdf.model.pdf_extract_kit\u001b[0m:\u001b[36m__call__\u001b[0m:\u001b[36m294\u001b[0m - \u001b[1mtable cost: 0.0\u001b[0m\n",
      "\u001b[32m2024-08-23 15:56:21.047\u001b[0m | \u001b[1mINFO    \u001b[0m | \u001b[36mmagic_pdf.model.pdf_extract_kit\u001b[0m:\u001b[36m__call__\u001b[0m:\u001b[36m159\u001b[0m - \u001b[1mlayout detection cost: 6.54\u001b[0m\n"
     ]
    },
    {
     "name": "stdout",
     "output_type": "stream",
     "text": [
      "\n",
      "0: 1216x1888 1 embedding, 1676.8ms\n",
      "Speed: 8.9ms preprocess, 1676.8ms inference, 0.6ms postprocess per image at shape (1, 3, 1216, 1888)\n"
     ]
    },
    {
     "name": "stderr",
     "output_type": "stream",
     "text": [
      "\u001b[32m2024-08-23 15:56:22.981\u001b[0m | \u001b[1mINFO    \u001b[0m | \u001b[36mmagic_pdf.model.pdf_extract_kit\u001b[0m:\u001b[36m__call__\u001b[0m:\u001b[36m189\u001b[0m - \u001b[1mformula nums: 1, mfr time: 0.24\u001b[0m\n",
      "\u001b[32m2024-08-23 15:56:22.983\u001b[0m | \u001b[1mINFO    \u001b[0m | \u001b[36mmagic_pdf.model.pdf_extract_kit\u001b[0m:\u001b[36m__call__\u001b[0m:\u001b[36m294\u001b[0m - \u001b[1mtable cost: 0.0\u001b[0m\n",
      "\u001b[32m2024-08-23 15:56:29.449\u001b[0m | \u001b[1mINFO    \u001b[0m | \u001b[36mmagic_pdf.model.pdf_extract_kit\u001b[0m:\u001b[36m__call__\u001b[0m:\u001b[36m159\u001b[0m - \u001b[1mlayout detection cost: 6.47\u001b[0m\n"
     ]
    },
    {
     "name": "stdout",
     "output_type": "stream",
     "text": [
      "\n",
      "0: 1216x1888 (no detections), 1628.1ms\n",
      "Speed: 9.8ms preprocess, 1628.1ms inference, 0.3ms postprocess per image at shape (1, 3, 1216, 1888)\n"
     ]
    },
    {
     "name": "stderr",
     "output_type": "stream",
     "text": [
      "\u001b[32m2024-08-23 15:56:31.090\u001b[0m | \u001b[1mINFO    \u001b[0m | \u001b[36mmagic_pdf.model.pdf_extract_kit\u001b[0m:\u001b[36m__call__\u001b[0m:\u001b[36m189\u001b[0m - \u001b[1mformula nums: 0, mfr time: 0.0\u001b[0m\n",
      "\u001b[32m2024-08-23 15:56:31.092\u001b[0m | \u001b[1mINFO    \u001b[0m | \u001b[36mmagic_pdf.model.pdf_extract_kit\u001b[0m:\u001b[36m__call__\u001b[0m:\u001b[36m294\u001b[0m - \u001b[1mtable cost: 0.0\u001b[0m\n",
      "\u001b[32m2024-08-23 15:56:37.835\u001b[0m | \u001b[1mINFO    \u001b[0m | \u001b[36mmagic_pdf.model.pdf_extract_kit\u001b[0m:\u001b[36m__call__\u001b[0m:\u001b[36m159\u001b[0m - \u001b[1mlayout detection cost: 6.74\u001b[0m\n"
     ]
    },
    {
     "name": "stdout",
     "output_type": "stream",
     "text": [
      "\n",
      "0: 1216x1888 (no detections), 1611.9ms\n",
      "Speed: 9.6ms preprocess, 1611.9ms inference, 0.7ms postprocess per image at shape (1, 3, 1216, 1888)\n"
     ]
    },
    {
     "name": "stderr",
     "output_type": "stream",
     "text": [
      "\u001b[32m2024-08-23 15:56:39.460\u001b[0m | \u001b[1mINFO    \u001b[0m | \u001b[36mmagic_pdf.model.pdf_extract_kit\u001b[0m:\u001b[36m__call__\u001b[0m:\u001b[36m189\u001b[0m - \u001b[1mformula nums: 0, mfr time: 0.0\u001b[0m\n",
      "\u001b[32m2024-08-23 15:56:39.462\u001b[0m | \u001b[1mINFO    \u001b[0m | \u001b[36mmagic_pdf.model.pdf_extract_kit\u001b[0m:\u001b[36m__call__\u001b[0m:\u001b[36m294\u001b[0m - \u001b[1mtable cost: 0.0\u001b[0m\n",
      "\u001b[32m2024-08-23 15:56:45.999\u001b[0m | \u001b[1mINFO    \u001b[0m | \u001b[36mmagic_pdf.model.pdf_extract_kit\u001b[0m:\u001b[36m__call__\u001b[0m:\u001b[36m159\u001b[0m - \u001b[1mlayout detection cost: 6.54\u001b[0m\n"
     ]
    },
    {
     "name": "stdout",
     "output_type": "stream",
     "text": [
      "\n",
      "0: 1216x1888 (no detections), 1709.3ms\n",
      "Speed: 9.4ms preprocess, 1709.3ms inference, 0.3ms postprocess per image at shape (1, 3, 1216, 1888)\n"
     ]
    },
    {
     "name": "stderr",
     "output_type": "stream",
     "text": [
      "\u001b[32m2024-08-23 15:56:47.721\u001b[0m | \u001b[1mINFO    \u001b[0m | \u001b[36mmagic_pdf.model.pdf_extract_kit\u001b[0m:\u001b[36m__call__\u001b[0m:\u001b[36m189\u001b[0m - \u001b[1mformula nums: 0, mfr time: 0.0\u001b[0m\n",
      "\u001b[32m2024-08-23 15:56:47.723\u001b[0m | \u001b[1mINFO    \u001b[0m | \u001b[36mmagic_pdf.model.pdf_extract_kit\u001b[0m:\u001b[36m__call__\u001b[0m:\u001b[36m280\u001b[0m - \u001b[1m------------------table recognition processing begins-----------------\u001b[0m\n",
      "\u001b[32m2024-08-23 16:00:05.466\u001b[0m | \u001b[1mINFO    \u001b[0m | \u001b[36mmagic_pdf.model.pdf_extract_kit\u001b[0m:\u001b[36m__call__\u001b[0m:\u001b[36m284\u001b[0m - \u001b[1m------------table recognition processing ends within 197.74330806732178s-----\u001b[0m\n",
      "\u001b[32m2024-08-23 16:00:05.467\u001b[0m | \u001b[1mINFO    \u001b[0m | \u001b[36mmagic_pdf.model.pdf_extract_kit\u001b[0m:\u001b[36m__call__\u001b[0m:\u001b[36m294\u001b[0m - \u001b[1mtable cost: 197.74\u001b[0m\n",
      "\u001b[32m2024-08-23 16:00:13.623\u001b[0m | \u001b[1mINFO    \u001b[0m | \u001b[36mmagic_pdf.model.pdf_extract_kit\u001b[0m:\u001b[36m__call__\u001b[0m:\u001b[36m159\u001b[0m - \u001b[1mlayout detection cost: 8.16\u001b[0m\n"
     ]
    },
    {
     "name": "stdout",
     "output_type": "stream",
     "text": [
      "\n",
      "0: 1216x1888 (no detections), 1923.0ms\n",
      "Speed: 11.5ms preprocess, 1923.0ms inference, 0.4ms postprocess per image at shape (1, 3, 1216, 1888)\n"
     ]
    },
    {
     "name": "stderr",
     "output_type": "stream",
     "text": [
      "\u001b[32m2024-08-23 16:00:15.565\u001b[0m | \u001b[1mINFO    \u001b[0m | \u001b[36mmagic_pdf.model.pdf_extract_kit\u001b[0m:\u001b[36m__call__\u001b[0m:\u001b[36m189\u001b[0m - \u001b[1mformula nums: 0, mfr time: 0.0\u001b[0m\n",
      "\u001b[32m2024-08-23 16:00:15.568\u001b[0m | \u001b[1mINFO    \u001b[0m | \u001b[36mmagic_pdf.model.pdf_extract_kit\u001b[0m:\u001b[36m__call__\u001b[0m:\u001b[36m280\u001b[0m - \u001b[1m------------------table recognition processing begins-----------------\u001b[0m\n",
      "\u001b[32m2024-08-23 16:03:01.391\u001b[0m | \u001b[1mINFO    \u001b[0m | \u001b[36mmagic_pdf.model.pdf_extract_kit\u001b[0m:\u001b[36m__call__\u001b[0m:\u001b[36m284\u001b[0m - \u001b[1m------------table recognition processing ends within 165.82376289367676s-----\u001b[0m\n",
      "\u001b[32m2024-08-23 16:03:01.392\u001b[0m | \u001b[1mINFO    \u001b[0m | \u001b[36mmagic_pdf.model.pdf_extract_kit\u001b[0m:\u001b[36m__call__\u001b[0m:\u001b[36m294\u001b[0m - \u001b[1mtable cost: 165.82\u001b[0m\n",
      "\u001b[32m2024-08-23 16:03:09.979\u001b[0m | \u001b[1mINFO    \u001b[0m | \u001b[36mmagic_pdf.model.pdf_extract_kit\u001b[0m:\u001b[36m__call__\u001b[0m:\u001b[36m159\u001b[0m - \u001b[1mlayout detection cost: 8.59\u001b[0m\n"
     ]
    },
    {
     "name": "stdout",
     "output_type": "stream",
     "text": [
      "\n",
      "0: 1216x1888 (no detections), 2219.6ms\n",
      "Speed: 13.2ms preprocess, 2219.6ms inference, 1.1ms postprocess per image at shape (1, 3, 1216, 1888)\n"
     ]
    },
    {
     "name": "stderr",
     "output_type": "stream",
     "text": [
      "\u001b[32m2024-08-23 16:03:12.221\u001b[0m | \u001b[1mINFO    \u001b[0m | \u001b[36mmagic_pdf.model.pdf_extract_kit\u001b[0m:\u001b[36m__call__\u001b[0m:\u001b[36m189\u001b[0m - \u001b[1mformula nums: 0, mfr time: 0.0\u001b[0m\n",
      "\u001b[32m2024-08-23 16:03:12.224\u001b[0m | \u001b[1mINFO    \u001b[0m | \u001b[36mmagic_pdf.model.pdf_extract_kit\u001b[0m:\u001b[36m__call__\u001b[0m:\u001b[36m280\u001b[0m - \u001b[1m------------------table recognition processing begins-----------------\u001b[0m\n",
      "\u001b[32m2024-08-23 16:06:50.449\u001b[0m | \u001b[1mINFO    \u001b[0m | \u001b[36mmagic_pdf.model.pdf_extract_kit\u001b[0m:\u001b[36m__call__\u001b[0m:\u001b[36m284\u001b[0m - \u001b[1m------------table recognition processing ends within 218.22435092926025s-----\u001b[0m\n",
      "\u001b[32m2024-08-23 16:06:50.449\u001b[0m | \u001b[1mINFO    \u001b[0m | \u001b[36mmagic_pdf.model.pdf_extract_kit\u001b[0m:\u001b[36m__call__\u001b[0m:\u001b[36m294\u001b[0m - \u001b[1mtable cost: 218.23\u001b[0m\n",
      "\u001b[32m2024-08-23 16:06:59.475\u001b[0m | \u001b[1mINFO    \u001b[0m | \u001b[36mmagic_pdf.model.pdf_extract_kit\u001b[0m:\u001b[36m__call__\u001b[0m:\u001b[36m159\u001b[0m - \u001b[1mlayout detection cost: 9.03\u001b[0m\n"
     ]
    },
    {
     "name": "stdout",
     "output_type": "stream",
     "text": [
      "\n",
      "0: 1216x1888 (no detections), 2190.0ms\n",
      "Speed: 14.8ms preprocess, 2190.0ms inference, 0.4ms postprocess per image at shape (1, 3, 1216, 1888)\n"
     ]
    },
    {
     "name": "stderr",
     "output_type": "stream",
     "text": [
      "\u001b[32m2024-08-23 16:07:01.690\u001b[0m | \u001b[1mINFO    \u001b[0m | \u001b[36mmagic_pdf.model.pdf_extract_kit\u001b[0m:\u001b[36m__call__\u001b[0m:\u001b[36m189\u001b[0m - \u001b[1mformula nums: 0, mfr time: 0.0\u001b[0m\n",
      "\u001b[32m2024-08-23 16:07:01.693\u001b[0m | \u001b[1mINFO    \u001b[0m | \u001b[36mmagic_pdf.model.pdf_extract_kit\u001b[0m:\u001b[36m__call__\u001b[0m:\u001b[36m280\u001b[0m - \u001b[1m------------------table recognition processing begins-----------------\u001b[0m\n",
      "\u001b[32m2024-08-23 16:11:00.820\u001b[0m | \u001b[1mINFO    \u001b[0m | \u001b[36mmagic_pdf.model.pdf_extract_kit\u001b[0m:\u001b[36m__call__\u001b[0m:\u001b[36m284\u001b[0m - \u001b[1m------------table recognition processing ends within 239.12668323516846s-----\u001b[0m\n",
      "\u001b[32m2024-08-23 16:11:00.821\u001b[0m | \u001b[1mINFO    \u001b[0m | \u001b[36mmagic_pdf.model.pdf_extract_kit\u001b[0m:\u001b[36m__call__\u001b[0m:\u001b[36m294\u001b[0m - \u001b[1mtable cost: 239.13\u001b[0m\n",
      "\u001b[32m2024-08-23 16:11:10.352\u001b[0m | \u001b[1mINFO    \u001b[0m | \u001b[36mmagic_pdf.model.pdf_extract_kit\u001b[0m:\u001b[36m__call__\u001b[0m:\u001b[36m159\u001b[0m - \u001b[1mlayout detection cost: 9.53\u001b[0m\n"
     ]
    },
    {
     "name": "stdout",
     "output_type": "stream",
     "text": [
      "\n",
      "0: 1216x1888 (no detections), 2255.2ms\n",
      "Speed: 13.7ms preprocess, 2255.2ms inference, 0.4ms postprocess per image at shape (1, 3, 1216, 1888)\n"
     ]
    },
    {
     "name": "stderr",
     "output_type": "stream",
     "text": [
      "\u001b[32m2024-08-23 16:11:12.629\u001b[0m | \u001b[1mINFO    \u001b[0m | \u001b[36mmagic_pdf.model.pdf_extract_kit\u001b[0m:\u001b[36m__call__\u001b[0m:\u001b[36m189\u001b[0m - \u001b[1mformula nums: 0, mfr time: 0.0\u001b[0m\n",
      "\u001b[32m2024-08-23 16:11:12.632\u001b[0m | \u001b[1mINFO    \u001b[0m | \u001b[36mmagic_pdf.model.pdf_extract_kit\u001b[0m:\u001b[36m__call__\u001b[0m:\u001b[36m294\u001b[0m - \u001b[1mtable cost: 0.0\u001b[0m\n",
      "\u001b[32m2024-08-23 16:11:22.226\u001b[0m | \u001b[1mINFO    \u001b[0m | \u001b[36mmagic_pdf.model.pdf_extract_kit\u001b[0m:\u001b[36m__call__\u001b[0m:\u001b[36m159\u001b[0m - \u001b[1mlayout detection cost: 9.59\u001b[0m\n"
     ]
    },
    {
     "name": "stdout",
     "output_type": "stream",
     "text": [
      "\n",
      "0: 1216x1888 (no detections), 2275.9ms\n",
      "Speed: 14.6ms preprocess, 2275.9ms inference, 0.4ms postprocess per image at shape (1, 3, 1216, 1888)\n"
     ]
    },
    {
     "name": "stderr",
     "output_type": "stream",
     "text": [
      "\u001b[32m2024-08-23 16:11:24.520\u001b[0m | \u001b[1mINFO    \u001b[0m | \u001b[36mmagic_pdf.model.pdf_extract_kit\u001b[0m:\u001b[36m__call__\u001b[0m:\u001b[36m189\u001b[0m - \u001b[1mformula nums: 0, mfr time: 0.0\u001b[0m\n",
      "\u001b[32m2024-08-23 16:11:24.524\u001b[0m | \u001b[1mINFO    \u001b[0m | \u001b[36mmagic_pdf.model.pdf_extract_kit\u001b[0m:\u001b[36m__call__\u001b[0m:\u001b[36m294\u001b[0m - \u001b[1mtable cost: 0.0\u001b[0m\n",
      "\u001b[32m2024-08-23 16:11:34.319\u001b[0m | \u001b[1mINFO    \u001b[0m | \u001b[36mmagic_pdf.model.pdf_extract_kit\u001b[0m:\u001b[36m__call__\u001b[0m:\u001b[36m159\u001b[0m - \u001b[1mlayout detection cost: 9.79\u001b[0m\n"
     ]
    },
    {
     "name": "stdout",
     "output_type": "stream",
     "text": [
      "\n",
      "0: 1216x1888 (no detections), 2279.8ms\n",
      "Speed: 15.0ms preprocess, 2279.8ms inference, 0.4ms postprocess per image at shape (1, 3, 1216, 1888)\n"
     ]
    },
    {
     "name": "stderr",
     "output_type": "stream",
     "text": [
      "\u001b[32m2024-08-23 16:11:36.618\u001b[0m | \u001b[1mINFO    \u001b[0m | \u001b[36mmagic_pdf.model.pdf_extract_kit\u001b[0m:\u001b[36m__call__\u001b[0m:\u001b[36m189\u001b[0m - \u001b[1mformula nums: 0, mfr time: 0.0\u001b[0m\n",
      "\u001b[32m2024-08-23 16:11:36.621\u001b[0m | \u001b[1mINFO    \u001b[0m | \u001b[36mmagic_pdf.model.pdf_extract_kit\u001b[0m:\u001b[36m__call__\u001b[0m:\u001b[36m294\u001b[0m - \u001b[1mtable cost: 0.0\u001b[0m\n",
      "\u001b[32m2024-08-23 16:11:46.423\u001b[0m | \u001b[1mINFO    \u001b[0m | \u001b[36mmagic_pdf.model.pdf_extract_kit\u001b[0m:\u001b[36m__call__\u001b[0m:\u001b[36m159\u001b[0m - \u001b[1mlayout detection cost: 9.8\u001b[0m\n"
     ]
    },
    {
     "name": "stdout",
     "output_type": "stream",
     "text": [
      "\n",
      "0: 1216x1888 1 embedding, 2286.3ms\n",
      "Speed: 13.8ms preprocess, 2286.3ms inference, 0.7ms postprocess per image at shape (1, 3, 1216, 1888)\n"
     ]
    },
    {
     "name": "stderr",
     "output_type": "stream",
     "text": [
      "\u001b[32m2024-08-23 16:11:49.113\u001b[0m | \u001b[1mINFO    \u001b[0m | \u001b[36mmagic_pdf.model.pdf_extract_kit\u001b[0m:\u001b[36m__call__\u001b[0m:\u001b[36m189\u001b[0m - \u001b[1mformula nums: 1, mfr time: 0.38\u001b[0m\n",
      "\u001b[32m2024-08-23 16:11:49.118\u001b[0m | \u001b[1mINFO    \u001b[0m | \u001b[36mmagic_pdf.model.pdf_extract_kit\u001b[0m:\u001b[36m__call__\u001b[0m:\u001b[36m280\u001b[0m - \u001b[1m------------------table recognition processing begins-----------------\u001b[0m\n",
      "\u001b[32m2024-08-23 16:18:39.711\u001b[0m | \u001b[1mINFO    \u001b[0m | \u001b[36mmagic_pdf.model.pdf_extract_kit\u001b[0m:\u001b[36m__call__\u001b[0m:\u001b[36m284\u001b[0m - \u001b[1m------------table recognition processing ends within 410.5929539203644s-----\u001b[0m\n",
      "\u001b[32m2024-08-23 16:18:39.712\u001b[0m | \u001b[33m\u001b[1mWARNING \u001b[0m | \u001b[36mmagic_pdf.model.pdf_extract_kit\u001b[0m:\u001b[36m__call__\u001b[0m:\u001b[36m286\u001b[0m - \u001b[33m\u001b[1m------------table recognition processing exceeds max time 400s----------\u001b[0m\n",
      "\u001b[32m2024-08-23 16:18:39.712\u001b[0m | \u001b[33m\u001b[1mWARNING \u001b[0m | \u001b[36mmagic_pdf.model.pdf_extract_kit\u001b[0m:\u001b[36m__call__\u001b[0m:\u001b[36m292\u001b[0m - \u001b[33m\u001b[1m------------table recognition processing fails----------\u001b[0m\n",
      "\u001b[32m2024-08-23 16:18:39.713\u001b[0m | \u001b[1mINFO    \u001b[0m | \u001b[36mmagic_pdf.model.pdf_extract_kit\u001b[0m:\u001b[36m__call__\u001b[0m:\u001b[36m294\u001b[0m - \u001b[1mtable cost: 410.6\u001b[0m\n",
      "\u001b[32m2024-08-23 16:18:48.360\u001b[0m | \u001b[1mINFO    \u001b[0m | \u001b[36mmagic_pdf.model.pdf_extract_kit\u001b[0m:\u001b[36m__call__\u001b[0m:\u001b[36m159\u001b[0m - \u001b[1mlayout detection cost: 8.65\u001b[0m\n"
     ]
    },
    {
     "name": "stdout",
     "output_type": "stream",
     "text": [
      "\n",
      "0: 1216x1888 (no detections), 1975.0ms\n",
      "Speed: 11.2ms preprocess, 1975.0ms inference, 0.4ms postprocess per image at shape (1, 3, 1216, 1888)\n"
     ]
    },
    {
     "name": "stderr",
     "output_type": "stream",
     "text": [
      "\u001b[32m2024-08-23 16:18:50.351\u001b[0m | \u001b[1mINFO    \u001b[0m | \u001b[36mmagic_pdf.model.pdf_extract_kit\u001b[0m:\u001b[36m__call__\u001b[0m:\u001b[36m189\u001b[0m - \u001b[1mformula nums: 0, mfr time: 0.0\u001b[0m\n",
      "\u001b[32m2024-08-23 16:18:50.354\u001b[0m | \u001b[1mINFO    \u001b[0m | \u001b[36mmagic_pdf.model.pdf_extract_kit\u001b[0m:\u001b[36m__call__\u001b[0m:\u001b[36m280\u001b[0m - \u001b[1m------------------table recognition processing begins-----------------\u001b[0m\n",
      "\u001b[32m2024-08-23 16:25:39.898\u001b[0m | \u001b[1mINFO    \u001b[0m | \u001b[36mmagic_pdf.model.pdf_extract_kit\u001b[0m:\u001b[36m__call__\u001b[0m:\u001b[36m284\u001b[0m - \u001b[1m------------table recognition processing ends within 409.54348516464233s-----\u001b[0m\n",
      "\u001b[32m2024-08-23 16:25:39.898\u001b[0m | \u001b[33m\u001b[1mWARNING \u001b[0m | \u001b[36mmagic_pdf.model.pdf_extract_kit\u001b[0m:\u001b[36m__call__\u001b[0m:\u001b[36m286\u001b[0m - \u001b[33m\u001b[1m------------table recognition processing exceeds max time 400s----------\u001b[0m\n",
      "\u001b[32m2024-08-23 16:25:39.899\u001b[0m | \u001b[33m\u001b[1mWARNING \u001b[0m | \u001b[36mmagic_pdf.model.pdf_extract_kit\u001b[0m:\u001b[36m__call__\u001b[0m:\u001b[36m292\u001b[0m - \u001b[33m\u001b[1m------------table recognition processing fails----------\u001b[0m\n",
      "\u001b[32m2024-08-23 16:25:39.899\u001b[0m | \u001b[1mINFO    \u001b[0m | \u001b[36mmagic_pdf.model.pdf_extract_kit\u001b[0m:\u001b[36m__call__\u001b[0m:\u001b[36m294\u001b[0m - \u001b[1mtable cost: 409.55\u001b[0m\n",
      "\u001b[32m2024-08-23 16:25:46.886\u001b[0m | \u001b[1mINFO    \u001b[0m | \u001b[36mmagic_pdf.model.pdf_extract_kit\u001b[0m:\u001b[36m__call__\u001b[0m:\u001b[36m159\u001b[0m - \u001b[1mlayout detection cost: 6.99\u001b[0m\n"
     ]
    },
    {
     "name": "stdout",
     "output_type": "stream",
     "text": [
      "\n",
      "0: 1216x1888 3 embeddings, 1639.4ms\n",
      "Speed: 10.5ms preprocess, 1639.4ms inference, 0.5ms postprocess per image at shape (1, 3, 1216, 1888)\n"
     ]
    },
    {
     "name": "stderr",
     "output_type": "stream",
     "text": [
      "\u001b[32m2024-08-23 16:25:49.553\u001b[0m | \u001b[1mINFO    \u001b[0m | \u001b[36mmagic_pdf.model.pdf_extract_kit\u001b[0m:\u001b[36m__call__\u001b[0m:\u001b[36m189\u001b[0m - \u001b[1mformula nums: 3, mfr time: 1.01\u001b[0m\n",
      "\u001b[32m2024-08-23 16:25:49.555\u001b[0m | \u001b[1mINFO    \u001b[0m | \u001b[36mmagic_pdf.model.pdf_extract_kit\u001b[0m:\u001b[36m__call__\u001b[0m:\u001b[36m294\u001b[0m - \u001b[1mtable cost: 0.0\u001b[0m\n",
      "\u001b[32m2024-08-23 16:25:56.405\u001b[0m | \u001b[1mINFO    \u001b[0m | \u001b[36mmagic_pdf.model.pdf_extract_kit\u001b[0m:\u001b[36m__call__\u001b[0m:\u001b[36m159\u001b[0m - \u001b[1mlayout detection cost: 6.85\u001b[0m\n"
     ]
    },
    {
     "name": "stdout",
     "output_type": "stream",
     "text": [
      "\n",
      "0: 1216x1888 (no detections), 1638.3ms\n",
      "Speed: 10.6ms preprocess, 1638.3ms inference, 0.5ms postprocess per image at shape (1, 3, 1216, 1888)\n"
     ]
    },
    {
     "name": "stderr",
     "output_type": "stream",
     "text": [
      "\u001b[32m2024-08-23 16:25:58.057\u001b[0m | \u001b[1mINFO    \u001b[0m | \u001b[36mmagic_pdf.model.pdf_extract_kit\u001b[0m:\u001b[36m__call__\u001b[0m:\u001b[36m189\u001b[0m - \u001b[1mformula nums: 0, mfr time: 0.0\u001b[0m\n",
      "\u001b[32m2024-08-23 16:25:58.059\u001b[0m | \u001b[1mINFO    \u001b[0m | \u001b[36mmagic_pdf.model.pdf_extract_kit\u001b[0m:\u001b[36m__call__\u001b[0m:\u001b[36m294\u001b[0m - \u001b[1mtable cost: 0.0\u001b[0m\n",
      "\u001b[32m2024-08-23 16:26:05.028\u001b[0m | \u001b[1mINFO    \u001b[0m | \u001b[36mmagic_pdf.model.pdf_extract_kit\u001b[0m:\u001b[36m__call__\u001b[0m:\u001b[36m159\u001b[0m - \u001b[1mlayout detection cost: 6.97\u001b[0m\n"
     ]
    },
    {
     "name": "stdout",
     "output_type": "stream",
     "text": [
      "\n",
      "0: 1216x1888 1 embedding, 1580.7ms\n",
      "Speed: 10.0ms preprocess, 1580.7ms inference, 0.5ms postprocess per image at shape (1, 3, 1216, 1888)\n"
     ]
    },
    {
     "name": "stderr",
     "output_type": "stream",
     "text": [
      "\u001b[32m2024-08-23 16:26:07.015\u001b[0m | \u001b[1mINFO    \u001b[0m | \u001b[36mmagic_pdf.model.pdf_extract_kit\u001b[0m:\u001b[36m__call__\u001b[0m:\u001b[36m189\u001b[0m - \u001b[1mformula nums: 1, mfr time: 0.39\u001b[0m\n",
      "\u001b[32m2024-08-23 16:26:07.018\u001b[0m | \u001b[1mINFO    \u001b[0m | \u001b[36mmagic_pdf.model.pdf_extract_kit\u001b[0m:\u001b[36m__call__\u001b[0m:\u001b[36m294\u001b[0m - \u001b[1mtable cost: 0.0\u001b[0m\n",
      "\u001b[32m2024-08-23 16:26:13.751\u001b[0m | \u001b[1mINFO    \u001b[0m | \u001b[36mmagic_pdf.model.pdf_extract_kit\u001b[0m:\u001b[36m__call__\u001b[0m:\u001b[36m159\u001b[0m - \u001b[1mlayout detection cost: 6.73\u001b[0m\n"
     ]
    },
    {
     "name": "stdout",
     "output_type": "stream",
     "text": [
      "\n",
      "0: 1216x1888 (no detections), 1651.7ms\n",
      "Speed: 10.1ms preprocess, 1651.7ms inference, 0.5ms postprocess per image at shape (1, 3, 1216, 1888)\n"
     ]
    },
    {
     "name": "stderr",
     "output_type": "stream",
     "text": [
      "\u001b[32m2024-08-23 16:26:15.416\u001b[0m | \u001b[1mINFO    \u001b[0m | \u001b[36mmagic_pdf.model.pdf_extract_kit\u001b[0m:\u001b[36m__call__\u001b[0m:\u001b[36m189\u001b[0m - \u001b[1mformula nums: 0, mfr time: 0.0\u001b[0m\n",
      "\u001b[32m2024-08-23 16:26:15.418\u001b[0m | \u001b[1mINFO    \u001b[0m | \u001b[36mmagic_pdf.model.pdf_extract_kit\u001b[0m:\u001b[36m__call__\u001b[0m:\u001b[36m294\u001b[0m - \u001b[1mtable cost: 0.0\u001b[0m\n",
      "\u001b[32m2024-08-23 16:26:22.218\u001b[0m | \u001b[1mINFO    \u001b[0m | \u001b[36mmagic_pdf.model.pdf_extract_kit\u001b[0m:\u001b[36m__call__\u001b[0m:\u001b[36m159\u001b[0m - \u001b[1mlayout detection cost: 6.8\u001b[0m\n"
     ]
    },
    {
     "name": "stdout",
     "output_type": "stream",
     "text": [
      "\n",
      "0: 1216x1888 (no detections), 1626.8ms\n",
      "Speed: 9.8ms preprocess, 1626.8ms inference, 0.3ms postprocess per image at shape (1, 3, 1216, 1888)\n"
     ]
    },
    {
     "name": "stderr",
     "output_type": "stream",
     "text": [
      "\u001b[32m2024-08-23 16:26:23.859\u001b[0m | \u001b[1mINFO    \u001b[0m | \u001b[36mmagic_pdf.model.pdf_extract_kit\u001b[0m:\u001b[36m__call__\u001b[0m:\u001b[36m189\u001b[0m - \u001b[1mformula nums: 0, mfr time: 0.0\u001b[0m\n",
      "\u001b[32m2024-08-23 16:26:23.860\u001b[0m | \u001b[1mINFO    \u001b[0m | \u001b[36mmagic_pdf.model.pdf_extract_kit\u001b[0m:\u001b[36m__call__\u001b[0m:\u001b[36m294\u001b[0m - \u001b[1mtable cost: 0.0\u001b[0m\n",
      "\u001b[32m2024-08-23 16:26:30.657\u001b[0m | \u001b[1mINFO    \u001b[0m | \u001b[36mmagic_pdf.model.pdf_extract_kit\u001b[0m:\u001b[36m__call__\u001b[0m:\u001b[36m159\u001b[0m - \u001b[1mlayout detection cost: 6.8\u001b[0m\n"
     ]
    },
    {
     "name": "stdout",
     "output_type": "stream",
     "text": [
      "\n",
      "0: 1216x1888 (no detections), 1616.7ms\n",
      "Speed: 10.1ms preprocess, 1616.7ms inference, 0.3ms postprocess per image at shape (1, 3, 1216, 1888)\n"
     ]
    },
    {
     "name": "stderr",
     "output_type": "stream",
     "text": [
      "\u001b[32m2024-08-23 16:26:32.287\u001b[0m | \u001b[1mINFO    \u001b[0m | \u001b[36mmagic_pdf.model.pdf_extract_kit\u001b[0m:\u001b[36m__call__\u001b[0m:\u001b[36m189\u001b[0m - \u001b[1mformula nums: 0, mfr time: 0.0\u001b[0m\n",
      "\u001b[32m2024-08-23 16:26:32.289\u001b[0m | \u001b[1mINFO    \u001b[0m | \u001b[36mmagic_pdf.model.pdf_extract_kit\u001b[0m:\u001b[36m__call__\u001b[0m:\u001b[36m294\u001b[0m - \u001b[1mtable cost: 0.0\u001b[0m\n",
      "\u001b[32m2024-08-23 16:26:38.984\u001b[0m | \u001b[1mINFO    \u001b[0m | \u001b[36mmagic_pdf.model.pdf_extract_kit\u001b[0m:\u001b[36m__call__\u001b[0m:\u001b[36m159\u001b[0m - \u001b[1mlayout detection cost: 6.69\u001b[0m\n"
     ]
    },
    {
     "name": "stdout",
     "output_type": "stream",
     "text": [
      "\n",
      "0: 1216x1888 (no detections), 1612.6ms\n",
      "Speed: 10.1ms preprocess, 1612.6ms inference, 0.3ms postprocess per image at shape (1, 3, 1216, 1888)\n"
     ]
    },
    {
     "name": "stderr",
     "output_type": "stream",
     "text": [
      "\u001b[32m2024-08-23 16:26:40.610\u001b[0m | \u001b[1mINFO    \u001b[0m | \u001b[36mmagic_pdf.model.pdf_extract_kit\u001b[0m:\u001b[36m__call__\u001b[0m:\u001b[36m189\u001b[0m - \u001b[1mformula nums: 0, mfr time: 0.0\u001b[0m\n",
      "\u001b[32m2024-08-23 16:26:40.614\u001b[0m | \u001b[1mINFO    \u001b[0m | \u001b[36mmagic_pdf.model.pdf_extract_kit\u001b[0m:\u001b[36m__call__\u001b[0m:\u001b[36m280\u001b[0m - \u001b[1m------------------table recognition processing begins-----------------\u001b[0m\n",
      "\u001b[32m2024-08-23 16:30:23.260\u001b[0m | \u001b[1mINFO    \u001b[0m | \u001b[36mmagic_pdf.model.pdf_extract_kit\u001b[0m:\u001b[36m__call__\u001b[0m:\u001b[36m284\u001b[0m - \u001b[1m------------table recognition processing ends within 222.64581108093262s-----\u001b[0m\n",
      "\u001b[32m2024-08-23 16:30:23.261\u001b[0m | \u001b[1mINFO    \u001b[0m | \u001b[36mmagic_pdf.model.pdf_extract_kit\u001b[0m:\u001b[36m__call__\u001b[0m:\u001b[36m294\u001b[0m - \u001b[1mtable cost: 222.65\u001b[0m\n",
      "\u001b[32m2024-08-23 16:30:29.836\u001b[0m | \u001b[1mINFO    \u001b[0m | \u001b[36mmagic_pdf.model.pdf_extract_kit\u001b[0m:\u001b[36m__call__\u001b[0m:\u001b[36m159\u001b[0m - \u001b[1mlayout detection cost: 6.57\u001b[0m\n"
     ]
    },
    {
     "name": "stdout",
     "output_type": "stream",
     "text": [
      "\n",
      "0: 1216x1888 (no detections), 1617.1ms\n",
      "Speed: 10.5ms preprocess, 1617.1ms inference, 0.3ms postprocess per image at shape (1, 3, 1216, 1888)\n"
     ]
    },
    {
     "name": "stderr",
     "output_type": "stream",
     "text": [
      "\u001b[32m2024-08-23 16:30:31.470\u001b[0m | \u001b[1mINFO    \u001b[0m | \u001b[36mmagic_pdf.model.pdf_extract_kit\u001b[0m:\u001b[36m__call__\u001b[0m:\u001b[36m189\u001b[0m - \u001b[1mformula nums: 0, mfr time: 0.0\u001b[0m\n",
      "\u001b[32m2024-08-23 16:30:31.473\u001b[0m | \u001b[1mINFO    \u001b[0m | \u001b[36mmagic_pdf.model.pdf_extract_kit\u001b[0m:\u001b[36m__call__\u001b[0m:\u001b[36m280\u001b[0m - \u001b[1m------------------table recognition processing begins-----------------\u001b[0m\n",
      "\u001b[32m2024-08-23 16:36:25.969\u001b[0m | \u001b[1mINFO    \u001b[0m | \u001b[36mmagic_pdf.model.pdf_extract_kit\u001b[0m:\u001b[36m__call__\u001b[0m:\u001b[36m284\u001b[0m - \u001b[1m------------table recognition processing ends within 354.4964451789856s-----\u001b[0m\n",
      "\u001b[32m2024-08-23 16:36:25.970\u001b[0m | \u001b[1mINFO    \u001b[0m | \u001b[36mmagic_pdf.model.pdf_extract_kit\u001b[0m:\u001b[36m__call__\u001b[0m:\u001b[36m294\u001b[0m - \u001b[1mtable cost: 354.5\u001b[0m\n",
      "\u001b[32m2024-08-23 16:36:32.279\u001b[0m | \u001b[1mINFO    \u001b[0m | \u001b[36mmagic_pdf.model.pdf_extract_kit\u001b[0m:\u001b[36m__call__\u001b[0m:\u001b[36m159\u001b[0m - \u001b[1mlayout detection cost: 6.31\u001b[0m\n"
     ]
    },
    {
     "name": "stdout",
     "output_type": "stream",
     "text": [
      "\n",
      "0: 1216x1888 (no detections), 1544.7ms\n",
      "Speed: 10.7ms preprocess, 1544.7ms inference, 0.3ms postprocess per image at shape (1, 3, 1216, 1888)\n"
     ]
    },
    {
     "name": "stderr",
     "output_type": "stream",
     "text": [
      "\u001b[32m2024-08-23 16:36:33.842\u001b[0m | \u001b[1mINFO    \u001b[0m | \u001b[36mmagic_pdf.model.pdf_extract_kit\u001b[0m:\u001b[36m__call__\u001b[0m:\u001b[36m189\u001b[0m - \u001b[1mformula nums: 0, mfr time: 0.0\u001b[0m\n",
      "\u001b[32m2024-08-23 16:36:33.845\u001b[0m | \u001b[1mINFO    \u001b[0m | \u001b[36mmagic_pdf.model.pdf_extract_kit\u001b[0m:\u001b[36m__call__\u001b[0m:\u001b[36m280\u001b[0m - \u001b[1m------------------table recognition processing begins-----------------\u001b[0m\n",
      "\u001b[32m2024-08-23 16:43:20.727\u001b[0m | \u001b[1mINFO    \u001b[0m | \u001b[36mmagic_pdf.model.pdf_extract_kit\u001b[0m:\u001b[36m__call__\u001b[0m:\u001b[36m284\u001b[0m - \u001b[1m------------table recognition processing ends within 406.8816478252411s-----\u001b[0m\n",
      "\u001b[32m2024-08-23 16:43:20.728\u001b[0m | \u001b[33m\u001b[1mWARNING \u001b[0m | \u001b[36mmagic_pdf.model.pdf_extract_kit\u001b[0m:\u001b[36m__call__\u001b[0m:\u001b[36m286\u001b[0m - \u001b[33m\u001b[1m------------table recognition processing exceeds max time 400s----------\u001b[0m\n",
      "\u001b[32m2024-08-23 16:43:20.728\u001b[0m | \u001b[33m\u001b[1mWARNING \u001b[0m | \u001b[36mmagic_pdf.model.pdf_extract_kit\u001b[0m:\u001b[36m__call__\u001b[0m:\u001b[36m292\u001b[0m - \u001b[33m\u001b[1m------------table recognition processing fails----------\u001b[0m\n",
      "\u001b[32m2024-08-23 16:43:20.728\u001b[0m | \u001b[1mINFO    \u001b[0m | \u001b[36mmagic_pdf.model.pdf_extract_kit\u001b[0m:\u001b[36m__call__\u001b[0m:\u001b[36m294\u001b[0m - \u001b[1mtable cost: 406.88\u001b[0m\n",
      "\u001b[32m2024-08-23 16:43:27.402\u001b[0m | \u001b[1mINFO    \u001b[0m | \u001b[36mmagic_pdf.model.pdf_extract_kit\u001b[0m:\u001b[36m__call__\u001b[0m:\u001b[36m159\u001b[0m - \u001b[1mlayout detection cost: 6.67\u001b[0m\n"
     ]
    },
    {
     "name": "stdout",
     "output_type": "stream",
     "text": [
      "\n",
      "0: 1216x1888 (no detections), 1613.6ms\n",
      "Speed: 10.0ms preprocess, 1613.6ms inference, 0.3ms postprocess per image at shape (1, 3, 1216, 1888)\n"
     ]
    },
    {
     "name": "stderr",
     "output_type": "stream",
     "text": [
      "\u001b[32m2024-08-23 16:43:29.032\u001b[0m | \u001b[1mINFO    \u001b[0m | \u001b[36mmagic_pdf.model.pdf_extract_kit\u001b[0m:\u001b[36m__call__\u001b[0m:\u001b[36m189\u001b[0m - \u001b[1mformula nums: 0, mfr time: 0.0\u001b[0m\n",
      "\u001b[32m2024-08-23 16:43:29.035\u001b[0m | \u001b[1mINFO    \u001b[0m | \u001b[36mmagic_pdf.model.pdf_extract_kit\u001b[0m:\u001b[36m__call__\u001b[0m:\u001b[36m280\u001b[0m - \u001b[1m------------------table recognition processing begins-----------------\u001b[0m\n",
      "\u001b[32m2024-08-23 16:50:16.793\u001b[0m | \u001b[1mINFO    \u001b[0m | \u001b[36mmagic_pdf.model.pdf_extract_kit\u001b[0m:\u001b[36m__call__\u001b[0m:\u001b[36m284\u001b[0m - \u001b[1m------------table recognition processing ends within 407.75825810432434s-----\u001b[0m\n",
      "\u001b[32m2024-08-23 16:50:16.794\u001b[0m | \u001b[33m\u001b[1mWARNING \u001b[0m | \u001b[36mmagic_pdf.model.pdf_extract_kit\u001b[0m:\u001b[36m__call__\u001b[0m:\u001b[36m286\u001b[0m - \u001b[33m\u001b[1m------------table recognition processing exceeds max time 400s----------\u001b[0m\n",
      "\u001b[32m2024-08-23 16:50:16.794\u001b[0m | \u001b[33m\u001b[1mWARNING \u001b[0m | \u001b[36mmagic_pdf.model.pdf_extract_kit\u001b[0m:\u001b[36m__call__\u001b[0m:\u001b[36m292\u001b[0m - \u001b[33m\u001b[1m------------table recognition processing fails----------\u001b[0m\n",
      "\u001b[32m2024-08-23 16:50:16.795\u001b[0m | \u001b[1mINFO    \u001b[0m | \u001b[36mmagic_pdf.model.pdf_extract_kit\u001b[0m:\u001b[36m__call__\u001b[0m:\u001b[36m294\u001b[0m - \u001b[1mtable cost: 407.76\u001b[0m\n",
      "\u001b[32m2024-08-23 16:50:23.390\u001b[0m | \u001b[1mINFO    \u001b[0m | \u001b[36mmagic_pdf.model.pdf_extract_kit\u001b[0m:\u001b[36m__call__\u001b[0m:\u001b[36m159\u001b[0m - \u001b[1mlayout detection cost: 6.6\u001b[0m\n"
     ]
    },
    {
     "name": "stdout",
     "output_type": "stream",
     "text": [
      "\n",
      "0: 1216x1888 (no detections), 1720.4ms\n",
      "Speed: 9.0ms preprocess, 1720.4ms inference, 0.3ms postprocess per image at shape (1, 3, 1216, 1888)\n"
     ]
    },
    {
     "name": "stderr",
     "output_type": "stream",
     "text": [
      "\u001b[32m2024-08-23 16:50:25.127\u001b[0m | \u001b[1mINFO    \u001b[0m | \u001b[36mmagic_pdf.model.pdf_extract_kit\u001b[0m:\u001b[36m__call__\u001b[0m:\u001b[36m189\u001b[0m - \u001b[1mformula nums: 0, mfr time: 0.0\u001b[0m\n",
      "\u001b[32m2024-08-23 16:50:25.131\u001b[0m | \u001b[1mINFO    \u001b[0m | \u001b[36mmagic_pdf.model.pdf_extract_kit\u001b[0m:\u001b[36m__call__\u001b[0m:\u001b[36m280\u001b[0m - \u001b[1m------------------table recognition processing begins-----------------\u001b[0m\n",
      "\u001b[32m2024-08-23 16:57:12.544\u001b[0m | \u001b[1mINFO    \u001b[0m | \u001b[36mmagic_pdf.model.pdf_extract_kit\u001b[0m:\u001b[36m__call__\u001b[0m:\u001b[36m284\u001b[0m - \u001b[1m------------table recognition processing ends within 407.4136769771576s-----\u001b[0m\n",
      "\u001b[32m2024-08-23 16:57:12.545\u001b[0m | \u001b[33m\u001b[1mWARNING \u001b[0m | \u001b[36mmagic_pdf.model.pdf_extract_kit\u001b[0m:\u001b[36m__call__\u001b[0m:\u001b[36m286\u001b[0m - \u001b[33m\u001b[1m------------table recognition processing exceeds max time 400s----------\u001b[0m\n",
      "\u001b[32m2024-08-23 16:57:12.545\u001b[0m | \u001b[33m\u001b[1mWARNING \u001b[0m | \u001b[36mmagic_pdf.model.pdf_extract_kit\u001b[0m:\u001b[36m__call__\u001b[0m:\u001b[36m292\u001b[0m - \u001b[33m\u001b[1m------------table recognition processing fails----------\u001b[0m\n",
      "\u001b[32m2024-08-23 16:57:12.546\u001b[0m | \u001b[1mINFO    \u001b[0m | \u001b[36mmagic_pdf.model.pdf_extract_kit\u001b[0m:\u001b[36m__call__\u001b[0m:\u001b[36m294\u001b[0m - \u001b[1mtable cost: 407.42\u001b[0m\n",
      "\u001b[32m2024-08-23 16:57:18.654\u001b[0m | \u001b[1mINFO    \u001b[0m | \u001b[36mmagic_pdf.model.pdf_extract_kit\u001b[0m:\u001b[36m__call__\u001b[0m:\u001b[36m159\u001b[0m - \u001b[1mlayout detection cost: 6.11\u001b[0m\n"
     ]
    },
    {
     "name": "stdout",
     "output_type": "stream",
     "text": [
      "\n",
      "0: 1216x1888 (no detections), 1519.8ms\n",
      "Speed: 8.9ms preprocess, 1519.8ms inference, 0.6ms postprocess per image at shape (1, 3, 1216, 1888)\n"
     ]
    },
    {
     "name": "stderr",
     "output_type": "stream",
     "text": [
      "\u001b[32m2024-08-23 16:57:20.190\u001b[0m | \u001b[1mINFO    \u001b[0m | \u001b[36mmagic_pdf.model.pdf_extract_kit\u001b[0m:\u001b[36m__call__\u001b[0m:\u001b[36m189\u001b[0m - \u001b[1mformula nums: 0, mfr time: 0.0\u001b[0m\n",
      "\u001b[32m2024-08-23 16:57:20.193\u001b[0m | \u001b[1mINFO    \u001b[0m | \u001b[36mmagic_pdf.model.pdf_extract_kit\u001b[0m:\u001b[36m__call__\u001b[0m:\u001b[36m280\u001b[0m - \u001b[1m------------------table recognition processing begins-----------------\u001b[0m\n",
      "\u001b[32m2024-08-23 17:02:55.986\u001b[0m | \u001b[1mINFO    \u001b[0m | \u001b[36mmagic_pdf.model.pdf_extract_kit\u001b[0m:\u001b[36m__call__\u001b[0m:\u001b[36m284\u001b[0m - \u001b[1m------------table recognition processing ends within 335.79298305511475s-----\u001b[0m\n",
      "\u001b[32m2024-08-23 17:02:55.987\u001b[0m | \u001b[1mINFO    \u001b[0m | \u001b[36mmagic_pdf.model.pdf_extract_kit\u001b[0m:\u001b[36m__call__\u001b[0m:\u001b[36m294\u001b[0m - \u001b[1mtable cost: 335.79\u001b[0m\n",
      "\u001b[32m2024-08-23 17:03:02.149\u001b[0m | \u001b[1mINFO    \u001b[0m | \u001b[36mmagic_pdf.model.pdf_extract_kit\u001b[0m:\u001b[36m__call__\u001b[0m:\u001b[36m159\u001b[0m - \u001b[1mlayout detection cost: 6.16\u001b[0m\n"
     ]
    },
    {
     "name": "stdout",
     "output_type": "stream",
     "text": [
      "\n",
      "0: 1216x1888 1 embedding, 1507.1ms\n",
      "Speed: 8.6ms preprocess, 1507.1ms inference, 0.5ms postprocess per image at shape (1, 3, 1216, 1888)\n"
     ]
    },
    {
     "name": "stderr",
     "output_type": "stream",
     "text": [
      "\u001b[32m2024-08-23 17:03:04.185\u001b[0m | \u001b[1mINFO    \u001b[0m | \u001b[36mmagic_pdf.model.pdf_extract_kit\u001b[0m:\u001b[36m__call__\u001b[0m:\u001b[36m189\u001b[0m - \u001b[1mformula nums: 1, mfr time: 0.51\u001b[0m\n",
      "\u001b[32m2024-08-23 17:03:04.188\u001b[0m | \u001b[1mINFO    \u001b[0m | \u001b[36mmagic_pdf.model.pdf_extract_kit\u001b[0m:\u001b[36m__call__\u001b[0m:\u001b[36m280\u001b[0m - \u001b[1m------------------table recognition processing begins-----------------\u001b[0m\n",
      "\u001b[32m2024-08-23 17:06:13.100\u001b[0m | \u001b[1mINFO    \u001b[0m | \u001b[36mmagic_pdf.model.pdf_extract_kit\u001b[0m:\u001b[36m__call__\u001b[0m:\u001b[36m284\u001b[0m - \u001b[1m------------table recognition processing ends within 188.91257786750793s-----\u001b[0m\n",
      "\u001b[32m2024-08-23 17:06:13.101\u001b[0m | \u001b[1mINFO    \u001b[0m | \u001b[36mmagic_pdf.model.pdf_extract_kit\u001b[0m:\u001b[36m__call__\u001b[0m:\u001b[36m294\u001b[0m - \u001b[1mtable cost: 188.91\u001b[0m\n",
      "\u001b[32m2024-08-23 17:06:19.297\u001b[0m | \u001b[1mINFO    \u001b[0m | \u001b[36mmagic_pdf.model.pdf_extract_kit\u001b[0m:\u001b[36m__call__\u001b[0m:\u001b[36m159\u001b[0m - \u001b[1mlayout detection cost: 6.19\u001b[0m\n"
     ]
    },
    {
     "name": "stdout",
     "output_type": "stream",
     "text": [
      "\n",
      "0: 1216x1888 (no detections), 1507.7ms\n",
      "Speed: 8.2ms preprocess, 1507.7ms inference, 0.3ms postprocess per image at shape (1, 3, 1216, 1888)\n"
     ]
    },
    {
     "name": "stderr",
     "output_type": "stream",
     "text": [
      "\u001b[32m2024-08-23 17:06:20.820\u001b[0m | \u001b[1mINFO    \u001b[0m | \u001b[36mmagic_pdf.model.pdf_extract_kit\u001b[0m:\u001b[36m__call__\u001b[0m:\u001b[36m189\u001b[0m - \u001b[1mformula nums: 0, mfr time: 0.0\u001b[0m\n",
      "\u001b[32m2024-08-23 17:06:20.823\u001b[0m | \u001b[1mINFO    \u001b[0m | \u001b[36mmagic_pdf.model.pdf_extract_kit\u001b[0m:\u001b[36m__call__\u001b[0m:\u001b[36m280\u001b[0m - \u001b[1m------------------table recognition processing begins-----------------\u001b[0m\n",
      "\u001b[32m2024-08-23 17:11:13.570\u001b[0m | \u001b[1mINFO    \u001b[0m | \u001b[36mmagic_pdf.model.pdf_extract_kit\u001b[0m:\u001b[36m__call__\u001b[0m:\u001b[36m284\u001b[0m - \u001b[1m------------table recognition processing ends within 292.74751591682434s-----\u001b[0m\n",
      "\u001b[32m2024-08-23 17:11:13.571\u001b[0m | \u001b[1mINFO    \u001b[0m | \u001b[36mmagic_pdf.model.pdf_extract_kit\u001b[0m:\u001b[36m__call__\u001b[0m:\u001b[36m294\u001b[0m - \u001b[1mtable cost: 292.75\u001b[0m\n",
      "\u001b[32m2024-08-23 17:11:19.862\u001b[0m | \u001b[1mINFO    \u001b[0m | \u001b[36mmagic_pdf.model.pdf_extract_kit\u001b[0m:\u001b[36m__call__\u001b[0m:\u001b[36m159\u001b[0m - \u001b[1mlayout detection cost: 6.29\u001b[0m\n"
     ]
    },
    {
     "name": "stdout",
     "output_type": "stream",
     "text": [
      "\n",
      "0: 1216x1888 (no detections), 1551.8ms\n",
      "Speed: 9.3ms preprocess, 1551.8ms inference, 0.3ms postprocess per image at shape (1, 3, 1216, 1888)\n"
     ]
    },
    {
     "name": "stderr",
     "output_type": "stream",
     "text": [
      "\u001b[32m2024-08-23 17:11:21.429\u001b[0m | \u001b[1mINFO    \u001b[0m | \u001b[36mmagic_pdf.model.pdf_extract_kit\u001b[0m:\u001b[36m__call__\u001b[0m:\u001b[36m189\u001b[0m - \u001b[1mformula nums: 0, mfr time: 0.0\u001b[0m\n",
      "\u001b[32m2024-08-23 17:11:21.430\u001b[0m | \u001b[1mINFO    \u001b[0m | \u001b[36mmagic_pdf.model.pdf_extract_kit\u001b[0m:\u001b[36m__call__\u001b[0m:\u001b[36m294\u001b[0m - \u001b[1mtable cost: 0.0\u001b[0m\n",
      "\u001b[32m2024-08-23 17:11:27.783\u001b[0m | \u001b[1mINFO    \u001b[0m | \u001b[36mmagic_pdf.model.pdf_extract_kit\u001b[0m:\u001b[36m__call__\u001b[0m:\u001b[36m159\u001b[0m - \u001b[1mlayout detection cost: 6.35\u001b[0m\n"
     ]
    },
    {
     "name": "stdout",
     "output_type": "stream",
     "text": [
      "\n",
      "0: 1216x1888 (no detections), 1542.7ms\n",
      "Speed: 9.2ms preprocess, 1542.7ms inference, 0.8ms postprocess per image at shape (1, 3, 1216, 1888)\n"
     ]
    },
    {
     "name": "stderr",
     "output_type": "stream",
     "text": [
      "\u001b[32m2024-08-23 17:11:29.338\u001b[0m | \u001b[1mINFO    \u001b[0m | \u001b[36mmagic_pdf.model.pdf_extract_kit\u001b[0m:\u001b[36m__call__\u001b[0m:\u001b[36m189\u001b[0m - \u001b[1mformula nums: 0, mfr time: 0.0\u001b[0m\n",
      "\u001b[32m2024-08-23 17:11:29.340\u001b[0m | \u001b[1mINFO    \u001b[0m | \u001b[36mmagic_pdf.model.pdf_extract_kit\u001b[0m:\u001b[36m__call__\u001b[0m:\u001b[36m294\u001b[0m - \u001b[1mtable cost: 0.0\u001b[0m\n",
      "\u001b[32m2024-08-23 17:11:35.667\u001b[0m | \u001b[1mINFO    \u001b[0m | \u001b[36mmagic_pdf.model.pdf_extract_kit\u001b[0m:\u001b[36m__call__\u001b[0m:\u001b[36m159\u001b[0m - \u001b[1mlayout detection cost: 6.33\u001b[0m\n"
     ]
    },
    {
     "name": "stdout",
     "output_type": "stream",
     "text": [
      "\n",
      "0: 1216x1888 (no detections), 1526.2ms\n",
      "Speed: 9.4ms preprocess, 1526.2ms inference, 0.3ms postprocess per image at shape (1, 3, 1216, 1888)\n"
     ]
    },
    {
     "name": "stderr",
     "output_type": "stream",
     "text": [
      "\u001b[32m2024-08-23 17:11:37.205\u001b[0m | \u001b[1mINFO    \u001b[0m | \u001b[36mmagic_pdf.model.pdf_extract_kit\u001b[0m:\u001b[36m__call__\u001b[0m:\u001b[36m189\u001b[0m - \u001b[1mformula nums: 0, mfr time: 0.0\u001b[0m\n",
      "\u001b[32m2024-08-23 17:11:37.207\u001b[0m | \u001b[1mINFO    \u001b[0m | \u001b[36mmagic_pdf.model.pdf_extract_kit\u001b[0m:\u001b[36m__call__\u001b[0m:\u001b[36m294\u001b[0m - \u001b[1mtable cost: 0.0\u001b[0m\n",
      "\u001b[32m2024-08-23 17:11:43.429\u001b[0m | \u001b[1mINFO    \u001b[0m | \u001b[36mmagic_pdf.model.pdf_extract_kit\u001b[0m:\u001b[36m__call__\u001b[0m:\u001b[36m159\u001b[0m - \u001b[1mlayout detection cost: 6.22\u001b[0m\n"
     ]
    },
    {
     "name": "stdout",
     "output_type": "stream",
     "text": [
      "\n",
      "0: 1216x1888 (no detections), 1511.2ms\n",
      "Speed: 9.1ms preprocess, 1511.2ms inference, 0.7ms postprocess per image at shape (1, 3, 1216, 1888)\n"
     ]
    },
    {
     "name": "stderr",
     "output_type": "stream",
     "text": [
      "\u001b[32m2024-08-23 17:11:44.953\u001b[0m | \u001b[1mINFO    \u001b[0m | \u001b[36mmagic_pdf.model.pdf_extract_kit\u001b[0m:\u001b[36m__call__\u001b[0m:\u001b[36m189\u001b[0m - \u001b[1mformula nums: 0, mfr time: 0.0\u001b[0m\n",
      "\u001b[32m2024-08-23 17:11:44.955\u001b[0m | \u001b[1mINFO    \u001b[0m | \u001b[36mmagic_pdf.model.pdf_extract_kit\u001b[0m:\u001b[36m__call__\u001b[0m:\u001b[36m294\u001b[0m - \u001b[1mtable cost: 0.0\u001b[0m\n",
      "\u001b[32m2024-08-23 17:11:51.148\u001b[0m | \u001b[1mINFO    \u001b[0m | \u001b[36mmagic_pdf.model.pdf_extract_kit\u001b[0m:\u001b[36m__call__\u001b[0m:\u001b[36m159\u001b[0m - \u001b[1mlayout detection cost: 6.19\u001b[0m\n"
     ]
    },
    {
     "name": "stdout",
     "output_type": "stream",
     "text": [
      "\n",
      "0: 1216x1888 (no detections), 1518.4ms\n",
      "Speed: 8.5ms preprocess, 1518.4ms inference, 0.3ms postprocess per image at shape (1, 3, 1216, 1888)\n"
     ]
    },
    {
     "name": "stderr",
     "output_type": "stream",
     "text": [
      "\u001b[32m2024-08-23 17:11:52.678\u001b[0m | \u001b[1mINFO    \u001b[0m | \u001b[36mmagic_pdf.model.pdf_extract_kit\u001b[0m:\u001b[36m__call__\u001b[0m:\u001b[36m189\u001b[0m - \u001b[1mformula nums: 0, mfr time: 0.0\u001b[0m\n",
      "\u001b[32m2024-08-23 17:11:52.680\u001b[0m | \u001b[1mINFO    \u001b[0m | \u001b[36mmagic_pdf.model.pdf_extract_kit\u001b[0m:\u001b[36m__call__\u001b[0m:\u001b[36m294\u001b[0m - \u001b[1mtable cost: 0.0\u001b[0m\n",
      "\u001b[32m2024-08-23 17:11:58.997\u001b[0m | \u001b[1mINFO    \u001b[0m | \u001b[36mmagic_pdf.model.pdf_extract_kit\u001b[0m:\u001b[36m__call__\u001b[0m:\u001b[36m159\u001b[0m - \u001b[1mlayout detection cost: 6.32\u001b[0m\n"
     ]
    },
    {
     "name": "stdout",
     "output_type": "stream",
     "text": [
      "\n",
      "0: 1216x1888 (no detections), 1483.2ms\n",
      "Speed: 8.6ms preprocess, 1483.2ms inference, 0.3ms postprocess per image at shape (1, 3, 1216, 1888)\n"
     ]
    },
    {
     "name": "stderr",
     "output_type": "stream",
     "text": [
      "\u001b[32m2024-08-23 17:12:00.492\u001b[0m | \u001b[1mINFO    \u001b[0m | \u001b[36mmagic_pdf.model.pdf_extract_kit\u001b[0m:\u001b[36m__call__\u001b[0m:\u001b[36m189\u001b[0m - \u001b[1mformula nums: 0, mfr time: 0.0\u001b[0m\n",
      "\u001b[32m2024-08-23 17:12:00.494\u001b[0m | \u001b[1mINFO    \u001b[0m | \u001b[36mmagic_pdf.model.pdf_extract_kit\u001b[0m:\u001b[36m__call__\u001b[0m:\u001b[36m294\u001b[0m - \u001b[1mtable cost: 0.0\u001b[0m\n",
      "\u001b[32m2024-08-23 17:12:06.807\u001b[0m | \u001b[1mINFO    \u001b[0m | \u001b[36mmagic_pdf.model.pdf_extract_kit\u001b[0m:\u001b[36m__call__\u001b[0m:\u001b[36m159\u001b[0m - \u001b[1mlayout detection cost: 6.31\u001b[0m\n"
     ]
    },
    {
     "name": "stdout",
     "output_type": "stream",
     "text": [
      "\n",
      "0: 1216x1888 (no detections), 1494.3ms\n",
      "Speed: 9.4ms preprocess, 1494.3ms inference, 0.3ms postprocess per image at shape (1, 3, 1216, 1888)\n"
     ]
    },
    {
     "name": "stderr",
     "output_type": "stream",
     "text": [
      "\u001b[32m2024-08-23 17:12:08.314\u001b[0m | \u001b[1mINFO    \u001b[0m | \u001b[36mmagic_pdf.model.pdf_extract_kit\u001b[0m:\u001b[36m__call__\u001b[0m:\u001b[36m189\u001b[0m - \u001b[1mformula nums: 0, mfr time: 0.0\u001b[0m\n",
      "\u001b[32m2024-08-23 17:12:08.316\u001b[0m | \u001b[1mINFO    \u001b[0m | \u001b[36mmagic_pdf.model.pdf_extract_kit\u001b[0m:\u001b[36m__call__\u001b[0m:\u001b[36m294\u001b[0m - \u001b[1mtable cost: 0.0\u001b[0m\n",
      "\u001b[32m2024-08-23 17:12:14.631\u001b[0m | \u001b[1mINFO    \u001b[0m | \u001b[36mmagic_pdf.model.pdf_extract_kit\u001b[0m:\u001b[36m__call__\u001b[0m:\u001b[36m159\u001b[0m - \u001b[1mlayout detection cost: 6.31\u001b[0m\n"
     ]
    },
    {
     "name": "stdout",
     "output_type": "stream",
     "text": [
      "\n",
      "0: 1216x1888 4 embeddings, 1522.3ms\n",
      "Speed: 9.8ms preprocess, 1522.3ms inference, 0.4ms postprocess per image at shape (1, 3, 1216, 1888)\n"
     ]
    },
    {
     "name": "stderr",
     "output_type": "stream",
     "text": [
      "\u001b[32m2024-08-23 17:12:17.190\u001b[0m | \u001b[1mINFO    \u001b[0m | \u001b[36mmagic_pdf.model.pdf_extract_kit\u001b[0m:\u001b[36m__call__\u001b[0m:\u001b[36m189\u001b[0m - \u001b[1mformula nums: 4, mfr time: 1.02\u001b[0m\n",
      "\u001b[32m2024-08-23 17:12:17.193\u001b[0m | \u001b[1mINFO    \u001b[0m | \u001b[36mmagic_pdf.model.pdf_extract_kit\u001b[0m:\u001b[36m__call__\u001b[0m:\u001b[36m294\u001b[0m - \u001b[1mtable cost: 0.0\u001b[0m\n",
      "\u001b[32m2024-08-23 17:12:23.474\u001b[0m | \u001b[1mINFO    \u001b[0m | \u001b[36mmagic_pdf.model.pdf_extract_kit\u001b[0m:\u001b[36m__call__\u001b[0m:\u001b[36m159\u001b[0m - \u001b[1mlayout detection cost: 6.28\u001b[0m\n"
     ]
    },
    {
     "name": "stdout",
     "output_type": "stream",
     "text": [
      "\n",
      "0: 1216x1888 (no detections), 1483.5ms\n",
      "Speed: 8.7ms preprocess, 1483.5ms inference, 0.3ms postprocess per image at shape (1, 3, 1216, 1888)\n"
     ]
    },
    {
     "name": "stderr",
     "output_type": "stream",
     "text": [
      "\u001b[32m2024-08-23 17:12:24.970\u001b[0m | \u001b[1mINFO    \u001b[0m | \u001b[36mmagic_pdf.model.pdf_extract_kit\u001b[0m:\u001b[36m__call__\u001b[0m:\u001b[36m189\u001b[0m - \u001b[1mformula nums: 0, mfr time: 0.0\u001b[0m\n",
      "\u001b[32m2024-08-23 17:12:24.972\u001b[0m | \u001b[1mINFO    \u001b[0m | \u001b[36mmagic_pdf.model.pdf_extract_kit\u001b[0m:\u001b[36m__call__\u001b[0m:\u001b[36m294\u001b[0m - \u001b[1mtable cost: 0.0\u001b[0m\n",
      "\u001b[32m2024-08-23 17:12:31.234\u001b[0m | \u001b[1mINFO    \u001b[0m | \u001b[36mmagic_pdf.model.pdf_extract_kit\u001b[0m:\u001b[36m__call__\u001b[0m:\u001b[36m159\u001b[0m - \u001b[1mlayout detection cost: 6.26\u001b[0m\n"
     ]
    },
    {
     "name": "stdout",
     "output_type": "stream",
     "text": [
      "\n",
      "0: 1216x1888 (no detections), 1487.2ms\n",
      "Speed: 8.2ms preprocess, 1487.2ms inference, 0.3ms postprocess per image at shape (1, 3, 1216, 1888)\n"
     ]
    },
    {
     "name": "stderr",
     "output_type": "stream",
     "text": [
      "\u001b[32m2024-08-23 17:12:32.732\u001b[0m | \u001b[1mINFO    \u001b[0m | \u001b[36mmagic_pdf.model.pdf_extract_kit\u001b[0m:\u001b[36m__call__\u001b[0m:\u001b[36m189\u001b[0m - \u001b[1mformula nums: 0, mfr time: 0.0\u001b[0m\n",
      "\u001b[32m2024-08-23 17:12:32.734\u001b[0m | \u001b[1mINFO    \u001b[0m | \u001b[36mmagic_pdf.model.pdf_extract_kit\u001b[0m:\u001b[36m__call__\u001b[0m:\u001b[36m294\u001b[0m - \u001b[1mtable cost: 0.0\u001b[0m\n",
      "\u001b[32m2024-08-23 17:12:38.946\u001b[0m | \u001b[1mINFO    \u001b[0m | \u001b[36mmagic_pdf.model.pdf_extract_kit\u001b[0m:\u001b[36m__call__\u001b[0m:\u001b[36m159\u001b[0m - \u001b[1mlayout detection cost: 6.21\u001b[0m\n"
     ]
    },
    {
     "name": "stdout",
     "output_type": "stream",
     "text": [
      "\n",
      "0: 1216x1888 (no detections), 1521.7ms\n",
      "Speed: 8.5ms preprocess, 1521.7ms inference, 0.7ms postprocess per image at shape (1, 3, 1216, 1888)\n"
     ]
    },
    {
     "name": "stderr",
     "output_type": "stream",
     "text": [
      "\u001b[32m2024-08-23 17:12:40.479\u001b[0m | \u001b[1mINFO    \u001b[0m | \u001b[36mmagic_pdf.model.pdf_extract_kit\u001b[0m:\u001b[36m__call__\u001b[0m:\u001b[36m189\u001b[0m - \u001b[1mformula nums: 0, mfr time: 0.0\u001b[0m\n",
      "\u001b[32m2024-08-23 17:12:40.481\u001b[0m | \u001b[1mINFO    \u001b[0m | \u001b[36mmagic_pdf.model.pdf_extract_kit\u001b[0m:\u001b[36m__call__\u001b[0m:\u001b[36m294\u001b[0m - \u001b[1mtable cost: 0.0\u001b[0m\n",
      "\u001b[32m2024-08-23 17:12:46.780\u001b[0m | \u001b[1mINFO    \u001b[0m | \u001b[36mmagic_pdf.model.pdf_extract_kit\u001b[0m:\u001b[36m__call__\u001b[0m:\u001b[36m159\u001b[0m - \u001b[1mlayout detection cost: 6.3\u001b[0m\n"
     ]
    },
    {
     "name": "stdout",
     "output_type": "stream",
     "text": [
      "\n",
      "0: 1216x1888 (no detections), 1464.0ms\n",
      "Speed: 9.3ms preprocess, 1464.0ms inference, 0.3ms postprocess per image at shape (1, 3, 1216, 1888)\n"
     ]
    },
    {
     "name": "stderr",
     "output_type": "stream",
     "text": [
      "\u001b[32m2024-08-23 17:12:48.257\u001b[0m | \u001b[1mINFO    \u001b[0m | \u001b[36mmagic_pdf.model.pdf_extract_kit\u001b[0m:\u001b[36m__call__\u001b[0m:\u001b[36m189\u001b[0m - \u001b[1mformula nums: 0, mfr time: 0.0\u001b[0m\n",
      "\u001b[32m2024-08-23 17:12:48.259\u001b[0m | \u001b[1mINFO    \u001b[0m | \u001b[36mmagic_pdf.model.pdf_extract_kit\u001b[0m:\u001b[36m__call__\u001b[0m:\u001b[36m294\u001b[0m - \u001b[1mtable cost: 0.0\u001b[0m\n",
      "\u001b[32m2024-08-23 17:12:54.639\u001b[0m | \u001b[1mINFO    \u001b[0m | \u001b[36mmagic_pdf.model.pdf_extract_kit\u001b[0m:\u001b[36m__call__\u001b[0m:\u001b[36m159\u001b[0m - \u001b[1mlayout detection cost: 6.38\u001b[0m\n"
     ]
    },
    {
     "name": "stdout",
     "output_type": "stream",
     "text": [
      "\n",
      "0: 1216x1888 (no detections), 1527.4ms\n",
      "Speed: 9.3ms preprocess, 1527.4ms inference, 0.3ms postprocess per image at shape (1, 3, 1216, 1888)\n"
     ]
    },
    {
     "name": "stderr",
     "output_type": "stream",
     "text": [
      "\u001b[32m2024-08-23 17:12:56.179\u001b[0m | \u001b[1mINFO    \u001b[0m | \u001b[36mmagic_pdf.model.pdf_extract_kit\u001b[0m:\u001b[36m__call__\u001b[0m:\u001b[36m189\u001b[0m - \u001b[1mformula nums: 0, mfr time: 0.0\u001b[0m\n",
      "\u001b[32m2024-08-23 17:12:56.181\u001b[0m | \u001b[1mINFO    \u001b[0m | \u001b[36mmagic_pdf.model.pdf_extract_kit\u001b[0m:\u001b[36m__call__\u001b[0m:\u001b[36m294\u001b[0m - \u001b[1mtable cost: 0.0\u001b[0m\n",
      "\u001b[32m2024-08-23 17:13:02.463\u001b[0m | \u001b[1mINFO    \u001b[0m | \u001b[36mmagic_pdf.model.pdf_extract_kit\u001b[0m:\u001b[36m__call__\u001b[0m:\u001b[36m159\u001b[0m - \u001b[1mlayout detection cost: 6.28\u001b[0m\n"
     ]
    },
    {
     "name": "stdout",
     "output_type": "stream",
     "text": [
      "\n",
      "0: 1216x1888 (no detections), 1448.3ms\n",
      "Speed: 9.6ms preprocess, 1448.3ms inference, 0.4ms postprocess per image at shape (1, 3, 1216, 1888)\n"
     ]
    },
    {
     "name": "stderr",
     "output_type": "stream",
     "text": [
      "\u001b[32m2024-08-23 17:13:03.924\u001b[0m | \u001b[1mINFO    \u001b[0m | \u001b[36mmagic_pdf.model.pdf_extract_kit\u001b[0m:\u001b[36m__call__\u001b[0m:\u001b[36m189\u001b[0m - \u001b[1mformula nums: 0, mfr time: 0.0\u001b[0m\n",
      "\u001b[32m2024-08-23 17:13:03.926\u001b[0m | \u001b[1mINFO    \u001b[0m | \u001b[36mmagic_pdf.model.pdf_extract_kit\u001b[0m:\u001b[36m__call__\u001b[0m:\u001b[36m294\u001b[0m - \u001b[1mtable cost: 0.0\u001b[0m\n",
      "\u001b[32m2024-08-23 17:13:10.182\u001b[0m | \u001b[1mINFO    \u001b[0m | \u001b[36mmagic_pdf.model.pdf_extract_kit\u001b[0m:\u001b[36m__call__\u001b[0m:\u001b[36m159\u001b[0m - \u001b[1mlayout detection cost: 6.26\u001b[0m\n"
     ]
    },
    {
     "name": "stdout",
     "output_type": "stream",
     "text": [
      "\n",
      "0: 1216x1888 (no detections), 1458.3ms\n",
      "Speed: 8.2ms preprocess, 1458.3ms inference, 0.3ms postprocess per image at shape (1, 3, 1216, 1888)\n"
     ]
    },
    {
     "name": "stderr",
     "output_type": "stream",
     "text": [
      "\u001b[32m2024-08-23 17:13:11.651\u001b[0m | \u001b[1mINFO    \u001b[0m | \u001b[36mmagic_pdf.model.pdf_extract_kit\u001b[0m:\u001b[36m__call__\u001b[0m:\u001b[36m189\u001b[0m - \u001b[1mformula nums: 0, mfr time: 0.0\u001b[0m\n",
      "\u001b[32m2024-08-23 17:13:11.653\u001b[0m | \u001b[1mINFO    \u001b[0m | \u001b[36mmagic_pdf.model.pdf_extract_kit\u001b[0m:\u001b[36m__call__\u001b[0m:\u001b[36m294\u001b[0m - \u001b[1mtable cost: 0.0\u001b[0m\n",
      "\u001b[32m2024-08-23 17:13:17.935\u001b[0m | \u001b[1mINFO    \u001b[0m | \u001b[36mmagic_pdf.model.pdf_extract_kit\u001b[0m:\u001b[36m__call__\u001b[0m:\u001b[36m159\u001b[0m - \u001b[1mlayout detection cost: 6.28\u001b[0m\n"
     ]
    },
    {
     "name": "stdout",
     "output_type": "stream",
     "text": [
      "\n",
      "0: 1216x1888 (no detections), 1458.4ms\n",
      "Speed: 8.9ms preprocess, 1458.4ms inference, 0.3ms postprocess per image at shape (1, 3, 1216, 1888)\n"
     ]
    },
    {
     "name": "stderr",
     "output_type": "stream",
     "text": [
      "\u001b[32m2024-08-23 17:13:19.405\u001b[0m | \u001b[1mINFO    \u001b[0m | \u001b[36mmagic_pdf.model.pdf_extract_kit\u001b[0m:\u001b[36m__call__\u001b[0m:\u001b[36m189\u001b[0m - \u001b[1mformula nums: 0, mfr time: 0.0\u001b[0m\n",
      "\u001b[32m2024-08-23 17:13:19.407\u001b[0m | \u001b[1mINFO    \u001b[0m | \u001b[36mmagic_pdf.model.pdf_extract_kit\u001b[0m:\u001b[36m__call__\u001b[0m:\u001b[36m294\u001b[0m - \u001b[1mtable cost: 0.0\u001b[0m\n",
      "\u001b[32m2024-08-23 17:13:25.625\u001b[0m | \u001b[1mINFO    \u001b[0m | \u001b[36mmagic_pdf.model.pdf_extract_kit\u001b[0m:\u001b[36m__call__\u001b[0m:\u001b[36m159\u001b[0m - \u001b[1mlayout detection cost: 6.22\u001b[0m\n"
     ]
    },
    {
     "name": "stdout",
     "output_type": "stream",
     "text": [
      "\n",
      "0: 1216x1888 (no detections), 1501.8ms\n",
      "Speed: 9.8ms preprocess, 1501.8ms inference, 0.3ms postprocess per image at shape (1, 3, 1216, 1888)\n"
     ]
    },
    {
     "name": "stderr",
     "output_type": "stream",
     "text": [
      "\u001b[32m2024-08-23 17:13:27.140\u001b[0m | \u001b[1mINFO    \u001b[0m | \u001b[36mmagic_pdf.model.pdf_extract_kit\u001b[0m:\u001b[36m__call__\u001b[0m:\u001b[36m189\u001b[0m - \u001b[1mformula nums: 0, mfr time: 0.0\u001b[0m\n",
      "\u001b[32m2024-08-23 17:13:27.142\u001b[0m | \u001b[1mINFO    \u001b[0m | \u001b[36mmagic_pdf.model.pdf_extract_kit\u001b[0m:\u001b[36m__call__\u001b[0m:\u001b[36m294\u001b[0m - \u001b[1mtable cost: 0.0\u001b[0m\n",
      "\u001b[32m2024-08-23 17:13:33.383\u001b[0m | \u001b[1mINFO    \u001b[0m | \u001b[36mmagic_pdf.model.pdf_extract_kit\u001b[0m:\u001b[36m__call__\u001b[0m:\u001b[36m159\u001b[0m - \u001b[1mlayout detection cost: 6.24\u001b[0m\n"
     ]
    },
    {
     "name": "stdout",
     "output_type": "stream",
     "text": [
      "\n",
      "0: 1216x1888 (no detections), 1474.0ms\n",
      "Speed: 8.2ms preprocess, 1474.0ms inference, 0.3ms postprocess per image at shape (1, 3, 1216, 1888)\n"
     ]
    },
    {
     "name": "stderr",
     "output_type": "stream",
     "text": [
      "\u001b[32m2024-08-23 17:13:34.868\u001b[0m | \u001b[1mINFO    \u001b[0m | \u001b[36mmagic_pdf.model.pdf_extract_kit\u001b[0m:\u001b[36m__call__\u001b[0m:\u001b[36m189\u001b[0m - \u001b[1mformula nums: 0, mfr time: 0.0\u001b[0m\n",
      "\u001b[32m2024-08-23 17:13:34.871\u001b[0m | \u001b[1mINFO    \u001b[0m | \u001b[36mmagic_pdf.model.pdf_extract_kit\u001b[0m:\u001b[36m__call__\u001b[0m:\u001b[36m294\u001b[0m - \u001b[1mtable cost: 0.0\u001b[0m\n",
      "\u001b[32m2024-08-23 17:13:41.094\u001b[0m | \u001b[1mINFO    \u001b[0m | \u001b[36mmagic_pdf.model.pdf_extract_kit\u001b[0m:\u001b[36m__call__\u001b[0m:\u001b[36m159\u001b[0m - \u001b[1mlayout detection cost: 6.22\u001b[0m\n"
     ]
    },
    {
     "name": "stdout",
     "output_type": "stream",
     "text": [
      "\n",
      "0: 1216x1888 (no detections), 1479.9ms\n",
      "Speed: 9.6ms preprocess, 1479.9ms inference, 0.3ms postprocess per image at shape (1, 3, 1216, 1888)\n"
     ]
    },
    {
     "name": "stderr",
     "output_type": "stream",
     "text": [
      "\u001b[32m2024-08-23 17:13:42.586\u001b[0m | \u001b[1mINFO    \u001b[0m | \u001b[36mmagic_pdf.model.pdf_extract_kit\u001b[0m:\u001b[36m__call__\u001b[0m:\u001b[36m189\u001b[0m - \u001b[1mformula nums: 0, mfr time: 0.0\u001b[0m\n",
      "\u001b[32m2024-08-23 17:13:42.588\u001b[0m | \u001b[1mINFO    \u001b[0m | \u001b[36mmagic_pdf.model.pdf_extract_kit\u001b[0m:\u001b[36m__call__\u001b[0m:\u001b[36m294\u001b[0m - \u001b[1mtable cost: 0.0\u001b[0m\n",
      "\u001b[32m2024-08-23 17:13:48.952\u001b[0m | \u001b[1mINFO    \u001b[0m | \u001b[36mmagic_pdf.model.pdf_extract_kit\u001b[0m:\u001b[36m__call__\u001b[0m:\u001b[36m159\u001b[0m - \u001b[1mlayout detection cost: 6.36\u001b[0m\n"
     ]
    },
    {
     "name": "stdout",
     "output_type": "stream",
     "text": [
      "\n",
      "0: 1216x1888 (no detections), 1513.4ms\n",
      "Speed: 9.8ms preprocess, 1513.4ms inference, 0.3ms postprocess per image at shape (1, 3, 1216, 1888)\n"
     ]
    },
    {
     "name": "stderr",
     "output_type": "stream",
     "text": [
      "\u001b[32m2024-08-23 17:13:50.478\u001b[0m | \u001b[1mINFO    \u001b[0m | \u001b[36mmagic_pdf.model.pdf_extract_kit\u001b[0m:\u001b[36m__call__\u001b[0m:\u001b[36m189\u001b[0m - \u001b[1mformula nums: 0, mfr time: 0.0\u001b[0m\n",
      "\u001b[32m2024-08-23 17:13:50.480\u001b[0m | \u001b[1mINFO    \u001b[0m | \u001b[36mmagic_pdf.model.pdf_extract_kit\u001b[0m:\u001b[36m__call__\u001b[0m:\u001b[36m294\u001b[0m - \u001b[1mtable cost: 0.0\u001b[0m\n",
      "\u001b[32m2024-08-23 17:13:56.747\u001b[0m | \u001b[1mINFO    \u001b[0m | \u001b[36mmagic_pdf.model.pdf_extract_kit\u001b[0m:\u001b[36m__call__\u001b[0m:\u001b[36m159\u001b[0m - \u001b[1mlayout detection cost: 6.27\u001b[0m\n"
     ]
    },
    {
     "name": "stdout",
     "output_type": "stream",
     "text": [
      "\n",
      "0: 1216x1888 (no detections), 1451.8ms\n",
      "Speed: 9.2ms preprocess, 1451.8ms inference, 0.3ms postprocess per image at shape (1, 3, 1216, 1888)\n"
     ]
    },
    {
     "name": "stderr",
     "output_type": "stream",
     "text": [
      "\u001b[32m2024-08-23 17:13:58.211\u001b[0m | \u001b[1mINFO    \u001b[0m | \u001b[36mmagic_pdf.model.pdf_extract_kit\u001b[0m:\u001b[36m__call__\u001b[0m:\u001b[36m189\u001b[0m - \u001b[1mformula nums: 0, mfr time: 0.0\u001b[0m\n",
      "\u001b[32m2024-08-23 17:13:58.213\u001b[0m | \u001b[1mINFO    \u001b[0m | \u001b[36mmagic_pdf.model.pdf_extract_kit\u001b[0m:\u001b[36m__call__\u001b[0m:\u001b[36m294\u001b[0m - \u001b[1mtable cost: 0.0\u001b[0m\n",
      "\u001b[32m2024-08-23 17:14:04.285\u001b[0m | \u001b[1mINFO    \u001b[0m | \u001b[36mmagic_pdf.model.pdf_extract_kit\u001b[0m:\u001b[36m__call__\u001b[0m:\u001b[36m159\u001b[0m - \u001b[1mlayout detection cost: 6.07\u001b[0m\n"
     ]
    },
    {
     "name": "stdout",
     "output_type": "stream",
     "text": [
      "\n",
      "0: 1216x1888 (no detections), 1433.5ms\n",
      "Speed: 8.9ms preprocess, 1433.5ms inference, 0.3ms postprocess per image at shape (1, 3, 1216, 1888)\n"
     ]
    },
    {
     "name": "stderr",
     "output_type": "stream",
     "text": [
      "\u001b[32m2024-08-23 17:14:05.731\u001b[0m | \u001b[1mINFO    \u001b[0m | \u001b[36mmagic_pdf.model.pdf_extract_kit\u001b[0m:\u001b[36m__call__\u001b[0m:\u001b[36m189\u001b[0m - \u001b[1mformula nums: 0, mfr time: 0.0\u001b[0m\n",
      "\u001b[32m2024-08-23 17:14:05.733\u001b[0m | \u001b[1mINFO    \u001b[0m | \u001b[36mmagic_pdf.model.pdf_extract_kit\u001b[0m:\u001b[36m__call__\u001b[0m:\u001b[36m294\u001b[0m - \u001b[1mtable cost: 0.0\u001b[0m\n",
      "\u001b[32m2024-08-23 17:14:12.068\u001b[0m | \u001b[1mINFO    \u001b[0m | \u001b[36mmagic_pdf.model.pdf_extract_kit\u001b[0m:\u001b[36m__call__\u001b[0m:\u001b[36m159\u001b[0m - \u001b[1mlayout detection cost: 6.33\u001b[0m\n"
     ]
    },
    {
     "name": "stdout",
     "output_type": "stream",
     "text": [
      "\n",
      "0: 1216x1888 (no detections), 1484.2ms\n",
      "Speed: 8.6ms preprocess, 1484.2ms inference, 0.3ms postprocess per image at shape (1, 3, 1216, 1888)\n"
     ]
    },
    {
     "name": "stderr",
     "output_type": "stream",
     "text": [
      "\u001b[32m2024-08-23 17:14:13.564\u001b[0m | \u001b[1mINFO    \u001b[0m | \u001b[36mmagic_pdf.model.pdf_extract_kit\u001b[0m:\u001b[36m__call__\u001b[0m:\u001b[36m189\u001b[0m - \u001b[1mformula nums: 0, mfr time: 0.0\u001b[0m\n",
      "\u001b[32m2024-08-23 17:14:13.565\u001b[0m | \u001b[1mINFO    \u001b[0m | \u001b[36mmagic_pdf.model.pdf_extract_kit\u001b[0m:\u001b[36m__call__\u001b[0m:\u001b[36m294\u001b[0m - \u001b[1mtable cost: 0.0\u001b[0m\n",
      "\u001b[32m2024-08-23 17:14:19.913\u001b[0m | \u001b[1mINFO    \u001b[0m | \u001b[36mmagic_pdf.model.pdf_extract_kit\u001b[0m:\u001b[36m__call__\u001b[0m:\u001b[36m159\u001b[0m - \u001b[1mlayout detection cost: 6.35\u001b[0m\n"
     ]
    },
    {
     "name": "stdout",
     "output_type": "stream",
     "text": [
      "\n",
      "0: 1216x1888 (no detections), 1503.3ms\n",
      "Speed: 8.6ms preprocess, 1503.3ms inference, 0.3ms postprocess per image at shape (1, 3, 1216, 1888)\n"
     ]
    },
    {
     "name": "stderr",
     "output_type": "stream",
     "text": [
      "\u001b[32m2024-08-23 17:14:21.428\u001b[0m | \u001b[1mINFO    \u001b[0m | \u001b[36mmagic_pdf.model.pdf_extract_kit\u001b[0m:\u001b[36m__call__\u001b[0m:\u001b[36m189\u001b[0m - \u001b[1mformula nums: 0, mfr time: 0.0\u001b[0m\n",
      "\u001b[32m2024-08-23 17:14:21.429\u001b[0m | \u001b[1mINFO    \u001b[0m | \u001b[36mmagic_pdf.model.pdf_extract_kit\u001b[0m:\u001b[36m__call__\u001b[0m:\u001b[36m294\u001b[0m - \u001b[1mtable cost: 0.0\u001b[0m\n",
      "\u001b[32m2024-08-23 17:14:27.909\u001b[0m | \u001b[1mINFO    \u001b[0m | \u001b[36mmagic_pdf.model.pdf_extract_kit\u001b[0m:\u001b[36m__call__\u001b[0m:\u001b[36m159\u001b[0m - \u001b[1mlayout detection cost: 6.48\u001b[0m\n"
     ]
    },
    {
     "name": "stdout",
     "output_type": "stream",
     "text": [
      "\n",
      "0: 1216x1888 1 embedding, 1533.1ms\n",
      "Speed: 8.9ms preprocess, 1533.1ms inference, 0.8ms postprocess per image at shape (1, 3, 1216, 1888)\n"
     ]
    },
    {
     "name": "stderr",
     "output_type": "stream",
     "text": [
      "\u001b[32m2024-08-23 17:14:29.757\u001b[0m | \u001b[1mINFO    \u001b[0m | \u001b[36mmagic_pdf.model.pdf_extract_kit\u001b[0m:\u001b[36m__call__\u001b[0m:\u001b[36m189\u001b[0m - \u001b[1mformula nums: 1, mfr time: 0.3\u001b[0m\n",
      "\u001b[32m2024-08-23 17:14:29.759\u001b[0m | \u001b[1mINFO    \u001b[0m | \u001b[36mmagic_pdf.model.pdf_extract_kit\u001b[0m:\u001b[36m__call__\u001b[0m:\u001b[36m294\u001b[0m - \u001b[1mtable cost: 0.0\u001b[0m\n",
      "\u001b[32m2024-08-23 17:14:36.176\u001b[0m | \u001b[1mINFO    \u001b[0m | \u001b[36mmagic_pdf.model.pdf_extract_kit\u001b[0m:\u001b[36m__call__\u001b[0m:\u001b[36m159\u001b[0m - \u001b[1mlayout detection cost: 6.42\u001b[0m\n"
     ]
    },
    {
     "name": "stdout",
     "output_type": "stream",
     "text": [
      "\n",
      "0: 1216x1888 (no detections), 1479.8ms\n",
      "Speed: 8.2ms preprocess, 1479.8ms inference, 0.6ms postprocess per image at shape (1, 3, 1216, 1888)\n"
     ]
    },
    {
     "name": "stderr",
     "output_type": "stream",
     "text": [
      "\u001b[32m2024-08-23 17:14:37.667\u001b[0m | \u001b[1mINFO    \u001b[0m | \u001b[36mmagic_pdf.model.pdf_extract_kit\u001b[0m:\u001b[36m__call__\u001b[0m:\u001b[36m189\u001b[0m - \u001b[1mformula nums: 0, mfr time: 0.0\u001b[0m\n",
      "\u001b[32m2024-08-23 17:14:37.669\u001b[0m | \u001b[1mINFO    \u001b[0m | \u001b[36mmagic_pdf.model.pdf_extract_kit\u001b[0m:\u001b[36m__call__\u001b[0m:\u001b[36m294\u001b[0m - \u001b[1mtable cost: 0.0\u001b[0m\n",
      "\u001b[32m2024-08-23 17:14:44.046\u001b[0m | \u001b[1mINFO    \u001b[0m | \u001b[36mmagic_pdf.model.pdf_extract_kit\u001b[0m:\u001b[36m__call__\u001b[0m:\u001b[36m159\u001b[0m - \u001b[1mlayout detection cost: 6.38\u001b[0m\n"
     ]
    },
    {
     "name": "stdout",
     "output_type": "stream",
     "text": [
      "\n",
      "0: 1216x1888 (no detections), 1495.5ms\n",
      "Speed: 9.3ms preprocess, 1495.5ms inference, 0.3ms postprocess per image at shape (1, 3, 1216, 1888)\n"
     ]
    },
    {
     "name": "stderr",
     "output_type": "stream",
     "text": [
      "\u001b[32m2024-08-23 17:14:45.554\u001b[0m | \u001b[1mINFO    \u001b[0m | \u001b[36mmagic_pdf.model.pdf_extract_kit\u001b[0m:\u001b[36m__call__\u001b[0m:\u001b[36m189\u001b[0m - \u001b[1mformula nums: 0, mfr time: 0.0\u001b[0m\n",
      "\u001b[32m2024-08-23 17:14:45.556\u001b[0m | \u001b[1mINFO    \u001b[0m | \u001b[36mmagic_pdf.model.pdf_extract_kit\u001b[0m:\u001b[36m__call__\u001b[0m:\u001b[36m280\u001b[0m - \u001b[1m------------------table recognition processing begins-----------------\u001b[0m\n",
      "\u001b[32m2024-08-23 17:21:32.227\u001b[0m | \u001b[1mINFO    \u001b[0m | \u001b[36mmagic_pdf.model.pdf_extract_kit\u001b[0m:\u001b[36m__call__\u001b[0m:\u001b[36m284\u001b[0m - \u001b[1m------------table recognition processing ends within 406.6710238456726s-----\u001b[0m\n",
      "\u001b[32m2024-08-23 17:21:32.228\u001b[0m | \u001b[33m\u001b[1mWARNING \u001b[0m | \u001b[36mmagic_pdf.model.pdf_extract_kit\u001b[0m:\u001b[36m__call__\u001b[0m:\u001b[36m286\u001b[0m - \u001b[33m\u001b[1m------------table recognition processing exceeds max time 400s----------\u001b[0m\n",
      "\u001b[32m2024-08-23 17:21:32.228\u001b[0m | \u001b[33m\u001b[1mWARNING \u001b[0m | \u001b[36mmagic_pdf.model.pdf_extract_kit\u001b[0m:\u001b[36m__call__\u001b[0m:\u001b[36m292\u001b[0m - \u001b[33m\u001b[1m------------table recognition processing fails----------\u001b[0m\n",
      "\u001b[32m2024-08-23 17:21:32.228\u001b[0m | \u001b[1mINFO    \u001b[0m | \u001b[36mmagic_pdf.model.pdf_extract_kit\u001b[0m:\u001b[36m__call__\u001b[0m:\u001b[36m294\u001b[0m - \u001b[1mtable cost: 406.67\u001b[0m\n",
      "\u001b[32m2024-08-23 17:21:39.005\u001b[0m | \u001b[1mINFO    \u001b[0m | \u001b[36mmagic_pdf.model.pdf_extract_kit\u001b[0m:\u001b[36m__call__\u001b[0m:\u001b[36m159\u001b[0m - \u001b[1mlayout detection cost: 6.78\u001b[0m\n"
     ]
    },
    {
     "name": "stdout",
     "output_type": "stream",
     "text": [
      "\n",
      "0: 1216x1888 5 embeddings, 1696.4ms\n",
      "Speed: 9.6ms preprocess, 1696.4ms inference, 0.5ms postprocess per image at shape (1, 3, 1216, 1888)\n"
     ]
    },
    {
     "name": "stderr",
     "output_type": "stream",
     "text": [
      "\u001b[32m2024-08-23 17:21:42.213\u001b[0m | \u001b[1mINFO    \u001b[0m | \u001b[36mmagic_pdf.model.pdf_extract_kit\u001b[0m:\u001b[36m__call__\u001b[0m:\u001b[36m189\u001b[0m - \u001b[1mformula nums: 5, mfr time: 1.49\u001b[0m\n",
      "\u001b[32m2024-08-23 17:21:42.215\u001b[0m | \u001b[1mINFO    \u001b[0m | \u001b[36mmagic_pdf.model.pdf_extract_kit\u001b[0m:\u001b[36m__call__\u001b[0m:\u001b[36m294\u001b[0m - \u001b[1mtable cost: 0.0\u001b[0m\n",
      "\u001b[32m2024-08-23 17:21:48.779\u001b[0m | \u001b[1mINFO    \u001b[0m | \u001b[36mmagic_pdf.model.pdf_extract_kit\u001b[0m:\u001b[36m__call__\u001b[0m:\u001b[36m159\u001b[0m - \u001b[1mlayout detection cost: 6.56\u001b[0m\n"
     ]
    },
    {
     "name": "stdout",
     "output_type": "stream",
     "text": [
      "\n",
      "0: 1216x1888 (no detections), 1578.8ms\n",
      "Speed: 9.3ms preprocess, 1578.8ms inference, 0.3ms postprocess per image at shape (1, 3, 1216, 1888)\n"
     ]
    },
    {
     "name": "stderr",
     "output_type": "stream",
     "text": [
      "\u001b[32m2024-08-23 17:21:50.371\u001b[0m | \u001b[1mINFO    \u001b[0m | \u001b[36mmagic_pdf.model.pdf_extract_kit\u001b[0m:\u001b[36m__call__\u001b[0m:\u001b[36m189\u001b[0m - \u001b[1mformula nums: 0, mfr time: 0.0\u001b[0m\n",
      "\u001b[32m2024-08-23 17:21:50.372\u001b[0m | \u001b[1mINFO    \u001b[0m | \u001b[36mmagic_pdf.model.pdf_extract_kit\u001b[0m:\u001b[36m__call__\u001b[0m:\u001b[36m294\u001b[0m - \u001b[1mtable cost: 0.0\u001b[0m\n",
      "\u001b[32m2024-08-23 17:21:56.847\u001b[0m | \u001b[1mINFO    \u001b[0m | \u001b[36mmagic_pdf.model.pdf_extract_kit\u001b[0m:\u001b[36m__call__\u001b[0m:\u001b[36m159\u001b[0m - \u001b[1mlayout detection cost: 6.47\u001b[0m\n"
     ]
    },
    {
     "name": "stdout",
     "output_type": "stream",
     "text": [
      "\n",
      "0: 1216x1888 (no detections), 1658.3ms\n",
      "Speed: 8.6ms preprocess, 1658.3ms inference, 0.3ms postprocess per image at shape (1, 3, 1216, 1888)\n"
     ]
    },
    {
     "name": "stderr",
     "output_type": "stream",
     "text": [
      "\u001b[32m2024-08-23 17:21:58.517\u001b[0m | \u001b[1mINFO    \u001b[0m | \u001b[36mmagic_pdf.model.pdf_extract_kit\u001b[0m:\u001b[36m__call__\u001b[0m:\u001b[36m189\u001b[0m - \u001b[1mformula nums: 0, mfr time: 0.0\u001b[0m\n",
      "\u001b[32m2024-08-23 17:21:58.520\u001b[0m | \u001b[1mINFO    \u001b[0m | \u001b[36mmagic_pdf.model.pdf_extract_kit\u001b[0m:\u001b[36m__call__\u001b[0m:\u001b[36m280\u001b[0m - \u001b[1m------------------table recognition processing begins-----------------\u001b[0m\n",
      "\u001b[32m2024-08-23 17:26:48.114\u001b[0m | \u001b[1mINFO    \u001b[0m | \u001b[36mmagic_pdf.model.pdf_extract_kit\u001b[0m:\u001b[36m__call__\u001b[0m:\u001b[36m284\u001b[0m - \u001b[1m------------table recognition processing ends within 289.59339594841003s-----\u001b[0m\n",
      "\u001b[32m2024-08-23 17:26:48.115\u001b[0m | \u001b[1mINFO    \u001b[0m | \u001b[36mmagic_pdf.model.pdf_extract_kit\u001b[0m:\u001b[36m__call__\u001b[0m:\u001b[36m294\u001b[0m - \u001b[1mtable cost: 289.6\u001b[0m\n",
      "\u001b[32m2024-08-23 17:26:54.245\u001b[0m | \u001b[1mINFO    \u001b[0m | \u001b[36mmagic_pdf.model.pdf_extract_kit\u001b[0m:\u001b[36m__call__\u001b[0m:\u001b[36m159\u001b[0m - \u001b[1mlayout detection cost: 6.13\u001b[0m\n"
     ]
    },
    {
     "name": "stdout",
     "output_type": "stream",
     "text": [
      "\n",
      "0: 1216x1888 (no detections), 1480.0ms\n",
      "Speed: 9.9ms preprocess, 1480.0ms inference, 0.3ms postprocess per image at shape (1, 3, 1216, 1888)\n"
     ]
    },
    {
     "name": "stderr",
     "output_type": "stream",
     "text": [
      "\u001b[32m2024-08-23 17:26:55.741\u001b[0m | \u001b[1mINFO    \u001b[0m | \u001b[36mmagic_pdf.model.pdf_extract_kit\u001b[0m:\u001b[36m__call__\u001b[0m:\u001b[36m189\u001b[0m - \u001b[1mformula nums: 0, mfr time: 0.0\u001b[0m\n",
      "\u001b[32m2024-08-23 17:26:55.743\u001b[0m | \u001b[1mINFO    \u001b[0m | \u001b[36mmagic_pdf.model.pdf_extract_kit\u001b[0m:\u001b[36m__call__\u001b[0m:\u001b[36m294\u001b[0m - \u001b[1mtable cost: 0.0\u001b[0m\n",
      "\u001b[32m2024-08-23 17:27:01.661\u001b[0m | \u001b[1mINFO    \u001b[0m | \u001b[36mmagic_pdf.model.pdf_extract_kit\u001b[0m:\u001b[36m__call__\u001b[0m:\u001b[36m159\u001b[0m - \u001b[1mlayout detection cost: 5.92\u001b[0m\n"
     ]
    },
    {
     "name": "stdout",
     "output_type": "stream",
     "text": [
      "\n",
      "0: 1216x1888 (no detections), 1403.7ms\n",
      "Speed: 8.9ms preprocess, 1403.7ms inference, 0.3ms postprocess per image at shape (1, 3, 1216, 1888)\n"
     ]
    },
    {
     "name": "stderr",
     "output_type": "stream",
     "text": [
      "\u001b[32m2024-08-23 17:27:03.077\u001b[0m | \u001b[1mINFO    \u001b[0m | \u001b[36mmagic_pdf.model.pdf_extract_kit\u001b[0m:\u001b[36m__call__\u001b[0m:\u001b[36m189\u001b[0m - \u001b[1mformula nums: 0, mfr time: 0.0\u001b[0m\n",
      "\u001b[32m2024-08-23 17:27:03.078\u001b[0m | \u001b[1mINFO    \u001b[0m | \u001b[36mmagic_pdf.model.pdf_extract_kit\u001b[0m:\u001b[36m__call__\u001b[0m:\u001b[36m294\u001b[0m - \u001b[1mtable cost: 0.0\u001b[0m\n",
      "\u001b[32m2024-08-23 17:27:09.292\u001b[0m | \u001b[1mINFO    \u001b[0m | \u001b[36mmagic_pdf.model.pdf_extract_kit\u001b[0m:\u001b[36m__call__\u001b[0m:\u001b[36m159\u001b[0m - \u001b[1mlayout detection cost: 6.21\u001b[0m\n"
     ]
    },
    {
     "name": "stdout",
     "output_type": "stream",
     "text": [
      "\n",
      "0: 1216x1888 (no detections), 1466.5ms\n",
      "Speed: 8.2ms preprocess, 1466.5ms inference, 0.3ms postprocess per image at shape (1, 3, 1216, 1888)\n"
     ]
    },
    {
     "name": "stderr",
     "output_type": "stream",
     "text": [
      "\u001b[32m2024-08-23 17:27:10.769\u001b[0m | \u001b[1mINFO    \u001b[0m | \u001b[36mmagic_pdf.model.pdf_extract_kit\u001b[0m:\u001b[36m__call__\u001b[0m:\u001b[36m189\u001b[0m - \u001b[1mformula nums: 0, mfr time: 0.0\u001b[0m\n",
      "\u001b[32m2024-08-23 17:27:10.771\u001b[0m | \u001b[1mINFO    \u001b[0m | \u001b[36mmagic_pdf.model.pdf_extract_kit\u001b[0m:\u001b[36m__call__\u001b[0m:\u001b[36m294\u001b[0m - \u001b[1mtable cost: 0.0\u001b[0m\n",
      "\u001b[32m2024-08-23 17:27:16.950\u001b[0m | \u001b[1mINFO    \u001b[0m | \u001b[36mmagic_pdf.model.pdf_extract_kit\u001b[0m:\u001b[36m__call__\u001b[0m:\u001b[36m159\u001b[0m - \u001b[1mlayout detection cost: 6.18\u001b[0m\n"
     ]
    },
    {
     "name": "stdout",
     "output_type": "stream",
     "text": [
      "\n",
      "0: 1216x1888 (no detections), 1445.7ms\n",
      "Speed: 9.5ms preprocess, 1445.7ms inference, 0.3ms postprocess per image at shape (1, 3, 1216, 1888)\n"
     ]
    },
    {
     "name": "stderr",
     "output_type": "stream",
     "text": [
      "\u001b[32m2024-08-23 17:27:18.409\u001b[0m | \u001b[1mINFO    \u001b[0m | \u001b[36mmagic_pdf.model.pdf_extract_kit\u001b[0m:\u001b[36m__call__\u001b[0m:\u001b[36m189\u001b[0m - \u001b[1mformula nums: 0, mfr time: 0.0\u001b[0m\n",
      "\u001b[32m2024-08-23 17:27:18.410\u001b[0m | \u001b[1mINFO    \u001b[0m | \u001b[36mmagic_pdf.model.pdf_extract_kit\u001b[0m:\u001b[36m__call__\u001b[0m:\u001b[36m294\u001b[0m - \u001b[1mtable cost: 0.0\u001b[0m\n",
      "\u001b[32m2024-08-23 17:27:24.559\u001b[0m | \u001b[1mINFO    \u001b[0m | \u001b[36mmagic_pdf.model.pdf_extract_kit\u001b[0m:\u001b[36m__call__\u001b[0m:\u001b[36m159\u001b[0m - \u001b[1mlayout detection cost: 6.15\u001b[0m\n"
     ]
    },
    {
     "name": "stdout",
     "output_type": "stream",
     "text": [
      "\n",
      "0: 1216x1888 3 embeddings, 1453.0ms\n",
      "Speed: 8.9ms preprocess, 1453.0ms inference, 0.5ms postprocess per image at shape (1, 3, 1216, 1888)\n"
     ]
    },
    {
     "name": "stderr",
     "output_type": "stream",
     "text": [
      "\u001b[32m2024-08-23 17:27:27.075\u001b[0m | \u001b[1mINFO    \u001b[0m | \u001b[36mmagic_pdf.model.pdf_extract_kit\u001b[0m:\u001b[36m__call__\u001b[0m:\u001b[36m189\u001b[0m - \u001b[1mformula nums: 3, mfr time: 1.05\u001b[0m\n",
      "\u001b[32m2024-08-23 17:27:27.077\u001b[0m | \u001b[1mINFO    \u001b[0m | \u001b[36mmagic_pdf.model.pdf_extract_kit\u001b[0m:\u001b[36m__call__\u001b[0m:\u001b[36m280\u001b[0m - \u001b[1m------------------table recognition processing begins-----------------\u001b[0m\n",
      "\u001b[32m2024-08-23 17:28:18.750\u001b[0m | \u001b[1mINFO    \u001b[0m | \u001b[36mmagic_pdf.model.pdf_extract_kit\u001b[0m:\u001b[36m__call__\u001b[0m:\u001b[36m284\u001b[0m - \u001b[1m------------table recognition processing ends within 51.673035860061646s-----\u001b[0m\n",
      "\u001b[32m2024-08-23 17:28:18.751\u001b[0m | \u001b[1mINFO    \u001b[0m | \u001b[36mmagic_pdf.model.pdf_extract_kit\u001b[0m:\u001b[36m__call__\u001b[0m:\u001b[36m294\u001b[0m - \u001b[1mtable cost: 51.67\u001b[0m\n",
      "\u001b[32m2024-08-23 17:28:24.788\u001b[0m | \u001b[1mINFO    \u001b[0m | \u001b[36mmagic_pdf.model.pdf_extract_kit\u001b[0m:\u001b[36m__call__\u001b[0m:\u001b[36m159\u001b[0m - \u001b[1mlayout detection cost: 6.04\u001b[0m\n"
     ]
    },
    {
     "name": "stdout",
     "output_type": "stream",
     "text": [
      "\n",
      "0: 1216x1888 1 embedding, 1504.0ms\n",
      "Speed: 7.9ms preprocess, 1504.0ms inference, 0.5ms postprocess per image at shape (1, 3, 1216, 1888)\n"
     ]
    },
    {
     "name": "stderr",
     "output_type": "stream",
     "text": [
      "\u001b[32m2024-08-23 17:28:26.512\u001b[0m | \u001b[1mINFO    \u001b[0m | \u001b[36mmagic_pdf.model.pdf_extract_kit\u001b[0m:\u001b[36m__call__\u001b[0m:\u001b[36m189\u001b[0m - \u001b[1mformula nums: 1, mfr time: 0.21\u001b[0m\n",
      "\u001b[32m2024-08-23 17:28:26.514\u001b[0m | \u001b[1mINFO    \u001b[0m | \u001b[36mmagic_pdf.model.pdf_extract_kit\u001b[0m:\u001b[36m__call__\u001b[0m:\u001b[36m280\u001b[0m - \u001b[1m------------------table recognition processing begins-----------------\u001b[0m\n",
      "\u001b[32m2024-08-23 17:29:11.810\u001b[0m | \u001b[1mINFO    \u001b[0m | \u001b[36mmagic_pdf.model.pdf_extract_kit\u001b[0m:\u001b[36m__call__\u001b[0m:\u001b[36m284\u001b[0m - \u001b[1m------------table recognition processing ends within 45.29554200172424s-----\u001b[0m\n",
      "\u001b[32m2024-08-23 17:29:11.810\u001b[0m | \u001b[1mINFO    \u001b[0m | \u001b[36mmagic_pdf.model.pdf_extract_kit\u001b[0m:\u001b[36m__call__\u001b[0m:\u001b[36m294\u001b[0m - \u001b[1mtable cost: 45.3\u001b[0m\n",
      "\u001b[32m2024-08-23 17:29:17.794\u001b[0m | \u001b[1mINFO    \u001b[0m | \u001b[36mmagic_pdf.model.pdf_extract_kit\u001b[0m:\u001b[36m__call__\u001b[0m:\u001b[36m159\u001b[0m - \u001b[1mlayout detection cost: 5.98\u001b[0m\n"
     ]
    },
    {
     "name": "stdout",
     "output_type": "stream",
     "text": [
      "\n",
      "0: 1216x1888 (no detections), 1450.9ms\n",
      "Speed: 7.8ms preprocess, 1450.9ms inference, 0.3ms postprocess per image at shape (1, 3, 1216, 1888)\n"
     ]
    },
    {
     "name": "stderr",
     "output_type": "stream",
     "text": [
      "\u001b[32m2024-08-23 17:29:19.256\u001b[0m | \u001b[1mINFO    \u001b[0m | \u001b[36mmagic_pdf.model.pdf_extract_kit\u001b[0m:\u001b[36m__call__\u001b[0m:\u001b[36m189\u001b[0m - \u001b[1mformula nums: 0, mfr time: 0.0\u001b[0m\n",
      "\u001b[32m2024-08-23 17:29:19.258\u001b[0m | \u001b[1mINFO    \u001b[0m | \u001b[36mmagic_pdf.model.pdf_extract_kit\u001b[0m:\u001b[36m__call__\u001b[0m:\u001b[36m294\u001b[0m - \u001b[1mtable cost: 0.0\u001b[0m\n",
      "\u001b[32m2024-08-23 17:29:25.140\u001b[0m | \u001b[1mINFO    \u001b[0m | \u001b[36mmagic_pdf.model.pdf_extract_kit\u001b[0m:\u001b[36m__call__\u001b[0m:\u001b[36m159\u001b[0m - \u001b[1mlayout detection cost: 5.88\u001b[0m\n"
     ]
    },
    {
     "name": "stdout",
     "output_type": "stream",
     "text": [
      "\n",
      "0: 1216x1888 1 embedding, 1451.7ms\n",
      "Speed: 9.0ms preprocess, 1451.7ms inference, 0.5ms postprocess per image at shape (1, 3, 1216, 1888)\n"
     ]
    },
    {
     "name": "stderr",
     "output_type": "stream",
     "text": [
      "\u001b[32m2024-08-23 17:29:26.873\u001b[0m | \u001b[1mINFO    \u001b[0m | \u001b[36mmagic_pdf.model.pdf_extract_kit\u001b[0m:\u001b[36m__call__\u001b[0m:\u001b[36m189\u001b[0m - \u001b[1mformula nums: 1, mfr time: 0.27\u001b[0m\n",
      "\u001b[32m2024-08-23 17:29:26.875\u001b[0m | \u001b[1mINFO    \u001b[0m | \u001b[36mmagic_pdf.model.pdf_extract_kit\u001b[0m:\u001b[36m__call__\u001b[0m:\u001b[36m294\u001b[0m - \u001b[1mtable cost: 0.0\u001b[0m\n",
      "\u001b[32m2024-08-23 17:29:32.829\u001b[0m | \u001b[1mINFO    \u001b[0m | \u001b[36mmagic_pdf.model.pdf_extract_kit\u001b[0m:\u001b[36m__call__\u001b[0m:\u001b[36m159\u001b[0m - \u001b[1mlayout detection cost: 5.95\u001b[0m\n"
     ]
    },
    {
     "name": "stdout",
     "output_type": "stream",
     "text": [
      "\n",
      "0: 1216x1888 (no detections), 1453.4ms\n",
      "Speed: 8.6ms preprocess, 1453.4ms inference, 0.3ms postprocess per image at shape (1, 3, 1216, 1888)\n"
     ]
    },
    {
     "name": "stderr",
     "output_type": "stream",
     "text": [
      "\u001b[32m2024-08-23 17:29:34.294\u001b[0m | \u001b[1mINFO    \u001b[0m | \u001b[36mmagic_pdf.model.pdf_extract_kit\u001b[0m:\u001b[36m__call__\u001b[0m:\u001b[36m189\u001b[0m - \u001b[1mformula nums: 0, mfr time: 0.0\u001b[0m\n",
      "\u001b[32m2024-08-23 17:29:34.295\u001b[0m | \u001b[1mINFO    \u001b[0m | \u001b[36mmagic_pdf.model.pdf_extract_kit\u001b[0m:\u001b[36m__call__\u001b[0m:\u001b[36m294\u001b[0m - \u001b[1mtable cost: 0.0\u001b[0m\n",
      "\u001b[32m2024-08-23 17:29:40.278\u001b[0m | \u001b[1mINFO    \u001b[0m | \u001b[36mmagic_pdf.model.pdf_extract_kit\u001b[0m:\u001b[36m__call__\u001b[0m:\u001b[36m159\u001b[0m - \u001b[1mlayout detection cost: 5.98\u001b[0m\n"
     ]
    },
    {
     "name": "stdout",
     "output_type": "stream",
     "text": [
      "\n",
      "0: 1216x1888 (no detections), 1438.5ms\n",
      "Speed: 9.1ms preprocess, 1438.5ms inference, 0.4ms postprocess per image at shape (1, 3, 1216, 1888)\n"
     ]
    },
    {
     "name": "stderr",
     "output_type": "stream",
     "text": [
      "\u001b[32m2024-08-23 17:29:41.729\u001b[0m | \u001b[1mINFO    \u001b[0m | \u001b[36mmagic_pdf.model.pdf_extract_kit\u001b[0m:\u001b[36m__call__\u001b[0m:\u001b[36m189\u001b[0m - \u001b[1mformula nums: 0, mfr time: 0.0\u001b[0m\n",
      "\u001b[32m2024-08-23 17:29:41.730\u001b[0m | \u001b[1mINFO    \u001b[0m | \u001b[36mmagic_pdf.model.pdf_extract_kit\u001b[0m:\u001b[36m__call__\u001b[0m:\u001b[36m294\u001b[0m - \u001b[1mtable cost: 0.0\u001b[0m\n",
      "\u001b[32m2024-08-23 17:29:47.662\u001b[0m | \u001b[1mINFO    \u001b[0m | \u001b[36mmagic_pdf.model.pdf_extract_kit\u001b[0m:\u001b[36m__call__\u001b[0m:\u001b[36m159\u001b[0m - \u001b[1mlayout detection cost: 5.93\u001b[0m\n"
     ]
    },
    {
     "name": "stdout",
     "output_type": "stream",
     "text": [
      "\n",
      "0: 1216x1888 (no detections), 1458.8ms\n",
      "Speed: 7.8ms preprocess, 1458.8ms inference, 0.7ms postprocess per image at shape (1, 3, 1216, 1888)\n"
     ]
    },
    {
     "name": "stderr",
     "output_type": "stream",
     "text": [
      "\u001b[32m2024-08-23 17:29:49.132\u001b[0m | \u001b[1mINFO    \u001b[0m | \u001b[36mmagic_pdf.model.pdf_extract_kit\u001b[0m:\u001b[36m__call__\u001b[0m:\u001b[36m189\u001b[0m - \u001b[1mformula nums: 0, mfr time: 0.0\u001b[0m\n",
      "\u001b[32m2024-08-23 17:29:49.134\u001b[0m | \u001b[1mINFO    \u001b[0m | \u001b[36mmagic_pdf.model.pdf_extract_kit\u001b[0m:\u001b[36m__call__\u001b[0m:\u001b[36m294\u001b[0m - \u001b[1mtable cost: 0.0\u001b[0m\n",
      "\u001b[32m2024-08-23 17:29:55.087\u001b[0m | \u001b[1mINFO    \u001b[0m | \u001b[36mmagic_pdf.model.pdf_extract_kit\u001b[0m:\u001b[36m__call__\u001b[0m:\u001b[36m159\u001b[0m - \u001b[1mlayout detection cost: 5.95\u001b[0m\n"
     ]
    },
    {
     "name": "stdout",
     "output_type": "stream",
     "text": [
      "\n",
      "0: 1216x1888 (no detections), 1454.7ms\n",
      "Speed: 9.0ms preprocess, 1454.7ms inference, 0.3ms postprocess per image at shape (1, 3, 1216, 1888)\n"
     ]
    },
    {
     "name": "stderr",
     "output_type": "stream",
     "text": [
      "\u001b[32m2024-08-23 17:29:56.554\u001b[0m | \u001b[1mINFO    \u001b[0m | \u001b[36mmagic_pdf.model.pdf_extract_kit\u001b[0m:\u001b[36m__call__\u001b[0m:\u001b[36m189\u001b[0m - \u001b[1mformula nums: 0, mfr time: 0.0\u001b[0m\n",
      "\u001b[32m2024-08-23 17:29:56.555\u001b[0m | \u001b[1mINFO    \u001b[0m | \u001b[36mmagic_pdf.model.pdf_extract_kit\u001b[0m:\u001b[36m__call__\u001b[0m:\u001b[36m294\u001b[0m - \u001b[1mtable cost: 0.0\u001b[0m\n",
      "\u001b[32m2024-08-23 17:30:02.556\u001b[0m | \u001b[1mINFO    \u001b[0m | \u001b[36mmagic_pdf.model.pdf_extract_kit\u001b[0m:\u001b[36m__call__\u001b[0m:\u001b[36m159\u001b[0m - \u001b[1mlayout detection cost: 6.0\u001b[0m\n"
     ]
    },
    {
     "name": "stdout",
     "output_type": "stream",
     "text": [
      "\n",
      "0: 1216x1888 (no detections), 1437.0ms\n",
      "Speed: 8.1ms preprocess, 1437.0ms inference, 0.3ms postprocess per image at shape (1, 3, 1216, 1888)\n"
     ]
    },
    {
     "name": "stderr",
     "output_type": "stream",
     "text": [
      "\u001b[32m2024-08-23 17:30:04.004\u001b[0m | \u001b[1mINFO    \u001b[0m | \u001b[36mmagic_pdf.model.pdf_extract_kit\u001b[0m:\u001b[36m__call__\u001b[0m:\u001b[36m189\u001b[0m - \u001b[1mformula nums: 0, mfr time: 0.0\u001b[0m\n",
      "\u001b[32m2024-08-23 17:30:04.005\u001b[0m | \u001b[1mINFO    \u001b[0m | \u001b[36mmagic_pdf.model.pdf_extract_kit\u001b[0m:\u001b[36m__call__\u001b[0m:\u001b[36m294\u001b[0m - \u001b[1mtable cost: 0.0\u001b[0m\n",
      "\u001b[32m2024-08-23 17:30:09.941\u001b[0m | \u001b[1mINFO    \u001b[0m | \u001b[36mmagic_pdf.model.pdf_extract_kit\u001b[0m:\u001b[36m__call__\u001b[0m:\u001b[36m159\u001b[0m - \u001b[1mlayout detection cost: 5.94\u001b[0m\n"
     ]
    },
    {
     "name": "stdout",
     "output_type": "stream",
     "text": [
      "\n",
      "0: 1216x1888 (no detections), 1457.7ms\n",
      "Speed: 9.0ms preprocess, 1457.7ms inference, 0.3ms postprocess per image at shape (1, 3, 1216, 1888)\n"
     ]
    },
    {
     "name": "stderr",
     "output_type": "stream",
     "text": [
      "\u001b[32m2024-08-23 17:30:11.411\u001b[0m | \u001b[1mINFO    \u001b[0m | \u001b[36mmagic_pdf.model.pdf_extract_kit\u001b[0m:\u001b[36m__call__\u001b[0m:\u001b[36m189\u001b[0m - \u001b[1mformula nums: 0, mfr time: 0.0\u001b[0m\n",
      "\u001b[32m2024-08-23 17:30:11.413\u001b[0m | \u001b[1mINFO    \u001b[0m | \u001b[36mmagic_pdf.model.pdf_extract_kit\u001b[0m:\u001b[36m__call__\u001b[0m:\u001b[36m294\u001b[0m - \u001b[1mtable cost: 0.0\u001b[0m\n",
      "\u001b[32m2024-08-23 17:30:17.425\u001b[0m | \u001b[1mINFO    \u001b[0m | \u001b[36mmagic_pdf.model.pdf_extract_kit\u001b[0m:\u001b[36m__call__\u001b[0m:\u001b[36m159\u001b[0m - \u001b[1mlayout detection cost: 6.01\u001b[0m\n"
     ]
    },
    {
     "name": "stdout",
     "output_type": "stream",
     "text": [
      "\n",
      "0: 1216x1888 (no detections), 1457.2ms\n",
      "Speed: 8.9ms preprocess, 1457.2ms inference, 0.3ms postprocess per image at shape (1, 3, 1216, 1888)\n"
     ]
    },
    {
     "name": "stderr",
     "output_type": "stream",
     "text": [
      "\u001b[32m2024-08-23 17:30:18.893\u001b[0m | \u001b[1mINFO    \u001b[0m | \u001b[36mmagic_pdf.model.pdf_extract_kit\u001b[0m:\u001b[36m__call__\u001b[0m:\u001b[36m189\u001b[0m - \u001b[1mformula nums: 0, mfr time: 0.0\u001b[0m\n",
      "\u001b[32m2024-08-23 17:30:18.895\u001b[0m | \u001b[1mINFO    \u001b[0m | \u001b[36mmagic_pdf.model.pdf_extract_kit\u001b[0m:\u001b[36m__call__\u001b[0m:\u001b[36m294\u001b[0m - \u001b[1mtable cost: 0.0\u001b[0m\n",
      "\u001b[32m2024-08-23 17:30:24.876\u001b[0m | \u001b[1mINFO    \u001b[0m | \u001b[36mmagic_pdf.model.pdf_extract_kit\u001b[0m:\u001b[36m__call__\u001b[0m:\u001b[36m159\u001b[0m - \u001b[1mlayout detection cost: 5.98\u001b[0m\n"
     ]
    },
    {
     "name": "stdout",
     "output_type": "stream",
     "text": [
      "\n",
      "0: 1216x1888 (no detections), 1447.6ms\n",
      "Speed: 8.2ms preprocess, 1447.6ms inference, 0.3ms postprocess per image at shape (1, 3, 1216, 1888)\n"
     ]
    },
    {
     "name": "stderr",
     "output_type": "stream",
     "text": [
      "\u001b[32m2024-08-23 17:30:26.335\u001b[0m | \u001b[1mINFO    \u001b[0m | \u001b[36mmagic_pdf.model.pdf_extract_kit\u001b[0m:\u001b[36m__call__\u001b[0m:\u001b[36m189\u001b[0m - \u001b[1mformula nums: 0, mfr time: 0.0\u001b[0m\n",
      "\u001b[32m2024-08-23 17:30:26.337\u001b[0m | \u001b[1mINFO    \u001b[0m | \u001b[36mmagic_pdf.model.pdf_extract_kit\u001b[0m:\u001b[36m__call__\u001b[0m:\u001b[36m294\u001b[0m - \u001b[1mtable cost: 0.0\u001b[0m\n",
      "\u001b[32m2024-08-23 17:30:32.329\u001b[0m | \u001b[1mINFO    \u001b[0m | \u001b[36mmagic_pdf.model.pdf_extract_kit\u001b[0m:\u001b[36m__call__\u001b[0m:\u001b[36m159\u001b[0m - \u001b[1mlayout detection cost: 5.99\u001b[0m\n"
     ]
    },
    {
     "name": "stdout",
     "output_type": "stream",
     "text": [
      "\n",
      "0: 1216x1888 (no detections), 1449.3ms\n",
      "Speed: 9.0ms preprocess, 1449.3ms inference, 0.3ms postprocess per image at shape (1, 3, 1216, 1888)\n"
     ]
    },
    {
     "name": "stderr",
     "output_type": "stream",
     "text": [
      "\u001b[32m2024-08-23 17:30:33.790\u001b[0m | \u001b[1mINFO    \u001b[0m | \u001b[36mmagic_pdf.model.pdf_extract_kit\u001b[0m:\u001b[36m__call__\u001b[0m:\u001b[36m189\u001b[0m - \u001b[1mformula nums: 0, mfr time: 0.0\u001b[0m\n",
      "\u001b[32m2024-08-23 17:30:33.792\u001b[0m | \u001b[1mINFO    \u001b[0m | \u001b[36mmagic_pdf.model.pdf_extract_kit\u001b[0m:\u001b[36m__call__\u001b[0m:\u001b[36m294\u001b[0m - \u001b[1mtable cost: 0.0\u001b[0m\n",
      "\u001b[32m2024-08-23 17:30:39.796\u001b[0m | \u001b[1mINFO    \u001b[0m | \u001b[36mmagic_pdf.model.pdf_extract_kit\u001b[0m:\u001b[36m__call__\u001b[0m:\u001b[36m159\u001b[0m - \u001b[1mlayout detection cost: 6.0\u001b[0m\n"
     ]
    },
    {
     "name": "stdout",
     "output_type": "stream",
     "text": [
      "\n",
      "0: 1216x1888 1 embedding, 1427.9ms\n",
      "Speed: 8.5ms preprocess, 1427.9ms inference, 0.4ms postprocess per image at shape (1, 3, 1216, 1888)\n"
     ]
    },
    {
     "name": "stderr",
     "output_type": "stream",
     "text": [
      "\u001b[32m2024-08-23 17:30:41.506\u001b[0m | \u001b[1mINFO    \u001b[0m | \u001b[36mmagic_pdf.model.pdf_extract_kit\u001b[0m:\u001b[36m__call__\u001b[0m:\u001b[36m189\u001b[0m - \u001b[1mformula nums: 1, mfr time: 0.27\u001b[0m\n",
      "\u001b[32m2024-08-23 17:30:41.508\u001b[0m | \u001b[1mINFO    \u001b[0m | \u001b[36mmagic_pdf.model.pdf_extract_kit\u001b[0m:\u001b[36m__call__\u001b[0m:\u001b[36m294\u001b[0m - \u001b[1mtable cost: 0.0\u001b[0m\n",
      "\u001b[32m2024-08-23 17:30:47.400\u001b[0m | \u001b[1mINFO    \u001b[0m | \u001b[36mmagic_pdf.model.pdf_extract_kit\u001b[0m:\u001b[36m__call__\u001b[0m:\u001b[36m159\u001b[0m - \u001b[1mlayout detection cost: 5.89\u001b[0m\n"
     ]
    },
    {
     "name": "stdout",
     "output_type": "stream",
     "text": [
      "\n",
      "0: 1216x1888 (no detections), 1460.6ms\n",
      "Speed: 7.9ms preprocess, 1460.6ms inference, 0.3ms postprocess per image at shape (1, 3, 1216, 1888)\n"
     ]
    },
    {
     "name": "stderr",
     "output_type": "stream",
     "text": [
      "\u001b[32m2024-08-23 17:30:48.871\u001b[0m | \u001b[1mINFO    \u001b[0m | \u001b[36mmagic_pdf.model.pdf_extract_kit\u001b[0m:\u001b[36m__call__\u001b[0m:\u001b[36m189\u001b[0m - \u001b[1mformula nums: 0, mfr time: 0.0\u001b[0m\n",
      "\u001b[32m2024-08-23 17:30:48.873\u001b[0m | \u001b[1mINFO    \u001b[0m | \u001b[36mmagic_pdf.model.pdf_extract_kit\u001b[0m:\u001b[36m__call__\u001b[0m:\u001b[36m294\u001b[0m - \u001b[1mtable cost: 0.0\u001b[0m\n",
      "\u001b[32m2024-08-23 17:30:54.874\u001b[0m | \u001b[1mINFO    \u001b[0m | \u001b[36mmagic_pdf.model.pdf_extract_kit\u001b[0m:\u001b[36m__call__\u001b[0m:\u001b[36m159\u001b[0m - \u001b[1mlayout detection cost: 6.0\u001b[0m\n"
     ]
    },
    {
     "name": "stdout",
     "output_type": "stream",
     "text": [
      "\n",
      "0: 1216x1888 (no detections), 1437.2ms\n",
      "Speed: 9.0ms preprocess, 1437.2ms inference, 0.3ms postprocess per image at shape (1, 3, 1216, 1888)\n"
     ]
    },
    {
     "name": "stderr",
     "output_type": "stream",
     "text": [
      "\u001b[32m2024-08-23 17:30:56.323\u001b[0m | \u001b[1mINFO    \u001b[0m | \u001b[36mmagic_pdf.model.pdf_extract_kit\u001b[0m:\u001b[36m__call__\u001b[0m:\u001b[36m189\u001b[0m - \u001b[1mformula nums: 0, mfr time: 0.0\u001b[0m\n",
      "\u001b[32m2024-08-23 17:30:56.325\u001b[0m | \u001b[1mINFO    \u001b[0m | \u001b[36mmagic_pdf.model.pdf_extract_kit\u001b[0m:\u001b[36m__call__\u001b[0m:\u001b[36m294\u001b[0m - \u001b[1mtable cost: 0.0\u001b[0m\n",
      "\u001b[32m2024-08-23 17:31:02.332\u001b[0m | \u001b[1mINFO    \u001b[0m | \u001b[36mmagic_pdf.model.pdf_extract_kit\u001b[0m:\u001b[36m__call__\u001b[0m:\u001b[36m159\u001b[0m - \u001b[1mlayout detection cost: 6.01\u001b[0m\n"
     ]
    },
    {
     "name": "stdout",
     "output_type": "stream",
     "text": [
      "\n",
      "0: 1216x1888 (no detections), 1435.9ms\n",
      "Speed: 7.9ms preprocess, 1435.9ms inference, 0.3ms postprocess per image at shape (1, 3, 1216, 1888)\n"
     ]
    },
    {
     "name": "stderr",
     "output_type": "stream",
     "text": [
      "\u001b[32m2024-08-23 17:31:03.779\u001b[0m | \u001b[1mINFO    \u001b[0m | \u001b[36mmagic_pdf.model.pdf_extract_kit\u001b[0m:\u001b[36m__call__\u001b[0m:\u001b[36m189\u001b[0m - \u001b[1mformula nums: 0, mfr time: 0.0\u001b[0m\n",
      "\u001b[32m2024-08-23 17:31:03.781\u001b[0m | \u001b[1mINFO    \u001b[0m | \u001b[36mmagic_pdf.model.pdf_extract_kit\u001b[0m:\u001b[36m__call__\u001b[0m:\u001b[36m294\u001b[0m - \u001b[1mtable cost: 0.0\u001b[0m\n",
      "\u001b[32m2024-08-23 17:31:09.756\u001b[0m | \u001b[1mINFO    \u001b[0m | \u001b[36mmagic_pdf.model.pdf_extract_kit\u001b[0m:\u001b[36m__call__\u001b[0m:\u001b[36m159\u001b[0m - \u001b[1mlayout detection cost: 5.97\u001b[0m\n"
     ]
    },
    {
     "name": "stdout",
     "output_type": "stream",
     "text": [
      "\n",
      "0: 1216x1888 4 embeddings, 1444.1ms\n",
      "Speed: 7.8ms preprocess, 1444.1ms inference, 0.5ms postprocess per image at shape (1, 3, 1216, 1888)\n"
     ]
    },
    {
     "name": "stderr",
     "output_type": "stream",
     "text": [
      "\u001b[32m2024-08-23 17:31:13.958\u001b[0m | \u001b[1mINFO    \u001b[0m | \u001b[36mmagic_pdf.model.pdf_extract_kit\u001b[0m:\u001b[36m__call__\u001b[0m:\u001b[36m189\u001b[0m - \u001b[1mformula nums: 4, mfr time: 2.74\u001b[0m\n",
      "\u001b[32m2024-08-23 17:31:13.960\u001b[0m | \u001b[1mINFO    \u001b[0m | \u001b[36mmagic_pdf.model.pdf_extract_kit\u001b[0m:\u001b[36m__call__\u001b[0m:\u001b[36m294\u001b[0m - \u001b[1mtable cost: 0.0\u001b[0m\n",
      "\u001b[32m2024-08-23 17:31:19.904\u001b[0m | \u001b[1mINFO    \u001b[0m | \u001b[36mmagic_pdf.model.pdf_extract_kit\u001b[0m:\u001b[36m__call__\u001b[0m:\u001b[36m159\u001b[0m - \u001b[1mlayout detection cost: 5.94\u001b[0m\n"
     ]
    },
    {
     "name": "stdout",
     "output_type": "stream",
     "text": [
      "\n",
      "0: 1216x1888 (no detections), 1440.0ms\n",
      "Speed: 7.7ms preprocess, 1440.0ms inference, 0.3ms postprocess per image at shape (1, 3, 1216, 1888)\n"
     ]
    },
    {
     "name": "stderr",
     "output_type": "stream",
     "text": [
      "\u001b[32m2024-08-23 17:31:21.355\u001b[0m | \u001b[1mINFO    \u001b[0m | \u001b[36mmagic_pdf.model.pdf_extract_kit\u001b[0m:\u001b[36m__call__\u001b[0m:\u001b[36m189\u001b[0m - \u001b[1mformula nums: 0, mfr time: 0.0\u001b[0m\n",
      "\u001b[32m2024-08-23 17:31:21.356\u001b[0m | \u001b[1mINFO    \u001b[0m | \u001b[36mmagic_pdf.model.pdf_extract_kit\u001b[0m:\u001b[36m__call__\u001b[0m:\u001b[36m294\u001b[0m - \u001b[1mtable cost: 0.0\u001b[0m\n",
      "\u001b[32m2024-08-23 17:31:27.341\u001b[0m | \u001b[1mINFO    \u001b[0m | \u001b[36mmagic_pdf.model.pdf_extract_kit\u001b[0m:\u001b[36m__call__\u001b[0m:\u001b[36m159\u001b[0m - \u001b[1mlayout detection cost: 5.98\u001b[0m\n"
     ]
    },
    {
     "name": "stdout",
     "output_type": "stream",
     "text": [
      "\n",
      "0: 1216x1888 (no detections), 1448.0ms\n",
      "Speed: 7.8ms preprocess, 1448.0ms inference, 0.3ms postprocess per image at shape (1, 3, 1216, 1888)\n"
     ]
    },
    {
     "name": "stderr",
     "output_type": "stream",
     "text": [
      "\u001b[32m2024-08-23 17:31:28.800\u001b[0m | \u001b[1mINFO    \u001b[0m | \u001b[36mmagic_pdf.model.pdf_extract_kit\u001b[0m:\u001b[36m__call__\u001b[0m:\u001b[36m189\u001b[0m - \u001b[1mformula nums: 0, mfr time: 0.0\u001b[0m\n",
      "\u001b[32m2024-08-23 17:31:28.802\u001b[0m | \u001b[1mINFO    \u001b[0m | \u001b[36mmagic_pdf.model.pdf_extract_kit\u001b[0m:\u001b[36m__call__\u001b[0m:\u001b[36m294\u001b[0m - \u001b[1mtable cost: 0.0\u001b[0m\n",
      "\u001b[32m2024-08-23 17:31:34.787\u001b[0m | \u001b[1mINFO    \u001b[0m | \u001b[36mmagic_pdf.model.pdf_extract_kit\u001b[0m:\u001b[36m__call__\u001b[0m:\u001b[36m159\u001b[0m - \u001b[1mlayout detection cost: 5.98\u001b[0m\n"
     ]
    },
    {
     "name": "stdout",
     "output_type": "stream",
     "text": [
      "\n",
      "0: 1216x1888 (no detections), 1459.4ms\n",
      "Speed: 7.8ms preprocess, 1459.4ms inference, 0.3ms postprocess per image at shape (1, 3, 1216, 1888)\n"
     ]
    },
    {
     "name": "stderr",
     "output_type": "stream",
     "text": [
      "\u001b[32m2024-08-23 17:31:36.257\u001b[0m | \u001b[1mINFO    \u001b[0m | \u001b[36mmagic_pdf.model.pdf_extract_kit\u001b[0m:\u001b[36m__call__\u001b[0m:\u001b[36m189\u001b[0m - \u001b[1mformula nums: 0, mfr time: 0.0\u001b[0m\n",
      "\u001b[32m2024-08-23 17:31:36.259\u001b[0m | \u001b[1mINFO    \u001b[0m | \u001b[36mmagic_pdf.model.pdf_extract_kit\u001b[0m:\u001b[36m__call__\u001b[0m:\u001b[36m294\u001b[0m - \u001b[1mtable cost: 0.0\u001b[0m\n",
      "\u001b[32m2024-08-23 17:31:42.246\u001b[0m | \u001b[1mINFO    \u001b[0m | \u001b[36mmagic_pdf.model.pdf_extract_kit\u001b[0m:\u001b[36m__call__\u001b[0m:\u001b[36m159\u001b[0m - \u001b[1mlayout detection cost: 5.99\u001b[0m\n"
     ]
    },
    {
     "name": "stdout",
     "output_type": "stream",
     "text": [
      "\n",
      "0: 1216x1888 (no detections), 1452.6ms\n",
      "Speed: 8.4ms preprocess, 1452.6ms inference, 0.3ms postprocess per image at shape (1, 3, 1216, 1888)\n"
     ]
    },
    {
     "name": "stderr",
     "output_type": "stream",
     "text": [
      "\u001b[32m2024-08-23 17:31:43.709\u001b[0m | \u001b[1mINFO    \u001b[0m | \u001b[36mmagic_pdf.model.pdf_extract_kit\u001b[0m:\u001b[36m__call__\u001b[0m:\u001b[36m189\u001b[0m - \u001b[1mformula nums: 0, mfr time: 0.0\u001b[0m\n",
      "\u001b[32m2024-08-23 17:31:43.711\u001b[0m | \u001b[1mINFO    \u001b[0m | \u001b[36mmagic_pdf.model.pdf_extract_kit\u001b[0m:\u001b[36m__call__\u001b[0m:\u001b[36m294\u001b[0m - \u001b[1mtable cost: 0.0\u001b[0m\n",
      "\u001b[32m2024-08-23 17:31:49.647\u001b[0m | \u001b[1mINFO    \u001b[0m | \u001b[36mmagic_pdf.model.pdf_extract_kit\u001b[0m:\u001b[36m__call__\u001b[0m:\u001b[36m159\u001b[0m - \u001b[1mlayout detection cost: 5.94\u001b[0m\n"
     ]
    },
    {
     "name": "stdout",
     "output_type": "stream",
     "text": [
      "\n",
      "0: 1216x1888 (no detections), 1414.3ms\n",
      "Speed: 7.8ms preprocess, 1414.3ms inference, 0.3ms postprocess per image at shape (1, 3, 1216, 1888)\n"
     ]
    },
    {
     "name": "stderr",
     "output_type": "stream",
     "text": [
      "\u001b[32m2024-08-23 17:31:51.072\u001b[0m | \u001b[1mINFO    \u001b[0m | \u001b[36mmagic_pdf.model.pdf_extract_kit\u001b[0m:\u001b[36m__call__\u001b[0m:\u001b[36m189\u001b[0m - \u001b[1mformula nums: 0, mfr time: 0.0\u001b[0m\n",
      "\u001b[32m2024-08-23 17:31:51.074\u001b[0m | \u001b[1mINFO    \u001b[0m | \u001b[36mmagic_pdf.model.pdf_extract_kit\u001b[0m:\u001b[36m__call__\u001b[0m:\u001b[36m280\u001b[0m - \u001b[1m------------------table recognition processing begins-----------------\u001b[0m\n",
      "\u001b[32m2024-08-23 17:32:44.948\u001b[0m | \u001b[1mINFO    \u001b[0m | \u001b[36mmagic_pdf.model.pdf_extract_kit\u001b[0m:\u001b[36m__call__\u001b[0m:\u001b[36m284\u001b[0m - \u001b[1m------------table recognition processing ends within 53.8739070892334s-----\u001b[0m\n",
      "\u001b[32m2024-08-23 17:32:44.948\u001b[0m | \u001b[1mINFO    \u001b[0m | \u001b[36mmagic_pdf.model.pdf_extract_kit\u001b[0m:\u001b[36m__call__\u001b[0m:\u001b[36m294\u001b[0m - \u001b[1mtable cost: 53.87\u001b[0m\n",
      "\u001b[32m2024-08-23 17:32:50.819\u001b[0m | \u001b[1mINFO    \u001b[0m | \u001b[36mmagic_pdf.model.pdf_extract_kit\u001b[0m:\u001b[36m__call__\u001b[0m:\u001b[36m159\u001b[0m - \u001b[1mlayout detection cost: 5.87\u001b[0m\n"
     ]
    },
    {
     "name": "stdout",
     "output_type": "stream",
     "text": [
      "\n",
      "0: 1216x1888 (no detections), 1426.3ms\n",
      "Speed: 8.6ms preprocess, 1426.3ms inference, 0.3ms postprocess per image at shape (1, 3, 1216, 1888)\n"
     ]
    },
    {
     "name": "stderr",
     "output_type": "stream",
     "text": [
      "\u001b[32m2024-08-23 17:32:52.257\u001b[0m | \u001b[1mINFO    \u001b[0m | \u001b[36mmagic_pdf.model.pdf_extract_kit\u001b[0m:\u001b[36m__call__\u001b[0m:\u001b[36m189\u001b[0m - \u001b[1mformula nums: 0, mfr time: 0.0\u001b[0m\n",
      "\u001b[32m2024-08-23 17:32:52.259\u001b[0m | \u001b[1mINFO    \u001b[0m | \u001b[36mmagic_pdf.model.pdf_extract_kit\u001b[0m:\u001b[36m__call__\u001b[0m:\u001b[36m294\u001b[0m - \u001b[1mtable cost: 0.0\u001b[0m\n",
      "\u001b[32m2024-08-23 17:32:58.311\u001b[0m | \u001b[1mINFO    \u001b[0m | \u001b[36mmagic_pdf.model.pdf_extract_kit\u001b[0m:\u001b[36m__call__\u001b[0m:\u001b[36m159\u001b[0m - \u001b[1mlayout detection cost: 6.05\u001b[0m\n"
     ]
    },
    {
     "name": "stdout",
     "output_type": "stream",
     "text": [
      "\n",
      "0: 1216x1888 (no detections), 1439.4ms\n",
      "Speed: 7.8ms preprocess, 1439.4ms inference, 0.3ms postprocess per image at shape (1, 3, 1216, 1888)\n"
     ]
    },
    {
     "name": "stderr",
     "output_type": "stream",
     "text": [
      "\u001b[32m2024-08-23 17:32:59.761\u001b[0m | \u001b[1mINFO    \u001b[0m | \u001b[36mmagic_pdf.model.pdf_extract_kit\u001b[0m:\u001b[36m__call__\u001b[0m:\u001b[36m189\u001b[0m - \u001b[1mformula nums: 0, mfr time: 0.0\u001b[0m\n",
      "\u001b[32m2024-08-23 17:32:59.763\u001b[0m | \u001b[1mINFO    \u001b[0m | \u001b[36mmagic_pdf.model.pdf_extract_kit\u001b[0m:\u001b[36m__call__\u001b[0m:\u001b[36m294\u001b[0m - \u001b[1mtable cost: 0.0\u001b[0m\n",
      "\u001b[32m2024-08-23 17:33:05.705\u001b[0m | \u001b[1mINFO    \u001b[0m | \u001b[36mmagic_pdf.model.pdf_extract_kit\u001b[0m:\u001b[36m__call__\u001b[0m:\u001b[36m159\u001b[0m - \u001b[1mlayout detection cost: 5.94\u001b[0m\n"
     ]
    },
    {
     "name": "stdout",
     "output_type": "stream",
     "text": [
      "\n",
      "0: 1216x1888 (no detections), 1452.5ms\n",
      "Speed: 8.7ms preprocess, 1452.5ms inference, 0.3ms postprocess per image at shape (1, 3, 1216, 1888)\n"
     ]
    },
    {
     "name": "stderr",
     "output_type": "stream",
     "text": [
      "\u001b[32m2024-08-23 17:33:07.169\u001b[0m | \u001b[1mINFO    \u001b[0m | \u001b[36mmagic_pdf.model.pdf_extract_kit\u001b[0m:\u001b[36m__call__\u001b[0m:\u001b[36m189\u001b[0m - \u001b[1mformula nums: 0, mfr time: 0.0\u001b[0m\n",
      "\u001b[32m2024-08-23 17:33:07.171\u001b[0m | \u001b[1mINFO    \u001b[0m | \u001b[36mmagic_pdf.model.pdf_extract_kit\u001b[0m:\u001b[36m__call__\u001b[0m:\u001b[36m294\u001b[0m - \u001b[1mtable cost: 0.0\u001b[0m\n",
      "\u001b[32m2024-08-23 17:33:13.187\u001b[0m | \u001b[1mINFO    \u001b[0m | \u001b[36mmagic_pdf.model.pdf_extract_kit\u001b[0m:\u001b[36m__call__\u001b[0m:\u001b[36m159\u001b[0m - \u001b[1mlayout detection cost: 6.02\u001b[0m\n"
     ]
    },
    {
     "name": "stdout",
     "output_type": "stream",
     "text": [
      "\n",
      "0: 1216x1888 (no detections), 1450.7ms\n",
      "Speed: 7.8ms preprocess, 1450.7ms inference, 0.3ms postprocess per image at shape (1, 3, 1216, 1888)\n"
     ]
    },
    {
     "name": "stderr",
     "output_type": "stream",
     "text": [
      "\u001b[32m2024-08-23 17:33:14.648\u001b[0m | \u001b[1mINFO    \u001b[0m | \u001b[36mmagic_pdf.model.pdf_extract_kit\u001b[0m:\u001b[36m__call__\u001b[0m:\u001b[36m189\u001b[0m - \u001b[1mformula nums: 0, mfr time: 0.0\u001b[0m\n",
      "\u001b[32m2024-08-23 17:33:14.650\u001b[0m | \u001b[1mINFO    \u001b[0m | \u001b[36mmagic_pdf.model.pdf_extract_kit\u001b[0m:\u001b[36m__call__\u001b[0m:\u001b[36m294\u001b[0m - \u001b[1mtable cost: 0.0\u001b[0m\n",
      "\u001b[32m2024-08-23 17:33:20.687\u001b[0m | \u001b[1mINFO    \u001b[0m | \u001b[36mmagic_pdf.model.pdf_extract_kit\u001b[0m:\u001b[36m__call__\u001b[0m:\u001b[36m159\u001b[0m - \u001b[1mlayout detection cost: 6.04\u001b[0m\n"
     ]
    },
    {
     "name": "stdout",
     "output_type": "stream",
     "text": [
      "\n",
      "0: 1216x1888 (no detections), 1463.6ms\n",
      "Speed: 7.8ms preprocess, 1463.6ms inference, 0.7ms postprocess per image at shape (1, 3, 1216, 1888)\n"
     ]
    },
    {
     "name": "stderr",
     "output_type": "stream",
     "text": [
      "\u001b[32m2024-08-23 17:33:22.162\u001b[0m | \u001b[1mINFO    \u001b[0m | \u001b[36mmagic_pdf.model.pdf_extract_kit\u001b[0m:\u001b[36m__call__\u001b[0m:\u001b[36m189\u001b[0m - \u001b[1mformula nums: 0, mfr time: 0.0\u001b[0m\n",
      "\u001b[32m2024-08-23 17:33:22.163\u001b[0m | \u001b[1mINFO    \u001b[0m | \u001b[36mmagic_pdf.model.pdf_extract_kit\u001b[0m:\u001b[36m__call__\u001b[0m:\u001b[36m294\u001b[0m - \u001b[1mtable cost: 0.0\u001b[0m\n",
      "\u001b[32m2024-08-23 17:33:28.198\u001b[0m | \u001b[1mINFO    \u001b[0m | \u001b[36mmagic_pdf.model.pdf_extract_kit\u001b[0m:\u001b[36m__call__\u001b[0m:\u001b[36m159\u001b[0m - \u001b[1mlayout detection cost: 6.03\u001b[0m\n"
     ]
    },
    {
     "name": "stdout",
     "output_type": "stream",
     "text": [
      "\n",
      "0: 1216x1888 1 embedding, 1685.2ms\n",
      "Speed: 10.1ms preprocess, 1685.2ms inference, 0.5ms postprocess per image at shape (1, 3, 1216, 1888)\n"
     ]
    },
    {
     "name": "stderr",
     "output_type": "stream",
     "text": [
      "\u001b[32m2024-08-23 17:33:30.124\u001b[0m | \u001b[1mINFO    \u001b[0m | \u001b[36mmagic_pdf.model.pdf_extract_kit\u001b[0m:\u001b[36m__call__\u001b[0m:\u001b[36m189\u001b[0m - \u001b[1mformula nums: 1, mfr time: 0.23\u001b[0m\n",
      "\u001b[32m2024-08-23 17:33:30.126\u001b[0m | \u001b[1mINFO    \u001b[0m | \u001b[36mmagic_pdf.model.pdf_extract_kit\u001b[0m:\u001b[36m__call__\u001b[0m:\u001b[36m294\u001b[0m - \u001b[1mtable cost: 0.0\u001b[0m\n",
      "\u001b[32m2024-08-23 17:33:36.364\u001b[0m | \u001b[1mINFO    \u001b[0m | \u001b[36mmagic_pdf.model.pdf_extract_kit\u001b[0m:\u001b[36m__call__\u001b[0m:\u001b[36m159\u001b[0m - \u001b[1mlayout detection cost: 6.24\u001b[0m\n"
     ]
    },
    {
     "name": "stdout",
     "output_type": "stream",
     "text": [
      "\n",
      "0: 1216x1888 1 embedding, 1460.9ms\n",
      "Speed: 7.9ms preprocess, 1460.9ms inference, 0.6ms postprocess per image at shape (1, 3, 1216, 1888)\n"
     ]
    },
    {
     "name": "stderr",
     "output_type": "stream",
     "text": [
      "\u001b[32m2024-08-23 17:33:38.049\u001b[0m | \u001b[1mINFO    \u001b[0m | \u001b[36mmagic_pdf.model.pdf_extract_kit\u001b[0m:\u001b[36m__call__\u001b[0m:\u001b[36m189\u001b[0m - \u001b[1mformula nums: 1, mfr time: 0.21\u001b[0m\n",
      "\u001b[32m2024-08-23 17:33:38.051\u001b[0m | \u001b[1mINFO    \u001b[0m | \u001b[36mmagic_pdf.model.pdf_extract_kit\u001b[0m:\u001b[36m__call__\u001b[0m:\u001b[36m294\u001b[0m - \u001b[1mtable cost: 0.0\u001b[0m\n",
      "\u001b[32m2024-08-23 17:33:44.128\u001b[0m | \u001b[1mINFO    \u001b[0m | \u001b[36mmagic_pdf.model.pdf_extract_kit\u001b[0m:\u001b[36m__call__\u001b[0m:\u001b[36m159\u001b[0m - \u001b[1mlayout detection cost: 6.08\u001b[0m\n"
     ]
    },
    {
     "name": "stdout",
     "output_type": "stream",
     "text": [
      "\n",
      "0: 1216x1888 (no detections), 1450.4ms\n",
      "Speed: 8.8ms preprocess, 1450.4ms inference, 0.3ms postprocess per image at shape (1, 3, 1216, 1888)\n"
     ]
    },
    {
     "name": "stderr",
     "output_type": "stream",
     "text": [
      "\u001b[32m2024-08-23 17:33:45.590\u001b[0m | \u001b[1mINFO    \u001b[0m | \u001b[36mmagic_pdf.model.pdf_extract_kit\u001b[0m:\u001b[36m__call__\u001b[0m:\u001b[36m189\u001b[0m - \u001b[1mformula nums: 0, mfr time: 0.0\u001b[0m\n",
      "\u001b[32m2024-08-23 17:33:45.591\u001b[0m | \u001b[1mINFO    \u001b[0m | \u001b[36mmagic_pdf.model.pdf_extract_kit\u001b[0m:\u001b[36m__call__\u001b[0m:\u001b[36m294\u001b[0m - \u001b[1mtable cost: 0.0\u001b[0m\n",
      "\u001b[32m2024-08-23 17:33:51.616\u001b[0m | \u001b[1mINFO    \u001b[0m | \u001b[36mmagic_pdf.model.pdf_extract_kit\u001b[0m:\u001b[36m__call__\u001b[0m:\u001b[36m159\u001b[0m - \u001b[1mlayout detection cost: 6.02\u001b[0m\n"
     ]
    },
    {
     "name": "stdout",
     "output_type": "stream",
     "text": [
      "\n",
      "0: 1216x1888 (no detections), 1484.5ms\n",
      "Speed: 8.2ms preprocess, 1484.5ms inference, 0.3ms postprocess per image at shape (1, 3, 1216, 1888)\n"
     ]
    },
    {
     "name": "stderr",
     "output_type": "stream",
     "text": [
      "\u001b[32m2024-08-23 17:33:53.111\u001b[0m | \u001b[1mINFO    \u001b[0m | \u001b[36mmagic_pdf.model.pdf_extract_kit\u001b[0m:\u001b[36m__call__\u001b[0m:\u001b[36m189\u001b[0m - \u001b[1mformula nums: 0, mfr time: 0.0\u001b[0m\n",
      "\u001b[32m2024-08-23 17:33:53.113\u001b[0m | \u001b[1mINFO    \u001b[0m | \u001b[36mmagic_pdf.model.pdf_extract_kit\u001b[0m:\u001b[36m__call__\u001b[0m:\u001b[36m280\u001b[0m - \u001b[1m------------------table recognition processing begins-----------------\u001b[0m\n",
      "\u001b[32m2024-08-23 17:34:39.898\u001b[0m | \u001b[1mINFO    \u001b[0m | \u001b[36mmagic_pdf.model.pdf_extract_kit\u001b[0m:\u001b[36m__call__\u001b[0m:\u001b[36m284\u001b[0m - \u001b[1m------------table recognition processing ends within 46.784777879714966s-----\u001b[0m\n",
      "\u001b[32m2024-08-23 17:34:39.899\u001b[0m | \u001b[1mINFO    \u001b[0m | \u001b[36mmagic_pdf.model.pdf_extract_kit\u001b[0m:\u001b[36m__call__\u001b[0m:\u001b[36m294\u001b[0m - \u001b[1mtable cost: 46.79\u001b[0m\n",
      "\u001b[32m2024-08-23 17:34:45.909\u001b[0m | \u001b[1mINFO    \u001b[0m | \u001b[36mmagic_pdf.model.pdf_extract_kit\u001b[0m:\u001b[36m__call__\u001b[0m:\u001b[36m159\u001b[0m - \u001b[1mlayout detection cost: 6.01\u001b[0m\n"
     ]
    },
    {
     "name": "stdout",
     "output_type": "stream",
     "text": [
      "\n",
      "0: 1216x1888 (no detections), 1468.3ms\n",
      "Speed: 9.2ms preprocess, 1468.3ms inference, 0.3ms postprocess per image at shape (1, 3, 1216, 1888)\n"
     ]
    },
    {
     "name": "stderr",
     "output_type": "stream",
     "text": [
      "\u001b[32m2024-08-23 17:34:47.389\u001b[0m | \u001b[1mINFO    \u001b[0m | \u001b[36mmagic_pdf.model.pdf_extract_kit\u001b[0m:\u001b[36m__call__\u001b[0m:\u001b[36m189\u001b[0m - \u001b[1mformula nums: 0, mfr time: 0.0\u001b[0m\n",
      "\u001b[32m2024-08-23 17:34:47.391\u001b[0m | \u001b[1mINFO    \u001b[0m | \u001b[36mmagic_pdf.model.pdf_extract_kit\u001b[0m:\u001b[36m__call__\u001b[0m:\u001b[36m294\u001b[0m - \u001b[1mtable cost: 0.0\u001b[0m\n",
      "\u001b[32m2024-08-23 17:34:53.479\u001b[0m | \u001b[1mINFO    \u001b[0m | \u001b[36mmagic_pdf.model.pdf_extract_kit\u001b[0m:\u001b[36m__call__\u001b[0m:\u001b[36m159\u001b[0m - \u001b[1mlayout detection cost: 6.09\u001b[0m\n"
     ]
    },
    {
     "name": "stdout",
     "output_type": "stream",
     "text": [
      "\n",
      "0: 1216x1888 (no detections), 1457.8ms\n",
      "Speed: 8.6ms preprocess, 1457.8ms inference, 0.6ms postprocess per image at shape (1, 3, 1216, 1888)\n"
     ]
    },
    {
     "name": "stderr",
     "output_type": "stream",
     "text": [
      "\u001b[32m2024-08-23 17:34:54.951\u001b[0m | \u001b[1mINFO    \u001b[0m | \u001b[36mmagic_pdf.model.pdf_extract_kit\u001b[0m:\u001b[36m__call__\u001b[0m:\u001b[36m189\u001b[0m - \u001b[1mformula nums: 0, mfr time: 0.0\u001b[0m\n",
      "\u001b[32m2024-08-23 17:34:54.954\u001b[0m | \u001b[1mINFO    \u001b[0m | \u001b[36mmagic_pdf.model.pdf_extract_kit\u001b[0m:\u001b[36m__call__\u001b[0m:\u001b[36m294\u001b[0m - \u001b[1mtable cost: 0.0\u001b[0m\n",
      "\u001b[32m2024-08-23 17:35:00.963\u001b[0m | \u001b[1mINFO    \u001b[0m | \u001b[36mmagic_pdf.model.pdf_extract_kit\u001b[0m:\u001b[36m__call__\u001b[0m:\u001b[36m159\u001b[0m - \u001b[1mlayout detection cost: 6.01\u001b[0m\n"
     ]
    },
    {
     "name": "stdout",
     "output_type": "stream",
     "text": [
      "\n",
      "0: 1216x1888 (no detections), 1480.5ms\n",
      "Speed: 8.9ms preprocess, 1480.5ms inference, 0.3ms postprocess per image at shape (1, 3, 1216, 1888)\n"
     ]
    },
    {
     "name": "stderr",
     "output_type": "stream",
     "text": [
      "\u001b[32m2024-08-23 17:35:02.455\u001b[0m | \u001b[1mINFO    \u001b[0m | \u001b[36mmagic_pdf.model.pdf_extract_kit\u001b[0m:\u001b[36m__call__\u001b[0m:\u001b[36m189\u001b[0m - \u001b[1mformula nums: 0, mfr time: 0.0\u001b[0m\n",
      "\u001b[32m2024-08-23 17:35:02.457\u001b[0m | \u001b[1mINFO    \u001b[0m | \u001b[36mmagic_pdf.model.pdf_extract_kit\u001b[0m:\u001b[36m__call__\u001b[0m:\u001b[36m294\u001b[0m - \u001b[1mtable cost: 0.0\u001b[0m\n",
      "\u001b[32m2024-08-23 17:35:08.459\u001b[0m | \u001b[1mINFO    \u001b[0m | \u001b[36mmagic_pdf.model.pdf_extract_kit\u001b[0m:\u001b[36m__call__\u001b[0m:\u001b[36m159\u001b[0m - \u001b[1mlayout detection cost: 6.0\u001b[0m\n"
     ]
    },
    {
     "name": "stdout",
     "output_type": "stream",
     "text": [
      "\n",
      "0: 1216x1888 (no detections), 1477.7ms\n",
      "Speed: 8.6ms preprocess, 1477.7ms inference, 0.4ms postprocess per image at shape (1, 3, 1216, 1888)\n"
     ]
    },
    {
     "name": "stderr",
     "output_type": "stream",
     "text": [
      "\u001b[32m2024-08-23 17:35:09.950\u001b[0m | \u001b[1mINFO    \u001b[0m | \u001b[36mmagic_pdf.model.pdf_extract_kit\u001b[0m:\u001b[36m__call__\u001b[0m:\u001b[36m189\u001b[0m - \u001b[1mformula nums: 0, mfr time: 0.0\u001b[0m\n",
      "\u001b[32m2024-08-23 17:35:09.967\u001b[0m | \u001b[1mINFO    \u001b[0m | \u001b[36mmagic_pdf.model.pdf_extract_kit\u001b[0m:\u001b[36m__call__\u001b[0m:\u001b[36m294\u001b[0m - \u001b[1mtable cost: 0.0\u001b[0m\n",
      "\u001b[32m2024-08-23 17:35:15.968\u001b[0m | \u001b[1mINFO    \u001b[0m | \u001b[36mmagic_pdf.model.pdf_extract_kit\u001b[0m:\u001b[36m__call__\u001b[0m:\u001b[36m159\u001b[0m - \u001b[1mlayout detection cost: 6.0\u001b[0m\n"
     ]
    },
    {
     "name": "stdout",
     "output_type": "stream",
     "text": [
      "\n",
      "0: 1216x1888 (no detections), 1459.4ms\n",
      "Speed: 7.9ms preprocess, 1459.4ms inference, 0.3ms postprocess per image at shape (1, 3, 1216, 1888)\n"
     ]
    },
    {
     "name": "stderr",
     "output_type": "stream",
     "text": [
      "\u001b[32m2024-08-23 17:35:17.439\u001b[0m | \u001b[1mINFO    \u001b[0m | \u001b[36mmagic_pdf.model.pdf_extract_kit\u001b[0m:\u001b[36m__call__\u001b[0m:\u001b[36m189\u001b[0m - \u001b[1mformula nums: 0, mfr time: 0.0\u001b[0m\n",
      "\u001b[32m2024-08-23 17:35:17.440\u001b[0m | \u001b[1mINFO    \u001b[0m | \u001b[36mmagic_pdf.model.pdf_extract_kit\u001b[0m:\u001b[36m__call__\u001b[0m:\u001b[36m294\u001b[0m - \u001b[1mtable cost: 0.0\u001b[0m\n",
      "\u001b[32m2024-08-23 17:35:23.390\u001b[0m | \u001b[1mINFO    \u001b[0m | \u001b[36mmagic_pdf.model.pdf_extract_kit\u001b[0m:\u001b[36m__call__\u001b[0m:\u001b[36m159\u001b[0m - \u001b[1mlayout detection cost: 5.95\u001b[0m\n"
     ]
    },
    {
     "name": "stdout",
     "output_type": "stream",
     "text": [
      "\n",
      "0: 1216x1888 (no detections), 1444.4ms\n",
      "Speed: 8.7ms preprocess, 1444.4ms inference, 0.3ms postprocess per image at shape (1, 3, 1216, 1888)\n"
     ]
    },
    {
     "name": "stderr",
     "output_type": "stream",
     "text": [
      "\u001b[32m2024-08-23 17:35:24.845\u001b[0m | \u001b[1mINFO    \u001b[0m | \u001b[36mmagic_pdf.model.pdf_extract_kit\u001b[0m:\u001b[36m__call__\u001b[0m:\u001b[36m189\u001b[0m - \u001b[1mformula nums: 0, mfr time: 0.0\u001b[0m\n",
      "\u001b[32m2024-08-23 17:35:24.847\u001b[0m | \u001b[1mINFO    \u001b[0m | \u001b[36mmagic_pdf.model.pdf_extract_kit\u001b[0m:\u001b[36m__call__\u001b[0m:\u001b[36m294\u001b[0m - \u001b[1mtable cost: 0.0\u001b[0m\n",
      "\u001b[32m2024-08-23 17:35:30.849\u001b[0m | \u001b[1mINFO    \u001b[0m | \u001b[36mmagic_pdf.model.pdf_extract_kit\u001b[0m:\u001b[36m__call__\u001b[0m:\u001b[36m159\u001b[0m - \u001b[1mlayout detection cost: 6.0\u001b[0m\n"
     ]
    },
    {
     "name": "stdout",
     "output_type": "stream",
     "text": [
      "\n",
      "0: 1216x1888 (no detections), 1497.6ms\n",
      "Speed: 7.8ms preprocess, 1497.6ms inference, 0.3ms postprocess per image at shape (1, 3, 1216, 1888)\n"
     ]
    },
    {
     "name": "stderr",
     "output_type": "stream",
     "text": [
      "\u001b[32m2024-08-23 17:35:32.357\u001b[0m | \u001b[1mINFO    \u001b[0m | \u001b[36mmagic_pdf.model.pdf_extract_kit\u001b[0m:\u001b[36m__call__\u001b[0m:\u001b[36m189\u001b[0m - \u001b[1mformula nums: 0, mfr time: 0.0\u001b[0m\n",
      "\u001b[32m2024-08-23 17:35:32.358\u001b[0m | \u001b[1mINFO    \u001b[0m | \u001b[36mmagic_pdf.model.pdf_extract_kit\u001b[0m:\u001b[36m__call__\u001b[0m:\u001b[36m294\u001b[0m - \u001b[1mtable cost: 0.0\u001b[0m\n",
      "\u001b[32m2024-08-23 17:35:38.127\u001b[0m | \u001b[1mINFO    \u001b[0m | \u001b[36mmagic_pdf.model.pdf_extract_kit\u001b[0m:\u001b[36m__call__\u001b[0m:\u001b[36m159\u001b[0m - \u001b[1mlayout detection cost: 5.77\u001b[0m\n"
     ]
    },
    {
     "name": "stdout",
     "output_type": "stream",
     "text": [
      "\n",
      "0: 1216x1888 (no detections), 1400.5ms\n",
      "Speed: 8.9ms preprocess, 1400.5ms inference, 0.3ms postprocess per image at shape (1, 3, 1216, 1888)\n"
     ]
    },
    {
     "name": "stderr",
     "output_type": "stream",
     "text": [
      "\u001b[32m2024-08-23 17:35:39.539\u001b[0m | \u001b[1mINFO    \u001b[0m | \u001b[36mmagic_pdf.model.pdf_extract_kit\u001b[0m:\u001b[36m__call__\u001b[0m:\u001b[36m189\u001b[0m - \u001b[1mformula nums: 0, mfr time: 0.0\u001b[0m\n",
      "\u001b[32m2024-08-23 17:35:39.541\u001b[0m | \u001b[1mINFO    \u001b[0m | \u001b[36mmagic_pdf.model.pdf_extract_kit\u001b[0m:\u001b[36m__call__\u001b[0m:\u001b[36m294\u001b[0m - \u001b[1mtable cost: 0.0\u001b[0m\n",
      "\u001b[32m2024-08-23 17:35:45.606\u001b[0m | \u001b[1mINFO    \u001b[0m | \u001b[36mmagic_pdf.model.pdf_extract_kit\u001b[0m:\u001b[36m__call__\u001b[0m:\u001b[36m159\u001b[0m - \u001b[1mlayout detection cost: 6.07\u001b[0m\n"
     ]
    },
    {
     "name": "stdout",
     "output_type": "stream",
     "text": [
      "\n",
      "0: 1216x1888 (no detections), 1452.4ms\n",
      "Speed: 7.9ms preprocess, 1452.4ms inference, 0.3ms postprocess per image at shape (1, 3, 1216, 1888)\n"
     ]
    },
    {
     "name": "stderr",
     "output_type": "stream",
     "text": [
      "\u001b[32m2024-08-23 17:35:47.069\u001b[0m | \u001b[1mINFO    \u001b[0m | \u001b[36mmagic_pdf.model.pdf_extract_kit\u001b[0m:\u001b[36m__call__\u001b[0m:\u001b[36m189\u001b[0m - \u001b[1mformula nums: 0, mfr time: 0.0\u001b[0m\n",
      "\u001b[32m2024-08-23 17:35:47.071\u001b[0m | \u001b[1mINFO    \u001b[0m | \u001b[36mmagic_pdf.model.pdf_extract_kit\u001b[0m:\u001b[36m__call__\u001b[0m:\u001b[36m294\u001b[0m - \u001b[1mtable cost: 0.0\u001b[0m\n",
      "\u001b[32m2024-08-23 17:35:53.072\u001b[0m | \u001b[1mINFO    \u001b[0m | \u001b[36mmagic_pdf.model.pdf_extract_kit\u001b[0m:\u001b[36m__call__\u001b[0m:\u001b[36m159\u001b[0m - \u001b[1mlayout detection cost: 6.0\u001b[0m\n"
     ]
    },
    {
     "name": "stdout",
     "output_type": "stream",
     "text": [
      "\n",
      "0: 1216x1888 1 embedding, 1444.7ms\n",
      "Speed: 7.9ms preprocess, 1444.7ms inference, 0.4ms postprocess per image at shape (1, 3, 1216, 1888)\n"
     ]
    },
    {
     "name": "stderr",
     "output_type": "stream",
     "text": [
      "\u001b[32m2024-08-23 17:35:54.931\u001b[0m | \u001b[1mINFO    \u001b[0m | \u001b[36mmagic_pdf.model.pdf_extract_kit\u001b[0m:\u001b[36m__call__\u001b[0m:\u001b[36m189\u001b[0m - \u001b[1mformula nums: 1, mfr time: 0.4\u001b[0m\n",
      "\u001b[32m2024-08-23 17:35:54.932\u001b[0m | \u001b[1mINFO    \u001b[0m | \u001b[36mmagic_pdf.model.pdf_extract_kit\u001b[0m:\u001b[36m__call__\u001b[0m:\u001b[36m294\u001b[0m - \u001b[1mtable cost: 0.0\u001b[0m\n",
      "\u001b[32m2024-08-23 17:36:00.952\u001b[0m | \u001b[1mINFO    \u001b[0m | \u001b[36mmagic_pdf.model.pdf_extract_kit\u001b[0m:\u001b[36m__call__\u001b[0m:\u001b[36m159\u001b[0m - \u001b[1mlayout detection cost: 6.02\u001b[0m\n"
     ]
    },
    {
     "name": "stdout",
     "output_type": "stream",
     "text": [
      "\n",
      "0: 1216x1888 (no detections), 1457.8ms\n",
      "Speed: 9.1ms preprocess, 1457.8ms inference, 0.3ms postprocess per image at shape (1, 3, 1216, 1888)\n"
     ]
    },
    {
     "name": "stderr",
     "output_type": "stream",
     "text": [
      "\u001b[32m2024-08-23 17:36:02.422\u001b[0m | \u001b[1mINFO    \u001b[0m | \u001b[36mmagic_pdf.model.pdf_extract_kit\u001b[0m:\u001b[36m__call__\u001b[0m:\u001b[36m189\u001b[0m - \u001b[1mformula nums: 0, mfr time: 0.0\u001b[0m\n",
      "\u001b[32m2024-08-23 17:36:02.423\u001b[0m | \u001b[1mINFO    \u001b[0m | \u001b[36mmagic_pdf.model.pdf_extract_kit\u001b[0m:\u001b[36m__call__\u001b[0m:\u001b[36m294\u001b[0m - \u001b[1mtable cost: 0.0\u001b[0m\n",
      "\u001b[32m2024-08-23 17:36:08.407\u001b[0m | \u001b[1mINFO    \u001b[0m | \u001b[36mmagic_pdf.model.pdf_extract_kit\u001b[0m:\u001b[36m__call__\u001b[0m:\u001b[36m159\u001b[0m - \u001b[1mlayout detection cost: 5.98\u001b[0m\n"
     ]
    },
    {
     "name": "stdout",
     "output_type": "stream",
     "text": [
      "\n",
      "0: 1216x1888 (no detections), 1469.1ms\n",
      "Speed: 9.2ms preprocess, 1469.1ms inference, 0.3ms postprocess per image at shape (1, 3, 1216, 1888)\n"
     ]
    },
    {
     "name": "stderr",
     "output_type": "stream",
     "text": [
      "\u001b[32m2024-08-23 17:36:09.888\u001b[0m | \u001b[1mINFO    \u001b[0m | \u001b[36mmagic_pdf.model.pdf_extract_kit\u001b[0m:\u001b[36m__call__\u001b[0m:\u001b[36m189\u001b[0m - \u001b[1mformula nums: 0, mfr time: 0.0\u001b[0m\n",
      "\u001b[32m2024-08-23 17:36:09.889\u001b[0m | \u001b[1mINFO    \u001b[0m | \u001b[36mmagic_pdf.model.pdf_extract_kit\u001b[0m:\u001b[36m__call__\u001b[0m:\u001b[36m294\u001b[0m - \u001b[1mtable cost: 0.0\u001b[0m\n",
      "\u001b[32m2024-08-23 17:36:15.846\u001b[0m | \u001b[1mINFO    \u001b[0m | \u001b[36mmagic_pdf.model.pdf_extract_kit\u001b[0m:\u001b[36m__call__\u001b[0m:\u001b[36m159\u001b[0m - \u001b[1mlayout detection cost: 5.96\u001b[0m\n"
     ]
    },
    {
     "name": "stdout",
     "output_type": "stream",
     "text": [
      "\n",
      "0: 1216x1888 (no detections), 1463.3ms\n",
      "Speed: 8.9ms preprocess, 1463.3ms inference, 0.3ms postprocess per image at shape (1, 3, 1216, 1888)\n"
     ]
    },
    {
     "name": "stderr",
     "output_type": "stream",
     "text": [
      "\u001b[32m2024-08-23 17:36:17.321\u001b[0m | \u001b[1mINFO    \u001b[0m | \u001b[36mmagic_pdf.model.pdf_extract_kit\u001b[0m:\u001b[36m__call__\u001b[0m:\u001b[36m189\u001b[0m - \u001b[1mformula nums: 0, mfr time: 0.0\u001b[0m\n",
      "\u001b[32m2024-08-23 17:36:17.323\u001b[0m | \u001b[1mINFO    \u001b[0m | \u001b[36mmagic_pdf.model.pdf_extract_kit\u001b[0m:\u001b[36m__call__\u001b[0m:\u001b[36m294\u001b[0m - \u001b[1mtable cost: 0.0\u001b[0m\n",
      "\u001b[32m2024-08-23 17:36:23.251\u001b[0m | \u001b[1mINFO    \u001b[0m | \u001b[36mmagic_pdf.model.pdf_extract_kit\u001b[0m:\u001b[36m__call__\u001b[0m:\u001b[36m159\u001b[0m - \u001b[1mlayout detection cost: 5.93\u001b[0m\n"
     ]
    },
    {
     "name": "stdout",
     "output_type": "stream",
     "text": [
      "\n",
      "0: 1216x1888 (no detections), 1447.6ms\n",
      "Speed: 7.8ms preprocess, 1447.6ms inference, 0.3ms postprocess per image at shape (1, 3, 1216, 1888)\n"
     ]
    },
    {
     "name": "stderr",
     "output_type": "stream",
     "text": [
      "\u001b[32m2024-08-23 17:36:24.710\u001b[0m | \u001b[1mINFO    \u001b[0m | \u001b[36mmagic_pdf.model.pdf_extract_kit\u001b[0m:\u001b[36m__call__\u001b[0m:\u001b[36m189\u001b[0m - \u001b[1mformula nums: 0, mfr time: 0.0\u001b[0m\n",
      "\u001b[32m2024-08-23 17:36:24.711\u001b[0m | \u001b[1mINFO    \u001b[0m | \u001b[36mmagic_pdf.model.pdf_extract_kit\u001b[0m:\u001b[36m__call__\u001b[0m:\u001b[36m294\u001b[0m - \u001b[1mtable cost: 0.0\u001b[0m\n",
      "\u001b[32m2024-08-23 17:36:30.695\u001b[0m | \u001b[1mINFO    \u001b[0m | \u001b[36mmagic_pdf.model.pdf_extract_kit\u001b[0m:\u001b[36m__call__\u001b[0m:\u001b[36m159\u001b[0m - \u001b[1mlayout detection cost: 5.98\u001b[0m\n"
     ]
    },
    {
     "name": "stdout",
     "output_type": "stream",
     "text": [
      "\n",
      "0: 1216x1888 3 embeddings, 1462.3ms\n",
      "Speed: 7.8ms preprocess, 1462.3ms inference, 0.4ms postprocess per image at shape (1, 3, 1216, 1888)\n"
     ]
    },
    {
     "name": "stderr",
     "output_type": "stream",
     "text": [
      "\u001b[32m2024-08-23 17:36:33.188\u001b[0m | \u001b[1mINFO    \u001b[0m | \u001b[36mmagic_pdf.model.pdf_extract_kit\u001b[0m:\u001b[36m__call__\u001b[0m:\u001b[36m189\u001b[0m - \u001b[1mformula nums: 3, mfr time: 1.02\u001b[0m\n",
      "\u001b[32m2024-08-23 17:36:33.190\u001b[0m | \u001b[1mINFO    \u001b[0m | \u001b[36mmagic_pdf.model.pdf_extract_kit\u001b[0m:\u001b[36m__call__\u001b[0m:\u001b[36m294\u001b[0m - \u001b[1mtable cost: 0.0\u001b[0m\n",
      "\u001b[32m2024-08-23 17:36:39.183\u001b[0m | \u001b[1mINFO    \u001b[0m | \u001b[36mmagic_pdf.model.pdf_extract_kit\u001b[0m:\u001b[36m__call__\u001b[0m:\u001b[36m159\u001b[0m - \u001b[1mlayout detection cost: 5.99\u001b[0m\n"
     ]
    },
    {
     "name": "stdout",
     "output_type": "stream",
     "text": [
      "\n",
      "0: 1216x1888 (no detections), 1428.5ms\n",
      "Speed: 8.7ms preprocess, 1428.5ms inference, 0.3ms postprocess per image at shape (1, 3, 1216, 1888)\n"
     ]
    },
    {
     "name": "stderr",
     "output_type": "stream",
     "text": [
      "\u001b[32m2024-08-23 17:36:40.623\u001b[0m | \u001b[1mINFO    \u001b[0m | \u001b[36mmagic_pdf.model.pdf_extract_kit\u001b[0m:\u001b[36m__call__\u001b[0m:\u001b[36m189\u001b[0m - \u001b[1mformula nums: 0, mfr time: 0.0\u001b[0m\n",
      "\u001b[32m2024-08-23 17:36:40.625\u001b[0m | \u001b[1mINFO    \u001b[0m | \u001b[36mmagic_pdf.model.pdf_extract_kit\u001b[0m:\u001b[36m__call__\u001b[0m:\u001b[36m294\u001b[0m - \u001b[1mtable cost: 0.0\u001b[0m\n",
      "\u001b[32m2024-08-23 17:36:46.569\u001b[0m | \u001b[1mINFO    \u001b[0m | \u001b[36mmagic_pdf.model.pdf_extract_kit\u001b[0m:\u001b[36m__call__\u001b[0m:\u001b[36m159\u001b[0m - \u001b[1mlayout detection cost: 5.94\u001b[0m\n"
     ]
    },
    {
     "name": "stdout",
     "output_type": "stream",
     "text": [
      "\n",
      "0: 1216x1888 (no detections), 1433.8ms\n",
      "Speed: 7.9ms preprocess, 1433.8ms inference, 0.3ms postprocess per image at shape (1, 3, 1216, 1888)\n"
     ]
    },
    {
     "name": "stderr",
     "output_type": "stream",
     "text": [
      "\u001b[32m2024-08-23 17:36:48.014\u001b[0m | \u001b[1mINFO    \u001b[0m | \u001b[36mmagic_pdf.model.pdf_extract_kit\u001b[0m:\u001b[36m__call__\u001b[0m:\u001b[36m189\u001b[0m - \u001b[1mformula nums: 0, mfr time: 0.0\u001b[0m\n",
      "\u001b[32m2024-08-23 17:36:48.015\u001b[0m | \u001b[1mINFO    \u001b[0m | \u001b[36mmagic_pdf.model.pdf_extract_kit\u001b[0m:\u001b[36m__call__\u001b[0m:\u001b[36m294\u001b[0m - \u001b[1mtable cost: 0.0\u001b[0m\n",
      "\u001b[32m2024-08-23 17:36:54.051\u001b[0m | \u001b[1mINFO    \u001b[0m | \u001b[36mmagic_pdf.model.pdf_extract_kit\u001b[0m:\u001b[36m__call__\u001b[0m:\u001b[36m159\u001b[0m - \u001b[1mlayout detection cost: 6.04\u001b[0m\n"
     ]
    },
    {
     "name": "stdout",
     "output_type": "stream",
     "text": [
      "\n",
      "0: 1216x1888 2 embeddings, 1484.2ms\n",
      "Speed: 8.5ms preprocess, 1484.2ms inference, 0.5ms postprocess per image at shape (1, 3, 1216, 1888)\n"
     ]
    },
    {
     "name": "stderr",
     "output_type": "stream",
     "text": [
      "\u001b[32m2024-08-23 17:36:56.317\u001b[0m | \u001b[1mINFO    \u001b[0m | \u001b[36mmagic_pdf.model.pdf_extract_kit\u001b[0m:\u001b[36m__call__\u001b[0m:\u001b[36m189\u001b[0m - \u001b[1mformula nums: 2, mfr time: 0.77\u001b[0m\n",
      "\u001b[32m2024-08-23 17:36:56.319\u001b[0m | \u001b[1mINFO    \u001b[0m | \u001b[36mmagic_pdf.model.pdf_extract_kit\u001b[0m:\u001b[36m__call__\u001b[0m:\u001b[36m294\u001b[0m - \u001b[1mtable cost: 0.0\u001b[0m\n",
      "\u001b[32m2024-08-23 17:37:02.339\u001b[0m | \u001b[1mINFO    \u001b[0m | \u001b[36mmagic_pdf.model.pdf_extract_kit\u001b[0m:\u001b[36m__call__\u001b[0m:\u001b[36m159\u001b[0m - \u001b[1mlayout detection cost: 6.02\u001b[0m\n"
     ]
    },
    {
     "name": "stdout",
     "output_type": "stream",
     "text": [
      "\n",
      "0: 1216x1888 3 embeddings, 1465.3ms\n",
      "Speed: 7.8ms preprocess, 1465.3ms inference, 0.4ms postprocess per image at shape (1, 3, 1216, 1888)\n"
     ]
    },
    {
     "name": "stderr",
     "output_type": "stream",
     "text": [
      "\u001b[32m2024-08-23 17:37:04.853\u001b[0m | \u001b[1mINFO    \u001b[0m | \u001b[36mmagic_pdf.model.pdf_extract_kit\u001b[0m:\u001b[36m__call__\u001b[0m:\u001b[36m189\u001b[0m - \u001b[1mformula nums: 3, mfr time: 1.03\u001b[0m\n",
      "\u001b[32m2024-08-23 17:37:04.855\u001b[0m | \u001b[1mINFO    \u001b[0m | \u001b[36mmagic_pdf.model.pdf_extract_kit\u001b[0m:\u001b[36m__call__\u001b[0m:\u001b[36m294\u001b[0m - \u001b[1mtable cost: 0.0\u001b[0m\n",
      "\u001b[32m2024-08-23 17:37:10.812\u001b[0m | \u001b[1mINFO    \u001b[0m | \u001b[36mmagic_pdf.model.pdf_extract_kit\u001b[0m:\u001b[36m__call__\u001b[0m:\u001b[36m159\u001b[0m - \u001b[1mlayout detection cost: 5.96\u001b[0m\n"
     ]
    },
    {
     "name": "stdout",
     "output_type": "stream",
     "text": [
      "\n",
      "0: 1216x1888 6 embeddings, 1485.6ms\n",
      "Speed: 8.8ms preprocess, 1485.6ms inference, 0.4ms postprocess per image at shape (1, 3, 1216, 1888)\n"
     ]
    },
    {
     "name": "stderr",
     "output_type": "stream",
     "text": [
      "\u001b[32m2024-08-23 17:37:13.876\u001b[0m | \u001b[1mINFO    \u001b[0m | \u001b[36mmagic_pdf.model.pdf_extract_kit\u001b[0m:\u001b[36m__call__\u001b[0m:\u001b[36m189\u001b[0m - \u001b[1mformula nums: 6, mfr time: 1.56\u001b[0m\n",
      "\u001b[32m2024-08-23 17:37:13.877\u001b[0m | \u001b[1mINFO    \u001b[0m | \u001b[36mmagic_pdf.model.pdf_extract_kit\u001b[0m:\u001b[36m__call__\u001b[0m:\u001b[36m294\u001b[0m - \u001b[1mtable cost: 0.0\u001b[0m\n",
      "\u001b[32m2024-08-23 17:37:19.885\u001b[0m | \u001b[1mINFO    \u001b[0m | \u001b[36mmagic_pdf.model.pdf_extract_kit\u001b[0m:\u001b[36m__call__\u001b[0m:\u001b[36m159\u001b[0m - \u001b[1mlayout detection cost: 6.01\u001b[0m\n"
     ]
    },
    {
     "name": "stdout",
     "output_type": "stream",
     "text": [
      "\n",
      "0: 1216x1888 2 embeddings, 1454.7ms\n",
      "Speed: 8.8ms preprocess, 1454.7ms inference, 0.4ms postprocess per image at shape (1, 3, 1216, 1888)\n"
     ]
    },
    {
     "name": "stderr",
     "output_type": "stream",
     "text": [
      "\u001b[32m2024-08-23 17:37:22.190\u001b[0m | \u001b[1mINFO    \u001b[0m | \u001b[36mmagic_pdf.model.pdf_extract_kit\u001b[0m:\u001b[36m__call__\u001b[0m:\u001b[36m189\u001b[0m - \u001b[1mformula nums: 2, mfr time: 0.84\u001b[0m\n",
      "\u001b[32m2024-08-23 17:37:22.192\u001b[0m | \u001b[1mINFO    \u001b[0m | \u001b[36mmagic_pdf.model.pdf_extract_kit\u001b[0m:\u001b[36m__call__\u001b[0m:\u001b[36m294\u001b[0m - \u001b[1mtable cost: 0.0\u001b[0m\n",
      "\u001b[32m2024-08-23 17:37:28.220\u001b[0m | \u001b[1mINFO    \u001b[0m | \u001b[36mmagic_pdf.model.pdf_extract_kit\u001b[0m:\u001b[36m__call__\u001b[0m:\u001b[36m159\u001b[0m - \u001b[1mlayout detection cost: 6.03\u001b[0m\n"
     ]
    },
    {
     "name": "stdout",
     "output_type": "stream",
     "text": [
      "\n",
      "0: 1216x1888 4 embeddings, 1612.7ms\n",
      "Speed: 7.9ms preprocess, 1612.7ms inference, 0.5ms postprocess per image at shape (1, 3, 1216, 1888)\n"
     ]
    },
    {
     "name": "stderr",
     "output_type": "stream",
     "text": [
      "\u001b[32m2024-08-23 17:37:30.601\u001b[0m | \u001b[1mINFO    \u001b[0m | \u001b[36mmagic_pdf.model.pdf_extract_kit\u001b[0m:\u001b[36m__call__\u001b[0m:\u001b[36m189\u001b[0m - \u001b[1mformula nums: 4, mfr time: 0.75\u001b[0m\n",
      "\u001b[32m2024-08-23 17:37:30.603\u001b[0m | \u001b[1mINFO    \u001b[0m | \u001b[36mmagic_pdf.model.pdf_extract_kit\u001b[0m:\u001b[36m__call__\u001b[0m:\u001b[36m294\u001b[0m - \u001b[1mtable cost: 0.0\u001b[0m\n",
      "\u001b[32m2024-08-23 17:37:36.962\u001b[0m | \u001b[1mINFO    \u001b[0m | \u001b[36mmagic_pdf.model.pdf_extract_kit\u001b[0m:\u001b[36m__call__\u001b[0m:\u001b[36m159\u001b[0m - \u001b[1mlayout detection cost: 6.36\u001b[0m\n"
     ]
    },
    {
     "name": "stdout",
     "output_type": "stream",
     "text": [
      "\n",
      "0: 1216x1888 1 embedding, 1621.4ms\n",
      "Speed: 8.9ms preprocess, 1621.4ms inference, 0.4ms postprocess per image at shape (1, 3, 1216, 1888)\n"
     ]
    },
    {
     "name": "stderr",
     "output_type": "stream",
     "text": [
      "\u001b[32m2024-08-23 17:37:38.821\u001b[0m | \u001b[1mINFO    \u001b[0m | \u001b[36mmagic_pdf.model.pdf_extract_kit\u001b[0m:\u001b[36m__call__\u001b[0m:\u001b[36m189\u001b[0m - \u001b[1mformula nums: 1, mfr time: 0.22\u001b[0m\n",
      "\u001b[32m2024-08-23 17:37:38.823\u001b[0m | \u001b[1mINFO    \u001b[0m | \u001b[36mmagic_pdf.model.pdf_extract_kit\u001b[0m:\u001b[36m__call__\u001b[0m:\u001b[36m294\u001b[0m - \u001b[1mtable cost: 0.0\u001b[0m\n",
      "\u001b[32m2024-08-23 17:37:45.209\u001b[0m | \u001b[1mINFO    \u001b[0m | \u001b[36mmagic_pdf.model.pdf_extract_kit\u001b[0m:\u001b[36m__call__\u001b[0m:\u001b[36m159\u001b[0m - \u001b[1mlayout detection cost: 6.39\u001b[0m\n"
     ]
    },
    {
     "name": "stdout",
     "output_type": "stream",
     "text": [
      "\n",
      "0: 1216x1888 (no detections), 1708.4ms\n",
      "Speed: 9.0ms preprocess, 1708.4ms inference, 0.3ms postprocess per image at shape (1, 3, 1216, 1888)\n"
     ]
    },
    {
     "name": "stderr",
     "output_type": "stream",
     "text": [
      "\u001b[32m2024-08-23 17:37:46.930\u001b[0m | \u001b[1mINFO    \u001b[0m | \u001b[36mmagic_pdf.model.pdf_extract_kit\u001b[0m:\u001b[36m__call__\u001b[0m:\u001b[36m189\u001b[0m - \u001b[1mformula nums: 0, mfr time: 0.0\u001b[0m\n",
      "\u001b[32m2024-08-23 17:37:46.931\u001b[0m | \u001b[1mINFO    \u001b[0m | \u001b[36mmagic_pdf.model.pdf_extract_kit\u001b[0m:\u001b[36m__call__\u001b[0m:\u001b[36m294\u001b[0m - \u001b[1mtable cost: 0.0\u001b[0m\n",
      "\u001b[32m2024-08-23 17:37:53.570\u001b[0m | \u001b[1mINFO    \u001b[0m | \u001b[36mmagic_pdf.model.pdf_extract_kit\u001b[0m:\u001b[36m__call__\u001b[0m:\u001b[36m159\u001b[0m - \u001b[1mlayout detection cost: 6.64\u001b[0m\n"
     ]
    },
    {
     "name": "stdout",
     "output_type": "stream",
     "text": [
      "\n",
      "0: 1216x1888 (no detections), 1618.9ms\n",
      "Speed: 9.0ms preprocess, 1618.9ms inference, 0.3ms postprocess per image at shape (1, 3, 1216, 1888)\n"
     ]
    },
    {
     "name": "stderr",
     "output_type": "stream",
     "text": [
      "\u001b[32m2024-08-23 17:37:55.201\u001b[0m | \u001b[1mINFO    \u001b[0m | \u001b[36mmagic_pdf.model.pdf_extract_kit\u001b[0m:\u001b[36m__call__\u001b[0m:\u001b[36m189\u001b[0m - \u001b[1mformula nums: 0, mfr time: 0.0\u001b[0m\n",
      "\u001b[32m2024-08-23 17:37:55.203\u001b[0m | \u001b[1mINFO    \u001b[0m | \u001b[36mmagic_pdf.model.pdf_extract_kit\u001b[0m:\u001b[36m__call__\u001b[0m:\u001b[36m294\u001b[0m - \u001b[1mtable cost: 0.0\u001b[0m\n",
      "\u001b[32m2024-08-23 17:38:01.626\u001b[0m | \u001b[1mINFO    \u001b[0m | \u001b[36mmagic_pdf.model.pdf_extract_kit\u001b[0m:\u001b[36m__call__\u001b[0m:\u001b[36m159\u001b[0m - \u001b[1mlayout detection cost: 6.42\u001b[0m\n"
     ]
    },
    {
     "name": "stdout",
     "output_type": "stream",
     "text": [
      "\n",
      "0: 1216x1888 (no detections), 1665.2ms\n",
      "Speed: 8.5ms preprocess, 1665.2ms inference, 1.1ms postprocess per image at shape (1, 3, 1216, 1888)\n"
     ]
    },
    {
     "name": "stderr",
     "output_type": "stream",
     "text": [
      "\u001b[32m2024-08-23 17:38:03.304\u001b[0m | \u001b[1mINFO    \u001b[0m | \u001b[36mmagic_pdf.model.pdf_extract_kit\u001b[0m:\u001b[36m__call__\u001b[0m:\u001b[36m189\u001b[0m - \u001b[1mformula nums: 0, mfr time: 0.0\u001b[0m\n",
      "\u001b[32m2024-08-23 17:38:03.306\u001b[0m | \u001b[1mINFO    \u001b[0m | \u001b[36mmagic_pdf.model.pdf_extract_kit\u001b[0m:\u001b[36m__call__\u001b[0m:\u001b[36m294\u001b[0m - \u001b[1mtable cost: 0.0\u001b[0m\n",
      "\u001b[32m2024-08-23 17:38:09.542\u001b[0m | \u001b[1mINFO    \u001b[0m | \u001b[36mmagic_pdf.model.pdf_extract_kit\u001b[0m:\u001b[36m__call__\u001b[0m:\u001b[36m159\u001b[0m - \u001b[1mlayout detection cost: 6.24\u001b[0m\n"
     ]
    },
    {
     "name": "stdout",
     "output_type": "stream",
     "text": [
      "\n",
      "0: 1216x1888 (no detections), 1610.4ms\n",
      "Speed: 8.7ms preprocess, 1610.4ms inference, 0.7ms postprocess per image at shape (1, 3, 1216, 1888)\n"
     ]
    },
    {
     "name": "stderr",
     "output_type": "stream",
     "text": [
      "\u001b[32m2024-08-23 17:38:11.165\u001b[0m | \u001b[1mINFO    \u001b[0m | \u001b[36mmagic_pdf.model.pdf_extract_kit\u001b[0m:\u001b[36m__call__\u001b[0m:\u001b[36m189\u001b[0m - \u001b[1mformula nums: 0, mfr time: 0.0\u001b[0m\n",
      "\u001b[32m2024-08-23 17:38:11.167\u001b[0m | \u001b[1mINFO    \u001b[0m | \u001b[36mmagic_pdf.model.pdf_extract_kit\u001b[0m:\u001b[36m__call__\u001b[0m:\u001b[36m294\u001b[0m - \u001b[1mtable cost: 0.0\u001b[0m\n",
      "\u001b[32m2024-08-23 17:38:17.350\u001b[0m | \u001b[1mINFO    \u001b[0m | \u001b[36mmagic_pdf.model.pdf_extract_kit\u001b[0m:\u001b[36m__call__\u001b[0m:\u001b[36m159\u001b[0m - \u001b[1mlayout detection cost: 6.18\u001b[0m\n"
     ]
    },
    {
     "name": "stdout",
     "output_type": "stream",
     "text": [
      "\n",
      "0: 1216x1888 (no detections), 1589.9ms\n",
      "Speed: 9.6ms preprocess, 1589.9ms inference, 0.3ms postprocess per image at shape (1, 3, 1216, 1888)\n"
     ]
    },
    {
     "name": "stderr",
     "output_type": "stream",
     "text": [
      "\u001b[32m2024-08-23 17:38:18.952\u001b[0m | \u001b[1mINFO    \u001b[0m | \u001b[36mmagic_pdf.model.pdf_extract_kit\u001b[0m:\u001b[36m__call__\u001b[0m:\u001b[36m189\u001b[0m - \u001b[1mformula nums: 0, mfr time: 0.0\u001b[0m\n",
      "\u001b[32m2024-08-23 17:38:18.955\u001b[0m | \u001b[1mINFO    \u001b[0m | \u001b[36mmagic_pdf.model.pdf_extract_kit\u001b[0m:\u001b[36m__call__\u001b[0m:\u001b[36m280\u001b[0m - \u001b[1m------------------table recognition processing begins-----------------\u001b[0m\n",
      "\u001b[32m2024-08-23 17:40:38.296\u001b[0m | \u001b[1mINFO    \u001b[0m | \u001b[36mmagic_pdf.model.pdf_extract_kit\u001b[0m:\u001b[36m__call__\u001b[0m:\u001b[36m284\u001b[0m - \u001b[1m------------table recognition processing ends within 139.34194588661194s-----\u001b[0m\n",
      "\u001b[32m2024-08-23 17:40:38.297\u001b[0m | \u001b[1mINFO    \u001b[0m | \u001b[36mmagic_pdf.model.pdf_extract_kit\u001b[0m:\u001b[36m__call__\u001b[0m:\u001b[36m294\u001b[0m - \u001b[1mtable cost: 139.34\u001b[0m\n",
      "\u001b[32m2024-08-23 17:40:44.988\u001b[0m | \u001b[1mINFO    \u001b[0m | \u001b[36mmagic_pdf.model.pdf_extract_kit\u001b[0m:\u001b[36m__call__\u001b[0m:\u001b[36m159\u001b[0m - \u001b[1mlayout detection cost: 6.69\u001b[0m\n"
     ]
    },
    {
     "name": "stdout",
     "output_type": "stream",
     "text": [
      "\n",
      "0: 1216x1888 (no detections), 1646.0ms\n",
      "Speed: 9.8ms preprocess, 1646.0ms inference, 0.3ms postprocess per image at shape (1, 3, 1216, 1888)\n"
     ]
    },
    {
     "name": "stderr",
     "output_type": "stream",
     "text": [
      "\u001b[32m2024-08-23 17:40:46.652\u001b[0m | \u001b[1mINFO    \u001b[0m | \u001b[36mmagic_pdf.model.pdf_extract_kit\u001b[0m:\u001b[36m__call__\u001b[0m:\u001b[36m189\u001b[0m - \u001b[1mformula nums: 0, mfr time: 0.0\u001b[0m\n",
      "\u001b[32m2024-08-23 17:40:46.653\u001b[0m | \u001b[1mINFO    \u001b[0m | \u001b[36mmagic_pdf.model.pdf_extract_kit\u001b[0m:\u001b[36m__call__\u001b[0m:\u001b[36m280\u001b[0m - \u001b[1m------------------table recognition processing begins-----------------\u001b[0m\n",
      "\u001b[32m2024-08-23 17:41:34.053\u001b[0m | \u001b[1mINFO    \u001b[0m | \u001b[36mmagic_pdf.model.pdf_extract_kit\u001b[0m:\u001b[36m__call__\u001b[0m:\u001b[36m284\u001b[0m - \u001b[1m------------table recognition processing ends within 47.39961886405945s-----\u001b[0m\n",
      "\u001b[32m2024-08-23 17:41:34.054\u001b[0m | \u001b[1mINFO    \u001b[0m | \u001b[36mmagic_pdf.model.pdf_extract_kit\u001b[0m:\u001b[36m__call__\u001b[0m:\u001b[36m280\u001b[0m - \u001b[1m------------------table recognition processing begins-----------------\u001b[0m\n",
      "\u001b[32m2024-08-23 17:44:34.489\u001b[0m | \u001b[1mINFO    \u001b[0m | \u001b[36mmagic_pdf.model.pdf_extract_kit\u001b[0m:\u001b[36m__call__\u001b[0m:\u001b[36m284\u001b[0m - \u001b[1m------------table recognition processing ends within 180.43452191352844s-----\u001b[0m\n",
      "\u001b[32m2024-08-23 17:44:34.489\u001b[0m | \u001b[1mINFO    \u001b[0m | \u001b[36mmagic_pdf.model.pdf_extract_kit\u001b[0m:\u001b[36m__call__\u001b[0m:\u001b[36m294\u001b[0m - \u001b[1mtable cost: 227.84\u001b[0m\n",
      "\u001b[32m2024-08-23 17:44:40.804\u001b[0m | \u001b[1mINFO    \u001b[0m | \u001b[36mmagic_pdf.model.pdf_extract_kit\u001b[0m:\u001b[36m__call__\u001b[0m:\u001b[36m159\u001b[0m - \u001b[1mlayout detection cost: 6.31\u001b[0m\n"
     ]
    },
    {
     "name": "stdout",
     "output_type": "stream",
     "text": [
      "\n",
      "0: 1216x1888 (no detections), 1624.3ms\n",
      "Speed: 9.5ms preprocess, 1624.3ms inference, 0.3ms postprocess per image at shape (1, 3, 1216, 1888)\n"
     ]
    },
    {
     "name": "stderr",
     "output_type": "stream",
     "text": [
      "\u001b[32m2024-08-23 17:44:42.446\u001b[0m | \u001b[1mINFO    \u001b[0m | \u001b[36mmagic_pdf.model.pdf_extract_kit\u001b[0m:\u001b[36m__call__\u001b[0m:\u001b[36m189\u001b[0m - \u001b[1mformula nums: 0, mfr time: 0.0\u001b[0m\n",
      "\u001b[32m2024-08-23 17:44:42.448\u001b[0m | \u001b[1mINFO    \u001b[0m | \u001b[36mmagic_pdf.model.pdf_extract_kit\u001b[0m:\u001b[36m__call__\u001b[0m:\u001b[36m280\u001b[0m - \u001b[1m------------------table recognition processing begins-----------------\u001b[0m\n",
      "\u001b[32m2024-08-23 17:47:33.339\u001b[0m | \u001b[1mINFO    \u001b[0m | \u001b[36mmagic_pdf.model.pdf_extract_kit\u001b[0m:\u001b[36m__call__\u001b[0m:\u001b[36m284\u001b[0m - \u001b[1m------------table recognition processing ends within 170.8916940689087s-----\u001b[0m\n",
      "\u001b[32m2024-08-23 17:47:33.340\u001b[0m | \u001b[1mINFO    \u001b[0m | \u001b[36mmagic_pdf.model.pdf_extract_kit\u001b[0m:\u001b[36m__call__\u001b[0m:\u001b[36m280\u001b[0m - \u001b[1m------------------table recognition processing begins-----------------\u001b[0m\n",
      "\u001b[32m2024-08-23 17:49:57.293\u001b[0m | \u001b[1mINFO    \u001b[0m | \u001b[36mmagic_pdf.model.pdf_extract_kit\u001b[0m:\u001b[36m__call__\u001b[0m:\u001b[36m284\u001b[0m - \u001b[1m------------table recognition processing ends within 143.95302295684814s-----\u001b[0m\n",
      "\u001b[32m2024-08-23 17:49:57.294\u001b[0m | \u001b[1mINFO    \u001b[0m | \u001b[36mmagic_pdf.model.pdf_extract_kit\u001b[0m:\u001b[36m__call__\u001b[0m:\u001b[36m294\u001b[0m - \u001b[1mtable cost: 314.85\u001b[0m\n",
      "\u001b[32m2024-08-23 17:50:04.178\u001b[0m | \u001b[1mINFO    \u001b[0m | \u001b[36mmagic_pdf.model.pdf_extract_kit\u001b[0m:\u001b[36m__call__\u001b[0m:\u001b[36m159\u001b[0m - \u001b[1mlayout detection cost: 6.88\u001b[0m\n"
     ]
    },
    {
     "name": "stdout",
     "output_type": "stream",
     "text": [
      "\n",
      "0: 1216x1888 (no detections), 1620.6ms\n",
      "Speed: 9.2ms preprocess, 1620.6ms inference, 0.3ms postprocess per image at shape (1, 3, 1216, 1888)\n"
     ]
    },
    {
     "name": "stderr",
     "output_type": "stream",
     "text": [
      "\u001b[32m2024-08-23 17:50:05.814\u001b[0m | \u001b[1mINFO    \u001b[0m | \u001b[36mmagic_pdf.model.pdf_extract_kit\u001b[0m:\u001b[36m__call__\u001b[0m:\u001b[36m189\u001b[0m - \u001b[1mformula nums: 0, mfr time: 0.0\u001b[0m\n",
      "\u001b[32m2024-08-23 17:50:05.817\u001b[0m | \u001b[1mINFO    \u001b[0m | \u001b[36mmagic_pdf.model.pdf_extract_kit\u001b[0m:\u001b[36m__call__\u001b[0m:\u001b[36m280\u001b[0m - \u001b[1m------------------table recognition processing begins-----------------\u001b[0m\n",
      "\u001b[32m2024-08-23 17:55:46.487\u001b[0m | \u001b[1mINFO    \u001b[0m | \u001b[36mmagic_pdf.model.pdf_extract_kit\u001b[0m:\u001b[36m__call__\u001b[0m:\u001b[36m284\u001b[0m - \u001b[1m------------table recognition processing ends within 340.6694540977478s-----\u001b[0m\n",
      "\u001b[32m2024-08-23 17:55:46.488\u001b[0m | \u001b[1mINFO    \u001b[0m | \u001b[36mmagic_pdf.model.pdf_extract_kit\u001b[0m:\u001b[36m__call__\u001b[0m:\u001b[36m294\u001b[0m - \u001b[1mtable cost: 340.67\u001b[0m\n",
      "\u001b[32m2024-08-23 17:55:53.251\u001b[0m | \u001b[1mINFO    \u001b[0m | \u001b[36mmagic_pdf.model.pdf_extract_kit\u001b[0m:\u001b[36m__call__\u001b[0m:\u001b[36m159\u001b[0m - \u001b[1mlayout detection cost: 6.76\u001b[0m\n"
     ]
    },
    {
     "name": "stdout",
     "output_type": "stream",
     "text": [
      "\n",
      "0: 1216x1888 (no detections), 1692.8ms\n",
      "Speed: 10.2ms preprocess, 1692.8ms inference, 0.3ms postprocess per image at shape (1, 3, 1216, 1888)\n"
     ]
    },
    {
     "name": "stderr",
     "output_type": "stream",
     "text": [
      "\u001b[32m2024-08-23 17:55:54.961\u001b[0m | \u001b[1mINFO    \u001b[0m | \u001b[36mmagic_pdf.model.pdf_extract_kit\u001b[0m:\u001b[36m__call__\u001b[0m:\u001b[36m189\u001b[0m - \u001b[1mformula nums: 0, mfr time: 0.0\u001b[0m\n",
      "\u001b[32m2024-08-23 17:55:54.963\u001b[0m | \u001b[1mINFO    \u001b[0m | \u001b[36mmagic_pdf.model.pdf_extract_kit\u001b[0m:\u001b[36m__call__\u001b[0m:\u001b[36m294\u001b[0m - \u001b[1mtable cost: 0.0\u001b[0m\n",
      "\u001b[32m2024-08-23 17:56:01.636\u001b[0m | \u001b[1mINFO    \u001b[0m | \u001b[36mmagic_pdf.model.pdf_extract_kit\u001b[0m:\u001b[36m__call__\u001b[0m:\u001b[36m159\u001b[0m - \u001b[1mlayout detection cost: 6.67\u001b[0m\n"
     ]
    },
    {
     "name": "stdout",
     "output_type": "stream",
     "text": [
      "\n",
      "0: 1216x1888 3 embeddings, 1642.2ms\n",
      "Speed: 9.7ms preprocess, 1642.2ms inference, 0.5ms postprocess per image at shape (1, 3, 1216, 1888)\n"
     ]
    },
    {
     "name": "stderr",
     "output_type": "stream",
     "text": [
      "\u001b[32m2024-08-23 17:56:04.385\u001b[0m | \u001b[1mINFO    \u001b[0m | \u001b[36mmagic_pdf.model.pdf_extract_kit\u001b[0m:\u001b[36m__call__\u001b[0m:\u001b[36m189\u001b[0m - \u001b[1mformula nums: 3, mfr time: 1.09\u001b[0m\n",
      "\u001b[32m2024-08-23 17:56:04.387\u001b[0m | \u001b[1mINFO    \u001b[0m | \u001b[36mmagic_pdf.model.pdf_extract_kit\u001b[0m:\u001b[36m__call__\u001b[0m:\u001b[36m280\u001b[0m - \u001b[1m------------------table recognition processing begins-----------------\u001b[0m\n",
      "\u001b[32m2024-08-23 17:57:02.350\u001b[0m | \u001b[1mINFO    \u001b[0m | \u001b[36mmagic_pdf.model.pdf_extract_kit\u001b[0m:\u001b[36m__call__\u001b[0m:\u001b[36m284\u001b[0m - \u001b[1m------------table recognition processing ends within 57.96267580986023s-----\u001b[0m\n",
      "\u001b[32m2024-08-23 17:57:02.351\u001b[0m | \u001b[1mINFO    \u001b[0m | \u001b[36mmagic_pdf.model.pdf_extract_kit\u001b[0m:\u001b[36m__call__\u001b[0m:\u001b[36m294\u001b[0m - \u001b[1mtable cost: 57.96\u001b[0m\n",
      "\u001b[32m2024-08-23 17:57:08.939\u001b[0m | \u001b[1mINFO    \u001b[0m | \u001b[36mmagic_pdf.model.pdf_extract_kit\u001b[0m:\u001b[36m__call__\u001b[0m:\u001b[36m159\u001b[0m - \u001b[1mlayout detection cost: 6.59\u001b[0m\n"
     ]
    },
    {
     "name": "stdout",
     "output_type": "stream",
     "text": [
      "\n",
      "0: 1216x1888 2 embeddings, 1668.6ms\n",
      "Speed: 9.8ms preprocess, 1668.6ms inference, 0.5ms postprocess per image at shape (1, 3, 1216, 1888)\n"
     ]
    },
    {
     "name": "stderr",
     "output_type": "stream",
     "text": [
      "\u001b[32m2024-08-23 17:57:11.091\u001b[0m | \u001b[1mINFO    \u001b[0m | \u001b[36mmagic_pdf.model.pdf_extract_kit\u001b[0m:\u001b[36m__call__\u001b[0m:\u001b[36m189\u001b[0m - \u001b[1mformula nums: 2, mfr time: 0.47\u001b[0m\n",
      "\u001b[32m2024-08-23 17:57:11.093\u001b[0m | \u001b[1mINFO    \u001b[0m | \u001b[36mmagic_pdf.model.pdf_extract_kit\u001b[0m:\u001b[36m__call__\u001b[0m:\u001b[36m294\u001b[0m - \u001b[1mtable cost: 0.0\u001b[0m\n",
      "\u001b[32m2024-08-23 17:57:17.720\u001b[0m | \u001b[1mINFO    \u001b[0m | \u001b[36mmagic_pdf.model.pdf_extract_kit\u001b[0m:\u001b[36m__call__\u001b[0m:\u001b[36m159\u001b[0m - \u001b[1mlayout detection cost: 6.63\u001b[0m\n"
     ]
    },
    {
     "name": "stdout",
     "output_type": "stream",
     "text": [
      "\n",
      "0: 1216x1888 (no detections), 1632.8ms\n",
      "Speed: 9.4ms preprocess, 1632.8ms inference, 0.3ms postprocess per image at shape (1, 3, 1216, 1888)\n"
     ]
    },
    {
     "name": "stderr",
     "output_type": "stream",
     "text": [
      "\u001b[32m2024-08-23 17:57:19.365\u001b[0m | \u001b[1mINFO    \u001b[0m | \u001b[36mmagic_pdf.model.pdf_extract_kit\u001b[0m:\u001b[36m__call__\u001b[0m:\u001b[36m189\u001b[0m - \u001b[1mformula nums: 0, mfr time: 0.0\u001b[0m\n",
      "\u001b[32m2024-08-23 17:57:19.367\u001b[0m | \u001b[1mINFO    \u001b[0m | \u001b[36mmagic_pdf.model.pdf_extract_kit\u001b[0m:\u001b[36m__call__\u001b[0m:\u001b[36m294\u001b[0m - \u001b[1mtable cost: 0.0\u001b[0m\n",
      "\u001b[32m2024-08-23 17:57:25.770\u001b[0m | \u001b[1mINFO    \u001b[0m | \u001b[36mmagic_pdf.model.pdf_extract_kit\u001b[0m:\u001b[36m__call__\u001b[0m:\u001b[36m159\u001b[0m - \u001b[1mlayout detection cost: 6.4\u001b[0m\n"
     ]
    },
    {
     "name": "stdout",
     "output_type": "stream",
     "text": [
      "\n",
      "0: 1216x1888 (no detections), 1553.1ms\n",
      "Speed: 9.5ms preprocess, 1553.1ms inference, 0.3ms postprocess per image at shape (1, 3, 1216, 1888)\n"
     ]
    },
    {
     "name": "stderr",
     "output_type": "stream",
     "text": [
      "\u001b[32m2024-08-23 17:57:27.336\u001b[0m | \u001b[1mINFO    \u001b[0m | \u001b[36mmagic_pdf.model.pdf_extract_kit\u001b[0m:\u001b[36m__call__\u001b[0m:\u001b[36m189\u001b[0m - \u001b[1mformula nums: 0, mfr time: 0.0\u001b[0m\n",
      "\u001b[32m2024-08-23 17:57:27.338\u001b[0m | \u001b[1mINFO    \u001b[0m | \u001b[36mmagic_pdf.model.pdf_extract_kit\u001b[0m:\u001b[36m__call__\u001b[0m:\u001b[36m294\u001b[0m - \u001b[1mtable cost: 0.0\u001b[0m\n",
      "\u001b[32m2024-08-23 17:57:33.891\u001b[0m | \u001b[1mINFO    \u001b[0m | \u001b[36mmagic_pdf.model.pdf_extract_kit\u001b[0m:\u001b[36m__call__\u001b[0m:\u001b[36m159\u001b[0m - \u001b[1mlayout detection cost: 6.55\u001b[0m\n"
     ]
    },
    {
     "name": "stdout",
     "output_type": "stream",
     "text": [
      "\n",
      "0: 1216x1888 (no detections), 1685.7ms\n",
      "Speed: 8.7ms preprocess, 1685.7ms inference, 0.4ms postprocess per image at shape (1, 3, 1216, 1888)\n"
     ]
    },
    {
     "name": "stderr",
     "output_type": "stream",
     "text": [
      "\u001b[32m2024-08-23 17:57:35.588\u001b[0m | \u001b[1mINFO    \u001b[0m | \u001b[36mmagic_pdf.model.pdf_extract_kit\u001b[0m:\u001b[36m__call__\u001b[0m:\u001b[36m189\u001b[0m - \u001b[1mformula nums: 0, mfr time: 0.0\u001b[0m\n",
      "\u001b[32m2024-08-23 17:57:35.590\u001b[0m | \u001b[1mINFO    \u001b[0m | \u001b[36mmagic_pdf.model.pdf_extract_kit\u001b[0m:\u001b[36m__call__\u001b[0m:\u001b[36m294\u001b[0m - \u001b[1mtable cost: 0.0\u001b[0m\n",
      "\u001b[32m2024-08-23 17:57:42.192\u001b[0m | \u001b[1mINFO    \u001b[0m | \u001b[36mmagic_pdf.model.pdf_extract_kit\u001b[0m:\u001b[36m__call__\u001b[0m:\u001b[36m159\u001b[0m - \u001b[1mlayout detection cost: 6.6\u001b[0m\n"
     ]
    },
    {
     "name": "stdout",
     "output_type": "stream",
     "text": [
      "\n",
      "0: 1216x1888 (no detections), 1589.7ms\n",
      "Speed: 8.6ms preprocess, 1589.7ms inference, 0.3ms postprocess per image at shape (1, 3, 1216, 1888)\n"
     ]
    },
    {
     "name": "stderr",
     "output_type": "stream",
     "text": [
      "\u001b[32m2024-08-23 17:57:43.794\u001b[0m | \u001b[1mINFO    \u001b[0m | \u001b[36mmagic_pdf.model.pdf_extract_kit\u001b[0m:\u001b[36m__call__\u001b[0m:\u001b[36m189\u001b[0m - \u001b[1mformula nums: 0, mfr time: 0.0\u001b[0m\n",
      "\u001b[32m2024-08-23 17:57:43.796\u001b[0m | \u001b[1mINFO    \u001b[0m | \u001b[36mmagic_pdf.model.pdf_extract_kit\u001b[0m:\u001b[36m__call__\u001b[0m:\u001b[36m294\u001b[0m - \u001b[1mtable cost: 0.0\u001b[0m\n",
      "\u001b[32m2024-08-23 17:57:50.427\u001b[0m | \u001b[1mINFO    \u001b[0m | \u001b[36mmagic_pdf.model.pdf_extract_kit\u001b[0m:\u001b[36m__call__\u001b[0m:\u001b[36m159\u001b[0m - \u001b[1mlayout detection cost: 6.63\u001b[0m\n"
     ]
    },
    {
     "name": "stdout",
     "output_type": "stream",
     "text": [
      "\n",
      "0: 1216x1888 (no detections), 1698.3ms\n",
      "Speed: 9.6ms preprocess, 1698.3ms inference, 0.3ms postprocess per image at shape (1, 3, 1216, 1888)\n"
     ]
    },
    {
     "name": "stderr",
     "output_type": "stream",
     "text": [
      "\u001b[32m2024-08-23 17:57:52.138\u001b[0m | \u001b[1mINFO    \u001b[0m | \u001b[36mmagic_pdf.model.pdf_extract_kit\u001b[0m:\u001b[36m__call__\u001b[0m:\u001b[36m189\u001b[0m - \u001b[1mformula nums: 0, mfr time: 0.0\u001b[0m\n",
      "\u001b[32m2024-08-23 17:57:52.139\u001b[0m | \u001b[1mINFO    \u001b[0m | \u001b[36mmagic_pdf.model.pdf_extract_kit\u001b[0m:\u001b[36m__call__\u001b[0m:\u001b[36m294\u001b[0m - \u001b[1mtable cost: 0.0\u001b[0m\n",
      "\u001b[32m2024-08-23 17:57:58.699\u001b[0m | \u001b[1mINFO    \u001b[0m | \u001b[36mmagic_pdf.model.pdf_extract_kit\u001b[0m:\u001b[36m__call__\u001b[0m:\u001b[36m159\u001b[0m - \u001b[1mlayout detection cost: 6.56\u001b[0m\n"
     ]
    },
    {
     "name": "stdout",
     "output_type": "stream",
     "text": [
      "\n",
      "0: 1216x1888 (no detections), 1582.4ms\n",
      "Speed: 8.8ms preprocess, 1582.4ms inference, 0.4ms postprocess per image at shape (1, 3, 1216, 1888)\n"
     ]
    },
    {
     "name": "stderr",
     "output_type": "stream",
     "text": [
      "\u001b[32m2024-08-23 17:58:00.293\u001b[0m | \u001b[1mINFO    \u001b[0m | \u001b[36mmagic_pdf.model.pdf_extract_kit\u001b[0m:\u001b[36m__call__\u001b[0m:\u001b[36m189\u001b[0m - \u001b[1mformula nums: 0, mfr time: 0.0\u001b[0m\n",
      "\u001b[32m2024-08-23 17:58:00.295\u001b[0m | \u001b[1mINFO    \u001b[0m | \u001b[36mmagic_pdf.model.pdf_extract_kit\u001b[0m:\u001b[36m__call__\u001b[0m:\u001b[36m294\u001b[0m - \u001b[1mtable cost: 0.0\u001b[0m\n",
      "\u001b[32m2024-08-23 17:58:06.880\u001b[0m | \u001b[1mINFO    \u001b[0m | \u001b[36mmagic_pdf.model.pdf_extract_kit\u001b[0m:\u001b[36m__call__\u001b[0m:\u001b[36m159\u001b[0m - \u001b[1mlayout detection cost: 6.58\u001b[0m\n"
     ]
    },
    {
     "name": "stdout",
     "output_type": "stream",
     "text": [
      "\n",
      "0: 1216x1888 (no detections), 1608.1ms\n",
      "Speed: 8.5ms preprocess, 1608.1ms inference, 0.3ms postprocess per image at shape (1, 3, 1216, 1888)\n"
     ]
    },
    {
     "name": "stderr",
     "output_type": "stream",
     "text": [
      "\u001b[32m2024-08-23 17:58:08.499\u001b[0m | \u001b[1mINFO    \u001b[0m | \u001b[36mmagic_pdf.model.pdf_extract_kit\u001b[0m:\u001b[36m__call__\u001b[0m:\u001b[36m189\u001b[0m - \u001b[1mformula nums: 0, mfr time: 0.0\u001b[0m\n",
      "\u001b[32m2024-08-23 17:58:08.501\u001b[0m | \u001b[1mINFO    \u001b[0m | \u001b[36mmagic_pdf.model.pdf_extract_kit\u001b[0m:\u001b[36m__call__\u001b[0m:\u001b[36m294\u001b[0m - \u001b[1mtable cost: 0.0\u001b[0m\n",
      "\u001b[32m2024-08-23 17:58:15.187\u001b[0m | \u001b[1mINFO    \u001b[0m | \u001b[36mmagic_pdf.model.pdf_extract_kit\u001b[0m:\u001b[36m__call__\u001b[0m:\u001b[36m159\u001b[0m - \u001b[1mlayout detection cost: 6.69\u001b[0m\n"
     ]
    },
    {
     "name": "stdout",
     "output_type": "stream",
     "text": [
      "\n",
      "0: 1216x1888 (no detections), 1701.8ms\n",
      "Speed: 10.2ms preprocess, 1701.8ms inference, 0.3ms postprocess per image at shape (1, 3, 1216, 1888)\n"
     ]
    },
    {
     "name": "stderr",
     "output_type": "stream",
     "text": [
      "\u001b[32m2024-08-23 17:58:16.902\u001b[0m | \u001b[1mINFO    \u001b[0m | \u001b[36mmagic_pdf.model.pdf_extract_kit\u001b[0m:\u001b[36m__call__\u001b[0m:\u001b[36m189\u001b[0m - \u001b[1mformula nums: 0, mfr time: 0.0\u001b[0m\n",
      "\u001b[32m2024-08-23 17:58:16.904\u001b[0m | \u001b[1mINFO    \u001b[0m | \u001b[36mmagic_pdf.model.pdf_extract_kit\u001b[0m:\u001b[36m__call__\u001b[0m:\u001b[36m294\u001b[0m - \u001b[1mtable cost: 0.0\u001b[0m\n",
      "\u001b[32m2024-08-23 17:58:23.586\u001b[0m | \u001b[1mINFO    \u001b[0m | \u001b[36mmagic_pdf.model.pdf_extract_kit\u001b[0m:\u001b[36m__call__\u001b[0m:\u001b[36m159\u001b[0m - \u001b[1mlayout detection cost: 6.68\u001b[0m\n"
     ]
    },
    {
     "name": "stdout",
     "output_type": "stream",
     "text": [
      "\n",
      "0: 1216x1888 (no detections), 1686.0ms\n",
      "Speed: 10.2ms preprocess, 1686.0ms inference, 0.3ms postprocess per image at shape (1, 3, 1216, 1888)\n"
     ]
    },
    {
     "name": "stderr",
     "output_type": "stream",
     "text": [
      "\u001b[32m2024-08-23 17:58:25.285\u001b[0m | \u001b[1mINFO    \u001b[0m | \u001b[36mmagic_pdf.model.pdf_extract_kit\u001b[0m:\u001b[36m__call__\u001b[0m:\u001b[36m189\u001b[0m - \u001b[1mformula nums: 0, mfr time: 0.0\u001b[0m\n",
      "\u001b[32m2024-08-23 17:58:25.287\u001b[0m | \u001b[1mINFO    \u001b[0m | \u001b[36mmagic_pdf.model.pdf_extract_kit\u001b[0m:\u001b[36m__call__\u001b[0m:\u001b[36m294\u001b[0m - \u001b[1mtable cost: 0.0\u001b[0m\n",
      "\u001b[32m2024-08-23 17:58:31.831\u001b[0m | \u001b[1mINFO    \u001b[0m | \u001b[36mmagic_pdf.model.pdf_extract_kit\u001b[0m:\u001b[36m__call__\u001b[0m:\u001b[36m159\u001b[0m - \u001b[1mlayout detection cost: 6.54\u001b[0m\n"
     ]
    },
    {
     "name": "stdout",
     "output_type": "stream",
     "text": [
      "\n",
      "0: 1216x1888 (no detections), 1683.4ms\n",
      "Speed: 9.3ms preprocess, 1683.4ms inference, 0.3ms postprocess per image at shape (1, 3, 1216, 1888)\n"
     ]
    },
    {
     "name": "stderr",
     "output_type": "stream",
     "text": [
      "\u001b[32m2024-08-23 17:58:33.526\u001b[0m | \u001b[1mINFO    \u001b[0m | \u001b[36mmagic_pdf.model.pdf_extract_kit\u001b[0m:\u001b[36m__call__\u001b[0m:\u001b[36m189\u001b[0m - \u001b[1mformula nums: 0, mfr time: 0.0\u001b[0m\n",
      "\u001b[32m2024-08-23 17:58:33.528\u001b[0m | \u001b[1mINFO    \u001b[0m | \u001b[36mmagic_pdf.model.pdf_extract_kit\u001b[0m:\u001b[36m__call__\u001b[0m:\u001b[36m294\u001b[0m - \u001b[1mtable cost: 0.0\u001b[0m\n",
      "\u001b[32m2024-08-23 17:58:40.137\u001b[0m | \u001b[1mINFO    \u001b[0m | \u001b[36mmagic_pdf.model.pdf_extract_kit\u001b[0m:\u001b[36m__call__\u001b[0m:\u001b[36m159\u001b[0m - \u001b[1mlayout detection cost: 6.61\u001b[0m\n"
     ]
    },
    {
     "name": "stdout",
     "output_type": "stream",
     "text": [
      "\n",
      "0: 1216x1888 1 embedding, 1634.6ms\n",
      "Speed: 10.2ms preprocess, 1634.6ms inference, 0.5ms postprocess per image at shape (1, 3, 1216, 1888)\n"
     ]
    },
    {
     "name": "stderr",
     "output_type": "stream",
     "text": [
      "\u001b[32m2024-08-23 17:58:42.219\u001b[0m | \u001b[1mINFO    \u001b[0m | \u001b[36mmagic_pdf.model.pdf_extract_kit\u001b[0m:\u001b[36m__call__\u001b[0m:\u001b[36m189\u001b[0m - \u001b[1mformula nums: 1, mfr time: 0.43\u001b[0m\n",
      "\u001b[32m2024-08-23 17:58:42.221\u001b[0m | \u001b[1mINFO    \u001b[0m | \u001b[36mmagic_pdf.model.pdf_extract_kit\u001b[0m:\u001b[36m__call__\u001b[0m:\u001b[36m280\u001b[0m - \u001b[1m------------------table recognition processing begins-----------------\u001b[0m\n",
      "\u001b[32m2024-08-23 17:59:38.900\u001b[0m | \u001b[1mINFO    \u001b[0m | \u001b[36mmagic_pdf.model.pdf_extract_kit\u001b[0m:\u001b[36m__call__\u001b[0m:\u001b[36m284\u001b[0m - \u001b[1m------------table recognition processing ends within 56.67866516113281s-----\u001b[0m\n",
      "\u001b[32m2024-08-23 17:59:38.901\u001b[0m | \u001b[1mINFO    \u001b[0m | \u001b[36mmagic_pdf.model.pdf_extract_kit\u001b[0m:\u001b[36m__call__\u001b[0m:\u001b[36m280\u001b[0m - \u001b[1m------------------table recognition processing begins-----------------\u001b[0m\n",
      "\u001b[32m2024-08-23 18:00:16.475\u001b[0m | \u001b[1mINFO    \u001b[0m | \u001b[36mmagic_pdf.model.pdf_extract_kit\u001b[0m:\u001b[36m__call__\u001b[0m:\u001b[36m284\u001b[0m - \u001b[1m------------table recognition processing ends within 37.573808908462524s-----\u001b[0m\n",
      "\u001b[32m2024-08-23 18:00:16.475\u001b[0m | \u001b[1mINFO    \u001b[0m | \u001b[36mmagic_pdf.model.pdf_extract_kit\u001b[0m:\u001b[36m__call__\u001b[0m:\u001b[36m294\u001b[0m - \u001b[1mtable cost: 94.25\u001b[0m\n",
      "\u001b[32m2024-08-23 18:00:23.025\u001b[0m | \u001b[1mINFO    \u001b[0m | \u001b[36mmagic_pdf.model.pdf_extract_kit\u001b[0m:\u001b[36m__call__\u001b[0m:\u001b[36m159\u001b[0m - \u001b[1mlayout detection cost: 6.55\u001b[0m\n"
     ]
    },
    {
     "name": "stdout",
     "output_type": "stream",
     "text": [
      "\n",
      "0: 1216x1888 (no detections), 1672.4ms\n",
      "Speed: 10.1ms preprocess, 1672.4ms inference, 0.3ms postprocess per image at shape (1, 3, 1216, 1888)\n"
     ]
    },
    {
     "name": "stderr",
     "output_type": "stream",
     "text": [
      "\u001b[32m2024-08-23 18:00:24.711\u001b[0m | \u001b[1mINFO    \u001b[0m | \u001b[36mmagic_pdf.model.pdf_extract_kit\u001b[0m:\u001b[36m__call__\u001b[0m:\u001b[36m189\u001b[0m - \u001b[1mformula nums: 0, mfr time: 0.0\u001b[0m\n",
      "\u001b[32m2024-08-23 18:00:24.713\u001b[0m | \u001b[1mINFO    \u001b[0m | \u001b[36mmagic_pdf.model.pdf_extract_kit\u001b[0m:\u001b[36m__call__\u001b[0m:\u001b[36m280\u001b[0m - \u001b[1m------------------table recognition processing begins-----------------\u001b[0m\n",
      "\u001b[32m2024-08-23 18:01:33.968\u001b[0m | \u001b[1mINFO    \u001b[0m | \u001b[36mmagic_pdf.model.pdf_extract_kit\u001b[0m:\u001b[36m__call__\u001b[0m:\u001b[36m284\u001b[0m - \u001b[1m------------table recognition processing ends within 69.25516986846924s-----\u001b[0m\n",
      "\u001b[32m2024-08-23 18:01:33.969\u001b[0m | \u001b[1mINFO    \u001b[0m | \u001b[36mmagic_pdf.model.pdf_extract_kit\u001b[0m:\u001b[36m__call__\u001b[0m:\u001b[36m294\u001b[0m - \u001b[1mtable cost: 69.26\u001b[0m\n",
      "\u001b[32m2024-08-23 18:01:40.503\u001b[0m | \u001b[1mINFO    \u001b[0m | \u001b[36mmagic_pdf.model.pdf_extract_kit\u001b[0m:\u001b[36m__call__\u001b[0m:\u001b[36m159\u001b[0m - \u001b[1mlayout detection cost: 6.53\u001b[0m\n"
     ]
    },
    {
     "name": "stdout",
     "output_type": "stream",
     "text": [
      "\n",
      "0: 1216x1888 (no detections), 1700.8ms\n",
      "Speed: 9.3ms preprocess, 1700.8ms inference, 0.3ms postprocess per image at shape (1, 3, 1216, 1888)\n"
     ]
    },
    {
     "name": "stderr",
     "output_type": "stream",
     "text": [
      "\u001b[32m2024-08-23 18:01:42.217\u001b[0m | \u001b[1mINFO    \u001b[0m | \u001b[36mmagic_pdf.model.pdf_extract_kit\u001b[0m:\u001b[36m__call__\u001b[0m:\u001b[36m189\u001b[0m - \u001b[1mformula nums: 0, mfr time: 0.0\u001b[0m\n",
      "\u001b[32m2024-08-23 18:01:42.218\u001b[0m | \u001b[1mINFO    \u001b[0m | \u001b[36mmagic_pdf.model.pdf_extract_kit\u001b[0m:\u001b[36m__call__\u001b[0m:\u001b[36m294\u001b[0m - \u001b[1mtable cost: 0.0\u001b[0m\n",
      "\u001b[32m2024-08-23 18:01:48.752\u001b[0m | \u001b[1mINFO    \u001b[0m | \u001b[36mmagic_pdf.model.pdf_extract_kit\u001b[0m:\u001b[36m__call__\u001b[0m:\u001b[36m159\u001b[0m - \u001b[1mlayout detection cost: 6.53\u001b[0m\n"
     ]
    },
    {
     "name": "stdout",
     "output_type": "stream",
     "text": [
      "\n",
      "0: 1216x1888 1 embedding, 1725.1ms\n",
      "Speed: 8.6ms preprocess, 1725.1ms inference, 0.5ms postprocess per image at shape (1, 3, 1216, 1888)\n"
     ]
    },
    {
     "name": "stderr",
     "output_type": "stream",
     "text": [
      "\u001b[32m2024-08-23 18:01:50.742\u001b[0m | \u001b[1mINFO    \u001b[0m | \u001b[36mmagic_pdf.model.pdf_extract_kit\u001b[0m:\u001b[36m__call__\u001b[0m:\u001b[36m189\u001b[0m - \u001b[1mformula nums: 1, mfr time: 0.25\u001b[0m\n",
      "\u001b[32m2024-08-23 18:01:50.744\u001b[0m | \u001b[1mINFO    \u001b[0m | \u001b[36mmagic_pdf.model.pdf_extract_kit\u001b[0m:\u001b[36m__call__\u001b[0m:\u001b[36m294\u001b[0m - \u001b[1mtable cost: 0.0\u001b[0m\n",
      "\u001b[32m2024-08-23 18:01:57.395\u001b[0m | \u001b[1mINFO    \u001b[0m | \u001b[36mmagic_pdf.model.pdf_extract_kit\u001b[0m:\u001b[36m__call__\u001b[0m:\u001b[36m159\u001b[0m - \u001b[1mlayout detection cost: 6.65\u001b[0m\n"
     ]
    },
    {
     "name": "stdout",
     "output_type": "stream",
     "text": [
      "\n",
      "0: 1216x1888 (no detections), 1696.3ms\n",
      "Speed: 10.0ms preprocess, 1696.3ms inference, 0.3ms postprocess per image at shape (1, 3, 1216, 1888)\n"
     ]
    },
    {
     "name": "stderr",
     "output_type": "stream",
     "text": [
      "\u001b[32m2024-08-23 18:01:59.105\u001b[0m | \u001b[1mINFO    \u001b[0m | \u001b[36mmagic_pdf.model.pdf_extract_kit\u001b[0m:\u001b[36m__call__\u001b[0m:\u001b[36m189\u001b[0m - \u001b[1mformula nums: 0, mfr time: 0.0\u001b[0m\n",
      "\u001b[32m2024-08-23 18:01:59.106\u001b[0m | \u001b[1mINFO    \u001b[0m | \u001b[36mmagic_pdf.model.pdf_extract_kit\u001b[0m:\u001b[36m__call__\u001b[0m:\u001b[36m294\u001b[0m - \u001b[1mtable cost: 0.0\u001b[0m\n",
      "\u001b[32m2024-08-23 18:02:05.714\u001b[0m | \u001b[1mINFO    \u001b[0m | \u001b[36mmagic_pdf.model.pdf_extract_kit\u001b[0m:\u001b[36m__call__\u001b[0m:\u001b[36m159\u001b[0m - \u001b[1mlayout detection cost: 6.61\u001b[0m\n"
     ]
    },
    {
     "name": "stdout",
     "output_type": "stream",
     "text": [
      "\n",
      "0: 1216x1888 (no detections), 1673.8ms\n",
      "Speed: 9.7ms preprocess, 1673.8ms inference, 0.3ms postprocess per image at shape (1, 3, 1216, 1888)\n"
     ]
    },
    {
     "name": "stderr",
     "output_type": "stream",
     "text": [
      "\u001b[32m2024-08-23 18:02:07.401\u001b[0m | \u001b[1mINFO    \u001b[0m | \u001b[36mmagic_pdf.model.pdf_extract_kit\u001b[0m:\u001b[36m__call__\u001b[0m:\u001b[36m189\u001b[0m - \u001b[1mformula nums: 0, mfr time: 0.0\u001b[0m\n",
      "\u001b[32m2024-08-23 18:02:07.403\u001b[0m | \u001b[1mINFO    \u001b[0m | \u001b[36mmagic_pdf.model.pdf_extract_kit\u001b[0m:\u001b[36m__call__\u001b[0m:\u001b[36m294\u001b[0m - \u001b[1mtable cost: 0.0\u001b[0m\n",
      "\u001b[32m2024-08-23 18:02:13.974\u001b[0m | \u001b[1mINFO    \u001b[0m | \u001b[36mmagic_pdf.model.pdf_extract_kit\u001b[0m:\u001b[36m__call__\u001b[0m:\u001b[36m159\u001b[0m - \u001b[1mlayout detection cost: 6.57\u001b[0m\n"
     ]
    },
    {
     "name": "stdout",
     "output_type": "stream",
     "text": [
      "\n",
      "0: 1216x1888 32 embeddings, 1670.0ms\n",
      "Speed: 10.5ms preprocess, 1670.0ms inference, 0.7ms postprocess per image at shape (1, 3, 1216, 1888)\n"
     ]
    },
    {
     "name": "stderr",
     "output_type": "stream",
     "text": [
      "\u001b[32m2024-08-23 18:02:21.504\u001b[0m | \u001b[1mINFO    \u001b[0m | \u001b[36mmagic_pdf.model.pdf_extract_kit\u001b[0m:\u001b[36m__call__\u001b[0m:\u001b[36m189\u001b[0m - \u001b[1mformula nums: 32, mfr time: 5.81\u001b[0m\n",
      "\u001b[32m2024-08-23 18:02:21.507\u001b[0m | \u001b[1mINFO    \u001b[0m | \u001b[36mmagic_pdf.model.pdf_extract_kit\u001b[0m:\u001b[36m__call__\u001b[0m:\u001b[36m280\u001b[0m - \u001b[1m------------------table recognition processing begins-----------------\u001b[0m\n",
      "\u001b[32m2024-08-23 18:09:08.738\u001b[0m | \u001b[1mINFO    \u001b[0m | \u001b[36mmagic_pdf.model.pdf_extract_kit\u001b[0m:\u001b[36m__call__\u001b[0m:\u001b[36m284\u001b[0m - \u001b[1m------------table recognition processing ends within 407.2311177253723s-----\u001b[0m\n",
      "\u001b[32m2024-08-23 18:09:08.738\u001b[0m | \u001b[33m\u001b[1mWARNING \u001b[0m | \u001b[36mmagic_pdf.model.pdf_extract_kit\u001b[0m:\u001b[36m__call__\u001b[0m:\u001b[36m286\u001b[0m - \u001b[33m\u001b[1m------------table recognition processing exceeds max time 400s----------\u001b[0m\n",
      "\u001b[32m2024-08-23 18:09:08.739\u001b[0m | \u001b[33m\u001b[1mWARNING \u001b[0m | \u001b[36mmagic_pdf.model.pdf_extract_kit\u001b[0m:\u001b[36m__call__\u001b[0m:\u001b[36m292\u001b[0m - \u001b[33m\u001b[1m------------table recognition processing fails----------\u001b[0m\n",
      "\u001b[32m2024-08-23 18:09:08.739\u001b[0m | \u001b[1mINFO    \u001b[0m | \u001b[36mmagic_pdf.model.pdf_extract_kit\u001b[0m:\u001b[36m__call__\u001b[0m:\u001b[36m294\u001b[0m - \u001b[1mtable cost: 407.23\u001b[0m\n",
      "\u001b[32m2024-08-23 18:09:14.928\u001b[0m | \u001b[1mINFO    \u001b[0m | \u001b[36mmagic_pdf.model.pdf_extract_kit\u001b[0m:\u001b[36m__call__\u001b[0m:\u001b[36m159\u001b[0m - \u001b[1mlayout detection cost: 6.19\u001b[0m\n"
     ]
    },
    {
     "name": "stdout",
     "output_type": "stream",
     "text": [
      "\n",
      "0: 1216x1888 45 embeddings, 1521.1ms\n",
      "Speed: 8.3ms preprocess, 1521.1ms inference, 0.5ms postprocess per image at shape (1, 3, 1216, 1888)\n"
     ]
    },
    {
     "name": "stderr",
     "output_type": "stream",
     "text": [
      "\u001b[32m2024-08-23 18:09:24.056\u001b[0m | \u001b[1mINFO    \u001b[0m | \u001b[36mmagic_pdf.model.pdf_extract_kit\u001b[0m:\u001b[36m__call__\u001b[0m:\u001b[36m189\u001b[0m - \u001b[1mformula nums: 45, mfr time: 7.55\u001b[0m\n",
      "\u001b[32m2024-08-23 18:09:24.059\u001b[0m | \u001b[1mINFO    \u001b[0m | \u001b[36mmagic_pdf.model.pdf_extract_kit\u001b[0m:\u001b[36m__call__\u001b[0m:\u001b[36m280\u001b[0m - \u001b[1m------------------table recognition processing begins-----------------\u001b[0m\n",
      "\u001b[32m2024-08-23 18:16:11.648\u001b[0m | \u001b[1mINFO    \u001b[0m | \u001b[36mmagic_pdf.model.pdf_extract_kit\u001b[0m:\u001b[36m__call__\u001b[0m:\u001b[36m284\u001b[0m - \u001b[1m------------table recognition processing ends within 407.58900904655457s-----\u001b[0m\n",
      "\u001b[32m2024-08-23 18:16:11.649\u001b[0m | \u001b[33m\u001b[1mWARNING \u001b[0m | \u001b[36mmagic_pdf.model.pdf_extract_kit\u001b[0m:\u001b[36m__call__\u001b[0m:\u001b[36m286\u001b[0m - \u001b[33m\u001b[1m------------table recognition processing exceeds max time 400s----------\u001b[0m\n",
      "\u001b[32m2024-08-23 18:16:11.649\u001b[0m | \u001b[33m\u001b[1mWARNING \u001b[0m | \u001b[36mmagic_pdf.model.pdf_extract_kit\u001b[0m:\u001b[36m__call__\u001b[0m:\u001b[36m292\u001b[0m - \u001b[33m\u001b[1m------------table recognition processing fails----------\u001b[0m\n",
      "\u001b[32m2024-08-23 18:16:11.649\u001b[0m | \u001b[1mINFO    \u001b[0m | \u001b[36mmagic_pdf.model.pdf_extract_kit\u001b[0m:\u001b[36m__call__\u001b[0m:\u001b[36m294\u001b[0m - \u001b[1mtable cost: 407.59\u001b[0m\n",
      "\u001b[32m2024-08-23 18:16:18.308\u001b[0m | \u001b[1mINFO    \u001b[0m | \u001b[36mmagic_pdf.model.pdf_extract_kit\u001b[0m:\u001b[36m__call__\u001b[0m:\u001b[36m159\u001b[0m - \u001b[1mlayout detection cost: 6.66\u001b[0m\n"
     ]
    },
    {
     "name": "stdout",
     "output_type": "stream",
     "text": [
      "\n",
      "0: 1216x1888 36 embeddings, 1695.1ms\n",
      "Speed: 9.9ms preprocess, 1695.1ms inference, 0.6ms postprocess per image at shape (1, 3, 1216, 1888)\n"
     ]
    },
    {
     "name": "stderr",
     "output_type": "stream",
     "text": [
      "\u001b[32m2024-08-23 18:16:26.484\u001b[0m | \u001b[1mINFO    \u001b[0m | \u001b[36mmagic_pdf.model.pdf_extract_kit\u001b[0m:\u001b[36m__call__\u001b[0m:\u001b[36m189\u001b[0m - \u001b[1mformula nums: 36, mfr time: 6.43\u001b[0m\n",
      "\u001b[32m2024-08-23 18:16:26.487\u001b[0m | \u001b[1mINFO    \u001b[0m | \u001b[36mmagic_pdf.model.pdf_extract_kit\u001b[0m:\u001b[36m__call__\u001b[0m:\u001b[36m280\u001b[0m - \u001b[1m------------------table recognition processing begins-----------------\u001b[0m\n",
      "\u001b[32m2024-08-23 18:23:13.727\u001b[0m | \u001b[1mINFO    \u001b[0m | \u001b[36mmagic_pdf.model.pdf_extract_kit\u001b[0m:\u001b[36m__call__\u001b[0m:\u001b[36m284\u001b[0m - \u001b[1m------------table recognition processing ends within 407.2392177581787s-----\u001b[0m\n",
      "\u001b[32m2024-08-23 18:23:13.727\u001b[0m | \u001b[33m\u001b[1mWARNING \u001b[0m | \u001b[36mmagic_pdf.model.pdf_extract_kit\u001b[0m:\u001b[36m__call__\u001b[0m:\u001b[36m286\u001b[0m - \u001b[33m\u001b[1m------------table recognition processing exceeds max time 400s----------\u001b[0m\n",
      "\u001b[32m2024-08-23 18:23:13.728\u001b[0m | \u001b[33m\u001b[1mWARNING \u001b[0m | \u001b[36mmagic_pdf.model.pdf_extract_kit\u001b[0m:\u001b[36m__call__\u001b[0m:\u001b[36m292\u001b[0m - \u001b[33m\u001b[1m------------table recognition processing fails----------\u001b[0m\n",
      "\u001b[32m2024-08-23 18:23:13.728\u001b[0m | \u001b[1mINFO    \u001b[0m | \u001b[36mmagic_pdf.model.pdf_extract_kit\u001b[0m:\u001b[36m__call__\u001b[0m:\u001b[36m294\u001b[0m - \u001b[1mtable cost: 407.24\u001b[0m\n",
      "\u001b[32m2024-08-23 18:23:20.250\u001b[0m | \u001b[1mINFO    \u001b[0m | \u001b[36mmagic_pdf.model.pdf_extract_kit\u001b[0m:\u001b[36m__call__\u001b[0m:\u001b[36m159\u001b[0m - \u001b[1mlayout detection cost: 6.52\u001b[0m\n"
     ]
    },
    {
     "name": "stdout",
     "output_type": "stream",
     "text": [
      "\n",
      "0: 1216x1888 36 embeddings, 1702.8ms\n",
      "Speed: 9.6ms preprocess, 1702.8ms inference, 0.5ms postprocess per image at shape (1, 3, 1216, 1888)\n"
     ]
    },
    {
     "name": "stderr",
     "output_type": "stream",
     "text": [
      "\u001b[32m2024-08-23 18:23:29.544\u001b[0m | \u001b[1mINFO    \u001b[0m | \u001b[36mmagic_pdf.model.pdf_extract_kit\u001b[0m:\u001b[36m__call__\u001b[0m:\u001b[36m189\u001b[0m - \u001b[1mformula nums: 36, mfr time: 7.53\u001b[0m\n",
      "\u001b[32m2024-08-23 18:23:29.547\u001b[0m | \u001b[1mINFO    \u001b[0m | \u001b[36mmagic_pdf.model.pdf_extract_kit\u001b[0m:\u001b[36m__call__\u001b[0m:\u001b[36m280\u001b[0m - \u001b[1m------------------table recognition processing begins-----------------\u001b[0m\n",
      "\u001b[32m2024-08-23 18:30:17.090\u001b[0m | \u001b[1mINFO    \u001b[0m | \u001b[36mmagic_pdf.model.pdf_extract_kit\u001b[0m:\u001b[36m__call__\u001b[0m:\u001b[36m284\u001b[0m - \u001b[1m------------table recognition processing ends within 407.5431399345398s-----\u001b[0m\n",
      "\u001b[32m2024-08-23 18:30:17.091\u001b[0m | \u001b[33m\u001b[1mWARNING \u001b[0m | \u001b[36mmagic_pdf.model.pdf_extract_kit\u001b[0m:\u001b[36m__call__\u001b[0m:\u001b[36m286\u001b[0m - \u001b[33m\u001b[1m------------table recognition processing exceeds max time 400s----------\u001b[0m\n",
      "\u001b[32m2024-08-23 18:30:17.092\u001b[0m | \u001b[33m\u001b[1mWARNING \u001b[0m | \u001b[36mmagic_pdf.model.pdf_extract_kit\u001b[0m:\u001b[36m__call__\u001b[0m:\u001b[36m292\u001b[0m - \u001b[33m\u001b[1m------------table recognition processing fails----------\u001b[0m\n",
      "\u001b[32m2024-08-23 18:30:17.092\u001b[0m | \u001b[1mINFO    \u001b[0m | \u001b[36mmagic_pdf.model.pdf_extract_kit\u001b[0m:\u001b[36m__call__\u001b[0m:\u001b[36m294\u001b[0m - \u001b[1mtable cost: 407.55\u001b[0m\n",
      "\u001b[32m2024-08-23 18:30:23.643\u001b[0m | \u001b[1mINFO    \u001b[0m | \u001b[36mmagic_pdf.model.pdf_extract_kit\u001b[0m:\u001b[36m__call__\u001b[0m:\u001b[36m159\u001b[0m - \u001b[1mlayout detection cost: 6.55\u001b[0m\n"
     ]
    },
    {
     "name": "stdout",
     "output_type": "stream",
     "text": [
      "\n",
      "0: 1216x1888 34 embeddings, 1670.0ms\n",
      "Speed: 8.6ms preprocess, 1670.0ms inference, 0.5ms postprocess per image at shape (1, 3, 1216, 1888)\n"
     ]
    },
    {
     "name": "stderr",
     "output_type": "stream",
     "text": [
      "\u001b[32m2024-08-23 18:30:31.255\u001b[0m | \u001b[1mINFO    \u001b[0m | \u001b[36mmagic_pdf.model.pdf_extract_kit\u001b[0m:\u001b[36m__call__\u001b[0m:\u001b[36m189\u001b[0m - \u001b[1mformula nums: 34, mfr time: 5.89\u001b[0m\n",
      "\u001b[32m2024-08-23 18:30:31.258\u001b[0m | \u001b[1mINFO    \u001b[0m | \u001b[36mmagic_pdf.model.pdf_extract_kit\u001b[0m:\u001b[36m__call__\u001b[0m:\u001b[36m280\u001b[0m - \u001b[1m------------------table recognition processing begins-----------------\u001b[0m\n",
      "\u001b[32m2024-08-23 18:37:18.380\u001b[0m | \u001b[1mINFO    \u001b[0m | \u001b[36mmagic_pdf.model.pdf_extract_kit\u001b[0m:\u001b[36m__call__\u001b[0m:\u001b[36m284\u001b[0m - \u001b[1m------------table recognition processing ends within 407.12192010879517s-----\u001b[0m\n",
      "\u001b[32m2024-08-23 18:37:18.381\u001b[0m | \u001b[33m\u001b[1mWARNING \u001b[0m | \u001b[36mmagic_pdf.model.pdf_extract_kit\u001b[0m:\u001b[36m__call__\u001b[0m:\u001b[36m286\u001b[0m - \u001b[33m\u001b[1m------------table recognition processing exceeds max time 400s----------\u001b[0m\n",
      "\u001b[32m2024-08-23 18:37:18.381\u001b[0m | \u001b[33m\u001b[1mWARNING \u001b[0m | \u001b[36mmagic_pdf.model.pdf_extract_kit\u001b[0m:\u001b[36m__call__\u001b[0m:\u001b[36m292\u001b[0m - \u001b[33m\u001b[1m------------table recognition processing fails----------\u001b[0m\n",
      "\u001b[32m2024-08-23 18:37:18.382\u001b[0m | \u001b[1mINFO    \u001b[0m | \u001b[36mmagic_pdf.model.pdf_extract_kit\u001b[0m:\u001b[36m__call__\u001b[0m:\u001b[36m294\u001b[0m - \u001b[1mtable cost: 407.12\u001b[0m\n",
      "\u001b[32m2024-08-23 18:37:25.194\u001b[0m | \u001b[1mINFO    \u001b[0m | \u001b[36mmagic_pdf.model.pdf_extract_kit\u001b[0m:\u001b[36m__call__\u001b[0m:\u001b[36m159\u001b[0m - \u001b[1mlayout detection cost: 6.81\u001b[0m\n"
     ]
    },
    {
     "name": "stdout",
     "output_type": "stream",
     "text": [
      "\n",
      "0: 1216x1888 (no detections), 1549.4ms\n",
      "Speed: 10.1ms preprocess, 1549.4ms inference, 0.4ms postprocess per image at shape (1, 3, 1216, 1888)\n"
     ]
    },
    {
     "name": "stderr",
     "output_type": "stream",
     "text": [
      "\u001b[32m2024-08-23 18:37:26.764\u001b[0m | \u001b[1mINFO    \u001b[0m | \u001b[36mmagic_pdf.model.pdf_extract_kit\u001b[0m:\u001b[36m__call__\u001b[0m:\u001b[36m189\u001b[0m - \u001b[1mformula nums: 0, mfr time: 0.0\u001b[0m\n",
      "\u001b[32m2024-08-23 18:37:26.766\u001b[0m | \u001b[1mINFO    \u001b[0m | \u001b[36mmagic_pdf.model.pdf_extract_kit\u001b[0m:\u001b[36m__call__\u001b[0m:\u001b[36m294\u001b[0m - \u001b[1mtable cost: 0.0\u001b[0m\n",
      "\u001b[32m2024-08-23 18:37:33.113\u001b[0m | \u001b[1mINFO    \u001b[0m | \u001b[36mmagic_pdf.model.pdf_extract_kit\u001b[0m:\u001b[36m__call__\u001b[0m:\u001b[36m159\u001b[0m - \u001b[1mlayout detection cost: 6.35\u001b[0m\n"
     ]
    },
    {
     "name": "stdout",
     "output_type": "stream",
     "text": [
      "\n",
      "0: 1216x1888 (no detections), 1552.4ms\n",
      "Speed: 8.7ms preprocess, 1552.4ms inference, 0.3ms postprocess per image at shape (1, 3, 1216, 1888)\n"
     ]
    },
    {
     "name": "stderr",
     "output_type": "stream",
     "text": [
      "\u001b[32m2024-08-23 18:37:34.677\u001b[0m | \u001b[1mINFO    \u001b[0m | \u001b[36mmagic_pdf.model.pdf_extract_kit\u001b[0m:\u001b[36m__call__\u001b[0m:\u001b[36m189\u001b[0m - \u001b[1mformula nums: 0, mfr time: 0.0\u001b[0m\n",
      "\u001b[32m2024-08-23 18:37:34.679\u001b[0m | \u001b[1mINFO    \u001b[0m | \u001b[36mmagic_pdf.model.pdf_extract_kit\u001b[0m:\u001b[36m__call__\u001b[0m:\u001b[36m294\u001b[0m - \u001b[1mtable cost: 0.0\u001b[0m\n",
      "\u001b[32m2024-08-23 18:37:41.018\u001b[0m | \u001b[1mINFO    \u001b[0m | \u001b[36mmagic_pdf.model.pdf_extract_kit\u001b[0m:\u001b[36m__call__\u001b[0m:\u001b[36m159\u001b[0m - \u001b[1mlayout detection cost: 6.34\u001b[0m\n"
     ]
    },
    {
     "name": "stdout",
     "output_type": "stream",
     "text": [
      "\n",
      "0: 1216x1888 3 embeddings, 1543.1ms\n",
      "Speed: 8.8ms preprocess, 1543.1ms inference, 0.6ms postprocess per image at shape (1, 3, 1216, 1888)\n"
     ]
    },
    {
     "name": "stderr",
     "output_type": "stream",
     "text": [
      "\u001b[32m2024-08-23 18:37:43.760\u001b[0m | \u001b[1mINFO    \u001b[0m | \u001b[36mmagic_pdf.model.pdf_extract_kit\u001b[0m:\u001b[36m__call__\u001b[0m:\u001b[36m189\u001b[0m - \u001b[1mformula nums: 3, mfr time: 1.18\u001b[0m\n",
      "\u001b[32m2024-08-23 18:37:43.763\u001b[0m | \u001b[1mINFO    \u001b[0m | \u001b[36mmagic_pdf.model.pdf_extract_kit\u001b[0m:\u001b[36m__call__\u001b[0m:\u001b[36m280\u001b[0m - \u001b[1m------------------table recognition processing begins-----------------\u001b[0m\n",
      "\u001b[32m2024-08-23 18:44:31.041\u001b[0m | \u001b[1mINFO    \u001b[0m | \u001b[36mmagic_pdf.model.pdf_extract_kit\u001b[0m:\u001b[36m__call__\u001b[0m:\u001b[36m284\u001b[0m - \u001b[1m------------table recognition processing ends within 407.27784299850464s-----\u001b[0m\n",
      "\u001b[32m2024-08-23 18:44:31.041\u001b[0m | \u001b[33m\u001b[1mWARNING \u001b[0m | \u001b[36mmagic_pdf.model.pdf_extract_kit\u001b[0m:\u001b[36m__call__\u001b[0m:\u001b[36m286\u001b[0m - \u001b[33m\u001b[1m------------table recognition processing exceeds max time 400s----------\u001b[0m\n",
      "\u001b[32m2024-08-23 18:44:31.042\u001b[0m | \u001b[33m\u001b[1mWARNING \u001b[0m | \u001b[36mmagic_pdf.model.pdf_extract_kit\u001b[0m:\u001b[36m__call__\u001b[0m:\u001b[36m292\u001b[0m - \u001b[33m\u001b[1m------------table recognition processing fails----------\u001b[0m\n",
      "\u001b[32m2024-08-23 18:44:31.042\u001b[0m | \u001b[1mINFO    \u001b[0m | \u001b[36mmagic_pdf.model.pdf_extract_kit\u001b[0m:\u001b[36m__call__\u001b[0m:\u001b[36m294\u001b[0m - \u001b[1mtable cost: 407.28\u001b[0m\n",
      "\u001b[32m2024-08-23 18:44:37.475\u001b[0m | \u001b[1mINFO    \u001b[0m | \u001b[36mmagic_pdf.model.pdf_extract_kit\u001b[0m:\u001b[36m__call__\u001b[0m:\u001b[36m159\u001b[0m - \u001b[1mlayout detection cost: 6.43\u001b[0m\n"
     ]
    },
    {
     "name": "stdout",
     "output_type": "stream",
     "text": [
      "\n",
      "0: 1216x1888 (no detections), 1586.4ms\n",
      "Speed: 8.3ms preprocess, 1586.4ms inference, 0.3ms postprocess per image at shape (1, 3, 1216, 1888)\n"
     ]
    },
    {
     "name": "stderr",
     "output_type": "stream",
     "text": [
      "\u001b[32m2024-08-23 18:44:39.078\u001b[0m | \u001b[1mINFO    \u001b[0m | \u001b[36mmagic_pdf.model.pdf_extract_kit\u001b[0m:\u001b[36m__call__\u001b[0m:\u001b[36m189\u001b[0m - \u001b[1mformula nums: 0, mfr time: 0.0\u001b[0m\n",
      "\u001b[32m2024-08-23 18:44:39.080\u001b[0m | \u001b[1mINFO    \u001b[0m | \u001b[36mmagic_pdf.model.pdf_extract_kit\u001b[0m:\u001b[36m__call__\u001b[0m:\u001b[36m280\u001b[0m - \u001b[1m------------------table recognition processing begins-----------------\u001b[0m\n",
      "\u001b[32m2024-08-23 18:45:37.202\u001b[0m | \u001b[1mINFO    \u001b[0m | \u001b[36mmagic_pdf.model.pdf_extract_kit\u001b[0m:\u001b[36m__call__\u001b[0m:\u001b[36m284\u001b[0m - \u001b[1m------------table recognition processing ends within 58.12211203575134s-----\u001b[0m\n",
      "\u001b[32m2024-08-23 18:45:37.203\u001b[0m | \u001b[1mINFO    \u001b[0m | \u001b[36mmagic_pdf.model.pdf_extract_kit\u001b[0m:\u001b[36m__call__\u001b[0m:\u001b[36m294\u001b[0m - \u001b[1mtable cost: 58.12\u001b[0m\n",
      "\u001b[32m2024-08-23 18:45:43.384\u001b[0m | \u001b[1mINFO    \u001b[0m | \u001b[36mmagic_pdf.model.pdf_extract_kit\u001b[0m:\u001b[36m__call__\u001b[0m:\u001b[36m159\u001b[0m - \u001b[1mlayout detection cost: 6.18\u001b[0m\n"
     ]
    },
    {
     "name": "stdout",
     "output_type": "stream",
     "text": [
      "\n",
      "0: 1216x1888 (no detections), 1585.2ms\n",
      "Speed: 9.3ms preprocess, 1585.2ms inference, 0.4ms postprocess per image at shape (1, 3, 1216, 1888)\n"
     ]
    },
    {
     "name": "stderr",
     "output_type": "stream",
     "text": [
      "\u001b[32m2024-08-23 18:45:44.982\u001b[0m | \u001b[1mINFO    \u001b[0m | \u001b[36mmagic_pdf.model.pdf_extract_kit\u001b[0m:\u001b[36m__call__\u001b[0m:\u001b[36m189\u001b[0m - \u001b[1mformula nums: 0, mfr time: 0.0\u001b[0m\n",
      "\u001b[32m2024-08-23 18:45:44.985\u001b[0m | \u001b[1mINFO    \u001b[0m | \u001b[36mmagic_pdf.model.pdf_extract_kit\u001b[0m:\u001b[36m__call__\u001b[0m:\u001b[36m280\u001b[0m - \u001b[1m------------------table recognition processing begins-----------------\u001b[0m\n",
      "\u001b[32m2024-08-23 18:50:17.952\u001b[0m | \u001b[1mINFO    \u001b[0m | \u001b[36mmagic_pdf.model.pdf_extract_kit\u001b[0m:\u001b[36m__call__\u001b[0m:\u001b[36m284\u001b[0m - \u001b[1m------------table recognition processing ends within 272.96783208847046s-----\u001b[0m\n",
      "\u001b[32m2024-08-23 18:50:17.953\u001b[0m | \u001b[1mINFO    \u001b[0m | \u001b[36mmagic_pdf.model.pdf_extract_kit\u001b[0m:\u001b[36m__call__\u001b[0m:\u001b[36m294\u001b[0m - \u001b[1mtable cost: 272.97\u001b[0m\n",
      "\u001b[32m2024-08-23 18:50:24.575\u001b[0m | \u001b[1mINFO    \u001b[0m | \u001b[36mmagic_pdf.model.pdf_extract_kit\u001b[0m:\u001b[36m__call__\u001b[0m:\u001b[36m159\u001b[0m - \u001b[1mlayout detection cost: 6.62\u001b[0m\n"
     ]
    },
    {
     "name": "stdout",
     "output_type": "stream",
     "text": [
      "\n",
      "0: 1216x1888 (no detections), 1631.8ms\n",
      "Speed: 10.2ms preprocess, 1631.8ms inference, 0.3ms postprocess per image at shape (1, 3, 1216, 1888)\n"
     ]
    },
    {
     "name": "stderr",
     "output_type": "stream",
     "text": [
      "\u001b[32m2024-08-23 18:50:26.225\u001b[0m | \u001b[1mINFO    \u001b[0m | \u001b[36mmagic_pdf.model.pdf_extract_kit\u001b[0m:\u001b[36m__call__\u001b[0m:\u001b[36m189\u001b[0m - \u001b[1mformula nums: 0, mfr time: 0.0\u001b[0m\n",
      "\u001b[32m2024-08-23 18:50:26.228\u001b[0m | \u001b[1mINFO    \u001b[0m | \u001b[36mmagic_pdf.model.pdf_extract_kit\u001b[0m:\u001b[36m__call__\u001b[0m:\u001b[36m280\u001b[0m - \u001b[1m------------------table recognition processing begins-----------------\u001b[0m\n",
      "\u001b[32m2024-08-23 18:55:10.629\u001b[0m | \u001b[1mINFO    \u001b[0m | \u001b[36mmagic_pdf.model.pdf_extract_kit\u001b[0m:\u001b[36m__call__\u001b[0m:\u001b[36m284\u001b[0m - \u001b[1m------------table recognition processing ends within 284.4011552333832s-----\u001b[0m\n",
      "\u001b[32m2024-08-23 18:55:10.630\u001b[0m | \u001b[1mINFO    \u001b[0m | \u001b[36mmagic_pdf.model.pdf_extract_kit\u001b[0m:\u001b[36m__call__\u001b[0m:\u001b[36m294\u001b[0m - \u001b[1mtable cost: 284.4\u001b[0m\n",
      "\u001b[32m2024-08-23 18:55:17.036\u001b[0m | \u001b[1mINFO    \u001b[0m | \u001b[36mmagic_pdf.model.pdf_extract_kit\u001b[0m:\u001b[36m__call__\u001b[0m:\u001b[36m159\u001b[0m - \u001b[1mlayout detection cost: 6.41\u001b[0m\n"
     ]
    },
    {
     "name": "stdout",
     "output_type": "stream",
     "text": [
      "\n",
      "0: 1216x1888 (no detections), 1538.3ms\n",
      "Speed: 9.5ms preprocess, 1538.3ms inference, 0.3ms postprocess per image at shape (1, 3, 1216, 1888)\n"
     ]
    },
    {
     "name": "stderr",
     "output_type": "stream",
     "text": [
      "\u001b[32m2024-08-23 18:55:18.588\u001b[0m | \u001b[1mINFO    \u001b[0m | \u001b[36mmagic_pdf.model.pdf_extract_kit\u001b[0m:\u001b[36m__call__\u001b[0m:\u001b[36m189\u001b[0m - \u001b[1mformula nums: 0, mfr time: 0.0\u001b[0m\n",
      "\u001b[32m2024-08-23 18:55:18.590\u001b[0m | \u001b[1mINFO    \u001b[0m | \u001b[36mmagic_pdf.model.pdf_extract_kit\u001b[0m:\u001b[36m__call__\u001b[0m:\u001b[36m280\u001b[0m - \u001b[1m------------------table recognition processing begins-----------------\u001b[0m\n",
      "\u001b[32m2024-08-23 19:02:05.920\u001b[0m | \u001b[1mINFO    \u001b[0m | \u001b[36mmagic_pdf.model.pdf_extract_kit\u001b[0m:\u001b[36m__call__\u001b[0m:\u001b[36m284\u001b[0m - \u001b[1m------------table recognition processing ends within 407.3299901485443s-----\u001b[0m\n",
      "\u001b[32m2024-08-23 19:02:05.921\u001b[0m | \u001b[33m\u001b[1mWARNING \u001b[0m | \u001b[36mmagic_pdf.model.pdf_extract_kit\u001b[0m:\u001b[36m__call__\u001b[0m:\u001b[36m286\u001b[0m - \u001b[33m\u001b[1m------------table recognition processing exceeds max time 400s----------\u001b[0m\n",
      "\u001b[32m2024-08-23 19:02:05.921\u001b[0m | \u001b[33m\u001b[1mWARNING \u001b[0m | \u001b[36mmagic_pdf.model.pdf_extract_kit\u001b[0m:\u001b[36m__call__\u001b[0m:\u001b[36m292\u001b[0m - \u001b[33m\u001b[1m------------table recognition processing fails----------\u001b[0m\n",
      "\u001b[32m2024-08-23 19:02:05.922\u001b[0m | \u001b[1mINFO    \u001b[0m | \u001b[36mmagic_pdf.model.pdf_extract_kit\u001b[0m:\u001b[36m__call__\u001b[0m:\u001b[36m294\u001b[0m - \u001b[1mtable cost: 407.33\u001b[0m\n",
      "\u001b[32m2024-08-23 19:02:12.649\u001b[0m | \u001b[1mINFO    \u001b[0m | \u001b[36mmagic_pdf.model.pdf_extract_kit\u001b[0m:\u001b[36m__call__\u001b[0m:\u001b[36m159\u001b[0m - \u001b[1mlayout detection cost: 6.73\u001b[0m\n"
     ]
    },
    {
     "name": "stdout",
     "output_type": "stream",
     "text": [
      "\n",
      "0: 1216x1888 1 embedding, 1663.7ms\n",
      "Speed: 9.7ms preprocess, 1663.7ms inference, 0.5ms postprocess per image at shape (1, 3, 1216, 1888)\n"
     ]
    },
    {
     "name": "stderr",
     "output_type": "stream",
     "text": [
      "\u001b[32m2024-08-23 19:02:14.894\u001b[0m | \u001b[1mINFO    \u001b[0m | \u001b[36mmagic_pdf.model.pdf_extract_kit\u001b[0m:\u001b[36m__call__\u001b[0m:\u001b[36m189\u001b[0m - \u001b[1mformula nums: 1, mfr time: 0.56\u001b[0m\n",
      "\u001b[32m2024-08-23 19:02:14.896\u001b[0m | \u001b[1mINFO    \u001b[0m | \u001b[36mmagic_pdf.model.pdf_extract_kit\u001b[0m:\u001b[36m__call__\u001b[0m:\u001b[36m294\u001b[0m - \u001b[1mtable cost: 0.0\u001b[0m\n",
      "\u001b[32m2024-08-23 19:02:21.377\u001b[0m | \u001b[1mINFO    \u001b[0m | \u001b[36mmagic_pdf.model.pdf_extract_kit\u001b[0m:\u001b[36m__call__\u001b[0m:\u001b[36m159\u001b[0m - \u001b[1mlayout detection cost: 6.48\u001b[0m\n"
     ]
    },
    {
     "name": "stdout",
     "output_type": "stream",
     "text": [
      "\n",
      "0: 1216x1888 (no detections), 1557.7ms\n",
      "Speed: 10.3ms preprocess, 1557.7ms inference, 0.3ms postprocess per image at shape (1, 3, 1216, 1888)\n"
     ]
    },
    {
     "name": "stderr",
     "output_type": "stream",
     "text": [
      "\u001b[32m2024-08-23 19:02:22.948\u001b[0m | \u001b[1mINFO    \u001b[0m | \u001b[36mmagic_pdf.model.pdf_extract_kit\u001b[0m:\u001b[36m__call__\u001b[0m:\u001b[36m189\u001b[0m - \u001b[1mformula nums: 0, mfr time: 0.0\u001b[0m\n",
      "\u001b[32m2024-08-23 19:02:22.950\u001b[0m | \u001b[1mINFO    \u001b[0m | \u001b[36mmagic_pdf.model.pdf_extract_kit\u001b[0m:\u001b[36m__call__\u001b[0m:\u001b[36m294\u001b[0m - \u001b[1mtable cost: 0.0\u001b[0m\n",
      "\u001b[32m2024-08-23 19:02:29.436\u001b[0m | \u001b[1mINFO    \u001b[0m | \u001b[36mmagic_pdf.model.pdf_extract_kit\u001b[0m:\u001b[36m__call__\u001b[0m:\u001b[36m159\u001b[0m - \u001b[1mlayout detection cost: 6.49\u001b[0m\n"
     ]
    },
    {
     "name": "stdout",
     "output_type": "stream",
     "text": [
      "\n",
      "0: 1216x1888 (no detections), 1593.9ms\n",
      "Speed: 8.6ms preprocess, 1593.9ms inference, 0.3ms postprocess per image at shape (1, 3, 1216, 1888)\n"
     ]
    },
    {
     "name": "stderr",
     "output_type": "stream",
     "text": [
      "\u001b[32m2024-08-23 19:02:31.042\u001b[0m | \u001b[1mINFO    \u001b[0m | \u001b[36mmagic_pdf.model.pdf_extract_kit\u001b[0m:\u001b[36m__call__\u001b[0m:\u001b[36m189\u001b[0m - \u001b[1mformula nums: 0, mfr time: 0.0\u001b[0m\n",
      "\u001b[32m2024-08-23 19:02:31.043\u001b[0m | \u001b[1mINFO    \u001b[0m | \u001b[36mmagic_pdf.model.pdf_extract_kit\u001b[0m:\u001b[36m__call__\u001b[0m:\u001b[36m294\u001b[0m - \u001b[1mtable cost: 0.0\u001b[0m\n",
      "\u001b[32m2024-08-23 19:02:37.493\u001b[0m | \u001b[1mINFO    \u001b[0m | \u001b[36mmagic_pdf.model.pdf_extract_kit\u001b[0m:\u001b[36m__call__\u001b[0m:\u001b[36m159\u001b[0m - \u001b[1mlayout detection cost: 6.45\u001b[0m\n"
     ]
    },
    {
     "name": "stdout",
     "output_type": "stream",
     "text": [
      "\n",
      "0: 1216x1888 (no detections), 1579.3ms\n",
      "Speed: 8.6ms preprocess, 1579.3ms inference, 0.3ms postprocess per image at shape (1, 3, 1216, 1888)\n"
     ]
    },
    {
     "name": "stderr",
     "output_type": "stream",
     "text": [
      "\u001b[32m2024-08-23 19:02:39.083\u001b[0m | \u001b[1mINFO    \u001b[0m | \u001b[36mmagic_pdf.model.pdf_extract_kit\u001b[0m:\u001b[36m__call__\u001b[0m:\u001b[36m189\u001b[0m - \u001b[1mformula nums: 0, mfr time: 0.0\u001b[0m\n",
      "\u001b[32m2024-08-23 19:02:39.085\u001b[0m | \u001b[1mINFO    \u001b[0m | \u001b[36mmagic_pdf.model.pdf_extract_kit\u001b[0m:\u001b[36m__call__\u001b[0m:\u001b[36m294\u001b[0m - \u001b[1mtable cost: 0.0\u001b[0m\n",
      "\u001b[32m2024-08-23 19:02:45.584\u001b[0m | \u001b[1mINFO    \u001b[0m | \u001b[36mmagic_pdf.model.pdf_extract_kit\u001b[0m:\u001b[36m__call__\u001b[0m:\u001b[36m159\u001b[0m - \u001b[1mlayout detection cost: 6.5\u001b[0m\n"
     ]
    },
    {
     "name": "stdout",
     "output_type": "stream",
     "text": [
      "\n",
      "0: 1216x1888 (no detections), 1557.6ms\n",
      "Speed: 9.8ms preprocess, 1557.6ms inference, 0.3ms postprocess per image at shape (1, 3, 1216, 1888)\n"
     ]
    },
    {
     "name": "stderr",
     "output_type": "stream",
     "text": [
      "\u001b[32m2024-08-23 19:02:47.154\u001b[0m | \u001b[1mINFO    \u001b[0m | \u001b[36mmagic_pdf.model.pdf_extract_kit\u001b[0m:\u001b[36m__call__\u001b[0m:\u001b[36m189\u001b[0m - \u001b[1mformula nums: 0, mfr time: 0.0\u001b[0m\n",
      "\u001b[32m2024-08-23 19:02:47.156\u001b[0m | \u001b[1mINFO    \u001b[0m | \u001b[36mmagic_pdf.model.pdf_extract_kit\u001b[0m:\u001b[36m__call__\u001b[0m:\u001b[36m294\u001b[0m - \u001b[1mtable cost: 0.0\u001b[0m\n",
      "\u001b[32m2024-08-23 19:02:53.589\u001b[0m | \u001b[1mINFO    \u001b[0m | \u001b[36mmagic_pdf.model.pdf_extract_kit\u001b[0m:\u001b[36m__call__\u001b[0m:\u001b[36m159\u001b[0m - \u001b[1mlayout detection cost: 6.43\u001b[0m\n"
     ]
    },
    {
     "name": "stdout",
     "output_type": "stream",
     "text": [
      "\n",
      "0: 1216x1888 2 embeddings, 1571.6ms\n",
      "Speed: 8.6ms preprocess, 1571.6ms inference, 0.5ms postprocess per image at shape (1, 3, 1216, 1888)\n"
     ]
    },
    {
     "name": "stderr",
     "output_type": "stream",
     "text": [
      "\u001b[32m2024-08-23 19:02:55.653\u001b[0m | \u001b[1mINFO    \u001b[0m | \u001b[36mmagic_pdf.model.pdf_extract_kit\u001b[0m:\u001b[36m__call__\u001b[0m:\u001b[36m189\u001b[0m - \u001b[1mformula nums: 2, mfr time: 0.48\u001b[0m\n",
      "\u001b[32m2024-08-23 19:02:55.655\u001b[0m | \u001b[1mINFO    \u001b[0m | \u001b[36mmagic_pdf.model.pdf_extract_kit\u001b[0m:\u001b[36m__call__\u001b[0m:\u001b[36m294\u001b[0m - \u001b[1mtable cost: 0.0\u001b[0m\n",
      "\u001b[32m2024-08-23 19:03:02.036\u001b[0m | \u001b[1mINFO    \u001b[0m | \u001b[36mmagic_pdf.model.pdf_extract_kit\u001b[0m:\u001b[36m__call__\u001b[0m:\u001b[36m159\u001b[0m - \u001b[1mlayout detection cost: 6.38\u001b[0m\n"
     ]
    },
    {
     "name": "stdout",
     "output_type": "stream",
     "text": [
      "\n",
      "0: 1216x1888 1 embedding, 1570.2ms\n",
      "Speed: 10.0ms preprocess, 1570.2ms inference, 0.5ms postprocess per image at shape (1, 3, 1216, 1888)\n"
     ]
    },
    {
     "name": "stderr",
     "output_type": "stream",
     "text": [
      "\u001b[32m2024-08-23 19:03:03.855\u001b[0m | \u001b[1mINFO    \u001b[0m | \u001b[36mmagic_pdf.model.pdf_extract_kit\u001b[0m:\u001b[36m__call__\u001b[0m:\u001b[36m189\u001b[0m - \u001b[1mformula nums: 1, mfr time: 0.23\u001b[0m\n",
      "\u001b[32m2024-08-23 19:03:03.857\u001b[0m | \u001b[1mINFO    \u001b[0m | \u001b[36mmagic_pdf.model.pdf_extract_kit\u001b[0m:\u001b[36m__call__\u001b[0m:\u001b[36m294\u001b[0m - \u001b[1mtable cost: 0.0\u001b[0m\n",
      "\u001b[32m2024-08-23 19:03:10.267\u001b[0m | \u001b[1mINFO    \u001b[0m | \u001b[36mmagic_pdf.model.pdf_extract_kit\u001b[0m:\u001b[36m__call__\u001b[0m:\u001b[36m159\u001b[0m - \u001b[1mlayout detection cost: 6.41\u001b[0m\n"
     ]
    },
    {
     "name": "stdout",
     "output_type": "stream",
     "text": [
      "\n",
      "0: 1216x1888 1 embedding, 1564.1ms\n",
      "Speed: 10.0ms preprocess, 1564.1ms inference, 0.6ms postprocess per image at shape (1, 3, 1216, 1888)\n"
     ]
    },
    {
     "name": "stderr",
     "output_type": "stream",
     "text": [
      "\u001b[32m2024-08-23 19:03:12.082\u001b[0m | \u001b[1mINFO    \u001b[0m | \u001b[36mmagic_pdf.model.pdf_extract_kit\u001b[0m:\u001b[36m__call__\u001b[0m:\u001b[36m189\u001b[0m - \u001b[1mformula nums: 1, mfr time: 0.24\u001b[0m\n",
      "\u001b[32m2024-08-23 19:03:12.085\u001b[0m | \u001b[1mINFO    \u001b[0m | \u001b[36mmagic_pdf.model.pdf_extract_kit\u001b[0m:\u001b[36m__call__\u001b[0m:\u001b[36m294\u001b[0m - \u001b[1mtable cost: 0.0\u001b[0m\n",
      "\u001b[32m2024-08-23 19:03:18.615\u001b[0m | \u001b[1mINFO    \u001b[0m | \u001b[36mmagic_pdf.model.pdf_extract_kit\u001b[0m:\u001b[36m__call__\u001b[0m:\u001b[36m159\u001b[0m - \u001b[1mlayout detection cost: 6.53\u001b[0m\n"
     ]
    },
    {
     "name": "stdout",
     "output_type": "stream",
     "text": [
      "\n",
      "0: 1216x1888 (no detections), 1553.2ms\n",
      "Speed: 8.7ms preprocess, 1553.2ms inference, 0.3ms postprocess per image at shape (1, 3, 1216, 1888)\n"
     ]
    },
    {
     "name": "stderr",
     "output_type": "stream",
     "text": [
      "\u001b[32m2024-08-23 19:03:20.180\u001b[0m | \u001b[1mINFO    \u001b[0m | \u001b[36mmagic_pdf.model.pdf_extract_kit\u001b[0m:\u001b[36m__call__\u001b[0m:\u001b[36m189\u001b[0m - \u001b[1mformula nums: 0, mfr time: 0.0\u001b[0m\n",
      "\u001b[32m2024-08-23 19:03:20.182\u001b[0m | \u001b[1mINFO    \u001b[0m | \u001b[36mmagic_pdf.model.pdf_extract_kit\u001b[0m:\u001b[36m__call__\u001b[0m:\u001b[36m294\u001b[0m - \u001b[1mtable cost: 0.0\u001b[0m\n",
      "\u001b[32m2024-08-23 19:03:26.669\u001b[0m | \u001b[1mINFO    \u001b[0m | \u001b[36mmagic_pdf.model.pdf_extract_kit\u001b[0m:\u001b[36m__call__\u001b[0m:\u001b[36m159\u001b[0m - \u001b[1mlayout detection cost: 6.49\u001b[0m\n"
     ]
    },
    {
     "name": "stdout",
     "output_type": "stream",
     "text": [
      "\n",
      "0: 1216x1888 5 embeddings, 1589.5ms\n",
      "Speed: 9.8ms preprocess, 1589.5ms inference, 0.6ms postprocess per image at shape (1, 3, 1216, 1888)\n"
     ]
    },
    {
     "name": "stderr",
     "output_type": "stream",
     "text": [
      "\u001b[32m2024-08-23 19:03:29.487\u001b[0m | \u001b[1mINFO    \u001b[0m | \u001b[36mmagic_pdf.model.pdf_extract_kit\u001b[0m:\u001b[36m__call__\u001b[0m:\u001b[36m189\u001b[0m - \u001b[1mformula nums: 5, mfr time: 1.21\u001b[0m\n",
      "\u001b[32m2024-08-23 19:03:29.489\u001b[0m | \u001b[1mINFO    \u001b[0m | \u001b[36mmagic_pdf.model.pdf_extract_kit\u001b[0m:\u001b[36m__call__\u001b[0m:\u001b[36m294\u001b[0m - \u001b[1mtable cost: 0.0\u001b[0m\n",
      "\u001b[32m2024-08-23 19:03:36.401\u001b[0m | \u001b[1mINFO    \u001b[0m | \u001b[36mmagic_pdf.model.pdf_extract_kit\u001b[0m:\u001b[36m__call__\u001b[0m:\u001b[36m159\u001b[0m - \u001b[1mlayout detection cost: 6.91\u001b[0m\n"
     ]
    },
    {
     "name": "stdout",
     "output_type": "stream",
     "text": [
      "\n",
      "0: 1216x1888 (no detections), 1591.6ms\n",
      "Speed: 9.6ms preprocess, 1591.6ms inference, 0.3ms postprocess per image at shape (1, 3, 1216, 1888)\n"
     ]
    },
    {
     "name": "stderr",
     "output_type": "stream",
     "text": [
      "\u001b[32m2024-08-23 19:03:38.005\u001b[0m | \u001b[1mINFO    \u001b[0m | \u001b[36mmagic_pdf.model.pdf_extract_kit\u001b[0m:\u001b[36m__call__\u001b[0m:\u001b[36m189\u001b[0m - \u001b[1mformula nums: 0, mfr time: 0.0\u001b[0m\n",
      "\u001b[32m2024-08-23 19:03:38.007\u001b[0m | \u001b[1mINFO    \u001b[0m | \u001b[36mmagic_pdf.model.pdf_extract_kit\u001b[0m:\u001b[36m__call__\u001b[0m:\u001b[36m294\u001b[0m - \u001b[1mtable cost: 0.0\u001b[0m\n",
      "\u001b[32m2024-08-23 19:03:44.486\u001b[0m | \u001b[1mINFO    \u001b[0m | \u001b[36mmagic_pdf.model.pdf_extract_kit\u001b[0m:\u001b[36m__call__\u001b[0m:\u001b[36m159\u001b[0m - \u001b[1mlayout detection cost: 6.48\u001b[0m\n"
     ]
    },
    {
     "name": "stdout",
     "output_type": "stream",
     "text": [
      "\n",
      "0: 1216x1888 (no detections), 1558.5ms\n",
      "Speed: 8.8ms preprocess, 1558.5ms inference, 0.3ms postprocess per image at shape (1, 3, 1216, 1888)\n"
     ]
    },
    {
     "name": "stderr",
     "output_type": "stream",
     "text": [
      "\u001b[32m2024-08-23 19:03:46.057\u001b[0m | \u001b[1mINFO    \u001b[0m | \u001b[36mmagic_pdf.model.pdf_extract_kit\u001b[0m:\u001b[36m__call__\u001b[0m:\u001b[36m189\u001b[0m - \u001b[1mformula nums: 0, mfr time: 0.0\u001b[0m\n",
      "\u001b[32m2024-08-23 19:03:46.058\u001b[0m | \u001b[1mINFO    \u001b[0m | \u001b[36mmagic_pdf.model.pdf_extract_kit\u001b[0m:\u001b[36m__call__\u001b[0m:\u001b[36m294\u001b[0m - \u001b[1mtable cost: 0.0\u001b[0m\n",
      "\u001b[32m2024-08-23 19:03:52.581\u001b[0m | \u001b[1mINFO    \u001b[0m | \u001b[36mmagic_pdf.model.pdf_extract_kit\u001b[0m:\u001b[36m__call__\u001b[0m:\u001b[36m159\u001b[0m - \u001b[1mlayout detection cost: 6.52\u001b[0m\n"
     ]
    },
    {
     "name": "stdout",
     "output_type": "stream",
     "text": [
      "\n",
      "0: 1216x1888 (no detections), 1548.5ms\n",
      "Speed: 8.7ms preprocess, 1548.5ms inference, 0.3ms postprocess per image at shape (1, 3, 1216, 1888)\n"
     ]
    },
    {
     "name": "stderr",
     "output_type": "stream",
     "text": [
      "\u001b[32m2024-08-23 19:03:54.142\u001b[0m | \u001b[1mINFO    \u001b[0m | \u001b[36mmagic_pdf.model.pdf_extract_kit\u001b[0m:\u001b[36m__call__\u001b[0m:\u001b[36m189\u001b[0m - \u001b[1mformula nums: 0, mfr time: 0.0\u001b[0m\n",
      "\u001b[32m2024-08-23 19:03:54.144\u001b[0m | \u001b[1mINFO    \u001b[0m | \u001b[36mmagic_pdf.model.pdf_extract_kit\u001b[0m:\u001b[36m__call__\u001b[0m:\u001b[36m294\u001b[0m - \u001b[1mtable cost: 0.0\u001b[0m\n",
      "\u001b[32m2024-08-23 19:04:00.649\u001b[0m | \u001b[1mINFO    \u001b[0m | \u001b[36mmagic_pdf.model.pdf_extract_kit\u001b[0m:\u001b[36m__call__\u001b[0m:\u001b[36m159\u001b[0m - \u001b[1mlayout detection cost: 6.5\u001b[0m\n"
     ]
    },
    {
     "name": "stdout",
     "output_type": "stream",
     "text": [
      "\n",
      "0: 1216x1888 (no detections), 1618.3ms\n",
      "Speed: 9.6ms preprocess, 1618.3ms inference, 0.3ms postprocess per image at shape (1, 3, 1216, 1888)\n"
     ]
    },
    {
     "name": "stderr",
     "output_type": "stream",
     "text": [
      "\u001b[32m2024-08-23 19:04:02.279\u001b[0m | \u001b[1mINFO    \u001b[0m | \u001b[36mmagic_pdf.model.pdf_extract_kit\u001b[0m:\u001b[36m__call__\u001b[0m:\u001b[36m189\u001b[0m - \u001b[1mformula nums: 0, mfr time: 0.0\u001b[0m\n",
      "\u001b[32m2024-08-23 19:04:02.281\u001b[0m | \u001b[1mINFO    \u001b[0m | \u001b[36mmagic_pdf.model.pdf_extract_kit\u001b[0m:\u001b[36m__call__\u001b[0m:\u001b[36m294\u001b[0m - \u001b[1mtable cost: 0.0\u001b[0m\n",
      "\u001b[32m2024-08-23 19:04:08.810\u001b[0m | \u001b[1mINFO    \u001b[0m | \u001b[36mmagic_pdf.model.pdf_extract_kit\u001b[0m:\u001b[36m__call__\u001b[0m:\u001b[36m159\u001b[0m - \u001b[1mlayout detection cost: 6.53\u001b[0m\n"
     ]
    },
    {
     "name": "stdout",
     "output_type": "stream",
     "text": [
      "\n",
      "0: 1216x1888 (no detections), 1613.9ms\n",
      "Speed: 9.5ms preprocess, 1613.9ms inference, 0.3ms postprocess per image at shape (1, 3, 1216, 1888)\n"
     ]
    },
    {
     "name": "stderr",
     "output_type": "stream",
     "text": [
      "\u001b[32m2024-08-23 19:04:10.437\u001b[0m | \u001b[1mINFO    \u001b[0m | \u001b[36mmagic_pdf.model.pdf_extract_kit\u001b[0m:\u001b[36m__call__\u001b[0m:\u001b[36m189\u001b[0m - \u001b[1mformula nums: 0, mfr time: 0.0\u001b[0m\n",
      "\u001b[32m2024-08-23 19:04:10.438\u001b[0m | \u001b[1mINFO    \u001b[0m | \u001b[36mmagic_pdf.model.pdf_extract_kit\u001b[0m:\u001b[36m__call__\u001b[0m:\u001b[36m294\u001b[0m - \u001b[1mtable cost: 0.0\u001b[0m\n",
      "\u001b[32m2024-08-23 19:04:16.745\u001b[0m | \u001b[1mINFO    \u001b[0m | \u001b[36mmagic_pdf.model.pdf_extract_kit\u001b[0m:\u001b[36m__call__\u001b[0m:\u001b[36m159\u001b[0m - \u001b[1mlayout detection cost: 6.31\u001b[0m\n"
     ]
    },
    {
     "name": "stdout",
     "output_type": "stream",
     "text": [
      "\n",
      "0: 1216x1888 (no detections), 1528.4ms\n",
      "Speed: 9.3ms preprocess, 1528.4ms inference, 0.3ms postprocess per image at shape (1, 3, 1216, 1888)\n"
     ]
    },
    {
     "name": "stderr",
     "output_type": "stream",
     "text": [
      "\u001b[32m2024-08-23 19:04:18.285\u001b[0m | \u001b[1mINFO    \u001b[0m | \u001b[36mmagic_pdf.model.pdf_extract_kit\u001b[0m:\u001b[36m__call__\u001b[0m:\u001b[36m189\u001b[0m - \u001b[1mformula nums: 0, mfr time: 0.0\u001b[0m\n",
      "\u001b[32m2024-08-23 19:04:18.287\u001b[0m | \u001b[1mINFO    \u001b[0m | \u001b[36mmagic_pdf.model.pdf_extract_kit\u001b[0m:\u001b[36m__call__\u001b[0m:\u001b[36m294\u001b[0m - \u001b[1mtable cost: 0.0\u001b[0m\n",
      "\u001b[32m2024-08-23 19:04:24.753\u001b[0m | \u001b[1mINFO    \u001b[0m | \u001b[36mmagic_pdf.model.pdf_extract_kit\u001b[0m:\u001b[36m__call__\u001b[0m:\u001b[36m159\u001b[0m - \u001b[1mlayout detection cost: 6.46\u001b[0m\n"
     ]
    },
    {
     "name": "stdout",
     "output_type": "stream",
     "text": [
      "\n",
      "0: 1216x1888 2 embeddings, 1614.2ms\n",
      "Speed: 8.7ms preprocess, 1614.2ms inference, 0.5ms postprocess per image at shape (1, 3, 1216, 1888)\n"
     ]
    },
    {
     "name": "stderr",
     "output_type": "stream",
     "text": [
      "\u001b[32m2024-08-23 19:04:26.838\u001b[0m | \u001b[1mINFO    \u001b[0m | \u001b[36mmagic_pdf.model.pdf_extract_kit\u001b[0m:\u001b[36m__call__\u001b[0m:\u001b[36m189\u001b[0m - \u001b[1mformula nums: 2, mfr time: 0.46\u001b[0m\n",
      "\u001b[32m2024-08-23 19:04:26.840\u001b[0m | \u001b[1mINFO    \u001b[0m | \u001b[36mmagic_pdf.model.pdf_extract_kit\u001b[0m:\u001b[36m__call__\u001b[0m:\u001b[36m294\u001b[0m - \u001b[1mtable cost: 0.0\u001b[0m\n",
      "\u001b[32m2024-08-23 19:04:33.419\u001b[0m | \u001b[1mINFO    \u001b[0m | \u001b[36mmagic_pdf.model.pdf_extract_kit\u001b[0m:\u001b[36m__call__\u001b[0m:\u001b[36m159\u001b[0m - \u001b[1mlayout detection cost: 6.58\u001b[0m\n"
     ]
    },
    {
     "name": "stdout",
     "output_type": "stream",
     "text": [
      "\n",
      "0: 1216x1888 (no detections), 1579.0ms\n",
      "Speed: 9.8ms preprocess, 1579.0ms inference, 0.4ms postprocess per image at shape (1, 3, 1216, 1888)\n"
     ]
    },
    {
     "name": "stderr",
     "output_type": "stream",
     "text": [
      "\u001b[32m2024-08-23 19:04:35.010\u001b[0m | \u001b[1mINFO    \u001b[0m | \u001b[36mmagic_pdf.model.pdf_extract_kit\u001b[0m:\u001b[36m__call__\u001b[0m:\u001b[36m189\u001b[0m - \u001b[1mformula nums: 0, mfr time: 0.0\u001b[0m\n",
      "\u001b[32m2024-08-23 19:04:35.012\u001b[0m | \u001b[1mINFO    \u001b[0m | \u001b[36mmagic_pdf.model.pdf_extract_kit\u001b[0m:\u001b[36m__call__\u001b[0m:\u001b[36m294\u001b[0m - \u001b[1mtable cost: 0.0\u001b[0m\n",
      "\u001b[32m2024-08-23 19:04:41.489\u001b[0m | \u001b[1mINFO    \u001b[0m | \u001b[36mmagic_pdf.model.pdf_extract_kit\u001b[0m:\u001b[36m__call__\u001b[0m:\u001b[36m159\u001b[0m - \u001b[1mlayout detection cost: 6.48\u001b[0m\n"
     ]
    },
    {
     "name": "stdout",
     "output_type": "stream",
     "text": [
      "\n",
      "0: 1216x1888 (no detections), 1626.3ms\n",
      "Speed: 9.8ms preprocess, 1626.3ms inference, 0.3ms postprocess per image at shape (1, 3, 1216, 1888)\n"
     ]
    },
    {
     "name": "stderr",
     "output_type": "stream",
     "text": [
      "\u001b[32m2024-08-23 19:04:43.128\u001b[0m | \u001b[1mINFO    \u001b[0m | \u001b[36mmagic_pdf.model.pdf_extract_kit\u001b[0m:\u001b[36m__call__\u001b[0m:\u001b[36m189\u001b[0m - \u001b[1mformula nums: 0, mfr time: 0.0\u001b[0m\n",
      "\u001b[32m2024-08-23 19:04:43.130\u001b[0m | \u001b[1mINFO    \u001b[0m | \u001b[36mmagic_pdf.model.pdf_extract_kit\u001b[0m:\u001b[36m__call__\u001b[0m:\u001b[36m294\u001b[0m - \u001b[1mtable cost: 0.0\u001b[0m\n",
      "\u001b[32m2024-08-23 19:04:49.636\u001b[0m | \u001b[1mINFO    \u001b[0m | \u001b[36mmagic_pdf.model.pdf_extract_kit\u001b[0m:\u001b[36m__call__\u001b[0m:\u001b[36m159\u001b[0m - \u001b[1mlayout detection cost: 6.51\u001b[0m\n"
     ]
    },
    {
     "name": "stdout",
     "output_type": "stream",
     "text": [
      "\n",
      "0: 1216x1888 (no detections), 1563.4ms\n",
      "Speed: 9.5ms preprocess, 1563.4ms inference, 0.3ms postprocess per image at shape (1, 3, 1216, 1888)\n"
     ]
    },
    {
     "name": "stderr",
     "output_type": "stream",
     "text": [
      "\u001b[32m2024-08-23 19:04:51.212\u001b[0m | \u001b[1mINFO    \u001b[0m | \u001b[36mmagic_pdf.model.pdf_extract_kit\u001b[0m:\u001b[36m__call__\u001b[0m:\u001b[36m189\u001b[0m - \u001b[1mformula nums: 0, mfr time: 0.0\u001b[0m\n",
      "\u001b[32m2024-08-23 19:04:51.213\u001b[0m | \u001b[1mINFO    \u001b[0m | \u001b[36mmagic_pdf.model.pdf_extract_kit\u001b[0m:\u001b[36m__call__\u001b[0m:\u001b[36m294\u001b[0m - \u001b[1mtable cost: 0.0\u001b[0m\n",
      "\u001b[32m2024-08-23 19:04:57.794\u001b[0m | \u001b[1mINFO    \u001b[0m | \u001b[36mmagic_pdf.model.pdf_extract_kit\u001b[0m:\u001b[36m__call__\u001b[0m:\u001b[36m159\u001b[0m - \u001b[1mlayout detection cost: 6.58\u001b[0m\n"
     ]
    },
    {
     "name": "stdout",
     "output_type": "stream",
     "text": [
      "\n",
      "0: 1216x1888 (no detections), 1557.7ms\n",
      "Speed: 10.0ms preprocess, 1557.7ms inference, 0.4ms postprocess per image at shape (1, 3, 1216, 1888)\n"
     ]
    },
    {
     "name": "stderr",
     "output_type": "stream",
     "text": [
      "\u001b[32m2024-08-23 19:04:59.365\u001b[0m | \u001b[1mINFO    \u001b[0m | \u001b[36mmagic_pdf.model.pdf_extract_kit\u001b[0m:\u001b[36m__call__\u001b[0m:\u001b[36m189\u001b[0m - \u001b[1mformula nums: 0, mfr time: 0.0\u001b[0m\n",
      "\u001b[32m2024-08-23 19:04:59.366\u001b[0m | \u001b[1mINFO    \u001b[0m | \u001b[36mmagic_pdf.model.pdf_extract_kit\u001b[0m:\u001b[36m__call__\u001b[0m:\u001b[36m294\u001b[0m - \u001b[1mtable cost: 0.0\u001b[0m\n",
      "\u001b[32m2024-08-23 19:05:05.526\u001b[0m | \u001b[1mINFO    \u001b[0m | \u001b[36mmagic_pdf.model.pdf_extract_kit\u001b[0m:\u001b[36m__call__\u001b[0m:\u001b[36m159\u001b[0m - \u001b[1mlayout detection cost: 6.16\u001b[0m\n"
     ]
    },
    {
     "name": "stdout",
     "output_type": "stream",
     "text": [
      "\n",
      "0: 1216x1888 (no detections), 1534.5ms\n",
      "Speed: 9.4ms preprocess, 1534.5ms inference, 0.6ms postprocess per image at shape (1, 3, 1216, 1888)\n"
     ]
    },
    {
     "name": "stderr",
     "output_type": "stream",
     "text": [
      "\u001b[32m2024-08-23 19:05:07.074\u001b[0m | \u001b[1mINFO    \u001b[0m | \u001b[36mmagic_pdf.model.pdf_extract_kit\u001b[0m:\u001b[36m__call__\u001b[0m:\u001b[36m189\u001b[0m - \u001b[1mformula nums: 0, mfr time: 0.0\u001b[0m\n",
      "\u001b[32m2024-08-23 19:05:07.076\u001b[0m | \u001b[1mINFO    \u001b[0m | \u001b[36mmagic_pdf.model.pdf_extract_kit\u001b[0m:\u001b[36m__call__\u001b[0m:\u001b[36m294\u001b[0m - \u001b[1mtable cost: 0.0\u001b[0m\n",
      "\u001b[32m2024-08-23 19:05:13.632\u001b[0m | \u001b[1mINFO    \u001b[0m | \u001b[36mmagic_pdf.model.pdf_extract_kit\u001b[0m:\u001b[36m__call__\u001b[0m:\u001b[36m159\u001b[0m - \u001b[1mlayout detection cost: 6.56\u001b[0m\n"
     ]
    },
    {
     "name": "stdout",
     "output_type": "stream",
     "text": [
      "\n",
      "0: 1216x1888 (no detections), 1546.1ms\n",
      "Speed: 9.6ms preprocess, 1546.1ms inference, 0.3ms postprocess per image at shape (1, 3, 1216, 1888)\n"
     ]
    },
    {
     "name": "stderr",
     "output_type": "stream",
     "text": [
      "\u001b[32m2024-08-23 19:05:15.190\u001b[0m | \u001b[1mINFO    \u001b[0m | \u001b[36mmagic_pdf.model.pdf_extract_kit\u001b[0m:\u001b[36m__call__\u001b[0m:\u001b[36m189\u001b[0m - \u001b[1mformula nums: 0, mfr time: 0.0\u001b[0m\n",
      "\u001b[32m2024-08-23 19:05:15.192\u001b[0m | \u001b[1mINFO    \u001b[0m | \u001b[36mmagic_pdf.model.pdf_extract_kit\u001b[0m:\u001b[36m__call__\u001b[0m:\u001b[36m294\u001b[0m - \u001b[1mtable cost: 0.0\u001b[0m\n",
      "\u001b[32m2024-08-23 19:05:21.324\u001b[0m | \u001b[1mINFO    \u001b[0m | \u001b[36mmagic_pdf.model.pdf_extract_kit\u001b[0m:\u001b[36m__call__\u001b[0m:\u001b[36m159\u001b[0m - \u001b[1mlayout detection cost: 6.13\u001b[0m\n"
     ]
    },
    {
     "name": "stdout",
     "output_type": "stream",
     "text": [
      "\n",
      "0: 1216x1888 (no detections), 1492.8ms\n",
      "Speed: 9.8ms preprocess, 1492.8ms inference, 0.4ms postprocess per image at shape (1, 3, 1216, 1888)\n"
     ]
    },
    {
     "name": "stderr",
     "output_type": "stream",
     "text": [
      "\u001b[32m2024-08-23 19:05:22.830\u001b[0m | \u001b[1mINFO    \u001b[0m | \u001b[36mmagic_pdf.model.pdf_extract_kit\u001b[0m:\u001b[36m__call__\u001b[0m:\u001b[36m189\u001b[0m - \u001b[1mformula nums: 0, mfr time: 0.0\u001b[0m\n",
      "\u001b[32m2024-08-23 19:05:22.832\u001b[0m | \u001b[1mINFO    \u001b[0m | \u001b[36mmagic_pdf.model.pdf_extract_kit\u001b[0m:\u001b[36m__call__\u001b[0m:\u001b[36m294\u001b[0m - \u001b[1mtable cost: 0.0\u001b[0m\n",
      "\u001b[32m2024-08-23 19:05:29.381\u001b[0m | \u001b[1mINFO    \u001b[0m | \u001b[36mmagic_pdf.model.pdf_extract_kit\u001b[0m:\u001b[36m__call__\u001b[0m:\u001b[36m159\u001b[0m - \u001b[1mlayout detection cost: 6.55\u001b[0m\n"
     ]
    },
    {
     "name": "stdout",
     "output_type": "stream",
     "text": [
      "\n",
      "0: 1216x1888 1 embedding, 1546.2ms\n",
      "Speed: 9.8ms preprocess, 1546.2ms inference, 0.5ms postprocess per image at shape (1, 3, 1216, 1888)\n"
     ]
    },
    {
     "name": "stderr",
     "output_type": "stream",
     "text": [
      "\u001b[32m2024-08-23 19:05:31.397\u001b[0m | \u001b[1mINFO    \u001b[0m | \u001b[36mmagic_pdf.model.pdf_extract_kit\u001b[0m:\u001b[36m__call__\u001b[0m:\u001b[36m189\u001b[0m - \u001b[1mformula nums: 1, mfr time: 0.46\u001b[0m\n",
      "\u001b[32m2024-08-23 19:05:31.400\u001b[0m | \u001b[1mINFO    \u001b[0m | \u001b[36mmagic_pdf.model.pdf_extract_kit\u001b[0m:\u001b[36m__call__\u001b[0m:\u001b[36m294\u001b[0m - \u001b[1mtable cost: 0.0\u001b[0m\n",
      "\u001b[32m2024-08-23 19:05:37.527\u001b[0m | \u001b[1mINFO    \u001b[0m | \u001b[36mmagic_pdf.model.pdf_extract_kit\u001b[0m:\u001b[36m__call__\u001b[0m:\u001b[36m159\u001b[0m - \u001b[1mlayout detection cost: 6.13\u001b[0m\n"
     ]
    },
    {
     "name": "stdout",
     "output_type": "stream",
     "text": [
      "\n",
      "0: 1216x1888 (no detections), 1484.2ms\n",
      "Speed: 9.2ms preprocess, 1484.2ms inference, 0.4ms postprocess per image at shape (1, 3, 1216, 1888)\n"
     ]
    },
    {
     "name": "stderr",
     "output_type": "stream",
     "text": [
      "\u001b[32m2024-08-23 19:05:39.023\u001b[0m | \u001b[1mINFO    \u001b[0m | \u001b[36mmagic_pdf.model.pdf_extract_kit\u001b[0m:\u001b[36m__call__\u001b[0m:\u001b[36m189\u001b[0m - \u001b[1mformula nums: 0, mfr time: 0.0\u001b[0m\n",
      "\u001b[32m2024-08-23 19:05:39.026\u001b[0m | \u001b[1mINFO    \u001b[0m | \u001b[36mmagic_pdf.model.pdf_extract_kit\u001b[0m:\u001b[36m__call__\u001b[0m:\u001b[36m294\u001b[0m - \u001b[1mtable cost: 0.0\u001b[0m\n",
      "\u001b[32m2024-08-23 19:05:45.589\u001b[0m | \u001b[1mINFO    \u001b[0m | \u001b[36mmagic_pdf.model.pdf_extract_kit\u001b[0m:\u001b[36m__call__\u001b[0m:\u001b[36m159\u001b[0m - \u001b[1mlayout detection cost: 6.56\u001b[0m\n"
     ]
    },
    {
     "name": "stdout",
     "output_type": "stream",
     "text": [
      "\n",
      "0: 1216x1888 1 embedding, 1603.0ms\n",
      "Speed: 10.0ms preprocess, 1603.0ms inference, 0.5ms postprocess per image at shape (1, 3, 1216, 1888)\n"
     ]
    },
    {
     "name": "stderr",
     "output_type": "stream",
     "text": [
      "\u001b[32m2024-08-23 19:05:47.584\u001b[0m | \u001b[1mINFO    \u001b[0m | \u001b[36mmagic_pdf.model.pdf_extract_kit\u001b[0m:\u001b[36m__call__\u001b[0m:\u001b[36m189\u001b[0m - \u001b[1mformula nums: 1, mfr time: 0.38\u001b[0m\n",
      "\u001b[32m2024-08-23 19:05:47.586\u001b[0m | \u001b[1mINFO    \u001b[0m | \u001b[36mmagic_pdf.model.pdf_extract_kit\u001b[0m:\u001b[36m__call__\u001b[0m:\u001b[36m294\u001b[0m - \u001b[1mtable cost: 0.0\u001b[0m\n",
      "\u001b[32m2024-08-23 19:05:53.675\u001b[0m | \u001b[1mINFO    \u001b[0m | \u001b[36mmagic_pdf.model.pdf_extract_kit\u001b[0m:\u001b[36m__call__\u001b[0m:\u001b[36m159\u001b[0m - \u001b[1mlayout detection cost: 6.09\u001b[0m\n"
     ]
    },
    {
     "name": "stdout",
     "output_type": "stream",
     "text": [
      "\n",
      "0: 1216x1888 (no detections), 1503.3ms\n",
      "Speed: 8.7ms preprocess, 1503.3ms inference, 0.3ms postprocess per image at shape (1, 3, 1216, 1888)\n"
     ]
    },
    {
     "name": "stderr",
     "output_type": "stream",
     "text": [
      "\u001b[32m2024-08-23 19:05:55.190\u001b[0m | \u001b[1mINFO    \u001b[0m | \u001b[36mmagic_pdf.model.pdf_extract_kit\u001b[0m:\u001b[36m__call__\u001b[0m:\u001b[36m189\u001b[0m - \u001b[1mformula nums: 0, mfr time: 0.0\u001b[0m\n",
      "\u001b[32m2024-08-23 19:05:55.192\u001b[0m | \u001b[1mINFO    \u001b[0m | \u001b[36mmagic_pdf.model.pdf_extract_kit\u001b[0m:\u001b[36m__call__\u001b[0m:\u001b[36m294\u001b[0m - \u001b[1mtable cost: 0.0\u001b[0m\n",
      "\u001b[32m2024-08-23 19:05:55.192\u001b[0m | \u001b[1mINFO    \u001b[0m | \u001b[36mmagic_pdf.model.doc_analyze_by_custom_model\u001b[0m:\u001b[36mdoc_analyze\u001b[0m:\u001b[36m124\u001b[0m - \u001b[1mdoc analyze cost: 19516.130651950836\u001b[0m\n",
      "\u001b[32m2024-08-23 19:05:57.197\u001b[0m | \u001b[33m\u001b[1mWARNING \u001b[0m | \u001b[36mmagic_pdf.pdf_parse_union_core\u001b[0m:\u001b[36mparse_page_core\u001b[0m:\u001b[36m169\u001b[0m - \u001b[33m\u001b[1mskip this page, page_id: 8, reason: too_many_layout_columns\u001b[0m\n",
      "\u001b[32m2024-08-23 19:05:57.216\u001b[0m | \u001b[33m\u001b[1mWARNING \u001b[0m | \u001b[36mmagic_pdf.pdf_parse_union_core\u001b[0m:\u001b[36mparse_page_core\u001b[0m:\u001b[36m169\u001b[0m - \u001b[33m\u001b[1mskip this page, page_id: 9, reason: too_many_layout_columns\u001b[0m\n",
      "\u001b[32m2024-08-23 19:05:57.243\u001b[0m | \u001b[33m\u001b[1mWARNING \u001b[0m | \u001b[36mmagic_pdf.pdf_parse_union_core\u001b[0m:\u001b[36mparse_page_core\u001b[0m:\u001b[36m169\u001b[0m - \u001b[33m\u001b[1mskip this page, page_id: 11, reason: too_many_layout_columns\u001b[0m\n",
      "\u001b[32m2024-08-23 19:05:57.262\u001b[0m | \u001b[33m\u001b[1mWARNING \u001b[0m | \u001b[36mmagic_pdf.pdf_parse_union_core\u001b[0m:\u001b[36mparse_page_core\u001b[0m:\u001b[36m169\u001b[0m - \u001b[33m\u001b[1mskip this page, page_id: 12, reason: too_many_layout_columns\u001b[0m\n",
      "\u001b[32m2024-08-23 19:05:57.284\u001b[0m | \u001b[33m\u001b[1mWARNING \u001b[0m | \u001b[36mmagic_pdf.pdf_parse_union_core\u001b[0m:\u001b[36mparse_page_core\u001b[0m:\u001b[36m169\u001b[0m - \u001b[33m\u001b[1mskip this page, page_id: 13, reason: too_many_layout_columns\u001b[0m\n",
      "\u001b[32m2024-08-23 19:05:57.313\u001b[0m | \u001b[33m\u001b[1mWARNING \u001b[0m | \u001b[36mmagic_pdf.pdf_parse_union_core\u001b[0m:\u001b[36mparse_page_core\u001b[0m:\u001b[36m169\u001b[0m - \u001b[33m\u001b[1mskip this page, page_id: 14, reason: too_many_layout_columns\u001b[0m\n",
      "\u001b[32m2024-08-23 19:05:57.358\u001b[0m | \u001b[33m\u001b[1mWARNING \u001b[0m | \u001b[36mmagic_pdf.pdf_parse_union_core\u001b[0m:\u001b[36mparse_page_core\u001b[0m:\u001b[36m169\u001b[0m - \u001b[33m\u001b[1mskip this page, page_id: 17, reason: too_many_layout_columns\u001b[0m\n",
      "\u001b[32m2024-08-23 19:05:57.397\u001b[0m | \u001b[33m\u001b[1mWARNING \u001b[0m | \u001b[36mmagic_pdf.pdf_parse_union_core\u001b[0m:\u001b[36mparse_page_core\u001b[0m:\u001b[36m169\u001b[0m - \u001b[33m\u001b[1mskip this page, page_id: 18, reason: too_many_layout_columns\u001b[0m\n",
      "\u001b[32m2024-08-23 19:05:57.425\u001b[0m | \u001b[33m\u001b[1mWARNING \u001b[0m | \u001b[36mmagic_pdf.pdf_parse_union_core\u001b[0m:\u001b[36mparse_page_core\u001b[0m:\u001b[36m169\u001b[0m - \u001b[33m\u001b[1mskip this page, page_id: 19, reason: too_many_layout_columns\u001b[0m\n",
      "\u001b[32m2024-08-23 19:05:57.452\u001b[0m | \u001b[33m\u001b[1mWARNING \u001b[0m | \u001b[36mmagic_pdf.pdf_parse_union_core\u001b[0m:\u001b[36mparse_page_core\u001b[0m:\u001b[36m169\u001b[0m - \u001b[33m\u001b[1mskip this page, page_id: 20, reason: too_many_layout_columns\u001b[0m\n",
      "\u001b[32m2024-08-23 19:05:57.530\u001b[0m | \u001b[33m\u001b[1mWARNING \u001b[0m | \u001b[36mmagic_pdf.pdf_parse_union_core\u001b[0m:\u001b[36mparse_page_core\u001b[0m:\u001b[36m169\u001b[0m - \u001b[33m\u001b[1mskip this page, page_id: 22, reason: too_many_layout_columns\u001b[0m\n",
      "\u001b[32m2024-08-23 19:05:57.552\u001b[0m | \u001b[33m\u001b[1mWARNING \u001b[0m | \u001b[36mmagic_pdf.pdf_parse_union_core\u001b[0m:\u001b[36mparse_page_core\u001b[0m:\u001b[36m169\u001b[0m - \u001b[33m\u001b[1mskip this page, page_id: 23, reason: too_many_layout_columns\u001b[0m\n",
      "\u001b[32m2024-08-23 19:05:57.566\u001b[0m | \u001b[33m\u001b[1mWARNING \u001b[0m | \u001b[36mmagic_pdf.pdf_parse_union_core\u001b[0m:\u001b[36mparse_page_core\u001b[0m:\u001b[36m169\u001b[0m - \u001b[33m\u001b[1mskip this page, page_id: 24, reason: too_many_layout_columns\u001b[0m\n",
      "\u001b[32m2024-08-23 19:05:57.644\u001b[0m | \u001b[33m\u001b[1mWARNING \u001b[0m | \u001b[36mmagic_pdf.pdf_parse_union_core\u001b[0m:\u001b[36mparse_page_core\u001b[0m:\u001b[36m169\u001b[0m - \u001b[33m\u001b[1mskip this page, page_id: 28, reason: too_many_layout_columns\u001b[0m\n",
      "\u001b[32m2024-08-23 19:05:57.688\u001b[0m | \u001b[33m\u001b[1mWARNING \u001b[0m | \u001b[36mmagic_pdf.pdf_parse_union_core\u001b[0m:\u001b[36mparse_page_core\u001b[0m:\u001b[36m169\u001b[0m - \u001b[33m\u001b[1mskip this page, page_id: 29, reason: too_many_layout_columns\u001b[0m\n",
      "\u001b[32m2024-08-23 19:05:57.708\u001b[0m | \u001b[33m\u001b[1mWARNING \u001b[0m | \u001b[36mmagic_pdf.pdf_parse_union_core\u001b[0m:\u001b[36mparse_page_core\u001b[0m:\u001b[36m135\u001b[0m - \u001b[33m\u001b[1mskip this page, not found useful bbox, page_id: 31\u001b[0m\n",
      "\u001b[32m2024-08-23 19:05:57.773\u001b[0m | \u001b[33m\u001b[1mWARNING \u001b[0m | \u001b[36mmagic_pdf.pdf_parse_union_core\u001b[0m:\u001b[36mparse_page_core\u001b[0m:\u001b[36m169\u001b[0m - \u001b[33m\u001b[1mskip this page, page_id: 34, reason: too_many_layout_columns\u001b[0m\n",
      "\u001b[32m2024-08-23 19:05:57.795\u001b[0m | \u001b[33m\u001b[1mWARNING \u001b[0m | \u001b[36mmagic_pdf.pdf_parse_union_core\u001b[0m:\u001b[36mparse_page_core\u001b[0m:\u001b[36m169\u001b[0m - \u001b[33m\u001b[1mskip this page, page_id: 35, reason: too_many_layout_columns\u001b[0m\n",
      "\u001b[32m2024-08-23 19:05:57.815\u001b[0m | \u001b[33m\u001b[1mWARNING \u001b[0m | \u001b[36mmagic_pdf.pdf_parse_union_core\u001b[0m:\u001b[36mparse_page_core\u001b[0m:\u001b[36m162\u001b[0m - \u001b[33m\u001b[1mskip this page, page_id: 36, reason: complicated_layout\u001b[0m\n",
      "\u001b[32m2024-08-23 19:05:57.839\u001b[0m | \u001b[33m\u001b[1mWARNING \u001b[0m | \u001b[36mmagic_pdf.pdf_parse_union_core\u001b[0m:\u001b[36mparse_page_core\u001b[0m:\u001b[36m169\u001b[0m - \u001b[33m\u001b[1mskip this page, page_id: 37, reason: too_many_layout_columns\u001b[0m\n",
      "\u001b[32m2024-08-23 19:05:57.877\u001b[0m | \u001b[33m\u001b[1mWARNING \u001b[0m | \u001b[36mmagic_pdf.pdf_parse_union_core\u001b[0m:\u001b[36mparse_page_core\u001b[0m:\u001b[36m169\u001b[0m - \u001b[33m\u001b[1mskip this page, page_id: 38, reason: too_many_layout_columns\u001b[0m\n",
      "\u001b[32m2024-08-23 19:05:57.916\u001b[0m | \u001b[33m\u001b[1mWARNING \u001b[0m | \u001b[36mmagic_pdf.pdf_parse_union_core\u001b[0m:\u001b[36mparse_page_core\u001b[0m:\u001b[36m169\u001b[0m - \u001b[33m\u001b[1mskip this page, page_id: 39, reason: too_many_layout_columns\u001b[0m\n",
      "\u001b[32m2024-08-23 19:05:57.948\u001b[0m | \u001b[33m\u001b[1mWARNING \u001b[0m | \u001b[36mmagic_pdf.pdf_parse_union_core\u001b[0m:\u001b[36mparse_page_core\u001b[0m:\u001b[36m162\u001b[0m - \u001b[33m\u001b[1mskip this page, page_id: 40, reason: complicated_layout\u001b[0m\n",
      "\u001b[32m2024-08-23 19:05:57.950\u001b[0m | \u001b[33m\u001b[1mWARNING \u001b[0m | \u001b[36mmagic_pdf.pdf_parse_union_core\u001b[0m:\u001b[36mparse_page_core\u001b[0m:\u001b[36m169\u001b[0m - \u001b[33m\u001b[1mskip this page, page_id: 40, reason: too_many_layout_columns\u001b[0m\n",
      "\u001b[32m2024-08-23 19:05:57.985\u001b[0m | \u001b[33m\u001b[1mWARNING \u001b[0m | \u001b[36mmagic_pdf.pdf_parse_union_core\u001b[0m:\u001b[36mparse_page_core\u001b[0m:\u001b[36m169\u001b[0m - \u001b[33m\u001b[1mskip this page, page_id: 41, reason: too_many_layout_columns\u001b[0m\n",
      "\u001b[32m2024-08-23 19:05:58.013\u001b[0m | \u001b[33m\u001b[1mWARNING \u001b[0m | \u001b[36mmagic_pdf.pdf_parse_union_core\u001b[0m:\u001b[36mparse_page_core\u001b[0m:\u001b[36m169\u001b[0m - \u001b[33m\u001b[1mskip this page, page_id: 42, reason: too_many_layout_columns\u001b[0m\n",
      "\u001b[32m2024-08-23 19:05:58.041\u001b[0m | \u001b[33m\u001b[1mWARNING \u001b[0m | \u001b[36mmagic_pdf.pdf_parse_union_core\u001b[0m:\u001b[36mparse_page_core\u001b[0m:\u001b[36m169\u001b[0m - \u001b[33m\u001b[1mskip this page, page_id: 43, reason: too_many_layout_columns\u001b[0m\n",
      "\u001b[32m2024-08-23 19:05:58.075\u001b[0m | \u001b[33m\u001b[1mWARNING \u001b[0m | \u001b[36mmagic_pdf.pdf_parse_union_core\u001b[0m:\u001b[36mparse_page_core\u001b[0m:\u001b[36m169\u001b[0m - \u001b[33m\u001b[1mskip this page, page_id: 44, reason: too_many_layout_columns\u001b[0m\n",
      "\u001b[32m2024-08-23 19:05:58.229\u001b[0m | \u001b[33m\u001b[1mWARNING \u001b[0m | \u001b[36mmagic_pdf.pdf_parse_union_core\u001b[0m:\u001b[36mparse_page_core\u001b[0m:\u001b[36m169\u001b[0m - \u001b[33m\u001b[1mskip this page, page_id: 48, reason: too_many_layout_columns\u001b[0m\n",
      "\u001b[32m2024-08-23 19:05:58.408\u001b[0m | \u001b[33m\u001b[1mWARNING \u001b[0m | \u001b[36mmagic_pdf.pdf_parse_union_core\u001b[0m:\u001b[36mparse_page_core\u001b[0m:\u001b[36m169\u001b[0m - \u001b[33m\u001b[1mskip this page, page_id: 53, reason: too_many_layout_columns\u001b[0m\n",
      "\u001b[32m2024-08-23 19:05:58.437\u001b[0m | \u001b[33m\u001b[1mWARNING \u001b[0m | \u001b[36mmagic_pdf.pdf_parse_union_core\u001b[0m:\u001b[36mparse_page_core\u001b[0m:\u001b[36m169\u001b[0m - \u001b[33m\u001b[1mskip this page, page_id: 54, reason: too_many_layout_columns\u001b[0m\n",
      "\u001b[32m2024-08-23 19:05:58.478\u001b[0m | \u001b[33m\u001b[1mWARNING \u001b[0m | \u001b[36mmagic_pdf.pdf_parse_union_core\u001b[0m:\u001b[36mparse_page_core\u001b[0m:\u001b[36m169\u001b[0m - \u001b[33m\u001b[1mskip this page, page_id: 55, reason: too_many_layout_columns\u001b[0m\n",
      "\u001b[32m2024-08-23 19:05:58.508\u001b[0m | \u001b[33m\u001b[1mWARNING \u001b[0m | \u001b[36mmagic_pdf.pdf_parse_union_core\u001b[0m:\u001b[36mparse_page_core\u001b[0m:\u001b[36m169\u001b[0m - \u001b[33m\u001b[1mskip this page, page_id: 56, reason: too_many_layout_columns\u001b[0m\n",
      "\u001b[32m2024-08-23 19:05:58.742\u001b[0m | \u001b[33m\u001b[1mWARNING \u001b[0m | \u001b[36mmagic_pdf.pdf_parse_union_core\u001b[0m:\u001b[36mparse_page_core\u001b[0m:\u001b[36m169\u001b[0m - \u001b[33m\u001b[1mskip this page, page_id: 64, reason: too_many_layout_columns\u001b[0m\n",
      "\u001b[32m2024-08-23 19:05:58.855\u001b[0m | \u001b[33m\u001b[1mWARNING \u001b[0m | \u001b[36mmagic_pdf.pdf_parse_union_core\u001b[0m:\u001b[36mparse_page_core\u001b[0m:\u001b[36m169\u001b[0m - \u001b[33m\u001b[1mskip this page, page_id: 68, reason: too_many_layout_columns\u001b[0m\n",
      "\u001b[32m2024-08-23 19:05:59.391\u001b[0m | \u001b[33m\u001b[1mWARNING \u001b[0m | \u001b[36mmagic_pdf.pdf_parse_union_core\u001b[0m:\u001b[36mparse_page_core\u001b[0m:\u001b[36m169\u001b[0m - \u001b[33m\u001b[1mskip this page, page_id: 82, reason: too_many_layout_columns\u001b[0m\n",
      "\u001b[32m2024-08-23 19:05:59.417\u001b[0m | \u001b[33m\u001b[1mWARNING \u001b[0m | \u001b[36mmagic_pdf.pdf_parse_union_core\u001b[0m:\u001b[36mparse_page_core\u001b[0m:\u001b[36m169\u001b[0m - \u001b[33m\u001b[1mskip this page, page_id: 83, reason: too_many_layout_columns\u001b[0m\n",
      "\u001b[32m2024-08-23 19:05:59.450\u001b[0m | \u001b[33m\u001b[1mWARNING \u001b[0m | \u001b[36mmagic_pdf.pdf_parse_union_core\u001b[0m:\u001b[36mparse_page_core\u001b[0m:\u001b[36m169\u001b[0m - \u001b[33m\u001b[1mskip this page, page_id: 84, reason: too_many_layout_columns\u001b[0m\n",
      "\u001b[32m2024-08-23 19:05:59.482\u001b[0m | \u001b[33m\u001b[1mWARNING \u001b[0m | \u001b[36mmagic_pdf.pdf_parse_union_core\u001b[0m:\u001b[36mparse_page_core\u001b[0m:\u001b[36m169\u001b[0m - \u001b[33m\u001b[1mskip this page, page_id: 85, reason: too_many_layout_columns\u001b[0m\n",
      "\u001b[32m2024-08-23 19:05:59.512\u001b[0m | \u001b[33m\u001b[1mWARNING \u001b[0m | \u001b[36mmagic_pdf.pdf_parse_union_core\u001b[0m:\u001b[36mparse_page_core\u001b[0m:\u001b[36m169\u001b[0m - \u001b[33m\u001b[1mskip this page, page_id: 86, reason: too_many_layout_columns\u001b[0m\n",
      "\u001b[32m2024-08-23 19:05:59.540\u001b[0m | \u001b[33m\u001b[1mWARNING \u001b[0m | \u001b[36mmagic_pdf.pdf_parse_union_core\u001b[0m:\u001b[36mparse_page_core\u001b[0m:\u001b[36m169\u001b[0m - \u001b[33m\u001b[1mskip this page, page_id: 87, reason: too_many_layout_columns\u001b[0m\n",
      "\u001b[32m2024-08-23 19:05:59.571\u001b[0m | \u001b[33m\u001b[1mWARNING \u001b[0m | \u001b[36mmagic_pdf.pdf_parse_union_core\u001b[0m:\u001b[36mparse_page_core\u001b[0m:\u001b[36m162\u001b[0m - \u001b[33m\u001b[1mskip this page, page_id: 88, reason: complicated_layout\u001b[0m\n",
      "\u001b[32m2024-08-23 19:05:59.571\u001b[0m | \u001b[33m\u001b[1mWARNING \u001b[0m | \u001b[36mmagic_pdf.pdf_parse_union_core\u001b[0m:\u001b[36mparse_page_core\u001b[0m:\u001b[36m169\u001b[0m - \u001b[33m\u001b[1mskip this page, page_id: 88, reason: too_many_layout_columns\u001b[0m\n",
      "\u001b[32m2024-08-23 19:05:59.593\u001b[0m | \u001b[33m\u001b[1mWARNING \u001b[0m | \u001b[36mmagic_pdf.pdf_parse_union_core\u001b[0m:\u001b[36mparse_page_core\u001b[0m:\u001b[36m169\u001b[0m - \u001b[33m\u001b[1mskip this page, page_id: 89, reason: too_many_layout_columns\u001b[0m\n",
      "\u001b[32m2024-08-23 19:05:59.654\u001b[0m | \u001b[33m\u001b[1mWARNING \u001b[0m | \u001b[36mmagic_pdf.pdf_parse_union_core\u001b[0m:\u001b[36mparse_page_core\u001b[0m:\u001b[36m169\u001b[0m - \u001b[33m\u001b[1mskip this page, page_id: 91, reason: too_many_layout_columns\u001b[0m\n",
      "\u001b[32m2024-08-23 19:05:59.697\u001b[0m | \u001b[33m\u001b[1mWARNING \u001b[0m | \u001b[36mmagic_pdf.pdf_parse_union_core\u001b[0m:\u001b[36mparse_page_core\u001b[0m:\u001b[36m169\u001b[0m - \u001b[33m\u001b[1mskip this page, page_id: 92, reason: too_many_layout_columns\u001b[0m\n",
      "\u001b[32m2024-08-23 19:05:59.730\u001b[0m | \u001b[33m\u001b[1mWARNING \u001b[0m | \u001b[36mmagic_pdf.pdf_parse_union_core\u001b[0m:\u001b[36mparse_page_core\u001b[0m:\u001b[36m169\u001b[0m - \u001b[33m\u001b[1mskip this page, page_id: 93, reason: too_many_layout_columns\u001b[0m\n",
      "\u001b[32m2024-08-23 19:05:59.763\u001b[0m | \u001b[33m\u001b[1mWARNING \u001b[0m | \u001b[36mmagic_pdf.pdf_parse_union_core\u001b[0m:\u001b[36mparse_page_core\u001b[0m:\u001b[36m169\u001b[0m - \u001b[33m\u001b[1mskip this page, page_id: 94, reason: too_many_layout_columns\u001b[0m\n",
      "\u001b[32m2024-08-23 19:05:59.818\u001b[0m | \u001b[33m\u001b[1mWARNING \u001b[0m | \u001b[36mmagic_pdf.pdf_parse_union_core\u001b[0m:\u001b[36mparse_page_core\u001b[0m:\u001b[36m169\u001b[0m - \u001b[33m\u001b[1mskip this page, page_id: 96, reason: too_many_layout_columns\u001b[0m\n",
      "\u001b[32m2024-08-23 19:05:59.857\u001b[0m | \u001b[33m\u001b[1mWARNING \u001b[0m | \u001b[36mmagic_pdf.pdf_parse_union_core\u001b[0m:\u001b[36mparse_page_core\u001b[0m:\u001b[36m169\u001b[0m - \u001b[33m\u001b[1mskip this page, page_id: 97, reason: too_many_layout_columns\u001b[0m\n",
      "\u001b[32m2024-08-23 19:05:59.894\u001b[0m | \u001b[33m\u001b[1mWARNING \u001b[0m | \u001b[36mmagic_pdf.pdf_parse_union_core\u001b[0m:\u001b[36mparse_page_core\u001b[0m:\u001b[36m169\u001b[0m - \u001b[33m\u001b[1mskip this page, page_id: 98, reason: too_many_layout_columns\u001b[0m\n",
      "\u001b[32m2024-08-23 19:05:59.933\u001b[0m | \u001b[33m\u001b[1mWARNING \u001b[0m | \u001b[36mmagic_pdf.pdf_parse_union_core\u001b[0m:\u001b[36mparse_page_core\u001b[0m:\u001b[36m169\u001b[0m - \u001b[33m\u001b[1mskip this page, page_id: 99, reason: too_many_layout_columns\u001b[0m\n",
      "\u001b[32m2024-08-23 19:05:59.961\u001b[0m | \u001b[33m\u001b[1mWARNING \u001b[0m | \u001b[36mmagic_pdf.pdf_parse_union_core\u001b[0m:\u001b[36mparse_page_core\u001b[0m:\u001b[36m169\u001b[0m - \u001b[33m\u001b[1mskip this page, page_id: 100, reason: too_many_layout_columns\u001b[0m\n",
      "\u001b[32m2024-08-23 19:05:59.997\u001b[0m | \u001b[33m\u001b[1mWARNING \u001b[0m | \u001b[36mmagic_pdf.pdf_parse_union_core\u001b[0m:\u001b[36mparse_page_core\u001b[0m:\u001b[36m169\u001b[0m - \u001b[33m\u001b[1mskip this page, page_id: 101, reason: too_many_layout_columns\u001b[0m\n",
      "\u001b[32m2024-08-23 19:06:00.010\u001b[0m | \u001b[33m\u001b[1mWARNING \u001b[0m | \u001b[36mmagic_pdf.pdf_parse_union_core\u001b[0m:\u001b[36mparse_page_core\u001b[0m:\u001b[36m135\u001b[0m - \u001b[33m\u001b[1mskip this page, not found useful bbox, page_id: 103\u001b[0m\n",
      "\u001b[32m2024-08-23 19:06:00.083\u001b[0m | \u001b[33m\u001b[1mWARNING \u001b[0m | \u001b[36mmagic_pdf.pdf_parse_union_core\u001b[0m:\u001b[36mparse_page_core\u001b[0m:\u001b[36m169\u001b[0m - \u001b[33m\u001b[1mskip this page, page_id: 105, reason: too_many_layout_columns\u001b[0m\n",
      "\u001b[32m2024-08-23 19:06:00.110\u001b[0m | \u001b[33m\u001b[1mWARNING \u001b[0m | \u001b[36mmagic_pdf.pdf_parse_union_core\u001b[0m:\u001b[36mparse_page_core\u001b[0m:\u001b[36m169\u001b[0m - \u001b[33m\u001b[1mskip this page, page_id: 106, reason: too_many_layout_columns\u001b[0m\n",
      "\u001b[32m2024-08-23 19:06:00.146\u001b[0m | \u001b[33m\u001b[1mWARNING \u001b[0m | \u001b[36mmagic_pdf.pdf_parse_union_core\u001b[0m:\u001b[36mparse_page_core\u001b[0m:\u001b[36m169\u001b[0m - \u001b[33m\u001b[1mskip this page, page_id: 107, reason: too_many_layout_columns\u001b[0m\n",
      "\u001b[32m2024-08-23 19:06:00.189\u001b[0m | \u001b[33m\u001b[1mWARNING \u001b[0m | \u001b[36mmagic_pdf.pdf_parse_union_core\u001b[0m:\u001b[36mparse_page_core\u001b[0m:\u001b[36m169\u001b[0m - \u001b[33m\u001b[1mskip this page, page_id: 108, reason: too_many_layout_columns\u001b[0m\n",
      "\u001b[32m2024-08-23 19:06:00.221\u001b[0m | \u001b[33m\u001b[1mWARNING \u001b[0m | \u001b[36mmagic_pdf.pdf_parse_union_core\u001b[0m:\u001b[36mparse_page_core\u001b[0m:\u001b[36m169\u001b[0m - \u001b[33m\u001b[1mskip this page, page_id: 109, reason: too_many_layout_columns\u001b[0m\n",
      "\u001b[32m2024-08-23 19:06:00.255\u001b[0m | \u001b[33m\u001b[1mWARNING \u001b[0m | \u001b[36mmagic_pdf.pdf_parse_union_core\u001b[0m:\u001b[36mparse_page_core\u001b[0m:\u001b[36m169\u001b[0m - \u001b[33m\u001b[1mskip this page, page_id: 110, reason: too_many_layout_columns\u001b[0m\n",
      "\u001b[32m2024-08-23 19:06:00.343\u001b[0m | \u001b[33m\u001b[1mWARNING \u001b[0m | \u001b[36mmagic_pdf.pdf_parse_union_core\u001b[0m:\u001b[36mparse_page_core\u001b[0m:\u001b[36m135\u001b[0m - \u001b[33m\u001b[1mskip this page, not found useful bbox, page_id: 113\u001b[0m\n",
      "\u001b[32m2024-08-23 19:06:00.356\u001b[0m | \u001b[33m\u001b[1mWARNING \u001b[0m | \u001b[36mmagic_pdf.pdf_parse_union_core\u001b[0m:\u001b[36mparse_page_core\u001b[0m:\u001b[36m169\u001b[0m - \u001b[33m\u001b[1mskip this page, page_id: 114, reason: too_many_layout_columns\u001b[0m\n",
      "\u001b[32m2024-08-23 19:06:00.372\u001b[0m | \u001b[33m\u001b[1mWARNING \u001b[0m | \u001b[36mmagic_pdf.pdf_parse_union_core\u001b[0m:\u001b[36mparse_page_core\u001b[0m:\u001b[36m169\u001b[0m - \u001b[33m\u001b[1mskip this page, page_id: 115, reason: too_many_layout_columns\u001b[0m\n",
      "\u001b[32m2024-08-23 19:06:00.399\u001b[0m | \u001b[33m\u001b[1mWARNING \u001b[0m | \u001b[36mmagic_pdf.pdf_parse_union_core\u001b[0m:\u001b[36mparse_page_core\u001b[0m:\u001b[36m169\u001b[0m - \u001b[33m\u001b[1mskip this page, page_id: 116, reason: too_many_layout_columns\u001b[0m\n",
      "\u001b[32m2024-08-23 19:06:00.432\u001b[0m | \u001b[33m\u001b[1mWARNING \u001b[0m | \u001b[36mmagic_pdf.pdf_parse_union_core\u001b[0m:\u001b[36mparse_page_core\u001b[0m:\u001b[36m169\u001b[0m - \u001b[33m\u001b[1mskip this page, page_id: 117, reason: too_many_layout_columns\u001b[0m\n",
      "\u001b[32m2024-08-23 19:06:00.455\u001b[0m | \u001b[33m\u001b[1mWARNING \u001b[0m | \u001b[36mmagic_pdf.pdf_parse_union_core\u001b[0m:\u001b[36mparse_page_core\u001b[0m:\u001b[36m169\u001b[0m - \u001b[33m\u001b[1mskip this page, page_id: 118, reason: too_many_layout_columns\u001b[0m\n",
      "\u001b[32m2024-08-23 19:06:00.489\u001b[0m | \u001b[33m\u001b[1mWARNING \u001b[0m | \u001b[36mmagic_pdf.pdf_parse_union_core\u001b[0m:\u001b[36mparse_page_core\u001b[0m:\u001b[36m169\u001b[0m - \u001b[33m\u001b[1mskip this page, page_id: 119, reason: too_many_layout_columns\u001b[0m\n",
      "\u001b[32m2024-08-23 19:06:00.516\u001b[0m | \u001b[33m\u001b[1mWARNING \u001b[0m | \u001b[36mmagic_pdf.pdf_parse_union_core\u001b[0m:\u001b[36mparse_page_core\u001b[0m:\u001b[36m169\u001b[0m - \u001b[33m\u001b[1mskip this page, page_id: 120, reason: too_many_layout_columns\u001b[0m\n",
      "\u001b[32m2024-08-23 19:06:00.548\u001b[0m | \u001b[33m\u001b[1mWARNING \u001b[0m | \u001b[36mmagic_pdf.pdf_parse_union_core\u001b[0m:\u001b[36mparse_page_core\u001b[0m:\u001b[36m169\u001b[0m - \u001b[33m\u001b[1mskip this page, page_id: 121, reason: too_many_layout_columns\u001b[0m\n",
      "\u001b[32m2024-08-23 19:06:00.590\u001b[0m | \u001b[33m\u001b[1mWARNING \u001b[0m | \u001b[36mmagic_pdf.pdf_parse_union_core\u001b[0m:\u001b[36mparse_page_core\u001b[0m:\u001b[36m169\u001b[0m - \u001b[33m\u001b[1mskip this page, page_id: 122, reason: too_many_layout_columns\u001b[0m\n",
      "\u001b[32m2024-08-23 19:06:00.616\u001b[0m | \u001b[33m\u001b[1mWARNING \u001b[0m | \u001b[36mmagic_pdf.pdf_parse_union_core\u001b[0m:\u001b[36mparse_page_core\u001b[0m:\u001b[36m169\u001b[0m - \u001b[33m\u001b[1mskip this page, page_id: 123, reason: too_many_layout_columns\u001b[0m\n",
      "\u001b[32m2024-08-23 19:06:00.636\u001b[0m | \u001b[33m\u001b[1mWARNING \u001b[0m | \u001b[36mmagic_pdf.pdf_parse_union_core\u001b[0m:\u001b[36mparse_page_core\u001b[0m:\u001b[36m169\u001b[0m - \u001b[33m\u001b[1mskip this page, page_id: 124, reason: too_many_layout_columns\u001b[0m\n",
      "\u001b[32m2024-08-23 19:06:00.658\u001b[0m | \u001b[33m\u001b[1mWARNING \u001b[0m | \u001b[36mmagic_pdf.pdf_parse_union_core\u001b[0m:\u001b[36mparse_page_core\u001b[0m:\u001b[36m169\u001b[0m - \u001b[33m\u001b[1mskip this page, page_id: 125, reason: too_many_layout_columns\u001b[0m\n",
      "\u001b[32m2024-08-23 19:06:00.675\u001b[0m | \u001b[33m\u001b[1mWARNING \u001b[0m | \u001b[36mmagic_pdf.pdf_parse_union_core\u001b[0m:\u001b[36mparse_page_core\u001b[0m:\u001b[36m169\u001b[0m - \u001b[33m\u001b[1mskip this page, page_id: 126, reason: too_many_layout_columns\u001b[0m\n",
      "\u001b[32m2024-08-23 19:06:00.708\u001b[0m | \u001b[33m\u001b[1mWARNING \u001b[0m | \u001b[36mmagic_pdf.pdf_parse_union_core\u001b[0m:\u001b[36mparse_page_core\u001b[0m:\u001b[36m169\u001b[0m - \u001b[33m\u001b[1mskip this page, page_id: 127, reason: too_many_layout_columns\u001b[0m\n",
      "\u001b[32m2024-08-23 19:06:00.723\u001b[0m | \u001b[33m\u001b[1mWARNING \u001b[0m | \u001b[36mmagic_pdf.pdf_parse_union_core\u001b[0m:\u001b[36mparse_page_core\u001b[0m:\u001b[36m169\u001b[0m - \u001b[33m\u001b[1mskip this page, page_id: 128, reason: too_many_layout_columns\u001b[0m\n",
      "\u001b[32m2024-08-23 19:06:00.746\u001b[0m | \u001b[33m\u001b[1mWARNING \u001b[0m | \u001b[36mmagic_pdf.pdf_parse_union_core\u001b[0m:\u001b[36mparse_page_core\u001b[0m:\u001b[36m169\u001b[0m - \u001b[33m\u001b[1mskip this page, page_id: 129, reason: too_many_layout_columns\u001b[0m\n",
      "\u001b[32m2024-08-23 19:06:00.770\u001b[0m | \u001b[33m\u001b[1mWARNING \u001b[0m | \u001b[36mmagic_pdf.pdf_parse_union_core\u001b[0m:\u001b[36mparse_page_core\u001b[0m:\u001b[36m169\u001b[0m - \u001b[33m\u001b[1mskip this page, page_id: 130, reason: too_many_layout_columns\u001b[0m\n",
      "\u001b[32m2024-08-23 19:06:00.799\u001b[0m | \u001b[33m\u001b[1mWARNING \u001b[0m | \u001b[36mmagic_pdf.pdf_parse_union_core\u001b[0m:\u001b[36mparse_page_core\u001b[0m:\u001b[36m169\u001b[0m - \u001b[33m\u001b[1mskip this page, page_id: 131, reason: too_many_layout_columns\u001b[0m\n",
      "\u001b[32m2024-08-23 19:06:00.836\u001b[0m | \u001b[33m\u001b[1mWARNING \u001b[0m | \u001b[36mmagic_pdf.pdf_parse_union_core\u001b[0m:\u001b[36mparse_page_core\u001b[0m:\u001b[36m169\u001b[0m - \u001b[33m\u001b[1mskip this page, page_id: 132, reason: too_many_layout_columns\u001b[0m\n",
      "\u001b[32m2024-08-23 19:06:00.868\u001b[0m | \u001b[33m\u001b[1mWARNING \u001b[0m | \u001b[36mmagic_pdf.pdf_parse_union_core\u001b[0m:\u001b[36mparse_page_core\u001b[0m:\u001b[36m169\u001b[0m - \u001b[33m\u001b[1mskip this page, page_id: 133, reason: too_many_layout_columns\u001b[0m\n",
      "\u001b[32m2024-08-23 19:06:00.881\u001b[0m | \u001b[33m\u001b[1mWARNING \u001b[0m | \u001b[36mmagic_pdf.pdf_parse_union_core\u001b[0m:\u001b[36mparse_page_core\u001b[0m:\u001b[36m169\u001b[0m - \u001b[33m\u001b[1mskip this page, page_id: 134, reason: too_many_layout_columns\u001b[0m\n",
      "\u001b[32m2024-08-23 19:06:00.909\u001b[0m | \u001b[33m\u001b[1mWARNING \u001b[0m | \u001b[36mmagic_pdf.pdf_parse_union_core\u001b[0m:\u001b[36mparse_page_core\u001b[0m:\u001b[36m169\u001b[0m - \u001b[33m\u001b[1mskip this page, page_id: 135, reason: too_many_layout_columns\u001b[0m\n",
      "\u001b[32m2024-08-23 19:06:00.926\u001b[0m | \u001b[33m\u001b[1mWARNING \u001b[0m | \u001b[36mmagic_pdf.pdf_parse_union_core\u001b[0m:\u001b[36mparse_page_core\u001b[0m:\u001b[36m169\u001b[0m - \u001b[33m\u001b[1mskip this page, page_id: 136, reason: too_many_layout_columns\u001b[0m\n",
      "\u001b[32m2024-08-23 19:06:00.938\u001b[0m | \u001b[33m\u001b[1mWARNING \u001b[0m | \u001b[36mmagic_pdf.pdf_parse_union_core\u001b[0m:\u001b[36mparse_page_core\u001b[0m:\u001b[36m169\u001b[0m - \u001b[33m\u001b[1mskip this page, page_id: 137, reason: too_many_layout_columns\u001b[0m\n",
      "\u001b[32m2024-08-23 19:06:00.963\u001b[0m | \u001b[33m\u001b[1mWARNING \u001b[0m | \u001b[36mmagic_pdf.pdf_parse_union_core\u001b[0m:\u001b[36mparse_page_core\u001b[0m:\u001b[36m169\u001b[0m - \u001b[33m\u001b[1mskip this page, page_id: 138, reason: too_many_layout_columns\u001b[0m\n",
      "\u001b[32m2024-08-23 19:06:01.016\u001b[0m | \u001b[33m\u001b[1mWARNING \u001b[0m | \u001b[36mmagic_pdf.pdf_parse_union_core\u001b[0m:\u001b[36mparse_page_core\u001b[0m:\u001b[36m169\u001b[0m - \u001b[33m\u001b[1mskip this page, page_id: 141, reason: too_many_layout_columns\u001b[0m\n",
      "\u001b[32m2024-08-23 19:06:01.030\u001b[0m | \u001b[33m\u001b[1mWARNING \u001b[0m | \u001b[36mmagic_pdf.pdf_parse_union_core\u001b[0m:\u001b[36mparse_page_core\u001b[0m:\u001b[36m169\u001b[0m - \u001b[33m\u001b[1mskip this page, page_id: 142, reason: too_many_layout_columns\u001b[0m\n",
      "\u001b[32m2024-08-23 19:06:01.045\u001b[0m | \u001b[33m\u001b[1mWARNING \u001b[0m | \u001b[36mmagic_pdf.pdf_parse_union_core\u001b[0m:\u001b[36mparse_page_core\u001b[0m:\u001b[36m169\u001b[0m - \u001b[33m\u001b[1mskip this page, page_id: 143, reason: too_many_layout_columns\u001b[0m\n",
      "\u001b[32m2024-08-23 19:06:01.089\u001b[0m | \u001b[33m\u001b[1mWARNING \u001b[0m | \u001b[36mmagic_pdf.pdf_parse_union_core\u001b[0m:\u001b[36mparse_page_core\u001b[0m:\u001b[36m169\u001b[0m - \u001b[33m\u001b[1mskip this page, page_id: 145, reason: too_many_layout_columns\u001b[0m\n",
      "\u001b[32m2024-08-23 19:06:01.111\u001b[0m | \u001b[33m\u001b[1mWARNING \u001b[0m | \u001b[36mmagic_pdf.pdf_parse_union_core\u001b[0m:\u001b[36mparse_page_core\u001b[0m:\u001b[36m169\u001b[0m - \u001b[33m\u001b[1mskip this page, page_id: 146, reason: too_many_layout_columns\u001b[0m\n",
      "\u001b[32m2024-08-23 19:06:01.142\u001b[0m | \u001b[33m\u001b[1mWARNING \u001b[0m | \u001b[36mmagic_pdf.pdf_parse_union_core\u001b[0m:\u001b[36mparse_page_core\u001b[0m:\u001b[36m169\u001b[0m - \u001b[33m\u001b[1mskip this page, page_id: 147, reason: too_many_layout_columns\u001b[0m\n",
      "\u001b[32m2024-08-23 19:06:01.162\u001b[0m | \u001b[33m\u001b[1mWARNING \u001b[0m | \u001b[36mmagic_pdf.pdf_parse_union_core\u001b[0m:\u001b[36mparse_page_core\u001b[0m:\u001b[36m169\u001b[0m - \u001b[33m\u001b[1mskip this page, page_id: 148, reason: too_many_layout_columns\u001b[0m\n",
      "\u001b[32m2024-08-23 19:06:01.212\u001b[0m | \u001b[33m\u001b[1mWARNING \u001b[0m | \u001b[36mmagic_pdf.pdf_parse_union_core\u001b[0m:\u001b[36mparse_page_core\u001b[0m:\u001b[36m169\u001b[0m - \u001b[33m\u001b[1mskip this page, page_id: 149, reason: too_many_layout_columns\u001b[0m\n",
      "\u001b[32m2024-08-23 19:06:01.237\u001b[0m | \u001b[33m\u001b[1mWARNING \u001b[0m | \u001b[36mmagic_pdf.pdf_parse_union_core\u001b[0m:\u001b[36mparse_page_core\u001b[0m:\u001b[36m169\u001b[0m - \u001b[33m\u001b[1mskip this page, page_id: 150, reason: too_many_layout_columns\u001b[0m\n",
      "\u001b[32m2024-08-23 19:06:01.261\u001b[0m | \u001b[33m\u001b[1mWARNING \u001b[0m | \u001b[36mmagic_pdf.pdf_parse_union_core\u001b[0m:\u001b[36mparse_page_core\u001b[0m:\u001b[36m169\u001b[0m - \u001b[33m\u001b[1mskip this page, page_id: 151, reason: too_many_layout_columns\u001b[0m\n",
      "\u001b[32m2024-08-23 19:06:01.300\u001b[0m | \u001b[33m\u001b[1mWARNING \u001b[0m | \u001b[36mmagic_pdf.pdf_parse_union_core\u001b[0m:\u001b[36mparse_page_core\u001b[0m:\u001b[36m169\u001b[0m - \u001b[33m\u001b[1mskip this page, page_id: 152, reason: too_many_layout_columns\u001b[0m\n",
      "\u001b[32m2024-08-23 19:06:01.332\u001b[0m | \u001b[33m\u001b[1mWARNING \u001b[0m | \u001b[36mmagic_pdf.pdf_parse_union_core\u001b[0m:\u001b[36mparse_page_core\u001b[0m:\u001b[36m169\u001b[0m - \u001b[33m\u001b[1mskip this page, page_id: 153, reason: too_many_layout_columns\u001b[0m\n",
      "\u001b[32m2024-08-23 19:06:01.364\u001b[0m | \u001b[33m\u001b[1mWARNING \u001b[0m | \u001b[36mmagic_pdf.pdf_parse_union_core\u001b[0m:\u001b[36mparse_page_core\u001b[0m:\u001b[36m169\u001b[0m - \u001b[33m\u001b[1mskip this page, page_id: 154, reason: too_many_layout_columns\u001b[0m\n",
      "\u001b[32m2024-08-23 19:06:01.365\u001b[0m | \u001b[33m\u001b[1mWARNING \u001b[0m | \u001b[36mmagic_pdf.pdf_parse_union_core\u001b[0m:\u001b[36mparse_page_core\u001b[0m:\u001b[36m135\u001b[0m - \u001b[33m\u001b[1mskip this page, not found useful bbox, page_id: 155\u001b[0m\n",
      "\u001b[32m2024-08-23 19:06:01.396\u001b[0m | \u001b[33m\u001b[1mWARNING \u001b[0m | \u001b[36mmagic_pdf.pdf_parse_union_core\u001b[0m:\u001b[36mparse_page_core\u001b[0m:\u001b[36m169\u001b[0m - \u001b[33m\u001b[1mskip this page, page_id: 156, reason: too_many_layout_columns\u001b[0m\n",
      "\u001b[32m2024-08-23 19:06:01.422\u001b[0m | \u001b[33m\u001b[1mWARNING \u001b[0m | \u001b[36mmagic_pdf.pdf_parse_union_core\u001b[0m:\u001b[36mparse_page_core\u001b[0m:\u001b[36m169\u001b[0m - \u001b[33m\u001b[1mskip this page, page_id: 157, reason: too_many_layout_columns\u001b[0m\n",
      "\u001b[32m2024-08-23 19:06:01.454\u001b[0m | \u001b[33m\u001b[1mWARNING \u001b[0m | \u001b[36mmagic_pdf.pdf_parse_union_core\u001b[0m:\u001b[36mparse_page_core\u001b[0m:\u001b[36m169\u001b[0m - \u001b[33m\u001b[1mskip this page, page_id: 158, reason: too_many_layout_columns\u001b[0m\n",
      "\u001b[32m2024-08-23 19:06:01.480\u001b[0m | \u001b[33m\u001b[1mWARNING \u001b[0m | \u001b[36mmagic_pdf.pdf_parse_union_core\u001b[0m:\u001b[36mparse_page_core\u001b[0m:\u001b[36m169\u001b[0m - \u001b[33m\u001b[1mskip this page, page_id: 159, reason: too_many_layout_columns\u001b[0m\n",
      "\u001b[32m2024-08-23 19:06:01.512\u001b[0m | \u001b[33m\u001b[1mWARNING \u001b[0m | \u001b[36mmagic_pdf.pdf_parse_union_core\u001b[0m:\u001b[36mparse_page_core\u001b[0m:\u001b[36m169\u001b[0m - \u001b[33m\u001b[1mskip this page, page_id: 160, reason: too_many_layout_columns\u001b[0m\n",
      "\u001b[32m2024-08-23 19:06:01.540\u001b[0m | \u001b[33m\u001b[1mWARNING \u001b[0m | \u001b[36mmagic_pdf.pdf_parse_union_core\u001b[0m:\u001b[36mparse_page_core\u001b[0m:\u001b[36m169\u001b[0m - \u001b[33m\u001b[1mskip this page, page_id: 161, reason: too_many_layout_columns\u001b[0m\n",
      "\u001b[32m2024-08-23 19:06:01.559\u001b[0m | \u001b[33m\u001b[1mWARNING \u001b[0m | \u001b[36mmagic_pdf.pdf_parse_union_core\u001b[0m:\u001b[36mparse_page_core\u001b[0m:\u001b[36m169\u001b[0m - \u001b[33m\u001b[1mskip this page, page_id: 162, reason: too_many_layout_columns\u001b[0m\n",
      "\u001b[32m2024-08-23 19:06:01.641\u001b[0m | \u001b[33m\u001b[1mWARNING \u001b[0m | \u001b[36mmagic_pdf.pdf_parse_union_core\u001b[0m:\u001b[36mparse_page_core\u001b[0m:\u001b[36m169\u001b[0m - \u001b[33m\u001b[1mskip this page, page_id: 165, reason: too_many_layout_columns\u001b[0m\n",
      "\u001b[32m2024-08-23 19:06:01.660\u001b[0m | \u001b[33m\u001b[1mWARNING \u001b[0m | \u001b[36mmagic_pdf.pdf_parse_union_core\u001b[0m:\u001b[36mparse_page_core\u001b[0m:\u001b[36m169\u001b[0m - \u001b[33m\u001b[1mskip this page, page_id: 166, reason: too_many_layout_columns\u001b[0m\n",
      "\u001b[32m2024-08-23 19:06:01.682\u001b[0m | \u001b[33m\u001b[1mWARNING \u001b[0m | \u001b[36mmagic_pdf.pdf_parse_union_core\u001b[0m:\u001b[36mparse_page_core\u001b[0m:\u001b[36m169\u001b[0m - \u001b[33m\u001b[1mskip this page, page_id: 167, reason: too_many_layout_columns\u001b[0m\n",
      "\u001b[32m2024-08-23 19:06:01.705\u001b[0m | \u001b[33m\u001b[1mWARNING \u001b[0m | \u001b[36mmagic_pdf.pdf_parse_union_core\u001b[0m:\u001b[36mparse_page_core\u001b[0m:\u001b[36m169\u001b[0m - \u001b[33m\u001b[1mskip this page, page_id: 168, reason: too_many_layout_columns\u001b[0m\n",
      "\u001b[32m2024-08-23 19:06:01.732\u001b[0m | \u001b[33m\u001b[1mWARNING \u001b[0m | \u001b[36mmagic_pdf.pdf_parse_union_core\u001b[0m:\u001b[36mparse_page_core\u001b[0m:\u001b[36m169\u001b[0m - \u001b[33m\u001b[1mskip this page, page_id: 169, reason: too_many_layout_columns\u001b[0m\n",
      "\u001b[32m2024-08-23 19:06:01.761\u001b[0m | \u001b[33m\u001b[1mWARNING \u001b[0m | \u001b[36mmagic_pdf.pdf_parse_union_core\u001b[0m:\u001b[36mparse_page_core\u001b[0m:\u001b[36m169\u001b[0m - \u001b[33m\u001b[1mskip this page, page_id: 170, reason: too_many_layout_columns\u001b[0m\n",
      "\u001b[32m2024-08-23 19:06:01.792\u001b[0m | \u001b[33m\u001b[1mWARNING \u001b[0m | \u001b[36mmagic_pdf.pdf_parse_union_core\u001b[0m:\u001b[36mparse_page_core\u001b[0m:\u001b[36m169\u001b[0m - \u001b[33m\u001b[1mskip this page, page_id: 171, reason: too_many_layout_columns\u001b[0m\n",
      "\u001b[32m2024-08-23 19:06:01.818\u001b[0m | \u001b[33m\u001b[1mWARNING \u001b[0m | \u001b[36mmagic_pdf.pdf_parse_union_core\u001b[0m:\u001b[36mparse_page_core\u001b[0m:\u001b[36m169\u001b[0m - \u001b[33m\u001b[1mskip this page, page_id: 172, reason: too_many_layout_columns\u001b[0m\n",
      "\u001b[32m2024-08-23 19:06:01.855\u001b[0m | \u001b[33m\u001b[1mWARNING \u001b[0m | \u001b[36mmagic_pdf.pdf_parse_union_core\u001b[0m:\u001b[36mparse_page_core\u001b[0m:\u001b[36m169\u001b[0m - \u001b[33m\u001b[1mskip this page, page_id: 173, reason: too_many_layout_columns\u001b[0m\n",
      "\u001b[32m2024-08-23 19:06:01.892\u001b[0m | \u001b[33m\u001b[1mWARNING \u001b[0m | \u001b[36mmagic_pdf.pdf_parse_union_core\u001b[0m:\u001b[36mparse_page_core\u001b[0m:\u001b[36m169\u001b[0m - \u001b[33m\u001b[1mskip this page, page_id: 174, reason: too_many_layout_columns\u001b[0m\n",
      "\u001b[32m2024-08-23 19:06:01.951\u001b[0m | \u001b[33m\u001b[1mWARNING \u001b[0m | \u001b[36mmagic_pdf.pdf_parse_union_core\u001b[0m:\u001b[36mparse_page_core\u001b[0m:\u001b[36m169\u001b[0m - \u001b[33m\u001b[1mskip this page, page_id: 175, reason: too_many_layout_columns\u001b[0m\n",
      "\u001b[32m2024-08-23 19:06:02.001\u001b[0m | \u001b[33m\u001b[1mWARNING \u001b[0m | \u001b[36mmagic_pdf.pdf_parse_union_core\u001b[0m:\u001b[36mparse_page_core\u001b[0m:\u001b[36m169\u001b[0m - \u001b[33m\u001b[1mskip this page, page_id: 176, reason: too_many_layout_columns\u001b[0m\n",
      "\u001b[32m2024-08-23 19:06:02.063\u001b[0m | \u001b[33m\u001b[1mWARNING \u001b[0m | \u001b[36mmagic_pdf.pdf_parse_union_core\u001b[0m:\u001b[36mparse_page_core\u001b[0m:\u001b[36m169\u001b[0m - \u001b[33m\u001b[1mskip this page, page_id: 177, reason: too_many_layout_columns\u001b[0m\n",
      "\u001b[32m2024-08-23 19:06:02.139\u001b[0m | \u001b[33m\u001b[1mWARNING \u001b[0m | \u001b[36mmagic_pdf.pdf_parse_union_core\u001b[0m:\u001b[36mparse_page_core\u001b[0m:\u001b[36m169\u001b[0m - \u001b[33m\u001b[1mskip this page, page_id: 179, reason: too_many_layout_columns\u001b[0m\n",
      "\u001b[32m2024-08-23 19:06:02.170\u001b[0m | \u001b[33m\u001b[1mWARNING \u001b[0m | \u001b[36mmagic_pdf.pdf_parse_union_core\u001b[0m:\u001b[36mparse_page_core\u001b[0m:\u001b[36m169\u001b[0m - \u001b[33m\u001b[1mskip this page, page_id: 180, reason: too_many_layout_columns\u001b[0m\n",
      "\u001b[32m2024-08-23 19:06:02.192\u001b[0m | \u001b[33m\u001b[1mWARNING \u001b[0m | \u001b[36mmagic_pdf.pdf_parse_union_core\u001b[0m:\u001b[36mparse_page_core\u001b[0m:\u001b[36m169\u001b[0m - \u001b[33m\u001b[1mskip this page, page_id: 181, reason: too_many_layout_columns\u001b[0m\n",
      "\u001b[32m2024-08-23 19:06:02.213\u001b[0m | \u001b[33m\u001b[1mWARNING \u001b[0m | \u001b[36mmagic_pdf.pdf_parse_union_core\u001b[0m:\u001b[36mparse_page_core\u001b[0m:\u001b[36m169\u001b[0m - \u001b[33m\u001b[1mskip this page, page_id: 182, reason: too_many_layout_columns\u001b[0m\n",
      "\u001b[32m2024-08-23 19:06:02.214\u001b[0m | \u001b[33m\u001b[1mWARNING \u001b[0m | \u001b[36mmagic_pdf.pdf_parse_union_core\u001b[0m:\u001b[36mparse_page_core\u001b[0m:\u001b[36m135\u001b[0m - \u001b[33m\u001b[1mskip this page, not found useful bbox, page_id: 183\u001b[0m\n",
      "\u001b[32m2024-08-23 19:06:02.225\u001b[0m | \u001b[33m\u001b[1mWARNING \u001b[0m | \u001b[36mmagic_pdf.pdf_parse_union_core\u001b[0m:\u001b[36mparse_page_core\u001b[0m:\u001b[36m169\u001b[0m - \u001b[33m\u001b[1mskip this page, page_id: 184, reason: too_many_layout_columns\u001b[0m\n",
      "\u001b[32m2024-08-23 19:06:02.303\u001b[0m | \u001b[33m\u001b[1mWARNING \u001b[0m | \u001b[36mmagic_pdf.pdf_parse_union_core\u001b[0m:\u001b[36mparse_page_core\u001b[0m:\u001b[36m169\u001b[0m - \u001b[33m\u001b[1mskip this page, page_id: 186, reason: too_many_layout_columns\u001b[0m\n",
      "\u001b[32m2024-08-23 19:06:02.329\u001b[0m | \u001b[33m\u001b[1mWARNING \u001b[0m | \u001b[36mmagic_pdf.pdf_parse_union_core\u001b[0m:\u001b[36mparse_page_core\u001b[0m:\u001b[36m169\u001b[0m - \u001b[33m\u001b[1mskip this page, page_id: 187, reason: too_many_layout_columns\u001b[0m\n",
      "\u001b[32m2024-08-23 19:06:02.366\u001b[0m | \u001b[33m\u001b[1mWARNING \u001b[0m | \u001b[36mmagic_pdf.pdf_parse_union_core\u001b[0m:\u001b[36mparse_page_core\u001b[0m:\u001b[36m169\u001b[0m - \u001b[33m\u001b[1mskip this page, page_id: 188, reason: too_many_layout_columns\u001b[0m\n",
      "\u001b[32m2024-08-23 19:06:02.387\u001b[0m | \u001b[33m\u001b[1mWARNING \u001b[0m | \u001b[36mmagic_pdf.pdf_parse_union_core\u001b[0m:\u001b[36mparse_page_core\u001b[0m:\u001b[36m169\u001b[0m - \u001b[33m\u001b[1mskip this page, page_id: 189, reason: too_many_layout_columns\u001b[0m\n",
      "\u001b[32m2024-08-23 19:06:02.411\u001b[0m | \u001b[33m\u001b[1mWARNING \u001b[0m | \u001b[36mmagic_pdf.pdf_parse_union_core\u001b[0m:\u001b[36mparse_page_core\u001b[0m:\u001b[36m169\u001b[0m - \u001b[33m\u001b[1mskip this page, page_id: 190, reason: too_many_layout_columns\u001b[0m\n",
      "\u001b[32m2024-08-23 19:06:02.446\u001b[0m | \u001b[33m\u001b[1mWARNING \u001b[0m | \u001b[36mmagic_pdf.pdf_parse_union_core\u001b[0m:\u001b[36mparse_page_core\u001b[0m:\u001b[36m169\u001b[0m - \u001b[33m\u001b[1mskip this page, page_id: 191, reason: too_many_layout_columns\u001b[0m\n",
      "\u001b[32m2024-08-23 19:06:02.480\u001b[0m | \u001b[33m\u001b[1mWARNING \u001b[0m | \u001b[36mmagic_pdf.pdf_parse_union_core\u001b[0m:\u001b[36mparse_page_core\u001b[0m:\u001b[36m169\u001b[0m - \u001b[33m\u001b[1mskip this page, page_id: 192, reason: too_many_layout_columns\u001b[0m\n",
      "\u001b[32m2024-08-23 19:06:02.505\u001b[0m | \u001b[33m\u001b[1mWARNING \u001b[0m | \u001b[36mmagic_pdf.pdf_parse_union_core\u001b[0m:\u001b[36mparse_page_core\u001b[0m:\u001b[36m169\u001b[0m - \u001b[33m\u001b[1mskip this page, page_id: 193, reason: too_many_layout_columns\u001b[0m\n",
      "\u001b[32m2024-08-23 19:06:02.544\u001b[0m | \u001b[33m\u001b[1mWARNING \u001b[0m | \u001b[36mmagic_pdf.pdf_parse_union_core\u001b[0m:\u001b[36mparse_page_core\u001b[0m:\u001b[36m169\u001b[0m - \u001b[33m\u001b[1mskip this page, page_id: 194, reason: too_many_layout_columns\u001b[0m\n",
      "\u001b[32m2024-08-23 19:06:02.564\u001b[0m | \u001b[33m\u001b[1mWARNING \u001b[0m | \u001b[36mmagic_pdf.pdf_parse_union_core\u001b[0m:\u001b[36mparse_page_core\u001b[0m:\u001b[36m169\u001b[0m - \u001b[33m\u001b[1mskip this page, page_id: 195, reason: too_many_layout_columns\u001b[0m\n",
      "\u001b[32m2024-08-23 19:06:02.588\u001b[0m | \u001b[33m\u001b[1mWARNING \u001b[0m | \u001b[36mmagic_pdf.pdf_parse_union_core\u001b[0m:\u001b[36mparse_page_core\u001b[0m:\u001b[36m169\u001b[0m - \u001b[33m\u001b[1mskip this page, page_id: 196, reason: too_many_layout_columns\u001b[0m\n",
      "\u001b[32m2024-08-23 19:06:03.203\u001b[0m | \u001b[33m\u001b[1mWARNING \u001b[0m | \u001b[36mmagic_pdf.pdf_parse_union_core\u001b[0m:\u001b[36mparse_page_core\u001b[0m:\u001b[36m169\u001b[0m - \u001b[33m\u001b[1mskip this page, page_id: 211, reason: too_many_layout_columns\u001b[0m\n",
      "\u001b[32m2024-08-23 19:06:03.218\u001b[0m | \u001b[33m\u001b[1mWARNING \u001b[0m | \u001b[36mmagic_pdf.pdf_parse_union_core\u001b[0m:\u001b[36mparse_page_core\u001b[0m:\u001b[36m169\u001b[0m - \u001b[33m\u001b[1mskip this page, page_id: 212, reason: too_many_layout_columns\u001b[0m\n",
      "\u001b[32m2024-08-23 19:06:03.238\u001b[0m | \u001b[33m\u001b[1mWARNING \u001b[0m | \u001b[36mmagic_pdf.pdf_parse_union_core\u001b[0m:\u001b[36mparse_page_core\u001b[0m:\u001b[36m169\u001b[0m - \u001b[33m\u001b[1mskip this page, page_id: 213, reason: too_many_layout_columns\u001b[0m\n",
      "\u001b[32m2024-08-23 19:06:03.251\u001b[0m | \u001b[33m\u001b[1mWARNING \u001b[0m | \u001b[36mmagic_pdf.pdf_parse_union_core\u001b[0m:\u001b[36mparse_page_core\u001b[0m:\u001b[36m169\u001b[0m - \u001b[33m\u001b[1mskip this page, page_id: 214, reason: too_many_layout_columns\u001b[0m\n",
      "\u001b[32m2024-08-23 19:06:03.348\u001b[0m | \u001b[33m\u001b[1mWARNING \u001b[0m | \u001b[36mmagic_pdf.pdf_parse_union_core\u001b[0m:\u001b[36mparse_page_core\u001b[0m:\u001b[36m135\u001b[0m - \u001b[33m\u001b[1mskip this page, not found useful bbox, page_id: 225\u001b[0m\n",
      "\u001b[32m2024-08-23 19:06:03.546\u001b[0m | \u001b[33m\u001b[1mWARNING \u001b[0m | \u001b[36mmagic_pdf.pdf_parse_union_core\u001b[0m:\u001b[36mparse_page_core\u001b[0m:\u001b[36m169\u001b[0m - \u001b[33m\u001b[1mskip this page, page_id: 226, reason: too_many_layout_columns\u001b[0m\n",
      "\u001b[32m2024-08-23 19:06:03.578\u001b[0m | \u001b[33m\u001b[1mWARNING \u001b[0m | \u001b[36mmagic_pdf.pdf_parse_union_core\u001b[0m:\u001b[36mparse_page_core\u001b[0m:\u001b[36m169\u001b[0m - \u001b[33m\u001b[1mskip this page, page_id: 228, reason: too_many_layout_columns\u001b[0m\n",
      "\u001b[32m2024-08-23 19:06:04.719\u001b[0m | \u001b[1mINFO    \u001b[0m | \u001b[36mmagic_pdf.pipe.UNIPipe\u001b[0m:\u001b[36mpipe_mk_uni_format\u001b[0m:\u001b[36m43\u001b[0m - \u001b[1muni_pipe mk content list finished\u001b[0m\n",
      "\u001b[32m2024-08-23 19:06:04.968\u001b[0m | \u001b[1mINFO    \u001b[0m | \u001b[36mmagic_pdf.pipe.UNIPipe\u001b[0m:\u001b[36mpipe_mk_markdown\u001b[0m:\u001b[36m48\u001b[0m - \u001b[1muni_pipe mk mm_markdown finished\u001b[0m\n"
     ]
    }
   ],
   "source": [
    "if __name__ == '__main__':\n",
    "    pdf_parse_main(pdf_path,output_dir=\"output\")\n"
   ]
  }
 ],
 "metadata": {
  "kernelspec": {
   "display_name": ".venv",
   "language": "python",
   "name": "python3"
  },
  "language_info": {
   "codemirror_mode": {
    "name": "ipython",
    "version": 3
   },
   "file_extension": ".py",
   "mimetype": "text/x-python",
   "name": "python",
   "nbconvert_exporter": "python",
   "pygments_lexer": "ipython3",
   "version": "3.10.14"
  }
 },
 "nbformat": 4,
 "nbformat_minor": 2
}
